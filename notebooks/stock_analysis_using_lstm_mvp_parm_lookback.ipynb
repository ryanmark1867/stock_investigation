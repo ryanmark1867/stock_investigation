{
 "cells": [
  {
   "cell_type": "markdown",
   "metadata": {
    "id": "InRCaIfsttEW"
   },
   "source": [
    "# Stock Analysis Using LSTM - MVP\n",
    "This notebook adapted from https://www.kaggle.com/faressayah/stock-market-analysis-prediction-using-lstm"
   ]
  },
  {
   "cell_type": "markdown",
   "metadata": {
    "id": "GA1ksHAIttEf"
   },
   "source": [
    "# Import required libraries and set up notebook\n"
   ]
  },
  {
   "cell_type": "code",
   "execution_count": 504,
   "metadata": {
    "executionInfo": {
     "elapsed": 1460,
     "status": "ok",
     "timestamp": 1611806431398,
     "user": {
      "displayName": "Mark Ryan",
      "photoUrl": "https://lh3.googleusercontent.com/a-/AOh14GiOaJEeoxteIdEhraqpv8y7ol-feJVt-BYY9ceTIQ=s64",
      "userId": "08045617267833954278"
     },
     "user_tz": 300
    },
    "id": "GdtAhwhattEh"
   },
   "outputs": [],
   "source": [
    "import pandas as pd\n",
    "import numpy as np\n",
    "import os\n",
    "import yaml\n",
    "\n",
    "import matplotlib.pyplot as plt\n",
    "import seaborn as sns\n",
    "sns.set_style('whitegrid')\n",
    "plt.style.use(\"fivethirtyeight\")\n",
    "%matplotlib inline\n",
    "\n",
    "# For reading stock data from yahoo\n",
    "from pandas_datareader.data import DataReader\n",
    "\n",
    "# For time stamps\n",
    "from datetime import datetime\n",
    "\n",
    "# for LSTM\n",
    "from keras.models import Sequential\n",
    "from keras.layers import Dense, LSTM, Input\n",
    "from keras.models import Model\n",
    "# from tensorflow.keras.layers import Input, Dropout, Dense, BatchNormalization, Activation, concatenate, GRU, Embedding, Flatten, BatchNormalization\n",
    "from sklearn.preprocessing import MinMaxScaler\n",
    "from tensorflow.keras.models import load_model\n",
    "# access datasets from quandl.com - need to pip install Quandl to use\n",
    "import quandl\n",
    "on_colab = False\n",
    "verboseout = True"
   ]
  },
  {
   "cell_type": "code",
   "execution_count": 505,
   "metadata": {},
   "outputs": [],
   "source": [
    "if on_colab:\n",
    "    from google.colab import drive\n",
    "    drive.mount('/content/drive')"
   ]
  },
  {
   "cell_type": "code",
   "execution_count": 506,
   "metadata": {},
   "outputs": [],
   "source": [
    "if on_colab:\n",
    "    %cd /content/drive/MyDrive/karma_jan_2021/stock_investigation/notebooks"
   ]
  },
  {
   "cell_type": "code",
   "execution_count": 507,
   "metadata": {
    "colab": {
     "base_uri": "https://localhost:8080/"
    },
    "executionInfo": {
     "elapsed": 2330,
     "status": "ok",
     "timestamp": 1611806432280,
     "user": {
      "displayName": "Mark Ryan",
      "photoUrl": "https://lh3.googleusercontent.com/a-/AOh14GiOaJEeoxteIdEhraqpv8y7ol-feJVt-BYY9ceTIQ=s64",
      "userId": "08045617267833954278"
     },
     "user_tz": 300
    },
    "id": "uwJ6aCMDttEi",
    "outputId": "8105b877-ad16-4665-e584-59858f3f1108"
   },
   "outputs": [
    {
     "name": "stdout",
     "output_type": "stream",
     "text": [
      "current directory is: C:\\personal\\karma_stocks_2021\\stock_investigation\\notebooks\n",
      "path_to_yaml C:\\personal\\karma_stocks_2021\\stock_investigation\\notebooks\\model_training_config.yml\n"
     ]
    }
   ],
   "source": [
    "# load config file\n",
    "current_path = os.getcwd()\n",
    "print(\"current directory is: \"+current_path)\n",
    "\n",
    "path_to_yaml = os.path.join(current_path, 'model_training_config.yml')\n",
    "print(\"path_to_yaml \"+path_to_yaml)\n",
    "try:\n",
    "    with open (path_to_yaml, 'r') as c_file:\n",
    "        config = yaml.safe_load(c_file)\n",
    "except Exception as e:\n",
    "    print('Error reading the config file')"
   ]
  },
  {
   "cell_type": "code",
   "execution_count": 508,
   "metadata": {
    "executionInfo": {
     "elapsed": 2324,
     "status": "ok",
     "timestamp": 1611806432284,
     "user": {
      "displayName": "Mark Ryan",
      "photoUrl": "https://lh3.googleusercontent.com/a-/AOh14GiOaJEeoxteIdEhraqpv8y7ol-feJVt-BYY9ceTIQ=s64",
      "userId": "08045617267833954278"
     },
     "user_tz": 300
    },
    "id": "6Q2YaYEmttEj"
   },
   "outputs": [],
   "source": [
    "# switches\n",
    "plot_all = config['general']['verboseout']\n",
    "use_saved_model = config['general']['presaved']\n",
    "# list of ticket symbols\n",
    "# e.g. tech_list = ['AAPL', 'GOOG', 'MSFT', 'AMZN']\n",
    "tech_list = config['tech_list']\n",
    "# dictionary to seed stock handles with company names\n",
    "# e.g. company_dict = {'AAPL':\"APPLE\", 'GOOG':\"GOOGLE\", 'MSFT':\"MICROSOFT\", 'AMZN':\"AMAZON\"}\n",
    "company_dict = config['company_dict']\n",
    "saved_model_modifier = config['files']['saved_model_modifier']\n",
    "# get the column lists\n",
    "continuouscols = config['categorical']\n",
    "textcols = config['text']\n",
    "collist = config['continuous']\n",
    "look_back = config['general']['look_back']\n",
    "# how many years to look back\n",
    "years_window = config['general']['years_window']"
   ]
  },
  {
   "cell_type": "code",
   "execution_count": 509,
   "metadata": {
    "executionInfo": {
     "elapsed": 2303,
     "status": "ok",
     "timestamp": 1611806432294,
     "user": {
      "displayName": "Mark Ryan",
      "photoUrl": "https://lh3.googleusercontent.com/a-/AOh14GiOaJEeoxteIdEhraqpv8y7ol-feJVt-BYY9ceTIQ=s64",
      "userId": "08045617267833954278"
     },
     "user_tz": 300
    },
    "id": "uq4T4eTTttEk"
   },
   "outputs": [],
   "source": [
    "# ingest config parameters"
   ]
  },
  {
   "cell_type": "code",
   "execution_count": 510,
   "metadata": {
    "colab": {
     "base_uri": "https://localhost:8080/"
    },
    "executionInfo": {
     "elapsed": 2297,
     "status": "ok",
     "timestamp": 1611806432297,
     "user": {
      "displayName": "Mark Ryan",
      "photoUrl": "https://lh3.googleusercontent.com/a-/AOh14GiOaJEeoxteIdEhraqpv8y7ol-feJVt-BYY9ceTIQ=s64",
      "userId": "08045617267833954278"
     },
     "user_tz": 300
    },
    "id": "XQjAr633CmYT",
    "outputId": "82a71416-6d92-4e33-d566-19dbc9298eed"
   },
   "outputs": [
    {
     "data": {
      "text/plain": [
       "{'general': {'verboseout': False,\n",
       "  'includetext': True,\n",
       "  'on_colab': False,\n",
       "  'presaved': False,\n",
       "  'savemodel': False,\n",
       "  'picklemodel': True,\n",
       "  'save_model_plot': False,\n",
       "  'tensorboard_callback': False,\n",
       "  'hctextmax': 7000,\n",
       "  'maxwords': 6000,\n",
       "  'textmax': 50,\n",
       "  'pickled_data_file': '20142018_0930.pkl',\n",
       "  'pickled_dataframe': 'AB_NYC_2019_output_aug19_2020.pkl',\n",
       "  'modifier': 'oct05_2020',\n",
       "  'targetthresh': 6.0,\n",
       "  'targetcontinuous': False,\n",
       "  'target_col': 'price',\n",
       "  'emptythresh': 6000,\n",
       "  'zero_weight': 1.0,\n",
       "  'one_weight': 45.878,\n",
       "  'one_weight_offset': 0,\n",
       "  'patience_threshold': 3,\n",
       "  'master_start': '2018-01-01',\n",
       "  'ust_cols': ['2 YR'],\n",
       "  'years_window': 4,\n",
       "  'quandl_token': 'uCghYBw8CtpUvWct_W8c',\n",
       "  'look_back': 60},\n",
       " 'files': {'saved_model_modifier': 'January312021'},\n",
       " 'tech_list': ['CROX'],\n",
       " 'company_dict': {'CROX': 'Crocs'},\n",
       " 'test_parms': {'testproportion': 0.2,\n",
       "  'trainproportion': 0.8,\n",
       "  'current_experiment': 5,\n",
       "  'repeatable_run': False,\n",
       "  'get_test_train_acc': True},\n",
       " 'categorical': ['neighbourhood_group', 'neighbourhood', 'room_type'],\n",
       " 'continuous': ['minimum_nights',\n",
       "  'number_of_reviews',\n",
       "  'reviews_per_month',\n",
       "  'calculated_host_listings_count'],\n",
       " 'text': [],\n",
       " 'excluded': ['price',\n",
       "  'id',\n",
       "  'latitude',\n",
       "  'longitude',\n",
       "  'host_name',\n",
       "  'last_review',\n",
       "  'name',\n",
       "  'host_name',\n",
       "  'availability_365'],\n",
       " 'hyperparameters': {'learning_rate': 0.001,\n",
       "  'dropout_rate': 0.0003,\n",
       "  'l2_lambda': 0.0003,\n",
       "  'loss_func': 'binary_crossentropy',\n",
       "  'output_activation': 'hard_sigmoid',\n",
       "  'batch_size': 1000,\n",
       "  'epochs': 50}}"
      ]
     },
     "execution_count": 510,
     "metadata": {},
     "output_type": "execute_result"
    }
   ],
   "source": [
    "config"
   ]
  },
  {
   "cell_type": "code",
   "execution_count": 511,
   "metadata": {},
   "outputs": [],
   "source": [
    "# load US Treasury yield dataframe\n",
    "ust_df = quandl.get(\"USTREASURY/YIELD\", authtoken=\"uCghYBw8CtpUvWct_W8c\")"
   ]
  },
  {
   "cell_type": "code",
   "execution_count": 512,
   "metadata": {},
   "outputs": [
    {
     "data": {
      "text/html": [
       "<div>\n",
       "<style scoped>\n",
       "    .dataframe tbody tr th:only-of-type {\n",
       "        vertical-align: middle;\n",
       "    }\n",
       "\n",
       "    .dataframe tbody tr th {\n",
       "        vertical-align: top;\n",
       "    }\n",
       "\n",
       "    .dataframe thead th {\n",
       "        text-align: right;\n",
       "    }\n",
       "</style>\n",
       "<table border=\"1\" class=\"dataframe\">\n",
       "  <thead>\n",
       "    <tr style=\"text-align: right;\">\n",
       "      <th></th>\n",
       "      <th>1 MO</th>\n",
       "      <th>2 MO</th>\n",
       "      <th>3 MO</th>\n",
       "      <th>6 MO</th>\n",
       "      <th>1 YR</th>\n",
       "      <th>2 YR</th>\n",
       "      <th>3 YR</th>\n",
       "      <th>5 YR</th>\n",
       "      <th>7 YR</th>\n",
       "      <th>10 YR</th>\n",
       "      <th>20 YR</th>\n",
       "      <th>30 YR</th>\n",
       "    </tr>\n",
       "    <tr>\n",
       "      <th>Date</th>\n",
       "      <th></th>\n",
       "      <th></th>\n",
       "      <th></th>\n",
       "      <th></th>\n",
       "      <th></th>\n",
       "      <th></th>\n",
       "      <th></th>\n",
       "      <th></th>\n",
       "      <th></th>\n",
       "      <th></th>\n",
       "      <th></th>\n",
       "      <th></th>\n",
       "    </tr>\n",
       "  </thead>\n",
       "  <tbody>\n",
       "    <tr>\n",
       "      <td>1990-01-02</td>\n",
       "      <td>NaN</td>\n",
       "      <td>NaN</td>\n",
       "      <td>7.83</td>\n",
       "      <td>7.89</td>\n",
       "      <td>7.81</td>\n",
       "      <td>7.87</td>\n",
       "      <td>7.90</td>\n",
       "      <td>7.87</td>\n",
       "      <td>7.98</td>\n",
       "      <td>7.94</td>\n",
       "      <td>NaN</td>\n",
       "      <td>8.00</td>\n",
       "    </tr>\n",
       "    <tr>\n",
       "      <td>1990-01-03</td>\n",
       "      <td>NaN</td>\n",
       "      <td>NaN</td>\n",
       "      <td>7.89</td>\n",
       "      <td>7.94</td>\n",
       "      <td>7.85</td>\n",
       "      <td>7.94</td>\n",
       "      <td>7.96</td>\n",
       "      <td>7.92</td>\n",
       "      <td>8.04</td>\n",
       "      <td>7.99</td>\n",
       "      <td>NaN</td>\n",
       "      <td>8.04</td>\n",
       "    </tr>\n",
       "    <tr>\n",
       "      <td>1990-01-04</td>\n",
       "      <td>NaN</td>\n",
       "      <td>NaN</td>\n",
       "      <td>7.84</td>\n",
       "      <td>7.90</td>\n",
       "      <td>7.82</td>\n",
       "      <td>7.92</td>\n",
       "      <td>7.93</td>\n",
       "      <td>7.91</td>\n",
       "      <td>8.02</td>\n",
       "      <td>7.98</td>\n",
       "      <td>NaN</td>\n",
       "      <td>8.04</td>\n",
       "    </tr>\n",
       "    <tr>\n",
       "      <td>1990-01-05</td>\n",
       "      <td>NaN</td>\n",
       "      <td>NaN</td>\n",
       "      <td>7.79</td>\n",
       "      <td>7.85</td>\n",
       "      <td>7.79</td>\n",
       "      <td>7.90</td>\n",
       "      <td>7.94</td>\n",
       "      <td>7.92</td>\n",
       "      <td>8.03</td>\n",
       "      <td>7.99</td>\n",
       "      <td>NaN</td>\n",
       "      <td>8.06</td>\n",
       "    </tr>\n",
       "    <tr>\n",
       "      <td>1990-01-08</td>\n",
       "      <td>NaN</td>\n",
       "      <td>NaN</td>\n",
       "      <td>7.79</td>\n",
       "      <td>7.88</td>\n",
       "      <td>7.81</td>\n",
       "      <td>7.90</td>\n",
       "      <td>7.95</td>\n",
       "      <td>7.92</td>\n",
       "      <td>8.05</td>\n",
       "      <td>8.02</td>\n",
       "      <td>NaN</td>\n",
       "      <td>8.09</td>\n",
       "    </tr>\n",
       "    <tr>\n",
       "      <td>...</td>\n",
       "      <td>...</td>\n",
       "      <td>...</td>\n",
       "      <td>...</td>\n",
       "      <td>...</td>\n",
       "      <td>...</td>\n",
       "      <td>...</td>\n",
       "      <td>...</td>\n",
       "      <td>...</td>\n",
       "      <td>...</td>\n",
       "      <td>...</td>\n",
       "      <td>...</td>\n",
       "      <td>...</td>\n",
       "    </tr>\n",
       "    <tr>\n",
       "      <td>2021-02-08</td>\n",
       "      <td>0.04</td>\n",
       "      <td>0.03</td>\n",
       "      <td>0.05</td>\n",
       "      <td>0.05</td>\n",
       "      <td>0.07</td>\n",
       "      <td>0.11</td>\n",
       "      <td>0.20</td>\n",
       "      <td>0.48</td>\n",
       "      <td>0.83</td>\n",
       "      <td>1.19</td>\n",
       "      <td>1.78</td>\n",
       "      <td>1.96</td>\n",
       "    </tr>\n",
       "    <tr>\n",
       "      <td>2021-02-09</td>\n",
       "      <td>0.04</td>\n",
       "      <td>0.04</td>\n",
       "      <td>0.04</td>\n",
       "      <td>0.06</td>\n",
       "      <td>0.07</td>\n",
       "      <td>0.11</td>\n",
       "      <td>0.19</td>\n",
       "      <td>0.48</td>\n",
       "      <td>0.83</td>\n",
       "      <td>1.18</td>\n",
       "      <td>1.78</td>\n",
       "      <td>1.95</td>\n",
       "    </tr>\n",
       "    <tr>\n",
       "      <td>2021-02-10</td>\n",
       "      <td>0.05</td>\n",
       "      <td>0.04</td>\n",
       "      <td>0.05</td>\n",
       "      <td>0.06</td>\n",
       "      <td>0.07</td>\n",
       "      <td>0.11</td>\n",
       "      <td>0.19</td>\n",
       "      <td>0.46</td>\n",
       "      <td>0.80</td>\n",
       "      <td>1.15</td>\n",
       "      <td>1.75</td>\n",
       "      <td>1.92</td>\n",
       "    </tr>\n",
       "    <tr>\n",
       "      <td>2021-02-11</td>\n",
       "      <td>0.05</td>\n",
       "      <td>0.05</td>\n",
       "      <td>0.05</td>\n",
       "      <td>0.06</td>\n",
       "      <td>0.07</td>\n",
       "      <td>0.11</td>\n",
       "      <td>0.19</td>\n",
       "      <td>0.46</td>\n",
       "      <td>0.81</td>\n",
       "      <td>1.16</td>\n",
       "      <td>1.77</td>\n",
       "      <td>1.94</td>\n",
       "    </tr>\n",
       "    <tr>\n",
       "      <td>2021-02-12</td>\n",
       "      <td>0.03</td>\n",
       "      <td>0.04</td>\n",
       "      <td>0.04</td>\n",
       "      <td>0.05</td>\n",
       "      <td>0.06</td>\n",
       "      <td>0.11</td>\n",
       "      <td>0.20</td>\n",
       "      <td>0.50</td>\n",
       "      <td>0.85</td>\n",
       "      <td>1.20</td>\n",
       "      <td>1.83</td>\n",
       "      <td>2.01</td>\n",
       "    </tr>\n",
       "  </tbody>\n",
       "</table>\n",
       "<p>7785 rows × 12 columns</p>\n",
       "</div>"
      ],
      "text/plain": [
       "            1 MO  2 MO  3 MO  6 MO  1 YR  2 YR  3 YR  5 YR  7 YR  10 YR  \\\n",
       "Date                                                                      \n",
       "1990-01-02   NaN   NaN  7.83  7.89  7.81  7.87  7.90  7.87  7.98   7.94   \n",
       "1990-01-03   NaN   NaN  7.89  7.94  7.85  7.94  7.96  7.92  8.04   7.99   \n",
       "1990-01-04   NaN   NaN  7.84  7.90  7.82  7.92  7.93  7.91  8.02   7.98   \n",
       "1990-01-05   NaN   NaN  7.79  7.85  7.79  7.90  7.94  7.92  8.03   7.99   \n",
       "1990-01-08   NaN   NaN  7.79  7.88  7.81  7.90  7.95  7.92  8.05   8.02   \n",
       "...          ...   ...   ...   ...   ...   ...   ...   ...   ...    ...   \n",
       "2021-02-08  0.04  0.03  0.05  0.05  0.07  0.11  0.20  0.48  0.83   1.19   \n",
       "2021-02-09  0.04  0.04  0.04  0.06  0.07  0.11  0.19  0.48  0.83   1.18   \n",
       "2021-02-10  0.05  0.04  0.05  0.06  0.07  0.11  0.19  0.46  0.80   1.15   \n",
       "2021-02-11  0.05  0.05  0.05  0.06  0.07  0.11  0.19  0.46  0.81   1.16   \n",
       "2021-02-12  0.03  0.04  0.04  0.05  0.06  0.11  0.20  0.50  0.85   1.20   \n",
       "\n",
       "            20 YR  30 YR  \n",
       "Date                      \n",
       "1990-01-02    NaN   8.00  \n",
       "1990-01-03    NaN   8.04  \n",
       "1990-01-04    NaN   8.04  \n",
       "1990-01-05    NaN   8.06  \n",
       "1990-01-08    NaN   8.09  \n",
       "...           ...    ...  \n",
       "2021-02-08   1.78   1.96  \n",
       "2021-02-09   1.78   1.95  \n",
       "2021-02-10   1.75   1.92  \n",
       "2021-02-11   1.77   1.94  \n",
       "2021-02-12   1.83   2.01  \n",
       "\n",
       "[7785 rows x 12 columns]"
      ]
     },
     "execution_count": 512,
     "metadata": {},
     "output_type": "execute_result"
    }
   ],
   "source": [
    "ust_df"
   ]
  },
  {
   "cell_type": "code",
   "execution_count": 513,
   "metadata": {},
   "outputs": [
    {
     "data": {
      "text/html": [
       "<div>\n",
       "<style scoped>\n",
       "    .dataframe tbody tr th:only-of-type {\n",
       "        vertical-align: middle;\n",
       "    }\n",
       "\n",
       "    .dataframe tbody tr th {\n",
       "        vertical-align: top;\n",
       "    }\n",
       "\n",
       "    .dataframe thead th {\n",
       "        text-align: right;\n",
       "    }\n",
       "</style>\n",
       "<table border=\"1\" class=\"dataframe\">\n",
       "  <thead>\n",
       "    <tr style=\"text-align: right;\">\n",
       "      <th></th>\n",
       "      <th>2 YR</th>\n",
       "    </tr>\n",
       "    <tr>\n",
       "      <th>Date</th>\n",
       "      <th></th>\n",
       "    </tr>\n",
       "  </thead>\n",
       "  <tbody>\n",
       "    <tr>\n",
       "      <td>1990-01-02</td>\n",
       "      <td>7.87</td>\n",
       "    </tr>\n",
       "    <tr>\n",
       "      <td>1990-01-03</td>\n",
       "      <td>7.94</td>\n",
       "    </tr>\n",
       "    <tr>\n",
       "      <td>1990-01-04</td>\n",
       "      <td>7.92</td>\n",
       "    </tr>\n",
       "    <tr>\n",
       "      <td>1990-01-05</td>\n",
       "      <td>7.90</td>\n",
       "    </tr>\n",
       "    <tr>\n",
       "      <td>1990-01-08</td>\n",
       "      <td>7.90</td>\n",
       "    </tr>\n",
       "  </tbody>\n",
       "</table>\n",
       "</div>"
      ],
      "text/plain": [
       "            2 YR\n",
       "Date            \n",
       "1990-01-02  7.87\n",
       "1990-01-03  7.94\n",
       "1990-01-04  7.92\n",
       "1990-01-05  7.90\n",
       "1990-01-08  7.90"
      ]
     },
     "execution_count": 513,
     "metadata": {},
     "output_type": "execute_result"
    }
   ],
   "source": [
    "# new = old[['A', 'C', 'D']].copy()\n",
    "ust_df_2year = ust_df[['2 YR']].copy()\n",
    "ust_df_2year.head()"
   ]
  },
  {
   "cell_type": "code",
   "execution_count": 514,
   "metadata": {
    "colab": {
     "base_uri": "https://localhost:8080/",
     "height": 232
    },
    "executionInfo": {
     "elapsed": 2755,
     "status": "ok",
     "timestamp": 1611806432764,
     "user": {
      "displayName": "Mark Ryan",
      "photoUrl": "https://lh3.googleusercontent.com/a-/AOh14GiOaJEeoxteIdEhraqpv8y7ol-feJVt-BYY9ceTIQ=s64",
      "userId": "08045617267833954278"
     },
     "user_tz": 300
    },
    "id": "aHWsIsOlttEk",
    "outputId": "6c74987f-3eaf-4bbb-b075-aac34a58e469"
   },
   "outputs": [
    {
     "name": "stdout",
     "output_type": "stream",
     "text": [
      "years_window is:  4\n",
      "start is:  2017-02-14 00:00:00\n"
     ]
    },
    {
     "data": {
      "text/html": [
       "<div>\n",
       "<style scoped>\n",
       "    .dataframe tbody tr th:only-of-type {\n",
       "        vertical-align: middle;\n",
       "    }\n",
       "\n",
       "    .dataframe tbody tr th {\n",
       "        vertical-align: top;\n",
       "    }\n",
       "\n",
       "    .dataframe thead th {\n",
       "        text-align: right;\n",
       "    }\n",
       "</style>\n",
       "<table border=\"1\" class=\"dataframe\">\n",
       "  <thead>\n",
       "    <tr style=\"text-align: right;\">\n",
       "      <th></th>\n",
       "      <th>High</th>\n",
       "      <th>Low</th>\n",
       "      <th>Open</th>\n",
       "      <th>Close</th>\n",
       "      <th>Volume</th>\n",
       "      <th>Adj Close</th>\n",
       "    </tr>\n",
       "    <tr>\n",
       "      <th>Date</th>\n",
       "      <th></th>\n",
       "      <th></th>\n",
       "      <th></th>\n",
       "      <th></th>\n",
       "      <th></th>\n",
       "      <th></th>\n",
       "    </tr>\n",
       "  </thead>\n",
       "  <tbody>\n",
       "    <tr>\n",
       "      <td>2017-02-14</td>\n",
       "      <td>33.772499</td>\n",
       "      <td>33.312500</td>\n",
       "      <td>33.367500</td>\n",
       "      <td>33.755001</td>\n",
       "      <td>132904800.0</td>\n",
       "      <td>32.059544</td>\n",
       "    </tr>\n",
       "    <tr>\n",
       "      <td>2017-02-15</td>\n",
       "      <td>34.067501</td>\n",
       "      <td>33.654999</td>\n",
       "      <td>33.880001</td>\n",
       "      <td>33.877499</td>\n",
       "      <td>142492400.0</td>\n",
       "      <td>32.175884</td>\n",
       "    </tr>\n",
       "    <tr>\n",
       "      <td>2017-02-16</td>\n",
       "      <td>33.974998</td>\n",
       "      <td>33.709999</td>\n",
       "      <td>33.917500</td>\n",
       "      <td>33.837502</td>\n",
       "      <td>90338400.0</td>\n",
       "      <td>32.137894</td>\n",
       "    </tr>\n",
       "    <tr>\n",
       "      <td>2017-02-17</td>\n",
       "      <td>33.957500</td>\n",
       "      <td>33.775002</td>\n",
       "      <td>33.775002</td>\n",
       "      <td>33.930000</td>\n",
       "      <td>88792800.0</td>\n",
       "      <td>32.225754</td>\n",
       "    </tr>\n",
       "    <tr>\n",
       "      <td>2017-02-21</td>\n",
       "      <td>34.187500</td>\n",
       "      <td>33.994999</td>\n",
       "      <td>34.057499</td>\n",
       "      <td>34.174999</td>\n",
       "      <td>98028800.0</td>\n",
       "      <td>32.458447</td>\n",
       "    </tr>\n",
       "  </tbody>\n",
       "</table>\n",
       "</div>"
      ],
      "text/plain": [
       "                 High        Low       Open      Close       Volume  Adj Close\n",
       "Date                                                                          \n",
       "2017-02-14  33.772499  33.312500  33.367500  33.755001  132904800.0  32.059544\n",
       "2017-02-15  34.067501  33.654999  33.880001  33.877499  142492400.0  32.175884\n",
       "2017-02-16  33.974998  33.709999  33.917500  33.837502   90338400.0  32.137894\n",
       "2017-02-17  33.957500  33.775002  33.775002  33.930000   88792800.0  32.225754\n",
       "2017-02-21  34.187500  33.994999  34.057499  34.174999   98028800.0  32.458447"
      ]
     },
     "execution_count": 514,
     "metadata": {},
     "output_type": "execute_result"
    }
   ],
   "source": [
    "# DataReader: https://riptutorial.com/pandas/topic/1912/pandas-datareader\n",
    "# https://pandas-datareader.readthedocs.io/en/latest/remote_data.html\n",
    "# \n",
    "# Set up End and Start times for data grab\n",
    "end = datetime.now()\n",
    "start = datetime(end.year - years_window, end.month, end.day)\n",
    "print(\"years_window is: \",str(years_window))\n",
    "print(\"start is: \",str(start))\n",
    "tester = DataReader('AAPL', 'yahoo', start, end)\n",
    "tester.head()"
   ]
  },
  {
   "cell_type": "code",
   "execution_count": 515,
   "metadata": {
    "colab": {
     "base_uri": "https://localhost:8080/",
     "height": 386
    },
    "executionInfo": {
     "elapsed": 3901,
     "status": "ok",
     "timestamp": 1611806433919,
     "user": {
      "displayName": "Mark Ryan",
      "photoUrl": "https://lh3.googleusercontent.com/a-/AOh14GiOaJEeoxteIdEhraqpv8y7ol-feJVt-BYY9ceTIQ=s64",
      "userId": "08045617267833954278"
     },
     "user_tz": 300
    },
    "id": "DVAQQ2CAttEl",
    "outputId": "0e3265fb-d6c3-4371-d196-be3d9a8924db"
   },
   "outputs": [
    {
     "data": {
      "text/html": [
       "<div>\n",
       "<style scoped>\n",
       "    .dataframe tbody tr th:only-of-type {\n",
       "        vertical-align: middle;\n",
       "    }\n",
       "\n",
       "    .dataframe tbody tr th {\n",
       "        vertical-align: top;\n",
       "    }\n",
       "\n",
       "    .dataframe thead th {\n",
       "        text-align: right;\n",
       "    }\n",
       "</style>\n",
       "<table border=\"1\" class=\"dataframe\">\n",
       "  <thead>\n",
       "    <tr style=\"text-align: right;\">\n",
       "      <th></th>\n",
       "      <th>High</th>\n",
       "      <th>Low</th>\n",
       "      <th>Open</th>\n",
       "      <th>Close</th>\n",
       "      <th>Volume</th>\n",
       "      <th>Adj Close</th>\n",
       "      <th>company_name</th>\n",
       "    </tr>\n",
       "    <tr>\n",
       "      <th>Date</th>\n",
       "      <th></th>\n",
       "      <th></th>\n",
       "      <th></th>\n",
       "      <th></th>\n",
       "      <th></th>\n",
       "      <th></th>\n",
       "      <th></th>\n",
       "    </tr>\n",
       "  </thead>\n",
       "  <tbody>\n",
       "    <tr>\n",
       "      <td>2021-02-01</td>\n",
       "      <td>72.980003</td>\n",
       "      <td>68.580002</td>\n",
       "      <td>71.000000</td>\n",
       "      <td>72.769997</td>\n",
       "      <td>836800</td>\n",
       "      <td>72.769997</td>\n",
       "      <td>Crocs</td>\n",
       "    </tr>\n",
       "    <tr>\n",
       "      <td>2021-02-02</td>\n",
       "      <td>76.089996</td>\n",
       "      <td>73.320000</td>\n",
       "      <td>73.720001</td>\n",
       "      <td>75.459999</td>\n",
       "      <td>1424900</td>\n",
       "      <td>75.459999</td>\n",
       "      <td>Crocs</td>\n",
       "    </tr>\n",
       "    <tr>\n",
       "      <td>2021-02-03</td>\n",
       "      <td>77.120003</td>\n",
       "      <td>73.949997</td>\n",
       "      <td>75.889999</td>\n",
       "      <td>74.930000</td>\n",
       "      <td>736700</td>\n",
       "      <td>74.930000</td>\n",
       "      <td>Crocs</td>\n",
       "    </tr>\n",
       "    <tr>\n",
       "      <td>2021-02-04</td>\n",
       "      <td>76.800003</td>\n",
       "      <td>74.169998</td>\n",
       "      <td>75.300003</td>\n",
       "      <td>75.040001</td>\n",
       "      <td>615000</td>\n",
       "      <td>75.040001</td>\n",
       "      <td>Crocs</td>\n",
       "    </tr>\n",
       "    <tr>\n",
       "      <td>2021-02-05</td>\n",
       "      <td>77.160004</td>\n",
       "      <td>74.809998</td>\n",
       "      <td>75.720001</td>\n",
       "      <td>75.519997</td>\n",
       "      <td>1062400</td>\n",
       "      <td>75.519997</td>\n",
       "      <td>Crocs</td>\n",
       "    </tr>\n",
       "    <tr>\n",
       "      <td>2021-02-08</td>\n",
       "      <td>78.470001</td>\n",
       "      <td>76.349998</td>\n",
       "      <td>76.959999</td>\n",
       "      <td>77.809998</td>\n",
       "      <td>870000</td>\n",
       "      <td>77.809998</td>\n",
       "      <td>Crocs</td>\n",
       "    </tr>\n",
       "    <tr>\n",
       "      <td>2021-02-09</td>\n",
       "      <td>81.070000</td>\n",
       "      <td>77.250000</td>\n",
       "      <td>77.480003</td>\n",
       "      <td>79.879997</td>\n",
       "      <td>900700</td>\n",
       "      <td>79.879997</td>\n",
       "      <td>Crocs</td>\n",
       "    </tr>\n",
       "    <tr>\n",
       "      <td>2021-02-10</td>\n",
       "      <td>81.610001</td>\n",
       "      <td>76.809998</td>\n",
       "      <td>81.360001</td>\n",
       "      <td>78.730003</td>\n",
       "      <td>682300</td>\n",
       "      <td>78.730003</td>\n",
       "      <td>Crocs</td>\n",
       "    </tr>\n",
       "    <tr>\n",
       "      <td>2021-02-11</td>\n",
       "      <td>79.910004</td>\n",
       "      <td>77.529999</td>\n",
       "      <td>79.360001</td>\n",
       "      <td>79.480003</td>\n",
       "      <td>653800</td>\n",
       "      <td>79.480003</td>\n",
       "      <td>Crocs</td>\n",
       "    </tr>\n",
       "    <tr>\n",
       "      <td>2021-02-12</td>\n",
       "      <td>81.839996</td>\n",
       "      <td>78.720001</td>\n",
       "      <td>79.220001</td>\n",
       "      <td>81.709999</td>\n",
       "      <td>496000</td>\n",
       "      <td>81.709999</td>\n",
       "      <td>Crocs</td>\n",
       "    </tr>\n",
       "  </tbody>\n",
       "</table>\n",
       "</div>"
      ],
      "text/plain": [
       "                 High        Low       Open      Close   Volume  Adj Close  \\\n",
       "Date                                                                         \n",
       "2021-02-01  72.980003  68.580002  71.000000  72.769997   836800  72.769997   \n",
       "2021-02-02  76.089996  73.320000  73.720001  75.459999  1424900  75.459999   \n",
       "2021-02-03  77.120003  73.949997  75.889999  74.930000   736700  74.930000   \n",
       "2021-02-04  76.800003  74.169998  75.300003  75.040001   615000  75.040001   \n",
       "2021-02-05  77.160004  74.809998  75.720001  75.519997  1062400  75.519997   \n",
       "2021-02-08  78.470001  76.349998  76.959999  77.809998   870000  77.809998   \n",
       "2021-02-09  81.070000  77.250000  77.480003  79.879997   900700  79.879997   \n",
       "2021-02-10  81.610001  76.809998  81.360001  78.730003   682300  78.730003   \n",
       "2021-02-11  79.910004  77.529999  79.360001  79.480003   653800  79.480003   \n",
       "2021-02-12  81.839996  78.720001  79.220001  81.709999   496000  81.709999   \n",
       "\n",
       "           company_name  \n",
       "Date                     \n",
       "2021-02-01        Crocs  \n",
       "2021-02-02        Crocs  \n",
       "2021-02-03        Crocs  \n",
       "2021-02-04        Crocs  \n",
       "2021-02-05        Crocs  \n",
       "2021-02-08        Crocs  \n",
       "2021-02-09        Crocs  \n",
       "2021-02-10        Crocs  \n",
       "2021-02-11        Crocs  \n",
       "2021-02-12        Crocs  "
      ]
     },
     "execution_count": 515,
     "metadata": {},
     "output_type": "execute_result"
    }
   ],
   "source": [
    "# The tech stocks used for this analysis\n",
    "#tech_list = ['AAPL', 'GOOG', 'MSFT', 'AMZN']\n",
    "tech_list = config['tech_list']\n",
    "# dictionary to seed stock handles with company names\n",
    "#company_dict = {'AAPL':\"APPLE\", 'GOOG':\"GOOGLE\", 'MSFT':\"MICROSOFT\", 'AMZN':\"AMAZON\"}\n",
    "company_dict = config['company_dict']\n",
    "\n",
    "# Set up End and Start times for data grab\n",
    "end = datetime.now()\n",
    "start = datetime(end.year - years_window, end.month, end.day)\n",
    "\n",
    "stock_dict = {}\n",
    "#For loop for grabing yahoo finance data and setting as a dataframe\n",
    "# TODO correct use of globals() here\n",
    "seeded = False\n",
    "for stock in tech_list:   \n",
    "    # Set DataFrame as the Stock Ticker\n",
    "    stock_dict[stock] = DataReader(stock, 'yahoo', start, end)\n",
    "    # add column for company name\n",
    "    stock_dict[stock]['company_name'] = company_dict[stock]\n",
    "    # build up overall dataframe containing stock info for all companies\n",
    "    if seeded:\n",
    "        df = pd.concat([df,stock_dict[stock]],axis=0)\n",
    "    else:\n",
    "        seeded = True\n",
    "        df = stock_dict[stock]\n",
    "df.tail(10)"
   ]
  },
  {
   "cell_type": "code",
   "execution_count": 516,
   "metadata": {
    "colab": {
     "base_uri": "https://localhost:8080/",
     "height": 232
    },
    "executionInfo": {
     "elapsed": 3894,
     "status": "ok",
     "timestamp": 1611806433922,
     "user": {
      "displayName": "Mark Ryan",
      "photoUrl": "https://lh3.googleusercontent.com/a-/AOh14GiOaJEeoxteIdEhraqpv8y7ol-feJVt-BYY9ceTIQ=s64",
      "userId": "08045617267833954278"
     },
     "user_tz": 300
    },
    "id": "velBocHnHsag",
    "outputId": "649289a4-e83a-40f0-e690-ab11132d71e2"
   },
   "outputs": [
    {
     "data": {
      "text/html": [
       "<div>\n",
       "<style scoped>\n",
       "    .dataframe tbody tr th:only-of-type {\n",
       "        vertical-align: middle;\n",
       "    }\n",
       "\n",
       "    .dataframe tbody tr th {\n",
       "        vertical-align: top;\n",
       "    }\n",
       "\n",
       "    .dataframe thead th {\n",
       "        text-align: right;\n",
       "    }\n",
       "</style>\n",
       "<table border=\"1\" class=\"dataframe\">\n",
       "  <thead>\n",
       "    <tr style=\"text-align: right;\">\n",
       "      <th></th>\n",
       "      <th>High</th>\n",
       "      <th>Low</th>\n",
       "      <th>Open</th>\n",
       "      <th>Close</th>\n",
       "      <th>Volume</th>\n",
       "      <th>Adj Close</th>\n",
       "      <th>company_name</th>\n",
       "    </tr>\n",
       "    <tr>\n",
       "      <th>Date</th>\n",
       "      <th></th>\n",
       "      <th></th>\n",
       "      <th></th>\n",
       "      <th></th>\n",
       "      <th></th>\n",
       "      <th></th>\n",
       "      <th></th>\n",
       "    </tr>\n",
       "  </thead>\n",
       "  <tbody>\n",
       "    <tr>\n",
       "      <td>2017-02-14</td>\n",
       "      <td>7.35</td>\n",
       "      <td>7.16</td>\n",
       "      <td>7.17</td>\n",
       "      <td>7.31</td>\n",
       "      <td>808500</td>\n",
       "      <td>7.31</td>\n",
       "      <td>Crocs</td>\n",
       "    </tr>\n",
       "    <tr>\n",
       "      <td>2017-02-15</td>\n",
       "      <td>7.37</td>\n",
       "      <td>7.19</td>\n",
       "      <td>7.27</td>\n",
       "      <td>7.20</td>\n",
       "      <td>1203300</td>\n",
       "      <td>7.20</td>\n",
       "      <td>Crocs</td>\n",
       "    </tr>\n",
       "    <tr>\n",
       "      <td>2017-02-16</td>\n",
       "      <td>7.25</td>\n",
       "      <td>6.93</td>\n",
       "      <td>7.21</td>\n",
       "      <td>7.00</td>\n",
       "      <td>865000</td>\n",
       "      <td>7.00</td>\n",
       "      <td>Crocs</td>\n",
       "    </tr>\n",
       "    <tr>\n",
       "      <td>2017-02-17</td>\n",
       "      <td>7.03</td>\n",
       "      <td>6.89</td>\n",
       "      <td>7.00</td>\n",
       "      <td>6.98</td>\n",
       "      <td>821900</td>\n",
       "      <td>6.98</td>\n",
       "      <td>Crocs</td>\n",
       "    </tr>\n",
       "    <tr>\n",
       "      <td>2017-02-21</td>\n",
       "      <td>6.99</td>\n",
       "      <td>6.78</td>\n",
       "      <td>6.96</td>\n",
       "      <td>6.93</td>\n",
       "      <td>1419200</td>\n",
       "      <td>6.93</td>\n",
       "      <td>Crocs</td>\n",
       "    </tr>\n",
       "  </tbody>\n",
       "</table>\n",
       "</div>"
      ],
      "text/plain": [
       "            High   Low  Open  Close   Volume  Adj Close company_name\n",
       "Date                                                                \n",
       "2017-02-14  7.35  7.16  7.17   7.31   808500       7.31        Crocs\n",
       "2017-02-15  7.37  7.19  7.27   7.20  1203300       7.20        Crocs\n",
       "2017-02-16  7.25  6.93  7.21   7.00   865000       7.00        Crocs\n",
       "2017-02-17  7.03  6.89  7.00   6.98   821900       6.98        Crocs\n",
       "2017-02-21  6.99  6.78  6.96   6.93  1419200       6.93        Crocs"
      ]
     },
     "execution_count": 516,
     "metadata": {},
     "output_type": "execute_result"
    }
   ],
   "source": [
    "df.head()"
   ]
  },
  {
   "cell_type": "markdown",
   "metadata": {
    "id": "nH94b3sPttEl"
   },
   "source": [
    "Let's go ahead and play aorund with the AAPL DataFrame to get a feel for the data"
   ]
  },
  {
   "cell_type": "markdown",
   "metadata": {
    "id": "0VY3r0v1ttEm"
   },
   "source": [
    "# Create dataframe"
   ]
  },
  {
   "cell_type": "code",
   "execution_count": 517,
   "metadata": {
    "executionInfo": {
     "elapsed": 3887,
     "status": "ok",
     "timestamp": 1611806433925,
     "user": {
      "displayName": "Mark Ryan",
      "photoUrl": "https://lh3.googleusercontent.com/a-/AOh14GiOaJEeoxteIdEhraqpv8y7ol-feJVt-BYY9ceTIQ=s64",
      "userId": "08045617267833954278"
     },
     "user_tz": 300
    },
    "id": "W95GV4fvttEm"
   },
   "outputs": [],
   "source": [
    "# Summary Stats\n",
    "#stock_dict['AAPL'].describe()"
   ]
  },
  {
   "cell_type": "code",
   "execution_count": 518,
   "metadata": {
    "executionInfo": {
     "elapsed": 3881,
     "status": "ok",
     "timestamp": 1611806433927,
     "user": {
      "displayName": "Mark Ryan",
      "photoUrl": "https://lh3.googleusercontent.com/a-/AOh14GiOaJEeoxteIdEhraqpv8y7ol-feJVt-BYY9ceTIQ=s64",
      "userId": "08045617267833954278"
     },
     "user_tz": 300
    },
    "id": "hUIOM_duttEn"
   },
   "outputs": [],
   "source": [
    "# General info\n",
    "#stock_dict['AAPL'].info()"
   ]
  },
  {
   "cell_type": "code",
   "execution_count": 519,
   "metadata": {
    "executionInfo": {
     "elapsed": 3874,
     "status": "ok",
     "timestamp": 1611806433929,
     "user": {
      "displayName": "Mark Ryan",
      "photoUrl": "https://lh3.googleusercontent.com/a-/AOh14GiOaJEeoxteIdEhraqpv8y7ol-feJVt-BYY9ceTIQ=s64",
      "userId": "08045617267833954278"
     },
     "user_tz": 300
    },
    "id": "er4uAYRIttEn"
   },
   "outputs": [],
   "source": [
    "# Let's see a historical view of the closing price\n",
    "\n",
    "if plot_all:\n",
    "    plt.figure(figsize=(12, 8))\n",
    "    plt.subplots_adjust(top=1.25, bottom=1.2)\n",
    "\n",
    "    for i, company in enumerate(tech_list, 1):\n",
    "        plt.subplot(2, 2, i)\n",
    "        stock_dict[company]['Adj Close'].plot()\n",
    "        plt.ylabel('Adj Close')\n",
    "        plt.xlabel(None)\n",
    "        plt.title(f\"{tech_list[i - 1]}\")"
   ]
  },
  {
   "cell_type": "code",
   "execution_count": 520,
   "metadata": {
    "executionInfo": {
     "elapsed": 3870,
     "status": "ok",
     "timestamp": 1611806433931,
     "user": {
      "displayName": "Mark Ryan",
      "photoUrl": "https://lh3.googleusercontent.com/a-/AOh14GiOaJEeoxteIdEhraqpv8y7ol-feJVt-BYY9ceTIQ=s64",
      "userId": "08045617267833954278"
     },
     "user_tz": 300
    },
    "id": "2ibiP-DQttEo"
   },
   "outputs": [],
   "source": [
    "# Now let's plot the total volume of stock being traded each day\n",
    "if plot_all:\n",
    "    plt.figure(figsize=(12, 8))\n",
    "    plt.subplots_adjust(top=1.25, bottom=1.2)\n",
    "\n",
    "    for i, company in enumerate(tech_list, 1):\n",
    "        plt.subplot(2, 2, i)\n",
    "        stock_dict[company]['Volume'].plot()\n",
    "        plt.ylabel('Volume')\n",
    "        plt.xlabel(None)\n",
    "        plt.title(f\"{tech_list[i - 1]}\")"
   ]
  },
  {
   "cell_type": "markdown",
   "metadata": {
    "id": "O29GyjqcttEo"
   },
   "source": [
    "Now that we've seen the visualizations for the closing price and the volume traded each day, let's go ahead and caculate the moving average for the stock."
   ]
  },
  {
   "cell_type": "markdown",
   "metadata": {
    "id": "vCa3-nUpttEp"
   },
   "source": [
    "# 2. What was the moving average of the various stocks?"
   ]
  },
  {
   "cell_type": "code",
   "execution_count": 521,
   "metadata": {
    "executionInfo": {
     "elapsed": 3865,
     "status": "ok",
     "timestamp": 1611806433932,
     "user": {
      "displayName": "Mark Ryan",
      "photoUrl": "https://lh3.googleusercontent.com/a-/AOh14GiOaJEeoxteIdEhraqpv8y7ol-feJVt-BYY9ceTIQ=s64",
      "userId": "08045617267833954278"
     },
     "user_tz": 300
    },
    "id": "l6AqBdUZttEp"
   },
   "outputs": [],
   "source": [
    "ma_day = [10, 20, 50]\n",
    "\n",
    "for ma in ma_day:\n",
    "    for company in tech_list:\n",
    "        column_name = f\"MA for {ma} days\"\n",
    "        stock_dict[company][column_name] = stock_dict[company]['Adj Close'].rolling(ma).mean()"
   ]
  },
  {
   "cell_type": "code",
   "execution_count": 522,
   "metadata": {
    "executionInfo": {
     "elapsed": 3861,
     "status": "ok",
     "timestamp": 1611806433934,
     "user": {
      "displayName": "Mark Ryan",
      "photoUrl": "https://lh3.googleusercontent.com/a-/AOh14GiOaJEeoxteIdEhraqpv8y7ol-feJVt-BYY9ceTIQ=s64",
      "userId": "08045617267833954278"
     },
     "user_tz": 300
    },
    "id": "Fbo4ergjttEp"
   },
   "outputs": [],
   "source": [
    "#print(stock_dict['GOOG'].columns)"
   ]
  },
  {
   "cell_type": "markdown",
   "metadata": {
    "id": "FyV09EbdttEq"
   },
   "source": [
    "Now let's go ahead and plot all the additional Moving Averages"
   ]
  },
  {
   "cell_type": "code",
   "execution_count": 523,
   "metadata": {
    "executionInfo": {
     "elapsed": 3856,
     "status": "ok",
     "timestamp": 1611806433935,
     "user": {
      "displayName": "Mark Ryan",
      "photoUrl": "https://lh3.googleusercontent.com/a-/AOh14GiOaJEeoxteIdEhraqpv8y7ol-feJVt-BYY9ceTIQ=s64",
      "userId": "08045617267833954278"
     },
     "user_tz": 300
    },
    "id": "RzUULd3TttEq"
   },
   "outputs": [],
   "source": [
    "if plot_all:\n",
    "    df.groupby(\"company_name\").hist(figsize=(12, 12));"
   ]
  },
  {
   "cell_type": "code",
   "execution_count": 524,
   "metadata": {
    "executionInfo": {
     "elapsed": 3852,
     "status": "ok",
     "timestamp": 1611806433936,
     "user": {
      "displayName": "Mark Ryan",
      "photoUrl": "https://lh3.googleusercontent.com/a-/AOh14GiOaJEeoxteIdEhraqpv8y7ol-feJVt-BYY9ceTIQ=s64",
      "userId": "08045617267833954278"
     },
     "user_tz": 300
    },
    "id": "fdUmsz0kttEr"
   },
   "outputs": [],
   "source": [
    "if plot_all:\n",
    "    fig, axes = plt.subplots(nrows=2, ncols=2)\n",
    "    fig.set_figheight(8)\n",
    "    fig.set_figwidth(15)\n",
    "\n",
    "    AAPL[['Adj Close', 'MA for 10 days', 'MA for 20 days', 'MA for 50 days']].plot(ax=axes[0,0])\n",
    "    axes[0,0].set_title('APPLE')\n",
    "\n",
    "    GOOG[['Adj Close', 'MA for 10 days', 'MA for 20 days', 'MA for 50 days']].plot(ax=axes[0,1])\n",
    "    axes[0,1].set_title('GOOGLE')\n",
    "\n",
    "    MSFT[['Adj Close', 'MA for 10 days', 'MA for 20 days', 'MA for 50 days']].plot(ax=axes[1,0])\n",
    "    axes[1,0].set_title('MICROSOFT')\n",
    "\n",
    "    AMZN[['Adj Close', 'MA for 10 days', 'MA for 20 days', 'MA for 50 days']].plot(ax=axes[1,1])\n",
    "    axes[1,1].set_title('AMAZON')\n",
    "\n",
    "    fig.tight_layout()"
   ]
  },
  {
   "cell_type": "markdown",
   "metadata": {
    "id": "nXsLh7jMttEr"
   },
   "source": [
    "# 3. What was the daily return of the stock on average?"
   ]
  },
  {
   "cell_type": "markdown",
   "metadata": {
    "id": "GFIPYq91ttEs"
   },
   "source": [
    "Now that we've done some baseline analysis, let's go ahead and dive a little deeper. We're now going to analyze the risk of the stock. In order to do so we'll need to take a closer look at the daily changes of the stock, and not just its absolute value. Let's go ahead and use pandas to retrieve teh daily returns for the Apple stock."
   ]
  },
  {
   "cell_type": "code",
   "execution_count": 525,
   "metadata": {
    "executionInfo": {
     "elapsed": 3846,
     "status": "ok",
     "timestamp": 1611806433938,
     "user": {
      "displayName": "Mark Ryan",
      "photoUrl": "https://lh3.googleusercontent.com/a-/AOh14GiOaJEeoxteIdEhraqpv8y7ol-feJVt-BYY9ceTIQ=s64",
      "userId": "08045617267833954278"
     },
     "user_tz": 300
    },
    "id": "3hKm8z9IttEs"
   },
   "outputs": [],
   "source": [
    "if plot_all:\n",
    "    # We'll use pct_change to find the percent change for each day\n",
    "    for company in tech_list:\n",
    "        stock_dict[company]['Daily Return'] = stock_dict[company]['Adj Close'].pct_change()\n",
    "\n",
    "    # Then we'll plot the daily return percentage\n",
    "    fig, axes = plt.subplots(nrows=2, ncols=2)\n",
    "    fig.set_figheight(8)\n",
    "    fig.set_figwidth(15)\n",
    "\n",
    "    stock_dict['AAPL']['Daily Return'].plot(ax=axes[0,0], legend=True, linestyle='--', marker='o')\n",
    "    axes[0,0].set_title('APPLE')\n",
    "\n",
    "    stock_dict['GOOG']['Daily Return'].plot(ax=axes[0,1], legend=True, linestyle='--', marker='o')\n",
    "    axes[0,1].set_title('GOOGLE')\n",
    "\n",
    "    stock_dict['MSFT']['Daily Return'].plot(ax=axes[1,0], legend=True, linestyle='--', marker='o')\n",
    "    axes[1,0].set_title('MICROSOFT')\n",
    "\n",
    "    stock_dict['AMZN']['Daily Return'].plot(ax=axes[1,1], legend=True, linestyle='--', marker='o')\n",
    "    axes[1,1].set_title('AMAZON')\n",
    "\n",
    "    fig.tight_layout()"
   ]
  },
  {
   "cell_type": "markdown",
   "metadata": {
    "id": "SbSLRiNlttEt"
   },
   "source": [
    "Great, now let's get an overall look at the average daily return using a histogram. We'll use seaborn to create both a histogram and kde plot on the same figure."
   ]
  },
  {
   "cell_type": "code",
   "execution_count": 526,
   "metadata": {
    "executionInfo": {
     "elapsed": 3840,
     "status": "ok",
     "timestamp": 1611806433940,
     "user": {
      "displayName": "Mark Ryan",
      "photoUrl": "https://lh3.googleusercontent.com/a-/AOh14GiOaJEeoxteIdEhraqpv8y7ol-feJVt-BYY9ceTIQ=s64",
      "userId": "08045617267833954278"
     },
     "user_tz": 300
    },
    "id": "4iaLUgfLttEu"
   },
   "outputs": [],
   "source": [
    "# Note the use of dropna() here, otherwise the NaN values can't be read by seaborn\n",
    "if plot_all:\n",
    "    plt.figure(figsize=(12, 12))\n",
    "\n",
    "    for i, company in enumerate(tech_list, 1):\n",
    "        plt.subplot(2, 2, i)\n",
    "        sns.distplot(stock_dict[company]['Daily Return'].dropna(), bins=100, color='purple')\n",
    "        plt.ylabel('Daily Return')\n",
    "        plt.title(company_dict[company])\n",
    "    # Could have also done:\n",
    "    #AAPL['Daily Return'].hist()"
   ]
  },
  {
   "cell_type": "markdown",
   "metadata": {
    "id": "9JQBYLSittEu"
   },
   "source": [
    "# 4. What was the correlation between different stocks closing prices?"
   ]
  },
  {
   "cell_type": "markdown",
   "metadata": {
    "id": "6mr_ilnOttEu"
   },
   "source": [
    "Now what if we wanted to analyze the returns of all the stocks in our list? Let's go ahead and build a DataFrame with all the ['Close'] columns for each of the stocks dataframes."
   ]
  },
  {
   "cell_type": "code",
   "execution_count": 527,
   "metadata": {
    "colab": {
     "base_uri": "https://localhost:8080/",
     "height": 232
    },
    "executionInfo": {
     "elapsed": 9723,
     "status": "ok",
     "timestamp": 1611806439830,
     "user": {
      "displayName": "Mark Ryan",
      "photoUrl": "https://lh3.googleusercontent.com/a-/AOh14GiOaJEeoxteIdEhraqpv8y7ol-feJVt-BYY9ceTIQ=s64",
      "userId": "08045617267833954278"
     },
     "user_tz": 300
    },
    "id": "OHnT2tkPttEu",
    "outputId": "8a28ff85-0ad6-4bde-835c-704608c3c37b"
   },
   "outputs": [
    {
     "data": {
      "text/html": [
       "<div>\n",
       "<style scoped>\n",
       "    .dataframe tbody tr th:only-of-type {\n",
       "        vertical-align: middle;\n",
       "    }\n",
       "\n",
       "    .dataframe tbody tr th {\n",
       "        vertical-align: top;\n",
       "    }\n",
       "\n",
       "    .dataframe thead th {\n",
       "        text-align: right;\n",
       "    }\n",
       "</style>\n",
       "<table border=\"1\" class=\"dataframe\">\n",
       "  <thead>\n",
       "    <tr style=\"text-align: right;\">\n",
       "      <th>Symbols</th>\n",
       "      <th>CROX</th>\n",
       "    </tr>\n",
       "    <tr>\n",
       "      <th>Date</th>\n",
       "      <th></th>\n",
       "    </tr>\n",
       "  </thead>\n",
       "  <tbody>\n",
       "    <tr>\n",
       "      <td>2017-02-14</td>\n",
       "      <td>7.31</td>\n",
       "    </tr>\n",
       "    <tr>\n",
       "      <td>2017-02-15</td>\n",
       "      <td>7.20</td>\n",
       "    </tr>\n",
       "    <tr>\n",
       "      <td>2017-02-16</td>\n",
       "      <td>7.00</td>\n",
       "    </tr>\n",
       "    <tr>\n",
       "      <td>2017-02-17</td>\n",
       "      <td>6.98</td>\n",
       "    </tr>\n",
       "    <tr>\n",
       "      <td>2017-02-21</td>\n",
       "      <td>6.93</td>\n",
       "    </tr>\n",
       "  </tbody>\n",
       "</table>\n",
       "</div>"
      ],
      "text/plain": [
       "Symbols     CROX\n",
       "Date            \n",
       "2017-02-14  7.31\n",
       "2017-02-15  7.20\n",
       "2017-02-16  7.00\n",
       "2017-02-17  6.98\n",
       "2017-02-21  6.93"
      ]
     },
     "execution_count": 527,
     "metadata": {},
     "output_type": "execute_result"
    }
   ],
   "source": [
    "# Grab all the closing prices for the tech stock list into one DataFrame\n",
    "closing_df = DataReader(tech_list, 'yahoo', start, end)['Adj Close']\n",
    "\n",
    "# Let's take a quick look\n",
    "closing_df.head() "
   ]
  },
  {
   "cell_type": "markdown",
   "metadata": {
    "id": "DO2OAeLJttEv"
   },
   "source": [
    "Now that we have all the closing prices, let's go ahead and get the daily return for all the stocks, like we did for the Apple stock."
   ]
  },
  {
   "cell_type": "code",
   "execution_count": 528,
   "metadata": {
    "colab": {
     "base_uri": "https://localhost:8080/",
     "height": 232
    },
    "executionInfo": {
     "elapsed": 9719,
     "status": "ok",
     "timestamp": 1611806439835,
     "user": {
      "displayName": "Mark Ryan",
      "photoUrl": "https://lh3.googleusercontent.com/a-/AOh14GiOaJEeoxteIdEhraqpv8y7ol-feJVt-BYY9ceTIQ=s64",
      "userId": "08045617267833954278"
     },
     "user_tz": 300
    },
    "id": "mWAX7F2cttEw",
    "outputId": "fb8940a7-fe48-4081-f697-5c197a873d41"
   },
   "outputs": [
    {
     "data": {
      "text/html": [
       "<div>\n",
       "<style scoped>\n",
       "    .dataframe tbody tr th:only-of-type {\n",
       "        vertical-align: middle;\n",
       "    }\n",
       "\n",
       "    .dataframe tbody tr th {\n",
       "        vertical-align: top;\n",
       "    }\n",
       "\n",
       "    .dataframe thead th {\n",
       "        text-align: right;\n",
       "    }\n",
       "</style>\n",
       "<table border=\"1\" class=\"dataframe\">\n",
       "  <thead>\n",
       "    <tr style=\"text-align: right;\">\n",
       "      <th>Symbols</th>\n",
       "      <th>CROX</th>\n",
       "    </tr>\n",
       "    <tr>\n",
       "      <th>Date</th>\n",
       "      <th></th>\n",
       "    </tr>\n",
       "  </thead>\n",
       "  <tbody>\n",
       "    <tr>\n",
       "      <td>2017-02-14</td>\n",
       "      <td>NaN</td>\n",
       "    </tr>\n",
       "    <tr>\n",
       "      <td>2017-02-15</td>\n",
       "      <td>-0.015048</td>\n",
       "    </tr>\n",
       "    <tr>\n",
       "      <td>2017-02-16</td>\n",
       "      <td>-0.027778</td>\n",
       "    </tr>\n",
       "    <tr>\n",
       "      <td>2017-02-17</td>\n",
       "      <td>-0.002857</td>\n",
       "    </tr>\n",
       "    <tr>\n",
       "      <td>2017-02-21</td>\n",
       "      <td>-0.007163</td>\n",
       "    </tr>\n",
       "  </tbody>\n",
       "</table>\n",
       "</div>"
      ],
      "text/plain": [
       "Symbols         CROX\n",
       "Date                \n",
       "2017-02-14       NaN\n",
       "2017-02-15 -0.015048\n",
       "2017-02-16 -0.027778\n",
       "2017-02-17 -0.002857\n",
       "2017-02-21 -0.007163"
      ]
     },
     "execution_count": 528,
     "metadata": {},
     "output_type": "execute_result"
    }
   ],
   "source": [
    "# Make a new tech returns DataFrame\n",
    "# pct_change() https://pandas.pydata.org/pandas-docs/stable/reference/api/pandas.DataFrame.pct_change.html\n",
    "# Percentage change between the current and a prior element.\n",
    "# Computes the percentage change from the immediately previous row by default. This is useful in comparing the percentage of change in a time series of elements.\n",
    "tech_rets = closing_df.pct_change()\n",
    "# note that first row is NaN because there is no predecessor for the first row\n",
    "tech_rets.head()"
   ]
  },
  {
   "cell_type": "markdown",
   "metadata": {
    "id": "kAKykxMnttEx"
   },
   "source": [
    "Now we can compare the daily percentage return of two stocks to check how correlated. First let's see a sotck compared to itself."
   ]
  },
  {
   "cell_type": "code",
   "execution_count": 529,
   "metadata": {
    "executionInfo": {
     "elapsed": 9712,
     "status": "ok",
     "timestamp": 1611806439839,
     "user": {
      "displayName": "Mark Ryan",
      "photoUrl": "https://lh3.googleusercontent.com/a-/AOh14GiOaJEeoxteIdEhraqpv8y7ol-feJVt-BYY9ceTIQ=s64",
      "userId": "08045617267833954278"
     },
     "user_tz": 300
    },
    "id": "01KoxylgttEx"
   },
   "outputs": [],
   "source": [
    "# Comparing Google to itself should show a perfectly linear relationship\n",
    "if plot_all:\n",
    "    sns.jointplot('GOOG', 'GOOG', tech_rets, kind='scatter', color='seagreen')"
   ]
  },
  {
   "cell_type": "code",
   "execution_count": 530,
   "metadata": {
    "executionInfo": {
     "elapsed": 9707,
     "status": "ok",
     "timestamp": 1611806439843,
     "user": {
      "displayName": "Mark Ryan",
      "photoUrl": "https://lh3.googleusercontent.com/a-/AOh14GiOaJEeoxteIdEhraqpv8y7ol-feJVt-BYY9ceTIQ=s64",
      "userId": "08045617267833954278"
     },
     "user_tz": 300
    },
    "id": "dQYaUIsOttEy"
   },
   "outputs": [],
   "source": [
    "# We'll use joinplot to compare the daily returns of Google and Microsoft\n",
    "if plot_all:\n",
    "    sns.jointplot('GOOG', 'MSFT', tech_rets, kind='scatter')"
   ]
  },
  {
   "cell_type": "markdown",
   "metadata": {
    "id": "msAanENFttEy"
   },
   "source": [
    "So now we can see that if two stocks are perfectly (and positivley) correlated with each other a linear relationship bewteen its daily return values should occur. \n",
    "\n",
    "Seaborn and pandas make it very easy to repeat this comparison analysis for every possible combination of stocks in our technology stock ticker list. We can use sns.pairplot() to automatically create this plot"
   ]
  },
  {
   "cell_type": "code",
   "execution_count": 531,
   "metadata": {
    "executionInfo": {
     "elapsed": 9702,
     "status": "ok",
     "timestamp": 1611806439845,
     "user": {
      "displayName": "Mark Ryan",
      "photoUrl": "https://lh3.googleusercontent.com/a-/AOh14GiOaJEeoxteIdEhraqpv8y7ol-feJVt-BYY9ceTIQ=s64",
      "userId": "08045617267833954278"
     },
     "user_tz": 300
    },
    "id": "c9p-TywAttEy"
   },
   "outputs": [],
   "source": [
    "# We can simply call pairplot on our DataFrame for an automatic visual analysis \n",
    "# of all the comparisons\n",
    "if plot_all:\n",
    "    sns.pairplot(tech_rets, kind='reg')"
   ]
  },
  {
   "cell_type": "markdown",
   "metadata": {
    "id": "JBKYH4mjttEz"
   },
   "source": [
    "Above we can see all the relationships on daily returns between all the stocks. A quick glance shows an interesting correlation between Google and Amazon daily returns. It might be interesting to investigate that individual comaprison. While the simplicity of just calling sns.pairplot() is fantastic we can also use sns.PairGrid() for full control of the figure, including what kind of plots go in the diagonal, the upper triangle, and the lower triangle. Below is an example of utilizing the full power of seaborn to achieve this result."
   ]
  },
  {
   "cell_type": "code",
   "execution_count": 532,
   "metadata": {
    "executionInfo": {
     "elapsed": 9695,
     "status": "ok",
     "timestamp": 1611806439846,
     "user": {
      "displayName": "Mark Ryan",
      "photoUrl": "https://lh3.googleusercontent.com/a-/AOh14GiOaJEeoxteIdEhraqpv8y7ol-feJVt-BYY9ceTIQ=s64",
      "userId": "08045617267833954278"
     },
     "user_tz": 300
    },
    "id": "kLzXS983ttEz"
   },
   "outputs": [],
   "source": [
    "# Set up our figure by naming it returns_fig, call PairPLot on the DataFrame\n",
    "if plot_all:\n",
    "    return_fig = sns.PairGrid(tech_rets.dropna())\n",
    "\n",
    "    # Using map_upper we can specify what the upper triangle will look like.\n",
    "    return_fig.map_upper(plt.scatter, color='purple')\n",
    "\n",
    "    # We can also define the lower triangle in the figure, inclufing the plot type (kde) \n",
    "    # or the color map (BluePurple)\n",
    "    return_fig.map_lower(sns.kdeplot, cmap='cool_d')\n",
    "\n",
    "    # Finally we'll define the diagonal as a series of histogram plots of the daily return\n",
    "    return_fig.map_diag(plt.hist, bins=30)"
   ]
  },
  {
   "cell_type": "code",
   "execution_count": 533,
   "metadata": {
    "executionInfo": {
     "elapsed": 9690,
     "status": "ok",
     "timestamp": 1611806439848,
     "user": {
      "displayName": "Mark Ryan",
      "photoUrl": "https://lh3.googleusercontent.com/a-/AOh14GiOaJEeoxteIdEhraqpv8y7ol-feJVt-BYY9ceTIQ=s64",
      "userId": "08045617267833954278"
     },
     "user_tz": 300
    },
    "id": "xF_wYnxyttE0"
   },
   "outputs": [],
   "source": [
    "# Set up our figure by naming it returns_fig, call PairPLot on the DataFrame\n",
    "if plot_all:\n",
    "    returns_fig = sns.PairGrid(closing_df)\n",
    "\n",
    "    # Using map_upper we can specify what the upper triangle will look like.\n",
    "    returns_fig.map_upper(plt.scatter,color='purple')\n",
    "\n",
    "    # We can also define the lower triangle in the figure, inclufing the plot type (kde) or the color map (BluePurple)\n",
    "    returns_fig.map_lower(sns.kdeplot,cmap='cool_d')\n",
    "\n",
    "    # Finally we'll define the diagonal as a series of histogram plots of the daily return\n",
    "    returns_fig.map_diag(plt.hist,bins=30)"
   ]
  },
  {
   "cell_type": "markdown",
   "metadata": {
    "id": "g8tj-lGNttE0"
   },
   "source": [
    "Finally, we could also do a correlation plot, to get actual numerical values for the correlation between the stocks' daily return values. By comparing the closing prices, we see an interesting relationship between Microsoft and Apple."
   ]
  },
  {
   "cell_type": "code",
   "execution_count": 534,
   "metadata": {
    "executionInfo": {
     "elapsed": 9686,
     "status": "ok",
     "timestamp": 1611806439849,
     "user": {
      "displayName": "Mark Ryan",
      "photoUrl": "https://lh3.googleusercontent.com/a-/AOh14GiOaJEeoxteIdEhraqpv8y7ol-feJVt-BYY9ceTIQ=s64",
      "userId": "08045617267833954278"
     },
     "user_tz": 300
    },
    "id": "BQpGB2EPttE0"
   },
   "outputs": [],
   "source": [
    "# Let's go ahead and use sebron for a quick correlation plot for the daily returns\n",
    "if plot_all:\n",
    "    sns.heatmap(tech_rets.corr(), annot=True, cmap='summer')"
   ]
  },
  {
   "cell_type": "code",
   "execution_count": 535,
   "metadata": {
    "executionInfo": {
     "elapsed": 9681,
     "status": "ok",
     "timestamp": 1611806439850,
     "user": {
      "displayName": "Mark Ryan",
      "photoUrl": "https://lh3.googleusercontent.com/a-/AOh14GiOaJEeoxteIdEhraqpv8y7ol-feJVt-BYY9ceTIQ=s64",
      "userId": "08045617267833954278"
     },
     "user_tz": 300
    },
    "id": "f6N7mKCcttE0"
   },
   "outputs": [],
   "source": [
    "if plot_all:\n",
    "    sns.heatmap(closing_df.corr(), annot=True, cmap='summer')"
   ]
  },
  {
   "cell_type": "markdown",
   "metadata": {
    "id": "uFIa73fLttE1"
   },
   "source": [
    "Fantastic! Just like we suspected in our PairPlot we see here numerically and visually that Microsoft and Amazon had the strongest correlation of daily stock return. It's also interesting to see that all the technology comapnies are positively correlated."
   ]
  },
  {
   "cell_type": "markdown",
   "metadata": {
    "id": "tiqIZOLNttE1"
   },
   "source": [
    "# 5. How much value do we put at risk by investing in a particular stock?"
   ]
  },
  {
   "cell_type": "markdown",
   "metadata": {
    "id": "eENcTt05ttE1"
   },
   "source": [
    "There are many ways we can quantify risk, one of the most basic ways using the information we've gathered on daily percentage returns is by comparing the expected return with the standard deviation of the daily returns."
   ]
  },
  {
   "cell_type": "code",
   "execution_count": 536,
   "metadata": {
    "executionInfo": {
     "elapsed": 9677,
     "status": "ok",
     "timestamp": 1611806439852,
     "user": {
      "displayName": "Mark Ryan",
      "photoUrl": "https://lh3.googleusercontent.com/a-/AOh14GiOaJEeoxteIdEhraqpv8y7ol-feJVt-BYY9ceTIQ=s64",
      "userId": "08045617267833954278"
     },
     "user_tz": 300
    },
    "id": "9dwlU_hettE1"
   },
   "outputs": [],
   "source": [
    "# Let's start by defining a new DataFrame as a cleaned version of the orignal tech_rets DataFrame\n",
    "rets = tech_rets.dropna()\n",
    "if plot_all:\n",
    "    area = np.pi*20\n",
    "\n",
    "    plt.figure(figsize=(12, 10))\n",
    "    plt.scatter(rets.mean(), rets.std(), s=area)\n",
    "    plt.xlabel('Expected return')\n",
    "    plt.ylabel('Risk')\n",
    "\n",
    "    for label, x, y in zip(rets.columns, rets.mean(), rets.std()):\n",
    "        plt.annotate(label, xy=(x, y), xytext=(50, 50), textcoords='offset points', ha='right', va='bottom', \n",
    "                     arrowprops=dict(arrowstyle='-', color='blue', connectionstyle='arc3,rad=-0.3'))"
   ]
  },
  {
   "cell_type": "markdown",
   "metadata": {
    "id": "vEgA2qjYttE2"
   },
   "source": [
    "# 6. Predicting the closing price stock price of APPLE inc:"
   ]
  },
  {
   "cell_type": "code",
   "execution_count": 537,
   "metadata": {
    "executionInfo": {
     "elapsed": 11046,
     "status": "ok",
     "timestamp": 1611806441227,
     "user": {
      "displayName": "Mark Ryan",
      "photoUrl": "https://lh3.googleusercontent.com/a-/AOh14GiOaJEeoxteIdEhraqpv8y7ol-feJVt-BYY9ceTIQ=s64",
      "userId": "08045617267833954278"
     },
     "user_tz": 300
    },
    "id": "Q39q1pn_ttE2"
   },
   "outputs": [
    {
     "data": {
      "text/html": [
       "<div>\n",
       "<style scoped>\n",
       "    .dataframe tbody tr th:only-of-type {\n",
       "        vertical-align: middle;\n",
       "    }\n",
       "\n",
       "    .dataframe tbody tr th {\n",
       "        vertical-align: top;\n",
       "    }\n",
       "\n",
       "    .dataframe thead th {\n",
       "        text-align: right;\n",
       "    }\n",
       "</style>\n",
       "<table border=\"1\" class=\"dataframe\">\n",
       "  <thead>\n",
       "    <tr style=\"text-align: right;\">\n",
       "      <th></th>\n",
       "      <th>High</th>\n",
       "      <th>Low</th>\n",
       "      <th>Open</th>\n",
       "      <th>Close</th>\n",
       "      <th>Volume</th>\n",
       "      <th>Adj Close</th>\n",
       "      <th>2 YR</th>\n",
       "    </tr>\n",
       "    <tr>\n",
       "      <th>Date</th>\n",
       "      <th></th>\n",
       "      <th></th>\n",
       "      <th></th>\n",
       "      <th></th>\n",
       "      <th></th>\n",
       "      <th></th>\n",
       "      <th></th>\n",
       "    </tr>\n",
       "  </thead>\n",
       "  <tbody>\n",
       "    <tr>\n",
       "      <td>2017-02-14</td>\n",
       "      <td>7.35</td>\n",
       "      <td>7.16</td>\n",
       "      <td>7.17</td>\n",
       "      <td>7.31</td>\n",
       "      <td>808500</td>\n",
       "      <td>7.31</td>\n",
       "      <td>1.25</td>\n",
       "    </tr>\n",
       "    <tr>\n",
       "      <td>2017-02-15</td>\n",
       "      <td>7.37</td>\n",
       "      <td>7.19</td>\n",
       "      <td>7.27</td>\n",
       "      <td>7.20</td>\n",
       "      <td>1203300</td>\n",
       "      <td>7.20</td>\n",
       "      <td>1.27</td>\n",
       "    </tr>\n",
       "    <tr>\n",
       "      <td>2017-02-16</td>\n",
       "      <td>7.25</td>\n",
       "      <td>6.93</td>\n",
       "      <td>7.21</td>\n",
       "      <td>7.00</td>\n",
       "      <td>865000</td>\n",
       "      <td>7.00</td>\n",
       "      <td>1.22</td>\n",
       "    </tr>\n",
       "    <tr>\n",
       "      <td>2017-02-17</td>\n",
       "      <td>7.03</td>\n",
       "      <td>6.89</td>\n",
       "      <td>7.00</td>\n",
       "      <td>6.98</td>\n",
       "      <td>821900</td>\n",
       "      <td>6.98</td>\n",
       "      <td>1.21</td>\n",
       "    </tr>\n",
       "    <tr>\n",
       "      <td>2017-02-21</td>\n",
       "      <td>6.99</td>\n",
       "      <td>6.78</td>\n",
       "      <td>6.96</td>\n",
       "      <td>6.93</td>\n",
       "      <td>1419200</td>\n",
       "      <td>6.93</td>\n",
       "      <td>1.22</td>\n",
       "    </tr>\n",
       "  </tbody>\n",
       "</table>\n",
       "</div>"
      ],
      "text/plain": [
       "            High   Low  Open  Close   Volume  Adj Close  2 YR\n",
       "Date                                                         \n",
       "2017-02-14  7.35  7.16  7.17   7.31   808500       7.31  1.25\n",
       "2017-02-15  7.37  7.19  7.27   7.20  1203300       7.20  1.27\n",
       "2017-02-16  7.25  6.93  7.21   7.00   865000       7.00  1.22\n",
       "2017-02-17  7.03  6.89  7.00   6.98   821900       6.98  1.21\n",
       "2017-02-21  6.99  6.78  6.96   6.93  1419200       6.93  1.22"
      ]
     },
     "execution_count": 537,
     "metadata": {},
     "output_type": "execute_result"
    }
   ],
   "source": [
    "#Get the stock quote\n",
    "# tech_list = ['AAPL', 'GOOG', 'MSFT', 'AMZN']\n",
    "df_predict = {}\n",
    "# start='2012-01-01'\n",
    "for company in tech_list:\n",
    "    df_predict[company] = DataReader(company,data_source='yahoo', start=start, end=datetime.now())\n",
    "    df_predict[company] = pd.merge(df_predict[company],ust_df_2year,on=['Date'],how='inner')\n",
    "    # add\n",
    "    # show an example\n",
    "df_predict[tech_list[0]].head()"
   ]
  },
  {
   "cell_type": "code",
   "execution_count": 538,
   "metadata": {
    "executionInfo": {
     "elapsed": 11042,
     "status": "ok",
     "timestamp": 1611806441229,
     "user": {
      "displayName": "Mark Ryan",
      "photoUrl": "https://lh3.googleusercontent.com/a-/AOh14GiOaJEeoxteIdEhraqpv8y7ol-feJVt-BYY9ceTIQ=s64",
      "userId": "08045617267833954278"
     },
     "user_tz": 300
    },
    "id": "OgHKLQS-ttE2"
   },
   "outputs": [],
   "source": [
    "if plot_all:\n",
    "    plt.figure(figsize=(12, 12))\n",
    "    #plt.title('Close Price History')\n",
    "    for i, company in enumerate(tech_list,1):\n",
    "        plt.subplot(2,2,i)\n",
    "        plt.plot(df_predict[company]['Close'])\n",
    "        plt.xlabel('Date', fontsize=18)\n",
    "        plt.ylabel('Close Price USD ($)', fontsize=18)\n",
    "        plt.title(company_dict[company])\n",
    "        #plt.show()\n",
    "    \n"
   ]
  },
  {
   "cell_type": "code",
   "execution_count": 539,
   "metadata": {
    "executionInfo": {
     "elapsed": 11036,
     "status": "ok",
     "timestamp": 1611806441230,
     "user": {
      "displayName": "Mark Ryan",
      "photoUrl": "https://lh3.googleusercontent.com/a-/AOh14GiOaJEeoxteIdEhraqpv8y7ol-feJVt-BYY9ceTIQ=s64",
      "userId": "08045617267833954278"
     },
     "user_tz": 300
    },
    "id": "ceD3yTC4ttE3"
   },
   "outputs": [],
   "source": [
    "def get_model_path():\n",
    "    '''get the path for data files'''\n",
    "    rawpath = os.getcwd()\n",
    "    # data is in a directory called \"data\" that is a sibling to the directory containing the notebook\n",
    "    path = os.path.abspath(os.path.join(rawpath, '..', 'models'))\n",
    "    return(path)"
   ]
  },
  {
   "cell_type": "code",
   "execution_count": 540,
   "metadata": {
    "executionInfo": {
     "elapsed": 11032,
     "status": "ok",
     "timestamp": 1611806441231,
     "user": {
      "displayName": "Mark Ryan",
      "photoUrl": "https://lh3.googleusercontent.com/a-/AOh14GiOaJEeoxteIdEhraqpv8y7ol-feJVt-BYY9ceTIQ=s64",
      "userId": "08045617267833954278"
     },
     "user_tz": 300
    },
    "id": "SSrv9zAhttE3"
   },
   "outputs": [],
   "source": [
    "def save_model(model,company):\n",
    "    '''save the model to a file in directory models that is a peer of the directory containing this notebook'''\n",
    "    model_path = get_model_path()\n",
    "    modifier = datetime.now().strftime(\"%B%d%Y\")\n",
    "    save_model_path = os.path.join(model_path,company+modifier+'.h5')\n",
    "    model.save(save_model_path)\n",
    "    # no early stop, so make current model saved_model\n",
    "    print(\"Saved model with name \",company+modifier+'.h5')\n",
    "    \n"
   ]
  },
  {
   "cell_type": "code",
   "execution_count": 541,
   "metadata": {
    "executionInfo": {
     "elapsed": 11028,
     "status": "ok",
     "timestamp": 1611806441234,
     "user": {
      "displayName": "Mark Ryan",
      "photoUrl": "https://lh3.googleusercontent.com/a-/AOh14GiOaJEeoxteIdEhraqpv8y7ol-feJVt-BYY9ceTIQ=s64",
      "userId": "08045617267833954278"
     },
     "user_tz": 300
    },
    "id": "ijCLNQ1LttE3"
   },
   "outputs": [],
   "source": [
    "def get_save_model_path(company):\n",
    "    model_path = get_model_path()\n",
    "    modifier = saved_model_modifier\n",
    "    # modifier = datetime.now().strftime(\"%B%d%Y\")\n",
    "    save_model_path = os.path.join(model_path,company+modifier+'.h5')\n",
    "    return(save_model_path)"
   ]
  },
  {
   "cell_type": "code",
   "execution_count": 542,
   "metadata": {
    "executionInfo": {
     "elapsed": 11023,
     "status": "ok",
     "timestamp": 1611806441236,
     "user": {
      "displayName": "Mark Ryan",
      "photoUrl": "https://lh3.googleusercontent.com/a-/AOh14GiOaJEeoxteIdEhraqpv8y7ol-feJVt-BYY9ceTIQ=s64",
      "userId": "08045617267833954278"
     },
     "user_tz": 300
    },
    "id": "qS4bPikXttE3"
   },
   "outputs": [],
   "source": [
    "def one_col_df(df,col):\n",
    "    data = df.filter([col])\n",
    "    dataset = data.values\n",
    "    training_data_len = int(np.ceil( len(dataset) * .8 ))\n",
    "    return(data,dataset,training_data_len)"
   ]
  },
  {
   "cell_type": "code",
   "execution_count": 543,
   "metadata": {},
   "outputs": [],
   "source": [
    "def multi_col_df(df,cols):\n",
    "    #printf(\"cols is:\", cols)\n",
    "    data = df.filter(cols)\n",
    "    #print(\"data inside is\")\n",
    "    dataset = data.values\n",
    "    training_data_len = int(np.ceil( len(dataset) * .8 ))\n",
    "    return(data,dataset,training_data_len)"
   ]
  },
  {
   "cell_type": "code",
   "execution_count": 544,
   "metadata": {},
   "outputs": [],
   "source": [
    "def get_keras_vars(dataset):\n",
    "    '''cribbed from traditional DL on structured data code'''\n",
    "    X = {}\n",
    "    dictlist = []\n",
    "    for col in collist:\n",
    "        if verboseout:\n",
    "            print(\"cat col is\",col)\n",
    "        X[col] = np.array(dataset[col])\n",
    "        dictlist.append(np.array(dataset[col]))\n",
    "       \n",
    "    for col in textcols:\n",
    "        if verboseout:\n",
    "            print(\"text col is\",col)\n",
    "        X[col] = pad_sequences(dataset[col], maxlen=max_dict[col])\n",
    "        dictlist.append(pad_sequences(dataset[col], maxlen=max_dict[col]))\n",
    "        \n",
    "    for col in continuouscols:\n",
    "        if verboseout:\n",
    "            print(\"cont col is\",col)\n",
    "        X[col] = np.array(dataset[col])\n",
    "        dictlist.append(np.array(dataset[col]))\n",
    "        \n",
    "    return X, dictlist"
   ]
  },
  {
   "cell_type": "code",
   "execution_count": 545,
   "metadata": {
    "executionInfo": {
     "elapsed": 11017,
     "status": "ok",
     "timestamp": 1611806441237,
     "user": {
      "displayName": "Mark Ryan",
      "photoUrl": "https://lh3.googleusercontent.com/a-/AOh14GiOaJEeoxteIdEhraqpv8y7ol-feJVt-BYY9ceTIQ=s64",
      "userId": "08045617267833954278"
     },
     "user_tz": 300
    },
    "id": "6bfV2DBrttE4"
   },
   "outputs": [],
   "source": [
    "def scale_data(dataset):\n",
    "    scaler = MinMaxScaler(feature_range=(0,1))\n",
    "    scaled_data = scaler.fit_transform(dataset)\n",
    "    return(scaled_data,scaler)"
   ]
  },
  {
   "cell_type": "code",
   "execution_count": 546,
   "metadata": {
    "executionInfo": {
     "elapsed": 11009,
     "status": "ok",
     "timestamp": 1611806441239,
     "user": {
      "displayName": "Mark Ryan",
      "photoUrl": "https://lh3.googleusercontent.com/a-/AOh14GiOaJEeoxteIdEhraqpv8y7ol-feJVt-BYY9ceTIQ=s64",
      "userId": "08045617267833954278"
     },
     "user_tz": 300
    },
    "id": "ERZT1IH6ttE4"
   },
   "outputs": [],
   "source": [
    "def create_x_y(scaled_data,training_data_len):\n",
    "    '''convert scaled dataset into numpy x and y arrays for training'''\n",
    "    #Create the training data set\n",
    "    #Create the scaled training data set\n",
    "    print(\"scaled_data shape: \",str(scaled_data.shape))\n",
    "    print('training_data_len: ',training_data_len)\n",
    "    train_data = scaled_data[0:int(training_data_len), :]\n",
    "    #print(\"train_data is:\",train_data)\n",
    "    #Split the data into x_train and y_train data sets\n",
    "    x_train = []\n",
    "    y_train = []\n",
    "    print(\"len(train_data): \",str(len(train_data)))\n",
    "    # here, each x is a set of 60 values and each y is the 61st value\n",
    "    for i in range(look_back, len(train_data)):\n",
    "        x_train.append(train_data[i-look_back:i, 0])\n",
    "        y_train.append(train_data[i, 0])\n",
    "        if (i<= 61) and plot_all:\n",
    "            print(x_train)\n",
    "            print(y_train)\n",
    "            print()\n",
    "\n",
    "    # Convert the x_train and y_train to numpy arrays \n",
    "    x_train, y_train = np.array(x_train), np.array(y_train)\n",
    "\n",
    "    #Reshape the data\n",
    "    x_train = np.reshape(x_train, (x_train.shape[0], x_train.shape[1], 1))\n",
    "    # x_train.shape\n",
    "    return(x_train,y_train)"
   ]
  },
  {
   "cell_type": "code",
   "execution_count": 547,
   "metadata": {},
   "outputs": [],
   "source": [
    "def build_model(x_train,y_train,optimizer,loss_function):\n",
    "        '''build simple model given x, y, optimizer and loss function - sequential API'''\n",
    "        model = Sequential()\n",
    "        model.add(LSTM(128, return_sequences=True, input_shape= (x_train.shape[1], 1)))\n",
    "        model.add(LSTM(64, return_sequences=False))\n",
    "        model.add(Dense(25))\n",
    "        model.add(Dense(1))\n",
    "\n",
    "        # Compile the model\n",
    "        model.compile(optimizer=optimizer, loss=loss_function)\n",
    "\n",
    "        #Train the model\n",
    "       \n",
    "        model.fit(x_train, y_train, batch_size=1, epochs=1)\n",
    "        return(model)"
   ]
  },
  {
   "cell_type": "code",
   "execution_count": 548,
   "metadata": {},
   "outputs": [],
   "source": [
    "def build_model_func(x_train,y_train,optimizer,loss_function):\n",
    "        '''build simple model given x, y, optimizer and loss function - functional API'''\n",
    "        lstminputs = {}\n",
    "        inputlayerlist = []\n",
    "        col = \"holder\"\n",
    "        lstminputs[col] = Input(shape=(x_train.shape[1],1),name=col)\n",
    "        inputlayerlist.append(lstminputs[col])\n",
    "        lstminputs[col] = (LSTM(128,return_sequences=True) (lstminputs[col]))\n",
    "        lstminputs[col] = (LSTM(64,return_sequences=False) (lstminputs[col]))\n",
    "        lstminputs[col] = (Dense(25) (lstminputs[col]))\n",
    "        \n",
    "        #output = Dense(1, activation=output_activation) (lstminputs[col])\n",
    "        output = Dense(1) (lstminputs[col])\n",
    "        # define model\n",
    "\n",
    "        model = Model(inputlayerlist, output)\n",
    "\n",
    "        \n",
    "        \n",
    " \n",
    "        model.compile(optimizer=optimizer, loss=loss_function)\n",
    "\n",
    "        #Train the model\n",
    "       \n",
    "        model.fit(x_train, y_train, batch_size=1, epochs=1)\n",
    "        return(model)"
   ]
  },
  {
   "cell_type": "code",
   "execution_count": 549,
   "metadata": {},
   "outputs": [],
   "source": [
    "def build_model_func2(x_train,y_train,optimizer,loss_function,collist,continuouscols,lstmcols):\n",
    "    '''build multi-input functional API model\n",
    "    collist - list of categorical columns\n",
    "    continuouscols - list of continuous columns\n",
    "    \n",
    "    want to have x_train being a list of numpy arrays, \n",
    "    one for each column that we want to create layers for\n",
    "    \n",
    "    \n",
    "    \n",
    "    '''\n",
    "    catinputs = {} # list of categorical inputs\n",
    "    textinputs = {} # list of text inputs\n",
    "    lstminput = {} # list of lstm inputs\n",
    "    continputs = {} # list of continuous inputs\n",
    "    embeddings = {}\n",
    "    textembeddings = {}\n",
    "    catemb = 10 # size of categorical embeddings\n",
    "    textemb = 50 # size of text embeddings\n",
    "    inputlayerlist = []\n",
    "    \n",
    "\n",
    "    \n",
    "    '''\n",
    "    for col in lstmcols:\n",
    "        lstminputs[col] = Input(shape=(x_train.shape[1],1),name=col)\n",
    "        inputlayerlist.append(lstminputs[col])\n",
    "        lstminputs[col] = (LSTM(128,return_sequences=True) (lstminputs[col]))\n",
    "        lstminputs[col] = (LSTM(64,return_sequences=False) (lstminputs[col]))\n",
    "        lstminputs[col] = (Dense(25) (lstminputs[col]))\n",
    "        # question here whether to include a dense layer or not at the end of LSTM \n",
    "        '''\n",
    "    for col in collist:\n",
    "        catinputs[col] = Input(shape=[1],name=col)\n",
    "        inputlayerlist.append(catinputs[col])\n",
    "        #print(\"inputname\",inputname)\n",
    "        embeddings[col] = (Embedding(max_dict[col],catemb) (catinputs[col]))\n",
    "        # batchnorm all\n",
    "        embeddings[col] = (BatchNormalization() (embeddings[col]))\n",
    "        collistfix.append(embeddings[col])\n",
    "    for col in continuouscols:\n",
    "        continputs[col] = Input(shape=[1],name=col)\n",
    "        inputlayerlist.append(continputs[col])\n",
    "        \n",
    "    return(model)"
   ]
  },
  {
   "cell_type": "code",
   "execution_count": 550,
   "metadata": {
    "colab": {
     "base_uri": "https://localhost:8080/"
    },
    "executionInfo": {
     "elapsed": 29702,
     "status": "ok",
     "timestamp": 1611806459942,
     "user": {
      "displayName": "Mark Ryan",
      "photoUrl": "https://lh3.googleusercontent.com/a-/AOh14GiOaJEeoxteIdEhraqpv8y7ol-feJVt-BYY9ceTIQ=s64",
      "userId": "08045617267833954278"
     },
     "user_tz": 300
    },
    "id": "yU3zPKDZttE4",
    "outputId": "dce1cfd6-efac-439d-b311-ff58364c5f83",
    "scrolled": true
   },
   "outputs": [
    {
     "name": "stdout",
     "output_type": "stream",
     "text": [
      "training_data_len:  800\n",
      "dataset shape:  (1000, 1)\n",
      "scaled_data shape:  (1000, 1)\n",
      "training_data_len:  800\n",
      "len(train_data):  800\n",
      "x_train shape:  (740, 60, 1)\n",
      "y_train shape:  (740,)\n",
      "TRAINING LOOP FOR:  CROX\n",
      "Epoch 1/1\n",
      "740/740 [==============================] - 44s 60ms/step - loss: 0.0010\n",
      "Saved model with name  CROXFebruary142021.h5\n",
      "x_test shape 1 (200, 60)\n",
      "x_test shape 2 (200, 60, 1)\n",
      "predictions_temp shape (200, 1)\n",
      "predictions[company] shape (200, 1)\n",
      "Wall time: 53.5 s\n"
     ]
    }
   ],
   "source": [
    "%%time\n",
    "# train models for each company in tech_list and save trained models\n",
    "predictions = {}\n",
    "data = {}\n",
    "for company in tech_list:\n",
    "    data[company],dataset,training_data_len = one_col_df(df_predict[company],'Close')\n",
    "    #data[company],dataset,training_data_len = multi_col_df(df_predict[company],['Close','2YR'])\n",
    "    # X, dictlist get_keras_vars(df_predict[company])\n",
    "    #print(\"dataset is: \",dataset)\n",
    "    #print((\"data[company] is:\",data[company]))\n",
    "    print(\"training_data_len: \",training_data_len)\n",
    "    print(\"dataset shape: \",str(dataset.shape))\n",
    "    scaled_data, scaler = scale_data(dataset)\n",
    "    x_train, y_train = create_x_y(scaled_data,training_data_len)\n",
    "    print(\"x_train shape: \",x_train.shape)\n",
    "    print(\"y_train shape: \",y_train.shape)\n",
    "    print(\"TRAINING LOOP FOR: \",str(company))\n",
    "    '''\n",
    "    turn off for experiment with multi columns\n",
    "    '''\n",
    "    if use_saved_model:\n",
    "        # put here\n",
    "        save_model_path = get_save_model_path(company)\n",
    "        model = load_model(save_model_path)\n",
    "    else:\n",
    "        # train model fresh\n",
    "        #Build the LSTM model\n",
    "        #model = build_model(x_train,y_train,'adam','mean_squared_error')\n",
    "        model = build_model_func(x_train,y_train,'adam','mean_squared_error')\n",
    "        # save the model\n",
    "        save_model(model,company)\n",
    "    #Create a new array containing scaled values from index 1543 to 2002 \n",
    "    test_data = scaled_data[training_data_len - look_back: , :]\n",
    "    #Create the data sets x_test and y_test\n",
    "    x_test = []\n",
    "    y_test = dataset[training_data_len:, :]\n",
    "    for i in range(look_back, len(test_data)):\n",
    "        x_test.append(test_data[i-look_back:i, 0])\n",
    "\n",
    "    # Convert the data to a numpy array\n",
    "    x_test = np.array(x_test)\n",
    "    print(\"x_test shape 1\",x_test.shape)\n",
    "    # Reshape the data\n",
    "    x_test = np.reshape(x_test, (x_test.shape[0], x_test.shape[1], 1 ))\n",
    "    print(\"x_test shape 2\",x_test.shape)\n",
    "    # Get the models predicted price values \n",
    "    predictions_temp = model.predict(x_test)\n",
    "    print(\"predictions_temp shape\",predictions_temp.shape)\n",
    "    predictions[company] = scaler.inverse_transform(predictions_temp)\n",
    "    print(\"predictions[company] shape\",predictions[company].shape)\n",
    "    "
   ]
  },
  {
   "cell_type": "code",
   "execution_count": 551,
   "metadata": {
    "colab": {
     "base_uri": "https://localhost:8080/",
     "height": 1000
    },
    "executionInfo": {
     "elapsed": 31172,
     "status": "ok",
     "timestamp": 1611806461427,
     "user": {
      "displayName": "Mark Ryan",
      "photoUrl": "https://lh3.googleusercontent.com/a-/AOh14GiOaJEeoxteIdEhraqpv8y7ol-feJVt-BYY9ceTIQ=s64",
      "userId": "08045617267833954278"
     },
     "user_tz": 300
    },
    "id": "HcyoiMipttE5",
    "outputId": "4c45f63e-3fc7-458e-88d0-3f958deba6f5"
   },
   "outputs": [
    {
     "name": "stdout",
     "output_type": "stream",
     "text": [
      "train shape  (800, 1)\n",
      "valid shape  (200, 1)\n",
      "predictions[company] shape  (200, 1)\n"
     ]
    },
    {
     "name": "stderr",
     "output_type": "stream",
     "text": [
      "c:\\users\\ryanm\\appdata\\local\\programs\\python\\python37\\lib\\site-packages\\ipykernel_launcher.py:8: SettingWithCopyWarning: \n",
      "A value is trying to be set on a copy of a slice from a DataFrame.\n",
      "Try using .loc[row_indexer,col_indexer] = value instead\n",
      "\n",
      "See the caveats in the documentation: http://pandas.pydata.org/pandas-docs/stable/user_guide/indexing.html#returning-a-view-versus-a-copy\n",
      "  \n"
     ]
    },
    {
     "data": {
      "image/png": "[encoded data removed]",
      "text/plain": [
       "<Figure size 1152x576 with 1 Axes>"
      ]
     },
     "metadata": {
      "needs_background": "light"
     },
     "output_type": "display_data"
    }
   ],
   "source": [
    "# Plot the data\n",
    "for company in tech_list:\n",
    "    train = data[company][:training_data_len]\n",
    "    valid = data[company][training_data_len:]\n",
    "    print(\"train shape \",train.shape)\n",
    "    print(\"valid shape \",valid.shape)\n",
    "    print(\"predictions[company] shape \",predictions[company].shape)\n",
    "    valid['Predictions'] = predictions[company]\n",
    "    # Visualize the data\n",
    "    plt.figure(figsize=(16,8))\n",
    "    plt.title('Model'+\" \"+company)\n",
    "    plt.xlabel('Date', fontsize=18)\n",
    "    plt.ylabel('Close Price USD ($)', fontsize=18)\n",
    "    plt.plot(train['Close'])\n",
    "    plt.plot(valid[['Close', 'Predictions']])\n",
    "    plt.legend(['Train', 'Val', 'Predictions'], loc='lower right')\n",
    "    plt.show()"
   ]
  },
  {
   "cell_type": "code",
   "execution_count": 552,
   "metadata": {
    "colab": {
     "base_uri": "https://localhost:8080/",
     "height": 446
    },
    "executionInfo": {
     "elapsed": 31160,
     "status": "ok",
     "timestamp": 1611806461429,
     "user": {
      "displayName": "Mark Ryan",
      "photoUrl": "https://lh3.googleusercontent.com/a-/AOh14GiOaJEeoxteIdEhraqpv8y7ol-feJVt-BYY9ceTIQ=s64",
      "userId": "08045617267833954278"
     },
     "user_tz": 300
    },
    "id": "mpcDNFfYttE5",
    "outputId": "ef14c45f-3c1f-4aa0-ce3c-54de8861801e"
   },
   "outputs": [
    {
     "data": {
      "text/html": [
       "<div>\n",
       "<style scoped>\n",
       "    .dataframe tbody tr th:only-of-type {\n",
       "        vertical-align: middle;\n",
       "    }\n",
       "\n",
       "    .dataframe tbody tr th {\n",
       "        vertical-align: top;\n",
       "    }\n",
       "\n",
       "    .dataframe thead th {\n",
       "        text-align: right;\n",
       "    }\n",
       "</style>\n",
       "<table border=\"1\" class=\"dataframe\">\n",
       "  <thead>\n",
       "    <tr style=\"text-align: right;\">\n",
       "      <th></th>\n",
       "      <th>Close</th>\n",
       "      <th>Predictions</th>\n",
       "    </tr>\n",
       "    <tr>\n",
       "      <th>Date</th>\n",
       "      <th></th>\n",
       "      <th></th>\n",
       "    </tr>\n",
       "  </thead>\n",
       "  <tbody>\n",
       "    <tr>\n",
       "      <td>2020-04-28</td>\n",
       "      <td>23.709999</td>\n",
       "      <td>23.208052</td>\n",
       "    </tr>\n",
       "    <tr>\n",
       "      <td>2020-04-29</td>\n",
       "      <td>26.170000</td>\n",
       "      <td>23.394661</td>\n",
       "    </tr>\n",
       "    <tr>\n",
       "      <td>2020-04-30</td>\n",
       "      <td>24.250000</td>\n",
       "      <td>24.043896</td>\n",
       "    </tr>\n",
       "    <tr>\n",
       "      <td>2020-05-01</td>\n",
       "      <td>22.070000</td>\n",
       "      <td>24.538916</td>\n",
       "    </tr>\n",
       "    <tr>\n",
       "      <td>2020-05-04</td>\n",
       "      <td>22.299999</td>\n",
       "      <td>24.545063</td>\n",
       "    </tr>\n",
       "    <tr>\n",
       "      <td>...</td>\n",
       "      <td>...</td>\n",
       "      <td>...</td>\n",
       "    </tr>\n",
       "    <tr>\n",
       "      <td>2021-02-08</td>\n",
       "      <td>77.809998</td>\n",
       "      <td>73.745209</td>\n",
       "    </tr>\n",
       "    <tr>\n",
       "      <td>2021-02-09</td>\n",
       "      <td>79.879997</td>\n",
       "      <td>74.953255</td>\n",
       "    </tr>\n",
       "    <tr>\n",
       "      <td>2021-02-10</td>\n",
       "      <td>78.730003</td>\n",
       "      <td>76.460144</td>\n",
       "    </tr>\n",
       "    <tr>\n",
       "      <td>2021-02-11</td>\n",
       "      <td>79.480003</td>\n",
       "      <td>77.684189</td>\n",
       "    </tr>\n",
       "    <tr>\n",
       "      <td>2021-02-12</td>\n",
       "      <td>81.709999</td>\n",
       "      <td>78.724670</td>\n",
       "    </tr>\n",
       "  </tbody>\n",
       "</table>\n",
       "<p>200 rows × 2 columns</p>\n",
       "</div>"
      ],
      "text/plain": [
       "                Close  Predictions\n",
       "Date                              \n",
       "2020-04-28  23.709999    23.208052\n",
       "2020-04-29  26.170000    23.394661\n",
       "2020-04-30  24.250000    24.043896\n",
       "2020-05-01  22.070000    24.538916\n",
       "2020-05-04  22.299999    24.545063\n",
       "...               ...          ...\n",
       "2021-02-08  77.809998    73.745209\n",
       "2021-02-09  79.879997    74.953255\n",
       "2021-02-10  78.730003    76.460144\n",
       "2021-02-11  79.480003    77.684189\n",
       "2021-02-12  81.709999    78.724670\n",
       "\n",
       "[200 rows x 2 columns]"
      ]
     },
     "execution_count": 552,
     "metadata": {},
     "output_type": "execute_result"
    }
   ],
   "source": [
    "#Show the valid and predicted prices\n",
    "valid"
   ]
  },
  {
   "cell_type": "code",
   "execution_count": null,
   "metadata": {
    "executionInfo": {
     "elapsed": 31138,
     "status": "ok",
     "timestamp": 1611806461431,
     "user": {
      "displayName": "Mark Ryan",
      "photoUrl": "https://lh3.googleusercontent.com/a-/AOh14GiOaJEeoxteIdEhraqpv8y7ol-feJVt-BYY9ceTIQ=s64",
      "userId": "08045617267833954278"
     },
     "user_tz": 300
    },
    "id": "H4wln8eKttE5"
   },
   "outputs": [],
   "source": []
  }
 ],
 "metadata": {
  "accelerator": "GPU",
  "colab": {
   "collapsed_sections": [
    "nXsLh7jMttEr"
   ],
   "name": "stock_analysis_using_lstm_mvp.ipynb",
   "provenance": []
  },
  "kernelspec": {
   "display_name": "Python 3",
   "language": "python",
   "name": "python3"
  },
  "language_info": {
   "codemirror_mode": {
    "name": "ipython",
    "version": 3
   },
   "file_extension": ".py",
   "mimetype": "text/x-python",
   "name": "python",
   "nbconvert_exporter": "python",
   "pygments_lexer": "ipython3",
   "version": "3.7.4"
  }
 },
 "nbformat": 4,
 "nbformat_minor": 1
}
