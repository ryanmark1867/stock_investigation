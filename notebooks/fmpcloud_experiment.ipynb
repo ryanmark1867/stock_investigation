{
 "cells": [
  {
   "cell_type": "markdown",
   "metadata": {},
   "source": [
    "# fmpcloud experiment"
   ]
  },
  {
   "cell_type": "markdown",
   "metadata": {},
   "source": [
    "# features to capture:\n",
    "Here are the features on the Stock Rover \"green\" list per https://docs.google.com/spreadsheets/d/1jMmuflqpveTfBswU3MiritbpBr7T4RUO/edit#gid=617176042\n",
    "- price (closing) DONE\n",
    "- revenue - quarterly - SEE BELOW\n",
    "- net income (earnings) - quarterly (named in fmp) - SAME AS PROFIT? - SEE BELOW\n",
    "- diluted EPS - quarterly - SEE BELOW\n",
    "- operating income - quarterly (named in fmp) - SAME AS OPERATING INCOME LOSS? - SEE BELOW\n",
    "- dividends - ongoing (named in fmp) - SEE BELOW\n",
    "- cash flow per share - ongoing - CAN'T FIND IT"
   ]
  },
  {
   "cell_type": "code",
   "execution_count": 25,
   "metadata": {},
   "outputs": [],
   "source": [
    "import os\n",
    "import yaml\n",
    "from datetime import date\n",
    "import requests\n",
    "config_file = 'model_training_config.yml'"
   ]
  },
  {
   "cell_type": "code",
   "execution_count": 26,
   "metadata": {},
   "outputs": [
    {
     "name": "stdout",
     "output_type": "stream",
     "text": [
      "current directory is: C:\\personal\\karma_stocks_2021\\stock_investigation\\notebooks\n",
      "path_to_yaml C:\\personal\\karma_stocks_2021\\stock_investigation\\notebooks\\model_training_config.yml\n"
     ]
    }
   ],
   "source": [
    "# load config file\n",
    "current_path = os.getcwd()\n",
    "print(\"current directory is: \"+current_path)\n",
    "\n",
    "path_to_yaml = os.path.join(current_path, config_file)\n",
    "print(\"path_to_yaml \"+path_to_yaml)\n",
    "try:\n",
    "    with open (path_to_yaml, 'r') as c_file:\n",
    "        config = yaml.safe_load(c_file)\n",
    "except Exception as e:\n",
    "    print('Error reading the config file')"
   ]
  },
  {
   "cell_type": "code",
   "execution_count": 27,
   "metadata": {},
   "outputs": [],
   "source": [
    "fmpcloud_key = config['general']['fmpcloud_key']"
   ]
  },
  {
   "cell_type": "code",
   "execution_count": 28,
   "metadata": {},
   "outputs": [
    {
     "name": "stdout",
     "output_type": "stream",
     "text": [
      "Company Profile: [{'symbol': 'AAPL', 'price': 137.27, 'beta': 1.208152, 'volAvg': 82668211, 'mktCap': 2290706808832, 'lastDiv': 0.835, 'range': '89.145-145.09', 'changes': 0.31, 'companyName': 'Apple Inc.', 'currency': 'USD', 'cik': '0000320193', 'isin': 'US0378331005', 'cusip': '037833100', 'exchange': 'Nasdaq Global Select', 'exchangeShortName': 'NASDAQ', 'industry': 'Consumer Electronics', 'website': 'http://www.apple.com', 'description': 'Apple Inc. designs, manufactures, and markets smartphones, personal computers, tablets, wearables, and accessories worldwide. It also sells various related services. The company offers iPhone, a line of smartphones; Mac, a line of personal computers; iPad, a line of multi-purpose tablets; and wearables, home, and accessories comprising AirPods, Apple TV, Apple Watch, Beats products, HomePod, iPod touch, and other Apple-branded and third-party accessories. It also provides AppleCare support services; cloud services store services; and operates various platforms, including the App Store, that allow customers to discover and download applications and digital content, such as books, music, video, games, and podcasts. In addition, the company offers various services, such as Apple Arcade, a game subscription service; Apple Music, which offers users a curated listening experience with on-demand radio stations; Apple News+, a subscription news and magazine service; Apple TV+, which offers exclusive original content; Apple Card, a co-branded credit card; and Apple Pay, a cashless payment service, as well as licenses its intellectual property. The company serves consumers, and small and mid-sized businesses; and the education, enterprise, and government markets. It sells and delivers third-party applications for its products through the App Store. The company also sells its products through its retail and online stores, and direct sales force; and third-party cellular network carriers, wholesalers, retailers, and resellers. Apple Inc. was founded in 1977 and is headquartered in Cupertino, California.', 'ceo': 'Mr. Timothy Cook', 'sector': 'Technology', 'country': 'US', 'fullTimeEmployees': '100000', 'phone': '14089961010', 'address': '1 Apple Park Way', 'city': 'Cupertino', 'state': 'CALIFORNIA', 'zip': '95014', 'dcfDiff': 89.92, 'dcf': 139.129, 'image': 'https://financialmodelingprep.com/image-stock/AAPL.png', 'ipoDate': '1980-12-12', 'defaultImage': False, 'isEtf': False, 'isActivelyTrading': True}]\n"
     ]
    }
   ],
   "source": [
    "import os\n",
    "#from dotenv import load_dotenv\n",
    "import typing\n",
    "import fmpsdk\n",
    "\n",
    "# Actual API key is stored in a .env file.  Not good to store API key directly in script.\n",
    "#load_dotenv()\n",
    "apikey = fmpcloud_key\n",
    "\n",
    "# Company Valuation Methods\n",
    "symbol: str = \"AAPL\"\n",
    "symbols: typing.List[str] = [\"AAPL\", \"CSCO\", \"QQQQ\"]\n",
    "exchange: str = \"NYSE\"\n",
    "exchanges: typing.List[str] = [\"NYSE\", \"NASDAQ\"]\n",
    "query: str = \"AA\"\n",
    "limit: int = 3\n",
    "period: str = \"quarter\"\n",
    "download: bool = True\n",
    "market_cap_more_than: int = 1000000000\n",
    "beta_more_than: int = 1\n",
    "volume_more_than: int = 10000\n",
    "sector: str = \"Technology\"\n",
    "dividend_more_than: int = 0\n",
    "industry: str = \"Software\"\n",
    "filing_type: str = \"10-K\"\n",
    "print(f\"Company Profile: {fmpsdk.company_profile(apikey=apikey, symbol=symbol)}\")\n",
    "\n"
   ]
  },
  {
   "cell_type": "markdown",
   "metadata": {},
   "source": [
    "# Revenue\n",
    "- for the most recent years, annual income statement doesn't include \"revenue\" just \"revenuefromcontractwithcustomerexcludingassessedtax\"\n",
    "- value for this feature is ~ \\\\$220 B for 2020, while this [source](https://www.statista.com/statistics/265125/total-net-sales-of-apple-since-2004/) says \\\\$270 B revenue for 2020 "
   ]
  },
  {
   "cell_type": "code",
   "execution_count": 29,
   "metadata": {},
   "outputs": [
    {
     "name": "stdout",
     "output_type": "stream",
     "text": [
      "revenue for ticker  AAPL  on date  2021-03-27  is  26036000000.0\n"
     ]
    }
   ],
   "source": [
    "\n",
    "#annual_income_statement = fmpsdk.income_statement_as_reported(apikey=apikey, symbol=symbol)\n",
    "income_statement = fmpsdk.income_statement_as_reported(apikey=apikey, symbol=symbol, period=period)\n",
    "#print(\"revenue value for ticker \",symbol,\" on date \",income_statement[0]['date'])\n",
    "print(\"revenue for ticker \",symbol,\" on date \",income_statement[0]['date'],\" is \",income_statement[0]['revenuefromcontractwithcustomerexcludingassessedtax'])"
   ]
  },
  {
   "cell_type": "markdown",
   "metadata": {},
   "source": [
    "# Profit\n",
    "- is this a proxy for earnings?"
   ]
  },
  {
   "cell_type": "code",
   "execution_count": 30,
   "metadata": {},
   "outputs": [
    {
     "name": "stdout",
     "output_type": "stream",
     "text": [
      "gross profit for ticker  AAPL  on date  2021-03-27  is  28555000000.0\n"
     ]
    }
   ],
   "source": [
    "print(\"gross profit for ticker \",symbol,\" on date \",income_statement[0]['date'],\" is \",income_statement[0]['grossprofit'])"
   ]
  },
  {
   "cell_type": "markdown",
   "metadata": {},
   "source": [
    "# EPS diluted"
   ]
  },
  {
   "cell_type": "code",
   "execution_count": 31,
   "metadata": {},
   "outputs": [
    {
     "name": "stdout",
     "output_type": "stream",
     "text": [
      "EPS diluted for ticker  AAPL  on date  2021-03-27  is  -3.58\n"
     ]
    }
   ],
   "source": [
    "print(\"EPS diluted for ticker \",symbol,\" on date \",income_statement[0]['date'],\" is \",income_statement[0]['earningspersharediluted'])"
   ]
  },
  {
   "cell_type": "markdown",
   "metadata": {},
   "source": [
    "# Operating income \n",
    "- operating income loss\n",
    "- non-operating income expense"
   ]
  },
  {
   "cell_type": "code",
   "execution_count": 32,
   "metadata": {},
   "outputs": [
    {
     "name": "stdout",
     "output_type": "stream",
     "text": [
      "operating income loss for ticker  AAPL  on date  2021-03-27  is  24276000000.0\n",
      "non-operating income expense for ticker  AAPL  on date  2021-03-27  is  -385000000.0\n"
     ]
    }
   ],
   "source": [
    "print(\"operating income loss for ticker \",symbol,\" on date \",income_statement[0]['date'],\" is \",income_statement[0]['operatingincomeloss'])\n",
    "print(\"non-operating income expense for ticker \",symbol,\" on date \",income_statement[0]['date'],\" is \",income_statement[0]['nonoperatingincomeexpense'])"
   ]
  },
  {
   "cell_type": "markdown",
   "metadata": {},
   "source": [
    "# Dividend\n",
    "- return most recent dividend value for ticker \"symbol\""
   ]
  },
  {
   "cell_type": "code",
   "execution_count": 33,
   "metadata": {},
   "outputs": [
    {
     "name": "stdout",
     "output_type": "stream",
     "text": [
      "dividend for ticker  AAPL  on date  2021-05-07  is  0.22\n"
     ]
    }
   ],
   "source": [
    "historical_dividends = fmpsdk.historical_stock_dividend(apikey=apikey, symbol=symbol)\n",
    "#print(f\"Historical Dividends: {fmpsdk.historical_stock_dividend(apikey=apikey, symbol=symbol)}\")\n",
    "#print(\"historical_dividends historical[0]: \",historical_dividends['historical'][0])\n",
    "print(\"dividend for ticker \",symbol,\" on date \",historical_dividends['historical'][0]['date'],\" is \",historical_dividends['historical'][0]['dividend'])"
   ]
  },
  {
   "cell_type": "markdown",
   "metadata": {},
   "source": [
    "# Quarterly cash flow\n"
   ]
  },
  {
   "cell_type": "code",
   "execution_count": 34,
   "metadata": {},
   "outputs": [
    {
     "name": "stdout",
     "output_type": "stream",
     "text": [
      "cash_flow output  [{'date': '2021-03-27', 'symbol': 'AAPL', 'reportedCurrency': 'USD', 'fillingDate': '2021-04-29', 'acceptedDate': '2021-04-28 18:02:54', 'period': 'Q2', 'netIncome': 23630000000, 'depreciationAndAmortization': 2797000000, 'deferredIncomeTax': -149000000, 'stockBasedCompensation': 1981000000, 'changeInWorkingCapital': -3779000000, 'accountsReceivables': 8598000000, 'inventory': -276000000, 'accountsPayables': -23667000000, 'otherWorkingCapital': 301000000, 'otherNonCashItems': -499000000, 'netCashProvidedByOperatingActivities': 23981000000, 'investmentsInPropertyPlantAndEquipment': -2269000000, 'acquisitionsNet': 0.0, 'purchasesOfInvestments': -34624000000, 'salesMaturitiesOfInvestments': 26729000000, 'otherInvestingActivites': 0.0, 'netCashUsedForInvestingActivites': -10368000000, 'debtRepayment': -3500000000, 'commonStockIssued': 561000000, 'commonStockRepurchased': -18548000000, 'dividendsPaid': -3447000000, 'otherFinancingActivites': -315000000, 'netCashUsedProvidedByFinancingActivities': -11326000000, 'effectOfForexChangesOnCash': 0.0, 'netChangeInCash': 2287000000, 'cashAtEndOfPeriod': 40006000000, 'cashAtBeginningOfPeriod': 37719000000, 'operatingCashFlow': 23981000000, 'capitalExpenditure': -2269000000, 'freeCashFlow': 21712000000, 'link': 'https://www.sec.gov/Archives/edgar/data/320193/000032019321000056/0000320193-21-000056-index.htm', 'finalLink': 'https://www.sec.gov/Archives/edgar/data/320193/000032019321000056/aapl-20210327.htm'}, {'date': '2020-12-26', 'symbol': 'AAPL', 'reportedCurrency': 'USD', 'fillingDate': '2021-01-28', 'acceptedDate': '2021-01-27 18:03:06', 'period': 'Q1', 'netIncome': 28755000000, 'depreciationAndAmortization': 2666000000, 'deferredIncomeTax': -58000000, 'stockBasedCompensation': 2020000000, 'changeInWorkingCapital': 5355000000, 'accountsReceivables': -10945000000, 'inventory': -950000000, 'accountsPayables': 21670000000, 'otherWorkingCapital': 1341000000, 'otherNonCashItems': 25000000, 'netCashProvidedByOperatingActivities': 38763000000, 'investmentsInPropertyPlantAndEquipment': -3500000000, 'acquisitionsNet': 0.0, 'purchasesOfInvestments': -39800000000, 'salesMaturitiesOfInvestments': 34521000000, 'otherInvestingActivites': 204000000, 'netCashUsedForInvestingActivites': -8584000000, 'debtRepayment': -1000000000, 'commonStockIssued': 0.0, 'commonStockRepurchased': -24775000000, 'dividendsPaid': -3613000000, 'otherFinancingActivites': -2883000000, 'netCashUsedProvidedByFinancingActivities': -32249000000, 'effectOfForexChangesOnCash': 0.0, 'netChangeInCash': -2070000000, 'cashAtEndOfPeriod': 37719000000, 'cashAtBeginningOfPeriod': 39789000000, 'operatingCashFlow': 38763000000, 'capitalExpenditure': -3500000000, 'freeCashFlow': 35263000000, 'link': 'https://www.sec.gov/Archives/edgar/data/320193/000032019321000010/0000320193-21-000010-index.htm', 'finalLink': 'https://www.sec.gov/Archives/edgar/data/320193/000032019321000010/aapl-20201226.htm'}, {'date': '2020-09-26', 'symbol': 'AAPL', 'reportedCurrency': 'USD', 'fillingDate': '2020-10-30', 'acceptedDate': '2020-10-29 18:06:25', 'period': 'Q4', 'netIncome': 12673000000, 'depreciationAndAmortization': 2702000000, 'deferredIncomeTax': -397000000, 'stockBasedCompensation': 1724000000, 'changeInWorkingCapital': -6426000000, 'accountsReceivables': 1768000000, 'inventory': -137000000, 'accountsPayables': 6725000000, 'otherWorkingCapital': 38321000000, 'otherNonCashItems': -3000000.0, 'netCashProvidedByOperatingActivities': 20576000000, 'investmentsInPropertyPlantAndEquipment': -1784000000, 'acquisitionsNet': -1515000000, 'purchasesOfInvestments': -18332000000, 'salesMaturitiesOfInvestments': 25800000000, 'otherInvestingActivites': -102000000, 'netCashUsedForInvestingActivites': 5531000000, 'debtRepayment': 0.0, 'commonStockIssued': 450000000, 'commonStockRepurchased': -17187000000, 'dividendsPaid': -3511000000, 'otherFinancingActivites': -406000000, 'netCashUsedProvidedByFinancingActivities': -21357000000, 'effectOfForexChangesOnCash': 0.0, 'netChangeInCash': 4750000000, 'cashAtEndOfPeriod': 39789000000, 'cashAtBeginningOfPeriod': 35039000000, 'operatingCashFlow': 20576000000, 'capitalExpenditure': -1784000000, 'freeCashFlow': 18792000000, 'link': 'https://www.sec.gov/Archives/edgar/data/320193/000032019320000096/0000320193-20-000096-index.htm', 'finalLink': 'https://www.sec.gov/Archives/edgar/data/320193/000032019320000096/aapl-20200926.htm'}, {'date': '2020-06-27', 'symbol': 'AAPL', 'reportedCurrency': 'USD', 'fillingDate': '2020-07-31', 'acceptedDate': '2020-07-30 19:29:09', 'period': 'Q3', 'netIncome': 11253000000, 'depreciationAndAmortization': 2752000000, 'deferredIncomeTax': 833000000, 'stockBasedCompensation': 1698000000, 'changeInWorkingCapital': -2912000000, 'accountsReceivables': -2135000000, 'inventory': -689000000, 'accountsPayables': 2733000000, 'otherWorkingCapital': 44747000000, 'otherNonCashItems': 165000000, 'netCashProvidedByOperatingActivities': 16271000000, 'investmentsInPropertyPlantAndEquipment': -1565000000, 'acquisitionsNet': 0.0, 'purchasesOfInvestments': -30181000000, 'salesMaturitiesOfInvestments': 27183000000, 'otherInvestingActivites': -263000000, 'netCashUsedForInvestingActivites': -5165000000, 'debtRepayment': -7379000000, 'commonStockIssued': 0.0, 'commonStockRepurchased': -15891000000, 'dividendsPaid': -3656000000, 'otherFinancingActivites': -1737000000, 'netCashUsedProvidedByFinancingActivities': -19116000000, 'effectOfForexChangesOnCash': 0.0, 'netChangeInCash': -8010000000, 'cashAtEndOfPeriod': 35039000000, 'cashAtBeginningOfPeriod': 43049000000, 'operatingCashFlow': 16271000000, 'capitalExpenditure': -1565000000, 'freeCashFlow': 14706000000, 'link': 'https://www.sec.gov/Archives/edgar/data/320193/000032019320000062/0000320193-20-000062-index.htm', 'finalLink': 'https://www.sec.gov/Archives/edgar/data/320193/000032019320000062/aapl-20200627.htm'}, {'date': '2020-03-28', 'symbol': 'AAPL', 'reportedCurrency': 'USD', 'fillingDate': '2020-05-01 00:00:00', 'acceptedDate': '2020-04-30 18:03:10', 'period': 'Q2', 'netIncome': 11249000000, 'depreciationAndAmortization': 2786000000, 'deferredIncomeTax': -302000000, 'stockBasedCompensation': 1697000000, 'changeInWorkingCapital': -13411000000, 'accountsReceivables': 5269000000, 'inventory': 727000000, 'accountsPayables': -12431000000, 'otherWorkingCapital': 47659000000, 'otherNonCashItems': -117000000, 'netCashProvidedByOperatingActivities': 13311000000, 'investmentsInPropertyPlantAndEquipment': -1853000000, 'acquisitionsNet': 0.0, 'purchasesOfInvestments': -29142000000, 'salesMaturitiesOfInvestments': 40480000000, 'otherInvestingActivites': -296000000, 'netCashUsedForInvestingActivites': 9013000000, 'debtRepayment': -4250000000, 'commonStockIssued': 428000000, 'commonStockRepurchased': -18574000000, 'dividendsPaid': -3375000000, 'otherFinancingActivites': -222000000, 'netCashUsedProvidedByFinancingActivities': -20940000000, 'effectOfForexChangesOnCash': 0.0, 'netChangeInCash': 1384000000, 'cashAtEndOfPeriod': 43049000000, 'cashAtBeginningOfPeriod': 41665000000, 'operatingCashFlow': 13311000000, 'capitalExpenditure': -1853000000, 'freeCashFlow': 11458000000, 'link': 'https://www.sec.gov/Archives/edgar/data/320193/000032019320000052/0000320193-20-000052-index.html', 'finalLink': 'https://www.sec.gov/Archives/edgar/data/320193/000032019320000052/a10-qq220203282020.htm'}, {'date': '2019-12-28', 'symbol': 'AAPL', 'reportedCurrency': 'USD', 'fillingDate': '2020-01-29 00:00:00', 'acceptedDate': '2020-01-28 18:02:44', 'period': 'Q1', 'netIncome': 22236000000, 'depreciationAndAmortization': 2816000000, 'deferredIncomeTax': -349000000, 'stockBasedCompensation': 1710000000, 'changeInWorkingCapital': 3969000000, 'accountsReceivables': 2015000000, 'inventory': -28000000, 'accountsPayables': -1089000000, 'otherWorkingCapital': 61070000000, 'otherNonCashItems': -142000000, 'netCashProvidedByOperatingActivities': 30516000000, 'investmentsInPropertyPlantAndEquipment': -2107000000, 'acquisitionsNet': 0.0, 'purchasesOfInvestments': -37493000000, 'salesMaturitiesOfInvestments': 27020000000, 'otherInvestingActivites': -130000000, 'netCashUsedForInvestingActivites': -13668000000, 'debtRepayment': -1000000000, 'commonStockIssued': 2000000.0, 'commonStockRepurchased': -20706000000, 'dividendsPaid': -3539000000, 'otherFinancingActivites': -1395000000, 'netCashUsedProvidedByFinancingActivities': -25407000000, 'effectOfForexChangesOnCash': 0.0, 'netChangeInCash': -8559000000, 'cashAtEndOfPeriod': 41665000000, 'cashAtBeginningOfPeriod': 50224000000, 'operatingCashFlow': 30516000000, 'capitalExpenditure': -2107000000, 'freeCashFlow': 28409000000, 'link': 'https://www.sec.gov/Archives/edgar/data/320193/000032019320000010/0000320193-20-000010-index.html', 'finalLink': 'https://www.sec.gov/Archives/edgar/data/320193/000032019320000010/a10-qq1202012282019.htm'}, {'date': '2019-09-28', 'symbol': 'AAPL', 'reportedCurrency': 'USD', 'fillingDate': '2019-10-31 00:00:00', 'acceptedDate': '2019-10-30 18:12:36', 'period': 'Q4', 'netIncome': 13686000000, 'depreciationAndAmortization': 3179000000, 'deferredIncomeTax': -302000000, 'stockBasedCompensation': 1499000000, 'changeInWorkingCapital': 11832000000, 'accountsReceivables': -8768000000, 'inventory': -785000000, 'accountsPayables': 17881000000, 'otherWorkingCapital': 57101000000, 'otherNonCashItems': -312000000, 'netCashProvidedByOperatingActivities': 19910000000, 'investmentsInPropertyPlantAndEquipment': -2777000000, 'acquisitionsNet': 0.0, 'purchasesOfInvestments': -18097000000, 'salesMaturitiesOfInvestments': 20899000000, 'otherInvestingActivites': -810000000, 'netCashUsedForInvestingActivites': -798000000, 'debtRepayment': -3305000000, 'commonStockIssued': 390000000, 'commonStockRepurchased': -17444000000, 'dividendsPaid': -3479000000, 'otherFinancingActivites': -213000000, 'netCashUsedProvidedByFinancingActivities': -21039000000, 'effectOfForexChangesOnCash': 0.0, 'netChangeInCash': -1927000000, 'cashAtEndOfPeriod': 50224000000, 'cashAtBeginningOfPeriod': 52151000000, 'operatingCashFlow': 19910000000, 'capitalExpenditure': -2777000000, 'freeCashFlow': 17133000000, 'link': 'https://www.sec.gov/Archives/edgar/data/320193/000032019319000119/0000320193-19-000119-index.html', 'finalLink': 'https://www.sec.gov/Archives/edgar/data/320193/000032019319000119/a10-k20199282019.htm'}, {'date': '2019-06-29', 'symbol': 'AAPL', 'reportedCurrency': 'USD', 'fillingDate': '2019-07-31', 'acceptedDate': '2019-07-31 16:31:53', 'period': 'Q3', 'netIncome': 10044000000, 'depreciationAndAmortization': 2933000000, 'deferredIncomeTax': 86000000, 'stockBasedCompensation': 1496000000, 'changeInWorkingCapital': 15695000000, 'accountsReceivables': 919000000, 'inventory': 1502000000, 'accountsPayables': 220000000, 'otherWorkingCapital': 45269000000, 'otherNonCashItems': -125000000, 'netCashProvidedByOperatingActivities': 11636000000, 'investmentsInPropertyPlantAndEquipment': -2000000000, 'acquisitionsNet': 0.0, 'purchasesOfInvestments': -8190000000, 'salesMaturitiesOfInvestments': 38310000000, 'otherInvestingActivites': -298000000, 'netCashUsedForInvestingActivites': 27502000000, 'debtRepayment': -3000000000, 'commonStockIssued': 1000000.0, 'commonStockRepurchased': -16955000000, 'dividendsPaid': -3629000000, 'otherFinancingActivites': -1195000000, 'netCashUsedProvidedByFinancingActivities': -26804000000, 'effectOfForexChangesOnCash': 0.0, 'netChangeInCash': 12334000000, 'cashAtEndOfPeriod': 52151000000, 'cashAtBeginningOfPeriod': 39817000000, 'operatingCashFlow': 11636000000, 'capitalExpenditure': -2000000000, 'freeCashFlow': 9636000000, 'link': 'https://www.sec.gov/Archives/edgar/data/320193/000032019319000076/a10-qq320196292019.htm', 'finalLink': 'https://www.sec.gov/Archives/edgar/data/320193/000032019319000076/a10-qq320196292019.htm'}, {'date': '2019-03-30', 'symbol': 'AAPL', 'reportedCurrency': 'USD', 'fillingDate': '2019-05-01 00:00:00', 'acceptedDate': '2019-05-01 16:32:00', 'period': 'Q2', 'netIncome': 11561000000, 'depreciationAndAmortization': 3040000000, 'deferredIncomeTax': -177000000, 'stockBasedCompensation': 1514000000, 'changeInWorkingCapital': -2971000000, 'accountsReceivables': 2964000000, 'inventory': 70000000, 'accountsPayables': -11523000000, 'otherWorkingCapital': 29574000000, 'otherNonCashItems': 1353000000, 'netCashProvidedByOperatingActivities': 11155000000, 'investmentsInPropertyPlantAndEquipment': -2363000000, 'acquisitionsNet': -124000000, 'purchasesOfInvestments': -30479000000, 'salesMaturitiesOfInvestments': 22589000000, 'otherInvestingActivites': 23725000000, 'netCashUsedForInvestingActivites': 13348000000, 'debtRepayment': -2500000000, 'commonStockIssued': 390000000, 'commonStockRepurchased': -23312000000, 'dividendsPaid': -3443000000, 'otherFinancingActivites': -202000000, 'netCashUsedProvidedByFinancingActivities': -29457000000, 'effectOfForexChangesOnCash': 0.0, 'netChangeInCash': -4954000000, 'cashAtEndOfPeriod': 39817000000, 'cashAtBeginningOfPeriod': 44771000000, 'operatingCashFlow': 11155000000, 'capitalExpenditure': -2363000000, 'freeCashFlow': 8792000000, 'link': 'https://www.sec.gov/Archives/edgar/data/320193/000032019319000066/0000320193-19-000066-index.html', 'finalLink': 'https://www.sec.gov/Archives/edgar/data/320193/000032019319000066/a10-qq220193302019.htm'}, {'date': '2018-12-29', 'symbol': 'AAPL', 'reportedCurrency': 'USD', 'fillingDate': '2019-01-30 00:00:00', 'acceptedDate': '2019-01-30 16:31:37', 'period': 'Q1', 'netIncome': 19965000000, 'depreciationAndAmortization': 3395000000, 'deferredIncomeTax': 53000000, 'stockBasedCompensation': 1559000000, 'changeInWorkingCapital': 18072000000, 'accountsReceivables': 5130000000, 'inventory': -1076000000, 'accountsPayables': -8501000000, 'otherWorkingCapital': 32545000000, 'otherNonCashItems': -54000000, 'netCashProvidedByOperatingActivities': 26690000000, 'investmentsInPropertyPlantAndEquipment': -3355000000, 'acquisitionsNet': 0.0, 'purchasesOfInvestments': -7504000000, 'salesMaturitiesOfInvestments': 16926000000, 'otherInvestingActivites': -56000000, 'netCashUsedForInvestingActivites': 5844000000, 'debtRepayment': 0.0, 'commonStockIssued': 0.0, 'commonStockRepurchased': -8796000000, 'dividendsPaid': -3568000000, 'otherFinancingActivites': -1318000000, 'netCashUsedProvidedByFinancingActivities': -13676000000, 'effectOfForexChangesOnCash': 0.0, 'netChangeInCash': 18858000000, 'cashAtEndOfPeriod': 44771000000, 'cashAtBeginningOfPeriod': 25913000000, 'operatingCashFlow': 26690000000, 'capitalExpenditure': -3355000000, 'freeCashFlow': 23335000000, 'link': 'https://www.sec.gov/Archives/edgar/data/320193/000032019319000010/0000320193-19-000010-index.html', 'finalLink': 'https://www.sec.gov/Archives/edgar/data/320193/000032019319000010/a10-qq1201912292018.htm'}]\n"
     ]
    }
   ],
   "source": [
    "cash_flow = fmpsdk.cash_flow_statement(apikey=apikey, symbol=symbol, period=period)\n",
    "print(\"cash_flow output \", cash_flow)"
   ]
  },
  {
   "cell_type": "markdown",
   "metadata": {},
   "source": [
    "# Detailed report and background"
   ]
  },
  {
   "cell_type": "code",
   "execution_count": 35,
   "metadata": {},
   "outputs": [
    {
     "name": "stdout",
     "output_type": "stream",
     "text": [
      "Annual Income Statement as Reported : [{'date': '2020-09-26', 'symbol': 'AAPL', 'period': 'FY', 'costofgoodsandservicessold': 151286000000.0, 'netincomeloss': 57411000000.0, 'researchanddevelopmentexpense': 18752000000.0, 'grossprofit': 104956000000.0, 'othercomprehensiveincomelossreclassificationadjustmentfromaociforsaleofsecuritiesnetoftax': 63000000.0, 'othercomprehensiveincomelossavailableforsalesecuritiesadjustmentnetoftax': 1139000000.0, 'othercomprehensiveincomelossderivativeinstrumentgainlossbeforereclassificationaftertax': 79000000.0, 'othercomprehensiveincomelossforeigncurrencytransactionandtranslationadjustmentnetoftax': 88000000.0, 'weightedaveragenumberofdilutedsharesoutstanding': 17528214000.0, 'weightedaveragenumberofsharesoutstandingbasic': 17352119000.0, 'operatingincomeloss': 66288000000.0, 'incomelossfromcontinuingoperationsbeforeincometaxesextraordinaryitemsnoncontrollinginterest': 67091000000.0, 'earningspersharebasic': 3.31, 'incometaxexpensebenefit': 9680000000.0, 'othercomprehensiveincomelosscashflowhedgegainlossreclassificationaftertax': 1264000000.0, 'othercomprehensiveincomeunrealizedholdinggainlossonsecuritiesarisingduringperiodnetoftax': 1202000000.0, 'revenuefromcontractwithcustomerexcludingassessedtax': 220747000000.0, 'nonoperatingincomeexpense': 803000000.0, 'earningspersharediluted': 3.28, 'operatingexpenses': 38668000000.0, 'othercomprehensiveincomelossderivativeinstrumentgainlossafterreclassificationandtax': -1185000000.0, 'sellinggeneralandadministrativeexpense': 19916000000.0, 'othercomprehensiveincomelossnetoftaxportionattributabletoparent': 42000000.0, 'comprehensiveincomenetoftax': 57453000000.0}, {'date': '2019-09-28', 'symbol': 'AAPL', 'period': 'FY', 'costofgoodsandservicessold': 161782000000.0, 'netincomeloss': 55256000000.0, 'researchanddevelopmentexpense': 16217000000.0, 'grossprofit': 98392000000.0, 'othercomprehensiveincomelossreclassificationadjustmentfromaociforsaleofsecuritiesnetoftax': -25000000.0, 'othercomprehensiveincomelossavailableforsalesecuritiesadjustmentnetoftax': 3827000000.0, 'othercomprehensiveincomelossderivativesqualifyingashedgesnetoftax': -638000000.0, 'othercomprehensiveincomelossforeigncurrencytransactionandtranslationadjustmentnetoftax': -408000000.0, 'weightedaveragenumberofdilutedsharesoutstanding': 4648913000.0, 'weightedaveragenumberofsharesoutstandingbasic': 4617834000.0, 'othercomprehensiveincomeunrealizedgainlossonderivativesarisingduringperiodnetoftax': -661000000.0, 'operatingincomeloss': 63930000000.0, 'othercomprehensiveincomelossreclassificationadjustmentfromaocionderivativesnetoftax': -23000000.0, 'incomelossfromcontinuingoperationsbeforeincometaxesextraordinaryitemsnoncontrollinginterest': 65737000000.0, 'earningspersharebasic': 11.97, 'incometaxexpensebenefit': 10481000000.0, 'othercomprehensiveincomeunrealizedholdinggainlossonsecuritiesarisingduringperiodnetoftax': 3802000000.0, 'revenuefromcontractwithcustomerexcludingassessedtax': 260174000000.0, 'nonoperatingincomeexpense': 1807000000.0, 'earningspersharediluted': 11.89, 'operatingexpenses': 34462000000.0, 'sellinggeneralandadministrativeexpense': 18245000000.0, 'othercomprehensiveincomelossnetoftaxportionattributabletoparent': 2781000000.0, 'comprehensiveincomenetoftax': 58037000000.0}, {'date': '2018-09-29', 'symbol': 'AAPL', 'period': 'FY', 'costofgoodsandservicessold': 163756000000.0, 'netincomeloss': 59531000000.0, 'researchanddevelopmentexpense': 14236000000.0, 'othercomprehensiveincomelossforeigncurrencytranslationadjustmenttax': 1000000.0, 'grossprofit': 101839000000.0, 'othercomprehensiveincomelossreclassificationadjustmentfromaociforsaleofsecuritiesnetoftax': -1000000.0, 'othercomprehensiveincomelossavailableforsalesecuritiesadjustmentnetoftax': -3406000000.0, 'othercomprehensiveincomelossderivativesqualifyingashedgesnetoftax': 905000000.0, 'othercomprehensiveincomelossforeigncurrencytransactionandtranslationadjustmentnetoftax': -525000000.0, 'weightedaveragenumberofdilutedsharesoutstanding': 5000109000.0, 'weightedaveragenumberofsharesoutstandingbasic': 4955377000.0, 'othercomprehensiveincomeunrealizedgainlossonderivativesarisingduringperiodnetoftax': 523000000.0, 'operatingincomeloss': 70898000000.0, 'othercomprehensiveincomeunrealizedholdinggainlossonsecuritiesarisingduringperiodtax': -1156000000.0, 'incomelossfromcontinuingoperationsbeforeincometaxesextraordinaryitemsnoncontrollinginterest': 72903000000.0, 'earningspersharebasic': 12.01, 'incometaxexpensebenefit': 13372000000.0, 'othercomprehensiveincomeunrealizedholdinggainlossonsecuritiesarisingduringperiodnetoftax': -3407000000.0, 'nonoperatingincomeexpense': 2005000000.0, 'othercomprehensiveincomelossreclassificationadjustmentfromaocionderivativestax': -104000000.0, 'earningspersharediluted': 11.91, 'operatingexpenses': 30941000000.0, 'othercomprehensiveincomelossreclassificationadjustmentfromaocionderivativesnetoftax': -382000000.0, 'othercomprehensiveincomeunrealizedgainlossonderivativesarisingduringperiodtax': 149000000.0, 'sellinggeneralandadministrativeexpense': 16705000000.0, 'othercomprehensiveincomelossreclassificationadjustmentfromaociforsaleofsecuritiestax': 21000000.0, 'othercomprehensiveincomelossnetoftaxportionattributabletoparent': -3026000000.0, 'revenues': 265595000000.0, 'comprehensiveincomenetoftax': 56505000000.0}, {'date': '2017-09-30', 'symbol': 'AAPL', 'period': 'FY', 'costofgoodsandservicessold': 141048000000.0, 'netincomeloss': 48351000000.0, 'researchanddevelopmentexpense': 11581000000.0, 'othercomprehensiveincomelossforeigncurrencytranslationadjustmenttax': 77000000.0, 'grossprofit': 88186000000.0, 'othercomprehensiveincomelossreclassificationadjustmentfromaociforsaleofsecuritiesnetoftax': 64000000.0, 'othercomprehensiveincomelossavailableforsalesecuritiesadjustmentnetoftax': -846000000.0, 'othercomprehensiveincomelossderivativesqualifyingashedgesnetoftax': -162000000.0, 'othercomprehensiveincomelossforeigncurrencytransactionandtranslationadjustmentnetoftax': 224000000.0, 'weightedaveragenumberofdilutedsharesoutstanding': 5251692000.0, 'weightedaveragenumberofsharesoutstandingbasic': 5217242000.0, 'othercomprehensiveincomeunrealizedgainlossonderivativesarisingduringperiodnetoftax': 1315000000.0, 'operatingincomeloss': 61344000000.0, 'othercomprehensiveincomeunrealizedholdinggainlossonsecuritiesarisingduringperiodtax': -425000000.0, 'incomelossfromcontinuingoperationsbeforeincometaxesextraordinaryitemsnoncontrollinginterest': 64089000000.0, 'earningspersharebasic': 9.27, 'commonstockdividendspersharedeclared': 2.4, 'incometaxexpensebenefit': 15738000000.0, 'salesrevenuenet': 229234000000.0, 'othercomprehensiveincomeunrealizedholdinggainlossonsecuritiesarisingduringperiodnetoftax': -782000000.0, 'nonoperatingincomeexpense': 2745000000.0, 'othercomprehensiveincomelossreclassificationadjustmentfromaocionderivativestax': 475000000.0, 'earningspersharediluted': 9.21, 'operatingexpenses': 26842000000.0, 'othercomprehensiveincomelossreclassificationadjustmentfromaocionderivativesnetoftax': 1477000000.0, 'othercomprehensiveincomeunrealizedgainlossonderivativesarisingduringperiodtax': 478000000.0, 'sellinggeneralandadministrativeexpense': 15261000000.0, 'othercomprehensiveincomelossreclassificationadjustmentfromaociforsaleofsecuritiestax': 35000000.0, 'othercomprehensiveincomelossnetoftaxportionattributabletoparent': -784000000.0, 'comprehensiveincomenetoftax': 47567000000.0}, {'date': '2016-09-24', 'symbol': 'AAPL', 'period': 'FY', 'costofgoodsandservicessold': 131376000000.0, 'netincomeloss': 45687000000.0, 'researchanddevelopmentexpense': 10045000000.0, 'othercomprehensiveincomelossforeigncurrencytranslationadjustmenttax': 8000000.0, 'grossprofit': 84263000000.0, 'othercomprehensiveincomelossreclassificationadjustmentfromaociforsaleofsecuritiesnetoftax': -56000000.0, 'othercomprehensiveincomelossnetoftax': 979000000.0, 'othercomprehensiveincomeunrealizedholdinggainlossonsecuritiesarisingduringperiodtax': 863000000.0, 'othercomprehensiveincomelossforeigncurrencytransactionandtranslationadjustmentnetoftax': 75000000.0, 'weightedaveragenumberofdilutedsharesoutstanding': 5500281000.0, 'weightedaveragenumberofsharesoutstandingbasic': 5470820000.0, 'othercomprehensiveincomeunrealizedgainlossonderivativesarisingduringperiodnetoftax': 7000000.0, 'operatingincomeloss': 60024000000.0, 'othercomprehensiveincomelossderivativesqualifyingashedgesnetoftax': -734000000.0, 'nonoperatingincomeexpense': 1348000000.0, 'incomelossfromcontinuingoperationsbeforeincometaxesextraordinaryitemsnoncontrollinginterest': 61372000000.0, 'othercomprehensiveincomelossavailableforsalesecuritiesadjustmentnetoftax': 1638000000.0, 'earningspersharebasic': 8.35, 'commonstockdividendspersharedeclared': 2.18, 'incometaxexpensebenefit': 15685000000.0, 'salesrevenuenet': 215639000000.0, 'othercomprehensiveincomeunrealizedholdinggainlossonsecuritiesarisingduringperiodnetoftax': 1582000000.0, 'othercomprehensiveincomelossreclassificationadjustmentfromaocionderivativestax': 131000000.0, 'earningspersharediluted': 8.31, 'operatingexpenses': 24239000000.0, 'othercomprehensiveincomelossreclassificationadjustmentfromaocionderivativesnetoftax': 741000000.0, 'othercomprehensiveincomeunrealizedgainlossonderivativesarisingduringperiodtax': 7000000.0, 'sellinggeneralandadministrativeexpense': 14194000000.0, 'othercomprehensiveincomelossreclassificationadjustmentfromaociforsaleofsecuritiestax': -31000000.0, 'comprehensiveincomenetoftax': 46666000000.0}, {'date': '2015-09-26', 'symbol': 'AAPL', 'period': 'FY', 'costofgoodsandservicessold': 140089000000.0, 'accumulatedothercomprehensiveincomemember': 0.0, 'stockissuedduringperiodvaluesharebasedcompensationnetofshareswithheldfortaxes': -840000000.0, 'netincomeloss': 53394000000.0, 'researchanddevelopmentexpense': 8067000000.0, 'othercomprehensiveincomelossavailableforsalesecuritiesadjustmentnetoftax': -424000000.0, 'adjustmentstoadditionalpaidincapitalsharebasedcompensationrequisiteserviceperiodrecognitionvalue': 3586000000.0, 'grossprofit': 93626000000.0, 'othercomprehensiveincomelossreclassificationadjustmentfromaociforsaleofsecuritiesnetoftax': -59000000.0, 'othercomprehensiveincomelossnetoftax': -1427000000.0, 'othercomprehensiveincomelossreclassificationadjustmentfromaocionderivativesnetoftax': 3497000000.0, 'othercomprehensiveincomelossforeigncurrencytransactionandtranslationadjustmentnetoftax': -411000000.0, 'weightedaveragenumberofdilutedsharesoutstanding': 5793069000.0, 'weightedaveragenumberofsharesoutstandingbasic': 5753421000.0, 'othercomprehensiveincomeunrealizedgainlossonderivativesarisingduringperiodnetoftax': 2905000000.0, 'stockrepurchasedandretiredduringperiodshares': 255137000.0, 'operatingincomeloss': 71230000000.0, 'dividendsanddividendequivalentsdeclaredoncommonstockandrestrictedstockunits': 11627000000.0, 'othercomprehensiveincomelossderivativesqualifyingashedgesnetoftax': -592000000.0, 'othercomprehensiveincomeunrealizedholdinggainlossonsecuritiesarisingduringperiodnetoftax': -483000000.0, 'commonstocksharesoutstanding': 5578753000.0, 'incomelossfromcontinuingoperationsbeforeincometaxesextraordinaryitemsnoncontrollinginterest': 72515000000.0, 'commonstockincludingadditionalpaidincapitalmember': 0.0, 'earningspersharebasic': 9.28, 'othercomprehensiveincomelossforeigncurrencytranslationadjustmenttax': 201000000.0, 'commonstockdividendspersharedeclared': 1.98, 'sharesofstockissuedduringperiodsharebasedcompensationnetofshareswithheldfortaxes': 37624000.0, 'incometaxexpensebenefit': 19121000000.0, 'salesrevenuenet': 233715000000.0, 'stockrepurchasedandretiredduringperiodvalue': 36026000000.0, 'nonoperatingincomeexpense': 1285000000.0, 'othercomprehensiveincomelossreclassificationadjustmentfromaocionderivativestax': 630000000.0, 'operatingexpenses': 22396000000.0, 'othercomprehensiveincomeunrealizedholdinggainlossonsecuritiesarisingduringperiodtax': -264000000.0, 'adjustmentstoadditionalpaidincapitaltaxeffectfromsharebasedcompensationincludingtransferpricing': 748000000.0, 'earningspersharediluted': 9.22, 'othercomprehensiveincomeunrealizedgainlossonderivativesarisingduringperiodtax': 441000000.0, 'sellinggeneralandadministrativeexpense': 14329000000.0, 'othercomprehensiveincomelossreclassificationadjustmentfromaociforsaleofsecuritiestax': -32000000.0, 'retainedearningsmember': 11627000000.0, 'stockholdersequity': 119355000000.0, 'comprehensiveincomenetoftax': 51967000000.0}, {'date': '2014-09-27', 'symbol': 'AAPL', 'period': 'FY', 'costofgoodsandservicessold': 112258000000.0, 'adjustmentstoadditionalpaidincapitalsharebasedcompensationrequisiteserviceperiodrecognitionvalue': 2863000000.0, 'stockissuedduringperiodvaluesharebasedcompensationnetofshareswithheldfortaxes': -448000000.0, 'netincomeloss': 39510000000.0, 'researchanddevelopmentexpense': 6041000000.0, 'othercomprehensiveincomelossavailableforsalesecuritiesadjustmentnetoftax': 151000000.0, 'accumulatedothercomprehensiveincomemember': 0.0, 'grossprofit': 70537000000.0, 'othercomprehensiveincomelossreclassificationadjustmentfromaociforsaleofsecuritiesnetoftax': 134000000.0, 'othercomprehensiveincomelossnetoftax': 1553000000.0, 'othercomprehensiveincomelossreclassificationadjustmentfromaocionderivativesnetoftax': -149000000.0, 'othercomprehensiveincomelossforeigncurrencytransactionandtranslationadjustmentnetoftax': -137000000.0, 'treasurystocksharesacquired': 488677000.0, 'weightedaveragenumberofdilutedsharesoutstanding': 6122663000.0, 'weightedaveragenumberofsharesoutstandingbasic': 6085572000.0, 'othercomprehensiveincomeunrealizedgainlossonderivativesarisingduringperiodnetoftax': 1390000000.0, 'adjustmentstoadditionalpaidincapitaltaxeffectfromsharebasedcompensationincludingtransferpricing': 735000000.0, 'operatingincomeloss': 52503000000.0, 'dividendsanddividendequivalentsdeclaredoncommonstockandrestrictedstockunits': 11215000000.0, 'othercomprehensiveincomelossderivativesqualifyingashedgesnetoftax': 1539000000.0, 'commonstocksharesoutstanding': 5866161000.0, 'incomelossfromcontinuingoperationsbeforeincometaxesextraordinaryitemsnoncontrollinginterest': 53483000000.0, 'commonstockincludingadditionalpaidincapitalmember': -49000000.0, 'earningspersharebasic': 6.49, 'othercomprehensiveincomelossforeigncurrencytranslationadjustmenttax': 50000000.0, 'commonstockdividendspersharedeclared': 1.82, 'sharesofstockissuedduringperiodsharebasedcompensationnetofshareswithheldfortaxes': 60344000.0, 'incometaxexpensebenefit': 13973000000.0, 'salesrevenuenet': 182795000000.0, 'othercomprehensiveincomeunrealizedholdinggainlossonsecuritiesarisingduringperiodnetoftax': 285000000.0, 'nonoperatingincomeexpense': 980000000.0, 'othercomprehensiveincomelossreclassificationadjustmentfromaocionderivativestax': -36000000.0, 'earningspersharediluted': 6.45, 'operatingexpenses': 18034000000.0, 'othercomprehensiveincomeunrealizedholdinggainlossonsecuritiesarisingduringperiodtax': 153000000.0, 'othercomprehensiveincomeunrealizedgainlossonderivativesarisingduringperiodtax': 297000000.0, 'treasurystockvalueacquiredcostmethod': 45000000000.0, 'sellinggeneralandadministrativeexpense': 11993000000.0, 'othercomprehensiveincomelossreclassificationadjustmentfromaociforsaleofsecuritiestax': 71000000.0, 'retainedearningsmember': -399000000.0, 'stockholdersequity': 111547000000.0, 'comprehensiveincomenetoftax': 41063000000.0}, {'date': '2013-09-28', 'symbol': 'AAPL', 'period': 'FY', 'costofgoodsandservicessold': 106606000000.0, 'adjustmentstoadditionalpaidincapitalsharebasedcompensationrequisiteserviceperiodrecognitionvalue': 2253000000.0, 'stockissuedduringperiodvaluesharebasedcompensationnetofshareswithheldfortaxes': -587000000.0, 'netincomeloss': 37037000000.0, 'researchanddevelopmentexpense': 4475000000.0, 'othercomprehensiveincomelossavailableforsalesecuritiesadjustmentnetoftax': -922000000.0, 'accumulatedothercomprehensiveincomemember': 0.0, 'grossprofit': 64304000000.0, 'othercomprehensiveincomelossreclassificationadjustmentfromaociforsaleofsecuritiesnetoftax': 131000000.0, 'othercomprehensiveincomelossnetoftax': -970000000.0, 'othercomprehensiveincomelossreclassificationadjustmentfromaocionderivativesnetoftax': 458000000.0, 'othercomprehensiveincomelossforeigncurrencytransactionandtranslationadjustmentnetoftax': -112000000.0, 'treasurystocksharesacquired': 46976000.0, 'weightedaveragenumberofdilutedsharesoutstanding': 931662000.0, 'weightedaveragenumberofsharesoutstandingbasic': 925331000.0, 'commonstockmember': 0.0, 'othercomprehensiveincomeunrealizedgainlossonderivativesarisingduringperiodnetoftax': 522000000.0, 'adjustmentstoadditionalpaidincapitaltaxeffectfromsharebasedcompensationincludingtransferpricing': 1232000000.0, 'operatingincomeloss': 48999000000.0, 'dividendsanddividendequivalentsdeclaredoncommonstockandrestrictedstockunits': 10676000000.0, 'othercomprehensiveincomelossderivativesqualifyingashedgesnetoftax': 64000000.0, 'othercomprehensiveincomeunrealizedholdinggainlossonsecuritiesarisingduringperiodnetoftax': -791000000.0, 'commonstocksharesoutstanding': 899213000.0, 'incomelossfromcontinuingoperationsbeforeincometaxesextraordinaryitemsnoncontrollinginterest': 50155000000.0, 'earningspersharebasic': 40.03, 'othercomprehensiveincomelossforeigncurrencytranslationadjustmenttax': 35000000.0, 'commonstockdividendspersharedeclared': 11.4, 'sharesofstockissuedduringperiodsharebasedcompensationnetofshareswithheldfortaxes': 6981000.0, 'incometaxexpensebenefit': 13118000000.0, 'salesrevenuenet': 170910000000.0, 'treasurystockvalueacquiredcostmethod': 22950000000.0, 'nonoperatingincomeexpense': 1156000000.0, 'othercomprehensiveincomelossreclassificationadjustmentfromaocionderivativestax': 255000000.0, 'operatingexpenses': 15305000000.0, 'othercomprehensiveincomeunrealizedholdinggainlossonsecuritiesarisingduringperiodtax': 458000000.0, 'earningspersharediluted': 39.75, 'othercomprehensiveincomeunrealizedgainlossonderivativesarisingduringperiodtax': -351000000.0, 'sellinggeneralandadministrativeexpense': 10830000000.0, 'othercomprehensiveincomelossreclassificationadjustmentfromaociforsaleofsecuritiestax': 82000000.0, 'retainedearningsmember': 10676000000.0, 'stockholdersequity': 123549000000.0, 'comprehensiveincomenetoftax': 36067000000.0}, {'date': '2012-09-29', 'symbol': 'AAPL', 'period': 'FY', 'costofgoodsandservicessold': 87846000000.0, 'accumulatedothercomprehensiveincomemember': 0.0, 'stockissuedduringperiodvaluesharebasedcompensationnetofshareswithheldfortaxes': -562000000.0, 'netincomeloss': 41733000000.0, 'researchanddevelopmentexpense': 3381000000.0, 'adjustmentstoadditionalpaidincapitalsharebasedcompensationrequisiteserviceperiodrecognitionvalue': 1740000000.0, 'grossprofit': 68662000000.0, 'othercomprehensiveincomelossavailableforsalesecuritiesadjustmentnetoftax': 601000000.0, 'othercomprehensiveincomelossderivativesqualifyingashedgesnetoftax': -530000000.0, 'othercomprehensiveincomelossforeigncurrencytransactionandtranslationadjustmentnetoftax': -15000000.0, 'weightedaveragenumberofdilutedsharesoutstanding': 945355000.0, 'weightedaveragenumberofsharesoutstandingbasic': 934818000.0, 'commonstockmember': 0.0, 'adjustmentstoadditionalpaidincapitaltaxeffectfromsharebasedcompensationincludingtransferpricing': 1151000000.0, 'operatingincomeloss': 55241000000.0, 'dividendsanddividendequivalentsdeclaredoncommonstockandrestrictedstockunits': 2523000000.0, 'commonstocksharesoutstanding': 939208000.0, 'earningspersharebasic': 44.64, 'commonstockdividendspersharedeclared': 2.65, 'sharesofstockissuedduringperiodsharebasedcompensationnetofshareswithheldfortaxes': 9931000.0, 'incometaxexpensebenefit': 14030000000.0, 'salesrevenuenet': 156508000000.0, 'nonoperatingincomeexpense': 522000000.0, 'earningspersharediluted': 44.15, 'operatingexpenses': 13421000000.0, 'sellinggeneralandadministrativeexpense': 10040000000.0, 'retainedearningsmember': 2523000000.0, 'stockholdersequity': 118210000000.0, 'incomelossfromcontinuingoperationsbeforeincometaxesminorityinterestandincomelossfromequitymethodinvestments': 55763000000.0, 'comprehensiveincomenetoftax': 41789000000.0}, {'date': '2011-09-24', 'symbol': 'AAPL', 'period': 'FY', 'costofgoodsandservicessold': 64431000000.0, 'accumulatedothercomprehensiveincomemember': 0.0, 'stockissuedduringperiodvaluesharebasedcompensationnetofshareswithheldfortaxes': 311000000.0, 'netincomeloss': 25922000000.0, 'researchanddevelopmentexpense': 2429000000.0, 'adjustmentstoadditionalpaidincapitalsharebasedcompensationrequisiteserviceperiodrecognitionvalue': 1168000000.0, 'grossprofit': 43818000000.0, 'weightedaveragenumberofdilutedsharesoutstanding': 936645000.0, 'weightedaveragenumberofsharesoutstandingbasic': 924258000.0, 'commonstockmember': 934000000.0, 'adjustmentstoadditionalpaidincapitaltaxeffectfromsharebasedcompensationincludingtransferpricing': 934000000.0, 'operatingincomeloss': 33790000000.0, 'commonstocksharesoutstanding': 929277000.0, 'othercomprehensiveincomeavailableforsalesecuritiesadjustmentnetoftaxperiodincreasedecrease': -41000000.0, 'earningspersharebasic': 28.05, 'sharesofstockissuedduringperiodsharebasedcompensationnetofshareswithheldfortaxes': 13307000.0, 'incometaxexpensebenefit': 8283000000.0, 'othercomprehensiveincomederivativesqualifyingashedgesnetoftaxperiodincreasedecrease': 542000000.0, 'salesrevenuenet': 108249000000.0, 'nonoperatingincomeexpense': 415000000.0, 'earningspersharediluted': 27.68, 'operatingexpenses': 10028000000.0, 'sellinggeneralandadministrativeexpense': 7599000000.0, 'retainedearningsmember': 0.0, 'stockholdersequity': 76615000000.0, 'othercomprehensiveincomeforeigncurrencytransactionandtranslationadjustmentnetoftaxperiodincreasedecrease': -12000000.0, 'incomelossfromcontinuingoperationsbeforeincometaxesminorityinterestandincomelossfromequitymethodinvestments': 34205000000.0, 'comprehensiveincomenetoftax': 26411000000.0}]\n"
     ]
    }
   ],
   "source": [
    "print(f\"Annual Income Statement as Reported : {fmpsdk.income_statement_as_reported(apikey=apikey, symbol=symbol)}\")"
   ]
  },
  {
   "cell_type": "code",
   "execution_count": 36,
   "metadata": {},
   "outputs": [
    {
     "name": "stdout",
     "output_type": "stream",
     "text": [
      "Quarterly Income Statement as Reported: [{'date': '2021-03-27', 'symbol': 'AAPL', 'period': 'Q2', 'costofgoodsandservicessold': 20104000000.0, 'netincomeloss': 20859000000.0, 'researchanddevelopmentexpense': 2575000000.0, 'grossprofit': 28555000000.0, 'othercomprehensiveincomelossreclassificationadjustmentfromaociforsaleofsecuritiesnetoftax': 245000000.0, 'othercomprehensiveincomelossavailableforsalesecuritiesadjustmentnetoftax': -3172000000.0, 'othercomprehensiveincomelossforeigncurrencytransactionandtranslationadjustmentnetoftax': 375000000.0, 'weightedaveragenumberofdilutedsharesoutstanding': 12284474000.0, 'weightedaveragenumberofsharesoutstandingbasic': 12139353000.0, 'operatingincomeloss': 24276000000.0, 'incomelossfromcontinuingoperationsbeforeincometaxesextraordinaryitemsnoncontrollinginterest': 23891000000.0, 'earningspersharebasic': -3.59, 'incometaxexpensebenefit': 3032000000.0, 'othercomprehensiveincomeunrealizedholdinggainlossonsecuritiesarisingduringperiodnetoftax': -2927000000.0, 'revenuefromcontractwithcustomerexcludingassessedtax': 26036000000.0, 'nonoperatingincomeexpense': -385000000.0, 'earningspersharediluted': -3.58, 'operatingexpenses': 4279000000.0, 'sellinggeneralandadministrativeexpense': 1704000000.0, 'othercomprehensiveincomelossnetoftaxportionattributabletoparent': -1746000000.0, 'comprehensiveincomenetoftax': 19113000000.0}, {'date': '2020-12-26', 'symbol': 'AAPL', 'period': 'Q1', 'costofgoodsandservicessold': 62130000000.0, 'netincomeloss': 28755000000.0, 'researchanddevelopmentexpense': 5163000000.0, 'grossprofit': 44328000000.0, 'othercomprehensiveincomelossreclassificationadjustmentfromaociforsaleofsecuritiesnetoftax': 105000000.0, 'othercomprehensiveincomelossavailableforsalesecuritiesadjustmentnetoftax': 523000000.0, 'othercomprehensiveincomelossderivativeinstrumentgainlossbeforereclassificationaftertax': -304000000.0, 'othercomprehensiveincomelossforeigncurrencytransactionandtranslationadjustmentnetoftax': 549000000.0, 'weightedaveragenumberofdilutedsharesoutstanding': 17113688000.0, 'weightedaveragenumberofsharesoutstandingbasic': 16935119000.0, 'operatingincomeloss': 33534000000.0, 'incomelossfromcontinuingoperationsbeforeincometaxesextraordinaryitemsnoncontrollinginterest': 33579000000.0, 'othercomprehensiveincomelossderivativeinstrumentgainlossreclassificationaftertax': 183000000.0, 'operatingexpenses': 10794000000.0, 'incometaxexpensebenefit': 4824000000.0, 'earningspersharebasic': 1.7, 'othercomprehensiveincomeunrealizedholdinggainlossonsecuritiesarisingduringperiodnetoftax': 628000000.0, 'revenuefromcontractwithcustomerexcludingassessedtax': 95678000000.0, 'nonoperatingincomeexpense': 45000000.0, 'earningspersharediluted': 1.68, 'othercomprehensiveincomelossderivativeinstrumentgainlossafterreclassificationandtax': -487000000.0, 'sellinggeneralandadministrativeexpense': 5631000000.0, 'othercomprehensiveincomelossnetoftaxportionattributabletoparent': 585000000.0, 'comprehensiveincomenetoftax': 29340000000.0}, {'date': '2020-09-26', 'symbol': 'AAPL', 'period': 'FY', 'costofgoodsandservicessold': -10496000000.0, 'netincomeloss': 2155000000.0, 'researchanddevelopmentexpense': 2535000000.0, 'grossprofit': 6564000000.0, 'othercomprehensiveincomelossreclassificationadjustmentfromaociforsaleofsecuritiesnetoftax': 88000000.0, 'othercomprehensiveincomelossavailableforsalesecuritiesadjustmentnetoftax': -2688000000.0, 'othercomprehensiveincomelossforeigncurrencytransactionandtranslationadjustmentnetoftax': 496000000.0, 'weightedaveragenumberofdilutedsharesoutstanding': 12879301000.0, 'weightedaveragenumberofsharesoutstandingbasic': 12734285000.0, 'operatingincomeloss': 2358000000.0, 'incomelossfromcontinuingoperationsbeforeincometaxesextraordinaryitemsnoncontrollinginterest': 1354000000.0, 'operatingexpenses': 4206000000.0, 'earningspersharebasic': -8.66, 'incometaxexpensebenefit': -801000000.0, 'othercomprehensiveincomeunrealizedholdinggainlossonsecuritiesarisingduringperiodnetoftax': -2600000000.0, 'revenuefromcontractwithcustomerexcludingassessedtax': -39427000000.0, 'nonoperatingincomeexpense': -1004000000.0, 'earningspersharediluted': -8.61, 'sellinggeneralandadministrativeexpense': 1671000000.0, 'othercomprehensiveincomelossnetoftaxportionattributabletoparent': -2739000000.0, 'comprehensiveincomenetoftax': -584000000.0}, {'date': '2020-06-27', 'symbol': 'AAPL', 'period': 'Q3', 'costofgoodsandservicessold': 59487000000.0, 'netincomeloss': 22502000000.0, 'researchanddevelopmentexpense': 9323000000.0, 'grossprofit': 45050000000.0, 'othercomprehensiveincomelossreclassificationadjustmentfromaociforsaleofsecuritiesnetoftax': -18000000.0, 'othercomprehensiveincomelossavailableforsalesecuritiesadjustmentnetoftax': 791000000.0, 'othercomprehensiveincomelossderivativeinstrumentgainlossbeforereclassificationaftertax': -65000000.0, 'othercomprehensiveincomelossforeigncurrencytransactionandtranslationadjustmentnetoftax': -372000000.0, 'weightedaveragenumberofdilutedsharesoutstanding': -49909000.0, 'weightedaveragenumberofsharesoutstandingbasic': -52469000.0, 'operatingincomeloss': 25944000000.0, 'comprehensiveincomenetoftax': 22370000000.0, 'incomelossfromcontinuingoperationsbeforeincometaxesextraordinaryitemsnoncontrollinginterest': 26272000000.0, 'operatingexpenses': 19106000000.0, 'earningspersharebasic': 5.21, 'incometaxexpensebenefit': 3770000000.0, 'othercomprehensiveincomeunrealizedholdinggainlossonsecuritiesarisingduringperiodnetoftax': 773000000.0, 'revenuefromcontractwithcustomerexcludingassessedtax': 78779000000.0, 'nonoperatingincomeexpense': 328000000.0, 'earningspersharediluted': 5.17, 'othercomprehensiveincomelossderivativeinstrumentgainlossafterreclassificationandtax': -551000000.0, 'sellinggeneralandadministrativeexpense': 9783000000.0, 'othercomprehensiveincomelossnetoftaxportionattributabletoparent': -132000000.0, 'othercomprehensiveincomelosscashflowhedgegainlossreclassificationaftertax': 486000000.0}, {'date': '2020-03-28', 'symbol': 'AAPL', 'period': 'Q2', 'costofgoodsandservicessold': 40266000000.0, 'nonoperatingincomeexpense': 71000000.0, 'researchanddevelopmentexpense': 5114000000.0, 'grossprofit': 25556000000.0, 'othercomprehensiveincomelossreclassificationadjustmentfromaociforsaleofsecuritiesnetoftax': 18000000.0, 'othercomprehensiveincomelossforeigncurrencytransactionandtranslationadjustmentnetoftax': -286000000.0, 'weightedaveragenumberofdilutedsharesoutstanding': -343604000.0, 'weightedaveragenumberofsharesoutstandingbasic': -348250000.0, 'operatingincomeloss': 15076000000.0, 'netincomeloss': 13520000000.0, 'incomelossfromcontinuingoperationsbeforeincometaxesextraordinaryitemsnoncontrollinginterest': 15147000000.0, 'othercomprehensiveincomelossavailableforsalesecuritiesadjustmentnetoftax': -2328000000.0, 'earningspersharebasic': 3.41, 'incometaxexpensebenefit': 1627000000.0, 'othercomprehensiveincomeunrealizedholdinggainlossonsecuritiesarisingduringperiodnetoftax': -2310000000.0, 'revenuefromcontractwithcustomerexcludingassessedtax': 65822000000.0, 'earningspersharediluted': 3.38, 'operatingexpenses': 10480000000.0, 'sellinggeneralandadministrativeexpense': 5366000000.0, 'othercomprehensiveincomelossnetoftaxportionattributabletoparent': -2118000000.0, 'comprehensiveincomenetoftax': 11402000000.0}, {'date': '2019-12-28', 'symbol': 'AAPL', 'period': 'Q1', 'costofgoodsandservicessold': 56602000000.0, 'netincomeloss': 22236000000.0, 'researchanddevelopmentexpense': 4451000000.0, 'grossprofit': 35217000000.0, 'othercomprehensiveincomelossreclassificationadjustmentfromaociforsaleofsecuritiesnetoftax': 10000000.0, 'othercomprehensiveincomelossavailableforsalesecuritiesadjustmentnetoftax': 115000000.0, 'othercomprehensiveincomelossderivativeinstrumentgainlossbeforereclassificationaftertax': 111000000.0, 'othercomprehensiveincomelossforeigncurrencytransactionandtranslationadjustmentnetoftax': 202000000.0, 'weightedaveragenumberofdilutedsharesoutstanding': 4454604000.0, 'weightedaveragenumberofsharesoutstandingbasic': 4415040000.0, 'operatingincomeloss': 25569000000.0, 'incomelossfromcontinuingoperationsbeforeincometaxesextraordinaryitemsnoncontrollinginterest': 25918000000.0, 'operatingexpenses': 9648000000.0, 'incometaxexpensebenefit': 3682000000.0, 'earningspersharebasic': 5.04, 'othercomprehensiveincomelosscashflowhedgegainlossreclassificationaftertax': 398000000.0, 'othercomprehensiveincomeunrealizedholdinggainlossonsecuritiesarisingduringperiodnetoftax': 125000000.0, 'revenuefromcontractwithcustomerexcludingassessedtax': 91819000000.0, 'nonoperatingincomeexpense': 349000000.0, 'earningspersharediluted': 4.99, 'othercomprehensiveincomelossderivativeinstrumentgainlossafterreclassificationandtax': -287000000.0, 'sellinggeneralandadministrativeexpense': 5197000000.0, 'othercomprehensiveincomelossnetoftaxportionattributabletoparent': 30000000.0, 'comprehensiveincomenetoftax': 22266000000.0}, {'date': '2019-09-28', 'symbol': 'AAPL', 'period': 'FY', 'costofgoodsandservicessold': 36842000000.0, 'netincomeloss': 9850000000.0, 'researchanddevelopmentexpense': 5731000000.0, 'grossprofit': 20637000000.0, 'othercomprehensiveincomelossreclassificationadjustmentfromaociforsaleofsecuritiesnetoftax': -47000000.0, 'othercomprehensiveincomelossavailableforsalesecuritiesadjustmentnetoftax': 7266000000.0, 'othercomprehensiveincomelossderivativesqualifyingashedgesnetoftax': -1681000000.0, 'othercomprehensiveincomelossforeigncurrencytransactionandtranslationadjustmentnetoftax': -121000000.0, 'weightedaveragenumberofdilutedsharesoutstanding': -402050000.0, 'weightedaveragenumberofsharesoutstandingbasic': -388806000.0, 'othercomprehensiveincomeunrealizedgainlossonderivativesarisingduringperiodnetoftax': -831000000.0, 'operatingincomeloss': 9150000000.0, 'othercomprehensiveincomelossreclassificationadjustmentfromaocionderivativesnetoftax': 850000000.0, 'incomelossfromcontinuingoperationsbeforeincometaxesextraordinaryitemsnoncontrollinginterest': 9255000000.0, 'operatingexpenses': 11487000000.0, 'earningspersharebasic': 2.9, 'incometaxexpensebenefit': -595000000.0, 'othercomprehensiveincomeunrealizedholdinggainlossonsecuritiesarisingduringperiodnetoftax': 7219000000.0, 'nonoperatingincomeexpense': 105000000.0, 'earningspersharediluted': 2.9, 'sellinggeneralandadministrativeexpense': 5756000000.0, 'othercomprehensiveincomelossnetoftaxportionattributabletoparent': 5464000000.0, 'comprehensiveincomenetoftax': 15314000000.0}, {'date': '2019-06-29', 'symbol': 'AAPL', 'period': 'Q3', 'costofgoodsandservicessold': 33582000000.0, 'netincomeloss': 10044000000.0, 'researchanddevelopmentexpense': 4257000000.0, 'grossprofit': 20227000000.0, 'othercomprehensiveincomelossreclassificationadjustmentfromaociforsaleofsecuritiesnetoftax': 22000000.0, 'earningspersharediluted': 2.2, 'othercomprehensiveincomelossavailableforsalesecuritiesadjustmentnetoftax': 1231000000.0, 'othercomprehensiveincomelossderivativesqualifyingashedgesnetoftax': -152000000.0, 'othercomprehensiveincomelossforeigncurrencytransactionandtranslationadjustmentnetoftax': -219000000.0, 'weightedaveragenumberofdilutedsharesoutstanding': -45190000.0, 'weightedaveragenumberofsharesoutstandingbasic': -44770000.0, 'othercomprehensiveincomeunrealizedgainlossonderivativesarisingduringperiodnetoftax': -108000000.0, 'operatingincomeloss': 11544000000.0, 'othercomprehensiveincomelossreclassificationadjustmentfromaocionderivativesnetoftax': 44000000.0, 'comprehensiveincomenetoftax': 10904000000.0, 'incomelossfromcontinuingoperationsbeforeincometaxesextraordinaryitemsnoncontrollinginterest': 11911000000.0, 'earningspersharebasic': 2.22, 'incometaxexpensebenefit': 1867000000.0, 'othercomprehensiveincomeunrealizedholdinggainlossonsecuritiesarisingduringperiodnetoftax': 1253000000.0, 'revenuefromcontractwithcustomerexcludingassessedtax': 53809000000.0, 'nonoperatingincomeexpense': 367000000.0, 'operatingexpenses': 8683000000.0, 'sellinggeneralandadministrativeexpense': 4426000000.0, 'othercomprehensiveincomelossnetoftaxportionattributabletoparent': 860000000.0}, {'date': '2019-03-30', 'symbol': 'AAPL', 'period': 'Q2', 'costofgoodsandservicessold': 36194000000.0, 'netincomeloss': 11561000000.0, 'researchanddevelopmentexpense': 3948000000.0, 'grossprofit': 21821000000.0, 'othercomprehensiveincomelossreclassificationadjustmentfromaociforsaleofsecuritiesnetoftax': -28000000.0, 'othercomprehensiveincomelossavailableforsalesecuritiesadjustmentnetoftax': 2070000000.0, 'othercomprehensiveincomelossderivativesqualifyingashedgesnetoftax': -155000000.0, 'othercomprehensiveincomelossforeigncurrencytransactionandtranslationadjustmentnetoftax': 174000000.0, 'weightedaveragenumberofdilutedsharesoutstanding': -36303000.0, 'weightedaveragenumberofsharesoutstandingbasic': -30875000.0, 'othercomprehensiveincomeunrealizedgainlossonderivativesarisingduringperiodnetoftax': -50000000.0, 'operatingincomeloss': 13415000000.0, 'othercomprehensiveincomelossreclassificationadjustmentfromaocionderivativesnetoftax': 105000000.0, 'incomelossfromcontinuingoperationsbeforeincometaxesextraordinaryitemsnoncontrollinginterest': 13793000000.0, 'earningspersharebasic': 2.48, 'incometaxexpensebenefit': 2232000000.0, 'othercomprehensiveincomeunrealizedholdinggainlossonsecuritiesarisingduringperiodnetoftax': 2042000000.0, 'revenuefromcontractwithcustomerexcludingassessedtax': 58015000000.0, 'nonoperatingincomeexpense': 378000000.0, 'earningspersharediluted': 2.48, 'operatingexpenses': 8406000000.0, 'sellinggeneralandadministrativeexpense': 4458000000.0, 'othercomprehensiveincomelossnetoftaxportionattributabletoparent': 2089000000.0, 'comprehensiveincomenetoftax': 13650000000.0}, {'date': '2018-12-29', 'symbol': 'AAPL', 'period': 'Q1', 'costofgoodsandservicessold': 52279000000.0, 'netincomeloss': 19965000000.0, 'researchanddevelopmentexpense': 3902000000.0, 'grossprofit': 32031000000.0, 'othercomprehensiveincomelossreclassificationadjustmentfromaociforsaleofsecuritiesnetoftax': -37000000.0, 'othercomprehensiveincomelossavailableforsalesecuritiesadjustmentnetoftax': 147000000.0, 'othercomprehensiveincomelossderivativesqualifyingashedgesnetoftax': -292000000.0, 'othercomprehensiveincomelossforeigncurrencytransactionandtranslationadjustmentnetoftax': -78000000.0, 'weightedaveragenumberofdilutedsharesoutstanding': 4773252000.0, 'weightedaveragenumberofsharesoutstandingbasic': 4735820000.0, 'othercomprehensiveincomeunrealizedgainlossonderivativesarisingduringperiodnetoftax': -334000000.0, 'operatingincomeloss': 23346000000.0, 'othercomprehensiveincomelossreclassificationadjustmentfromaocionderivativesnetoftax': -42000000.0, 'incomelossfromcontinuingoperationsbeforeincometaxesextraordinaryitemsnoncontrollinginterest': 23906000000.0, 'incometaxexpensebenefit': 3941000000.0, 'earningspersharebasic': 4.22, 'othercomprehensiveincomeunrealizedholdinggainlossonsecuritiesarisingduringperiodnetoftax': 110000000.0, 'revenuefromcontractwithcustomerexcludingassessedtax': 84310000000.0, 'nonoperatingincomeexpense': 560000000.0, 'earningspersharediluted': 4.18, 'operatingexpenses': 8685000000.0, 'sellinggeneralandadministrativeexpense': 4783000000.0, 'othercomprehensiveincomelossnetoftaxportionattributabletoparent': -223000000.0, 'comprehensiveincomenetoftax': 19742000000.0}]\n"
     ]
    }
   ],
   "source": [
    "print(f\"Quarterly Income Statement as Reported: {fmpsdk.income_statement_as_reported(apikey=apikey, symbol=symbol, period=period)}\")"
   ]
  },
  {
   "cell_type": "code",
   "execution_count": 37,
   "metadata": {},
   "outputs": [
    {
     "name": "stdout",
     "output_type": "stream",
     "text": [
      "Historical Dividends: {'symbol': 'AAPL', 'historical': [{'date': '2021-05-07', 'label': 'May 07, 21', 'adjDividend': 0.22, 'dividend': 0.22, 'recordDate': '2021-05-10', 'paymentDate': '2021-05-13', 'declarationDate': '2021-04-28'}, {'date': '2021-02-05', 'label': 'February 05, 21', 'adjDividend': 0.205, 'dividend': 0.205, 'recordDate': '2021-02-08', 'paymentDate': '2021-02-11', 'declarationDate': '2021-01-27'}, {'date': '2020-11-06', 'label': 'November 06, 20', 'adjDividend': 0.205, 'dividend': 0.205, 'recordDate': '2020-11-9', 'paymentDate': '2020-11-12', 'declarationDate': '2020-10-29'}, {'date': '2020-08-07', 'label': 'August 07, 20', 'adjDividend': 0.205, 'dividend': 0.82, 'recordDate': '2020-08-10', 'paymentDate': '2020-08-13', 'declarationDate': '2020-07-30'}, {'date': '2020-05-08', 'label': 'May 08, 20', 'adjDividend': 0.205, 'dividend': 0.82, 'recordDate': '2020-05-11', 'paymentDate': '2020-05-14', 'declarationDate': '2020-04-30'}, {'date': '2020-02-07', 'label': 'February 07, 20', 'adjDividend': 0.1925, 'dividend': 0.77, 'recordDate': '2020-02-10', 'paymentDate': '2020-02-13', 'declarationDate': '2020-01-28'}, {'date': '2019-11-07', 'label': 'November 07, 19', 'adjDividend': 0.1925, 'dividend': 0.77, 'recordDate': '2019-11-11', 'paymentDate': '2019-11-14', 'declarationDate': '2019-10-30'}, {'date': '2019-08-09', 'label': 'August 09, 19', 'adjDividend': 0.1925, 'dividend': 0.77, 'recordDate': '2019-08-12', 'paymentDate': '2019-08-15', 'declarationDate': '2019-07-30'}, {'date': '2019-05-10', 'label': 'May 10, 19', 'adjDividend': 0.1925, 'dividend': 0.77, 'recordDate': '2019-05-13', 'paymentDate': '2019-05-16', 'declarationDate': '2019-05-01'}, {'date': '2019-02-08', 'label': 'February 08, 19', 'adjDividend': 0.1825, 'dividend': 0.73, 'recordDate': '2019-02-11', 'paymentDate': '2019-02-14', 'declarationDate': '2019-01-29'}, {'date': '2018-11-08', 'label': 'November 08, 18', 'adjDividend': 0.1825, 'dividend': 0.73, 'recordDate': '2018-11-12', 'paymentDate': '2018-11-15', 'declarationDate': '2018-11-01'}, {'date': '2018-08-10', 'label': 'August 10, 18', 'adjDividend': 0.1825, 'dividend': 0.73, 'recordDate': '2018-08-13', 'paymentDate': '2018-08-16', 'declarationDate': '2018-07-31'}, {'date': '2018-05-11', 'label': 'May 11, 18', 'adjDividend': 0.1825, 'dividend': 0.73, 'recordDate': '2018-05-14', 'paymentDate': '2018-05-17', 'declarationDate': '2018-05-01'}, {'date': '2018-02-09', 'label': 'February 09, 18', 'adjDividend': 0.1575, 'dividend': 0.63, 'recordDate': '2018-02-12', 'paymentDate': '2018-02-15', 'declarationDate': '2018-02-01'}, {'date': '2017-11-10', 'label': 'November 10, 17', 'adjDividend': 0.1575, 'dividend': 0.63, 'recordDate': '2017-11-13', 'paymentDate': '2017-11-16', 'declarationDate': '2017-11-02'}, {'date': '2017-08-10', 'label': 'August 10, 17', 'adjDividend': 0.1575, 'dividend': 0.63, 'recordDate': '2017-08-14', 'paymentDate': '2017-08-17', 'declarationDate': '2017-08-01'}, {'date': '2017-05-11', 'label': 'May 11, 17', 'adjDividend': 0.1575, 'dividend': 0.63, 'recordDate': '2017-05-15', 'paymentDate': '2017-05-18', 'declarationDate': '2017-05-02'}, {'date': '2017-02-09', 'label': 'February 09, 17', 'adjDividend': 0.1425, 'dividend': 0.57, 'recordDate': '2017-02-13', 'paymentDate': '2017-02-16', 'declarationDate': '2017-02-01'}, {'date': '2016-11-03', 'label': 'November 03, 16', 'adjDividend': 0.1425, 'dividend': 0.57, 'recordDate': '2016-11-07', 'paymentDate': '2016-11-10', 'declarationDate': '2016-10-25'}, {'date': '2016-08-04', 'label': 'August 04, 16', 'adjDividend': 0.1425, 'dividend': 0.57, 'recordDate': '2016-08-08', 'paymentDate': '2016-08-11', 'declarationDate': '2016-07-26'}, {'date': '2016-05-05', 'label': 'May 05, 16', 'adjDividend': 0.1425, 'dividend': 0.57, 'recordDate': '2016-05-09', 'paymentDate': '2016-05-12', 'declarationDate': '2016-04-26'}, {'date': '2016-02-04', 'label': 'February 04, 16', 'adjDividend': 0.13, 'dividend': 0.52, 'recordDate': '2016-02-08', 'paymentDate': '2016-02-11', 'declarationDate': '2016-01-26'}, {'date': '2015-11-05', 'label': 'November 05, 15', 'adjDividend': 0.13, 'dividend': 0.52, 'recordDate': '2015-11-09', 'paymentDate': '2015-11-12', 'declarationDate': '2015-10-27'}, {'date': '2015-08-06', 'label': 'August 06, 15', 'adjDividend': 0.13, 'dividend': 0.52, 'recordDate': '2015-08-10', 'paymentDate': '2015-08-13', 'declarationDate': '2015-07-21'}, {'date': '2015-05-07', 'label': 'May 07, 15', 'adjDividend': 0.13, 'dividend': 0.52, 'recordDate': '2015-05-11', 'paymentDate': '2015-05-14', 'declarationDate': '2015-04-27'}, {'date': '2015-02-05', 'label': 'February 05, 15', 'adjDividend': 0.1175, 'dividend': 0.47, 'recordDate': '2015-02-09', 'paymentDate': '2015-02-12', 'declarationDate': '2015-01-27'}, {'date': '2014-11-06', 'label': 'November 06, 14', 'adjDividend': 0.1175, 'dividend': 0.47, 'recordDate': '2014-11-10', 'paymentDate': '2014-11-13', 'declarationDate': '2014-10-20'}, {'date': '2014-08-07', 'label': 'August 07, 14', 'adjDividend': 0.1175, 'dividend': 0.47, 'recordDate': '2014-08-11', 'paymentDate': '2014-08-14', 'declarationDate': '2014-07-22'}, {'date': '2014-05-08', 'label': 'May 08, 14', 'adjDividend': 0.1175, 'dividend': 3.29, 'recordDate': '2014-05-12', 'paymentDate': '2014-05-15', 'declarationDate': '2014-04-23'}, {'date': '2014-02-06', 'label': 'February 06, 14', 'adjDividend': 0.10893, 'dividend': 3.05, 'recordDate': '2014-02-10', 'paymentDate': '2014-02-13', 'declarationDate': '2014-01-27'}, {'date': '2013-11-06', 'label': 'November 06, 13', 'adjDividend': 0.10893, 'dividend': 3.05, 'recordDate': '2013-11-11', 'paymentDate': '2013-11-14', 'declarationDate': '2013-10-28'}, {'date': '2013-08-08', 'label': 'August 08, 13', 'adjDividend': 0.10893, 'dividend': 3.05, 'recordDate': '2013-08-12', 'paymentDate': '2013-08-15', 'declarationDate': '2013-07-23'}, {'date': '2013-05-09', 'label': 'May 09, 13', 'adjDividend': 0.10893, 'dividend': 3.05, 'recordDate': '2013-05-13', 'paymentDate': '2013-05-16', 'declarationDate': '2013-04-23'}, {'date': '2013-02-07', 'label': 'February 07, 13', 'adjDividend': 0.09464, 'dividend': 2.65, 'recordDate': '2013-02-11', 'paymentDate': '2013-02-14', 'declarationDate': '2013-01-23'}, {'date': '2012-11-07', 'label': 'November 07, 12', 'adjDividend': 0.09464, 'dividend': 2.65, 'recordDate': '2012-11-12', 'paymentDate': '2012-11-15', 'declarationDate': '2012-10-25'}, {'date': '2012-08-09', 'label': 'August 09, 12', 'adjDividend': 0.09464, 'dividend': 2.65, 'recordDate': '2012-08-13', 'paymentDate': '2012-08-16', 'declarationDate': '2012-03-19'}, {'date': '1995-11-21', 'label': 'November 21, 95', 'adjDividend': 0.00107, 'dividend': 0.00107, 'recordDate': '', 'paymentDate': '', 'declarationDate': ''}, {'date': '1995-11-20', 'label': 'November 20, 95', 'adjDividend': 0.0010714275, 'dividend': 0.12, 'recordDate': '1995-11-24', 'paymentDate': '1995-12-15', 'declarationDate': '1995-10-09'}, {'date': '1995-08-16', 'label': 'August 16, 95', 'adjDividend': 0.00107, 'dividend': 0.12, 'recordDate': '1995-08-18', 'paymentDate': '1995-09-08', 'declarationDate': '1995-07-20'}, {'date': '1995-05-29', 'label': 'May 29, 95', 'adjDividend': 0.0010714275, 'dividend': 0.12, 'recordDate': '1995-06-02', 'paymentDate': '1995-06-23', 'declarationDate': '1995-05-02'}, {'date': '1995-05-26', 'label': 'May 26, 95', 'adjDividend': 0.00107, 'dividend': 0.00107, 'recordDate': '', 'paymentDate': '', 'declarationDate': ''}, {'date': '1995-02-14', 'label': 'February 14, 95', 'adjDividend': 0.0010714275, 'dividend': 0.12, 'recordDate': '1995-02-17', 'paymentDate': '1995-03-10', 'declarationDate': ''}, {'date': '1995-02-13', 'label': 'February 13, 95', 'adjDividend': 0.00107, 'dividend': 0.00107, 'recordDate': '', 'paymentDate': '', 'declarationDate': ''}, {'date': '1994-11-21', 'label': 'November 21, 94', 'adjDividend': 0.0010714275, 'dividend': 0.12, 'recordDate': '1994-11-25', 'paymentDate': '1994-12-16', 'declarationDate': ''}, {'date': '1994-11-18', 'label': 'November 18, 94', 'adjDividend': 0.00107, 'dividend': 0.00107, 'recordDate': '', 'paymentDate': '', 'declarationDate': ''}, {'date': '1994-08-16', 'label': 'August 16, 94', 'adjDividend': 0.0010714275, 'dividend': 0.12, 'recordDate': '1994-08-19', 'paymentDate': '1994-09-09', 'declarationDate': ''}, {'date': '1994-08-15', 'label': 'August 15, 94', 'adjDividend': 0.00107, 'dividend': 0.00107, 'recordDate': '', 'paymentDate': '', 'declarationDate': ''}, {'date': '1994-05-30', 'label': 'May 30, 94', 'adjDividend': 0.0010714275, 'dividend': 0.12, 'recordDate': '1994-06-03', 'paymentDate': '1994-06-24', 'declarationDate': ''}, {'date': '1994-05-27', 'label': 'May 27, 94', 'adjDividend': 0.00107, 'dividend': 0.00107, 'recordDate': '', 'paymentDate': '', 'declarationDate': ''}, {'date': '1994-02-08', 'label': 'February 08, 94', 'adjDividend': 0.0010714275, 'dividend': 0.12, 'recordDate': '1994-02-11', 'paymentDate': '1994-03-04', 'declarationDate': '1994-02-02'}, {'date': '1994-02-07', 'label': 'February 07, 94', 'adjDividend': 0.00107, 'dividend': 0.00107, 'recordDate': '', 'paymentDate': '', 'declarationDate': ''}, {'date': '1993-11-22', 'label': 'November 22, 93', 'adjDividend': 0.0010714275, 'dividend': 0.12, 'recordDate': '1993-11-26', 'paymentDate': '1993-12-17', 'declarationDate': ''}, {'date': '1993-11-19', 'label': 'November 19, 93', 'adjDividend': 0.00107, 'dividend': 0.00107, 'recordDate': '', 'paymentDate': '', 'declarationDate': ''}, {'date': '1993-08-17', 'label': 'August 17, 93', 'adjDividend': 0.0010714275, 'dividend': 0.12, 'recordDate': '1993-08-20', 'paymentDate': '1993-09-10', 'declarationDate': ''}, {'date': '1993-08-16', 'label': 'August 16, 93', 'adjDividend': 0.00107, 'dividend': 0.00107, 'recordDate': '', 'paymentDate': '', 'declarationDate': ''}, {'date': '1993-06-01', 'label': 'June 01, 93', 'adjDividend': 0.0010714275, 'dividend': 0.12, 'recordDate': '1993-06-04', 'paymentDate': '1993-06-25', 'declarationDate': ''}, {'date': '1993-05-28', 'label': 'May 28, 93', 'adjDividend': 0.00107, 'dividend': 0.00107, 'recordDate': '', 'paymentDate': '', 'declarationDate': ''}, {'date': '1993-02-16', 'label': 'February 16, 93', 'adjDividend': 0.0010714275, 'dividend': 0.12, 'recordDate': '1993-02-19', 'paymentDate': '1993-03-12', 'declarationDate': ''}, {'date': '1993-02-12', 'label': 'February 12, 93', 'adjDividend': 0.00107, 'dividend': 0.00107, 'recordDate': '', 'paymentDate': '', 'declarationDate': ''}, {'date': '1992-11-30', 'label': 'November 30, 92', 'adjDividend': 0.00107, 'dividend': 0.12, 'recordDate': '1992-12-04', 'paymentDate': '1992-12-18', 'declarationDate': '1992-11-23'}, {'date': '1992-08-17', 'label': 'August 17, 92', 'adjDividend': 0.00107, 'dividend': 0.12, 'recordDate': '1992-08-21', 'paymentDate': '1992-09-11', 'declarationDate': ''}, {'date': '1992-06-01', 'label': 'June 01, 92', 'adjDividend': 0.00107, 'dividend': 0.12, 'recordDate': '1992-06-05', 'paymentDate': '1992-06-19', 'declarationDate': ''}, {'date': '1992-02-14', 'label': 'February 14, 92', 'adjDividend': 0.00107, 'dividend': 0.12, 'recordDate': '1992-02-21', 'paymentDate': '1992-03-13', 'declarationDate': ''}, {'date': '1991-11-18', 'label': 'November 18, 91', 'adjDividend': 0.00107, 'dividend': 0.12, 'recordDate': '1991-11-22', 'paymentDate': '1991-12-13', 'declarationDate': ''}, {'date': '1991-08-19', 'label': 'August 19, 91', 'adjDividend': 0.00107, 'dividend': 0.12, 'recordDate': '1991-08-23', 'paymentDate': '1991-09-13', 'declarationDate': ''}, {'date': '1991-05-20', 'label': 'May 20, 91', 'adjDividend': 0.00107, 'dividend': 0.12, 'recordDate': '1991-05-24', 'paymentDate': '1991-06-14', 'declarationDate': ''}, {'date': '1991-02-19', 'label': 'February 19, 91', 'adjDividend': 0.0010714275, 'dividend': 0.12, 'recordDate': '1991-02-22', 'paymentDate': '1991-03-15', 'declarationDate': ''}, {'date': '1991-02-15', 'label': 'February 15, 91', 'adjDividend': 0.00107, 'dividend': 0.00107, 'recordDate': '', 'paymentDate': '', 'declarationDate': ''}, {'date': '1990-11-19', 'label': 'November 19, 90', 'adjDividend': 0.0010714275, 'dividend': 0.12, 'recordDate': '1990-11-23', 'paymentDate': '1990-12-14', 'declarationDate': '1990-11-08'}, {'date': '1990-11-16', 'label': 'November 16, 90', 'adjDividend': 0.00107, 'dividend': 0.00107, 'recordDate': '', 'paymentDate': '', 'declarationDate': ''}, {'date': '1990-08-21', 'label': 'August 21, 90', 'adjDividend': 0.0009821419, 'dividend': 0.11, 'recordDate': '1990-08-24', 'paymentDate': '1990-09-14', 'declarationDate': '1990-07-23'}, {'date': '1990-08-20', 'label': 'August 20, 90', 'adjDividend': 0.00098, 'dividend': 0.00098, 'recordDate': '', 'paymentDate': '', 'declarationDate': ''}, {'date': '1990-05-22', 'label': 'May 22, 90', 'adjDividend': 0.0009821419, 'dividend': 0.11, 'recordDate': '1990-05-25', 'paymentDate': '1990-06-15', 'declarationDate': '1990-04-09'}, {'date': '1990-05-21', 'label': 'May 21, 90', 'adjDividend': 0.00098, 'dividend': 0.00098, 'recordDate': '', 'paymentDate': '', 'declarationDate': ''}, {'date': '1990-02-19', 'label': 'February 19, 90', 'adjDividend': 0.0009821419, 'dividend': 0.11, 'recordDate': '1990-02-23', 'paymentDate': '1990-03-15', 'declarationDate': '1990-02-02'}, {'date': '1990-02-16', 'label': 'February 16, 90', 'adjDividend': 0.00098, 'dividend': 0.00098, 'recordDate': '', 'paymentDate': '', 'declarationDate': ''}, {'date': '1989-11-17', 'label': 'November 17, 89', 'adjDividend': 0.00098, 'dividend': 0.00098, 'recordDate': '', 'paymentDate': '', 'declarationDate': ''}, {'date': '1989-08-21', 'label': 'August 21, 89', 'adjDividend': 0.00089, 'dividend': 0.00089, 'recordDate': '', 'paymentDate': '', 'declarationDate': ''}, {'date': '1989-05-22', 'label': 'May 22, 89', 'adjDividend': 0.00089, 'dividend': 0.00089, 'recordDate': '', 'paymentDate': '', 'declarationDate': ''}, {'date': '1989-02-17', 'label': 'February 17, 89', 'adjDividend': 0.00089, 'dividend': 0.00089, 'recordDate': '', 'paymentDate': '', 'declarationDate': ''}, {'date': '1988-11-21', 'label': 'November 21, 88', 'adjDividend': 0.00089, 'dividend': 0.00089, 'recordDate': '', 'paymentDate': '', 'declarationDate': ''}, {'date': '1988-08-15', 'label': 'August 15, 88', 'adjDividend': 0.00071, 'dividend': 0.00071, 'recordDate': '', 'paymentDate': '', 'declarationDate': ''}, {'date': '1988-05-16', 'label': 'May 16, 88', 'adjDividend': 0.00071, 'dividend': 0.00071, 'recordDate': '', 'paymentDate': '', 'declarationDate': ''}, {'date': '1988-02-12', 'label': 'February 12, 88', 'adjDividend': 0.00071, 'dividend': 0.00071, 'recordDate': '', 'paymentDate': '', 'declarationDate': ''}, {'date': '1987-11-17', 'label': 'November 17, 87', 'adjDividend': 0.00071, 'dividend': 0.00071, 'recordDate': '', 'paymentDate': '', 'declarationDate': ''}, {'date': '1987-08-10', 'label': 'August 10, 87', 'adjDividend': 0.00054, 'dividend': 0.00054, 'recordDate': '', 'paymentDate': '', 'declarationDate': ''}, {'date': '1987-05-11', 'label': 'May 11, 87', 'adjDividend': 0.00054, 'dividend': 0.00054, 'recordDate': '', 'paymentDate': '', 'declarationDate': ''}]}\n"
     ]
    }
   ],
   "source": [
    "print(f\"Historical Dividends: {fmpsdk.historical_stock_dividend(apikey=apikey, symbol=symbol)}\")"
   ]
  },
  {
   "cell_type": "code",
   "execution_count": 38,
   "metadata": {},
   "outputs": [],
   "source": [
    "# print(f\"Company Quote: {fmpsdk.quote(apikey=apikey, symbol=symbol)=}\")\n",
    "# print(f\"Multiple Company Quotes: {fmpsdk.quote(apikey=apikey, symbol=symbols)=}\")\n",
    "# print(f\"Key Executives: {fmpsdk.key_executives(apikey=apikey, symbol=symbol)=}\")\n",
    "# print(f\"Search: {fmpsdk.search(apikey=apikey, query=query, exchange=exchange, limit=limit)=}\")\n",
    "# print(f\"Ticker Search: {fmpsdk.search_ticker(apikey=apikey, query=query, exchange=exchange, limit=limit)=}\")\n",
    "# fmpsdk.financial_statement(apikey=apikey, symbol=symbol)\n",
    "# print(f\"Annual Income Statement: {fmpsdk.income_statement(apikey=apikey, symbol=symbol)=}\")\n",
    "# print(f\"Quarterly Income Statement: {fmpsdk.income_statement(apikey=apikey, symbol=symbol, period=quarter)=}\")\n",
    "# fmpsdk.income_statement(apikey=apikey, symbol=symbol, download=download)\n",
    "# print(f\"Annual Balance Sheet Statement: {fmpsdk.balance_sheet_statement(apikey=apikey, symbol=symbol)=}\")\n",
    "# print(f\"Quarterly Balance Sheet Statement: {fmpsdk.balance_sheet_statement(apikey=apikey, symbol=symbol, period=period)=}\")\n",
    "# fmpsdk.balance_sheet_statement(apikey=apikey, symbol=symbol, download=download)\n",
    "# print(f\"Annual Cash Flow Statement: {fmpsdk.cash_flow_statement(apikey=apikey, symbol=symbol, )=}\")\n",
    "# print(f\"Quarterly Cash Flow Statement: {fmpsdk.cash_flow_statement(apikey=apikey, symbol=symbol, period=period)=}\")\n",
    "# fmpsdk.cash_flow_statement(apikey=apikey, symbol=symbol, download=download)\n",
    "# print(f\"Financial Statement Symbols List: {fmpsdk.financial_statement_symbol_lists(apikey=apikey)=}\")\n",
    "# print(f\"Income Statement Growth: {fmpsdk.income_statement_growth(apikey=apikey, symbol=symbol, limit=limit)=}\")\n",
    "# print(f\"Balance Sheet Statement Growth: {fmpsdk.balance_sheet_statement_growth(apikey=apikey, symbol=symbol, limit=limit)=}\")\n",
    "# print(f\"Cash Flow Statement Growth: {fmpsdk.cash_flow_statement_growth(apikey=apikey, symbol=symbol, limit=limit)=}\")\n",
    "# print(f\"Annual Income Statement as Reported : {fmpsdk.income_statement_as_reported(apikey=apikey, symbol=symbol)=}\")\n",
    "# print(f\"Quarterly Income Statement as Reported: {fmpsdk.income_statement_as_reported(apikey=apikey, symbol=symbol, period=period)=}\")\n",
    "# fmpsdk.income_statement_as_reported(apikey=apikey, symbol=symbol, download=download)\n",
    "# print(f\"Annual Balance Sheet Statement as Reported : {fmpsdk.balance_sheet_statement_as_reported(apikey=apikey, symbol=symbol)=}\")\n",
    "# print(f\"Quarterly Balance Sheet Statement as Reported: {fmpsdk.balance_sheet_statement_as_reported(apikey=apikey, symbol=symbol, period=period)=}\")\n",
    "# fmpsdk.balance_sheet_statement_as_reported(apikey=apikey, symbol=symbol, download=download)\n",
    "# print(f\"Annual Cash Flow Statement as Reported : {fmpsdk.cash_flow_statement_as_reported(apikey=apikey, symbol=symbol)=}\")\n",
    "# print(f\"Quarterly Cash Flow Statement as Reported: {fmpsdk.cash_flow_statement_as_reported(apikey=apikey, symbol=symbol, period=period)=}\")\n",
    "# fmpsdk.cash_flow_statement_as_reported(apikey=apikey, symbol=symbol, download=download)\n",
    "# print(f\"Annual Full Financial Statement as Reported : {fmpsdk.financial_statement_full_as_reported(apikey=apikey, symbol=symbol)=}\")\n",
    "# print(f\"Quarterly Full Financial Statement as Reported: {fmpsdk.financial_statement_full_as_reported(apikey=apikey, symbol=symbol, period=period)=}\")\n",
    "# print(f\"Financial Ratios (TTM): {fmpsdk.financial_ratios_ttm(apikey=apikey, symbol=symbol)=}\")\n",
    "# print(f\"Annual Financial Ratios: {fmpsdk.financial_ratios(apikey=apikey, symbol=symbol)=}\")\n",
    "# print(f\"Quarterly Financial Ratios: {fmpsdk.financial_ratios(apikey=apikey, symbol=symbol, period=period)=}\")\n",
    "# print(f\"Annual Enterprise Values: {fmpsdk.enterprise_values(apikey=apikey, symbol=symbol)=}\")\n",
    "# print(f\"Quarterly Enterprise Values: {fmpsdk.enterprise_values(apikey=apikey, symbol=symbol, period=period)=}\")\n",
    "# print(f\"Key Metrics (TTM): {fmpsdk.key_metrics_ttm(apikey=apikey, symbol=symbol)=}\")\n",
    "# print(f\"Annual Key Metrics: {fmpsdk.key_metrics(apikey=apikey, symbol=symbol)=}\")\n",
    "# print(f\"Quarterly Key Metrics: {fmpsdk.key_metrics(apikey=apikey, symbol=symbol, period=period)=}\")\n",
    "# print(f\"Annual Financial Growth: {fmpsdk.financial_growth(apikey=apikey, symbol=symbol)=}\")\n",
    "# print(f\"Quarterly Financial Growth: {fmpsdk.financial_growth(apikey=apikey, symbol=symbol, period=period)=}\")\n",
    "# print(f\"Company Rating: {fmpsdk.rating(apikey=apikey, symbol=symbol)=}\")\n",
    "# print(f\"Historical Company Rating: {fmpsdk.historical_rating(apikey=apikey, symbol=symbol, limit=limit)=}\")\n",
    "# print(f\"Discounted Cash Flow: {fmpsdk.discounted_cash_flow(apikey=apikey, symbol=symbol)=}\")\n",
    "# print(f\"Annual Historical Discounted Cash Flow: {fmpsdk.historical_discounted_cash_flow(apikey=apikey, symbol=symbol)=}\")\n",
    "# print(f\"Quarterly Historical Discounted Cash Flow: {fmpsdk.historical_discounted_cash_flow(apikey=apikey, symbol=symbol, period=period)=}\")\n",
    "# print(f\"Daily Historical Discounted Cash Flow: {fmpsdk.historical_daily_discounted_cash_flow(apikey=apikey, symbol=symbol)=}\")\n",
    "# print(f\"Market Capitalization: {fmpsdk.market_capitalization(apikey=apikey, symbol=symbol)=}\")\n",
    "# print(f\"Historical Market Capitalization: {fmpsdk.historical_market_capitalization(apikey=apikey, symbol=symbol, limit=limit)=}\")\n",
    "# print(f\"Symbols List: {fmpsdk.symbols_list(apikey=apikey)=}\")\n",
    "# print(f\"Stock Screener (Sector Example): {fmpsdk.stock_screener(apikey=apikey, market_cap_more_than=market_cap_more_than, beta_more_than=beta_more_than, volume_more_than=volume_more_than, sector=sector, exchange=exchange, dividend_more_than=dividend_more_than, limit=limit)=}\")\n",
    "# print(f\"Stock Screener (Industry Example): {fmpsdk.stock_screener(apikey=apikey, market_cap_more_than=market_cap_more_than, beta_more_than=beta_more_than, volume_more_than=volume_more_than, sector=sector, industry=industry, exchange=exchange, dividend_more_than=dividend_more_than, limit=limit)=}\")\n",
    "# print(f\"Stock Screener (Multiple Exchanges Example): {fmpsdk.stock_screener(apikey=apikey, market_cap_more_than=market_cap_more_than, beta_more_than=beta_more_than, volume_more_than=volume_more_than, exchange=exchanges)=}\")\n",
    "# print(f\"Delisted Companies: {fmpsdk.delisted_companies(apikey=apikey, limit=limit)=}\")\n",
    "# print(f\"Stock News (Single): {fmpsdk.stock_news(apikey=apikey, tickers=symbol)=}\")\n",
    "# print(f\"Stock News (Multiple): {fmpsdk.stock_news(apikey=apikey, tickers=symbols)=}\")\n",
    "# print(f\"Stock News (Latest): {fmpsdk.stock_news(apikey=apikey, limit=limit)=}\")\n",
    "# print(f\"Earnings Surprises: {fmpsdk.earnings_surprises(apikey=apikey, symbol=symbol)=}\")\n",
    "# print(f\"SEC Filings: {fmpsdk.sec_filings(apikey=apikey, symbol=symbol, filing_type=filing_type)=}\")\n",
    "# print(f\"Press Releases: {fmpsdk.press_releases(apikey=apikey, symbol=symbol)=}\")\n"
   ]
  },
  {
   "cell_type": "code",
   "execution_count": 39,
   "metadata": {},
   "outputs": [],
   "source": [
    "# Calendars\n",
    "from_date: str = \"2020-04-26\"\n",
    "to_date: str = \"2020-07-26\"\n",
    "symbol: str = \"CSCO\"\n",
    "limit: int = 3\n",
    "# print(f\"Earning Calendar: {fmpsdk.earning_calendar(apikey=apikey)=}\")\n",
    "# print(f\"Earning Calendar: {fmpsdk.earning_calendar(apikey=apikey, from_date=from_date, to_date=to_date)=}\")\n",
    "# print(f\"Historical Earning Calendar: {fmpsdk.historical_earning_calendar(apikey=apikey, symbol=symbol, limit=limit)=}\")\n",
    "# print(f\"IPO Calendar: {fmpsdk.ipo_calendar(apikey=apikey, from_date=from_date, to_date=to_date)=}\")\n",
    "# print(f\"Stock Split Calendar: {fmpsdk.stock_split_calendar(apikey=apikey, from_date=from_date, to_date=to_date)=}\")\n",
    "# print(f\"Dividend Calendar: {fmpsdk.dividend_calendar(apikey=apikey, from_date=from_date, to_date=to_date)=}\")\n",
    "# print(f\"Economic Calendar: {fmpsdk.economic_calendar(apikey=apikey, from_date=from_date, to_date=to_date)=}\")\n",
    "\n",
    "# Institutional Fund\n",
    "symbol: str = \"SPY\"\n",
    "download: bool = True\n",
    "name: str = \"Berkshire\"\n",
    "cik_id: str = \"0000913760\"\n",
    "date: str = \"2020-06-30\"\n",
    "# print(f\"Institutional Holders: {fmpsdk.institutional_holders(apikey=apikey, symbol=symbol)=}\")\n",
    "# print(f\"Mutual Fund Holders: {fmpsdk.mutual_fund_holders(apikey=apikey, symbol=symbol)=}\")\n",
    "# print(f\"ETF Holders: {fmpsdk.etf_holders(apikey=apikey, symbol=symbol)=}\")\n",
    "# print(f\"ETF Sector Weightings: {fmpsdk.etf_sector_weightings(apikey=apikey, symbol=symbol)=}\")\n",
    "# print(f\"ETF Country Weightings: {fmpsdk.etf_country_weightings(apikey=apikey, symbol=symbol)=}\")\n",
    "# print(f\"SEC RSS Feeds: {fmpsdk.sec_rss_feeds(apikey=apikey)=}\")\n",
    "# print(f\"SEC RSS Feeds: {fmpsdk.sec_rss_feeds(apikey=apikey, download=download)=}\")\n",
    "# print(f\"Form 13F List: {fmpsdk.cik_list(apikey=apikey)=}\")\n",
    "# print(f\"CIK Search by Company Name: {fmpsdk.cik_search(apikey=apikey, name=name)=}\")\n",
    "# print(f\"CIK Search by CIK: {fmpsdk.cik(apikey=apikey, cik_id=cik_id)=}\")\n",
    "# print(f\"Form 13F: {fmpsdk.form_13f(apikey=apikey, cik_id=cik_id, date=date)=}\")\n",
    "# print(f\"CUSIP: {fmpsdk.cusip(apikey=apikey, cik_id=cik_id)=}\")\n",
    "\n",
    "# Stock Time Series Methods\n",
    "symbol: str = \"MSFT\"\n",
    "exchange: str = \"NYSE\"\n",
    "time_delta: str = \"5min\"\n",
    "series_type: str = \"line\"\n",
    "from_date: str = \"2020-04-26\"\n",
    "to_date: str = \"2020-07-26\"\n",
    "time_series: int = 5\n",
    "symbols: typing.List[str] = [\"AAPL\", \"CSCO\", \"QQQQ\"]\n",
    "mutual_funds: typing.List[str] = [\"JBFRX\", \"BPLEX\", \"VEVRX\"]\n",
    "# print(f\"Quote Realtime: {fmpsdk.quote_short(apikey=apikey, symbol=symbol)=}\")\n",
    "# print(f\"Exchange Realtime: {fmpsdk.exchange_realtime(apikey=apikey, exchange=exchange)=}\")\n",
    "# print(f\"Historical Stock Prices: {fmpsdk.historical_chart(apikey=apikey, symbol=symbol, time_delta=time_delta)=}\")\n",
    "# print(f\"Historical Daily Prices: {fmpsdk.historical_price_full(apikey=apikey, symbol=symbol, series_type=series_type)=}\")\n",
    "# print(f\"Historical Daily Prices with Change and Volume: {fmpsdk.historical_price_full(apikey=apikey, symbol=symbol)=}\")\n",
    "# print(f\"Historical Daily Prices with Change and Volume (Interval): {fmpsdk.historical_price_full(apikey=apikey, symbol=symbol, from_date=from_date, to_date=to_date)=}\")\n",
    "# print(f\"Historical Daily Prices with Change and Volume (Time Series): {fmpsdk.historical_price_full(apikey=apikey, symbol=symbol, time_series=time_series)=}\")\n",
    "# print(f\"Historical Daily Prices (Batch Stocks): {fmpsdk.historical_price_full(apikey=apikey, symbol=symbols)=}\")\n",
    "# print(f\"Historical Daily Prices (Batch Mutual Funds): {fmpsdk.historical_price_full(apikey=apikey, symbol=mutual_funds)=}\")\n",
    "# print(f\"Historical Dividends: {fmpsdk.historical_stock_dividend(apikey=apikey, symbol=symbol)=}\")\n",
    "# print(f\"Historical Stock Split: {fmpsdk.historical_stock_split(apikey=apikey, symbol=symbol)=}\")\n",
    "\n",
    "# Technical Indicators\n",
    "symbol: str = \"AAPL\"\n",
    "period: int = 10\n",
    "statistics_type: str = \"sma\"\n",
    "time_delta_daily: str = \"daily\"\n",
    "time_delta_15min: str = \"15min\"\n",
    "# print(f\"Daily Technical Indicators: {fmpsdk.technical_indicators(apikey=apikey, symbol=symbol, period=period, statistics_type=statistics_type, time_delta=time_delta_daily)=}\")\n",
    "# print(f\"Intraday Technical Indicators: {fmpsdk.technical_indicators(apikey=apikey, symbol=symbol, period=period, statistics_type=statistics_type, time_delta=time_delta_15min)=}\")\n",
    "\n",
    "# Market Indexes\n",
    "symbol: str = \"^RUITR\"\n",
    "download: bool = True\n",
    "time_delta_15min: str = \"15min\"\n",
    "# print(f\"List Market Indexes: {fmpsdk.indexes(apikey=apikey)=}\")\n",
    "# print(f\"Index Quote: {fmpsdk.quote(apikey=apikey, symbol=symbol)=}\")\n",
    "# print(f\"SP500 Contituent: {fmpsdk.sp500_constituent(apikey=apikey)=}\")\n",
    "# fmpsdk.sp500_constituent(apikey=apikey, download=download)\n",
    "# print(f\"Historical SP500 Contituent: {fmpsdk.historical_sp500_constituent(apikey=apikey)=}\")\n",
    "# print(f\"NASDAQ Contituent: {fmpsdk.nasdaq_constituent(apikey=apikey)=}\")\n",
    "# fmpsdk.nasdaq_constituent(apikey=apikey, download=download)\n",
    "# print(f\"Historical NASDAQ Contituent: {fmpsdk.historical_nasdaq_constituent(apikey=apikey)=}\")\n",
    "# print(f\"DOWJONES Contituent: {fmpsdk.dowjones_constituent(apikey=apikey)=}\")\n",
    "# fmpsdk.dowjones_constituent(apikey=apikey, download=download)\n",
    "# print(f\"Historical DOWJONES Contituent: {fmpsdk.historical_dowjones_constituent(apikey=apikey)=}\")\n",
    "# print(f\"Available Indexes: {fmpsdk.available_indexes(apikey=apikey)=}\")\n",
    "# print(f\"Intraday Historical Index Prices: {fmpsdk.historical_chart(apikey=apikey, symbol=symbol, time_delta=time_delta_15min)=}\")\n",
    "# print(f\"Historical Market Index: {fmpsdk.historical_price_full(apikey=apikey, symbol=symbol)=}\")\n",
    "\n",
    "# Commodities\n",
    "symbol: str = \"ZGUSD\"\n",
    "symbols: typing.List[str] = [\"ZGUSD\", \"CLUSD\", \"HGUSD\"]\n",
    "time_delta_15min: str = \"15min\"\n",
    "# print(f\"Available Commodities': {fmpsdk.available_commodities(apikey=apikey)=}\")\n",
    "# print(f\"Commodities': {fmpsdk.commodities_list(apikey=apikey)=}\")\n",
    "# print(f\"Commodity Quote': {fmpsdk.quote(apikey=apikey, symbol=symbols)=}\")\n",
    "# print(f\"Historical Commodity Prices: {fmpsdk.historical_chart(apikey=apikey, symbol=symbol, time_delta=time_delta_5min)=}\")\n",
    "# print(f\"Historical Daily Commodity Prices: {fmpsdk.historical_price_full(apikey=apikey, symbol=symbol)=}\")\n",
    "\n",
    "# ETF\n",
    "symbol = \"PRNT\"\n",
    "symbols = [\"PRNT\", \"DFVS\", \"VQT\"]\n",
    "time_delta_5min: str = \"5min\"\n",
    "# print(f\"Available ETFs': {fmpsdk.available_efts(apikey=apikey)=}\")\n",
    "# print(f\"ETFs': {fmpsdk.etf_list(apikey=apikey)=}\")\n",
    "# print(f\"ETF Quote': {fmpsdk.quote(apikey=apikey, symbol=symbols)=}\")\n",
    "# print(f\"Historical ETF Prices: {fmpsdk.historical_chart(apikey=apikey, symbol=symbol, time_delta=time_delta_5min)=}\")\n",
    "# print(f\"Historical Daily ETF Prices: {fmpsdk.historical_price_full(apikey=apikey, symbol=symobl)=}\")\n",
    "# print(f\"Historical Dividends: {fmpsdk.historical_stock_dividend(apikey=apikey, symbol=symbol)=}\")\n",
    "# print(f\"Historical Stock Split: {fmpsdk.historical_stock_split(apikey=apikey, symbol=symbol)=}\")\n",
    "\n",
    "# Mutual Funds\n",
    "symbol: str = \"JMCRX\"\n",
    "symbols: typing.List[str] = [\"JMCRX\", \"JSMTX\", \"JUESX\"]\n",
    "time_delta_5min: str = \"5min\"\n",
    "# print(f\"Available Mutual Funds: {fmpsdk.available_mutual_funds(apikey=apikey)=}\")\n",
    "# print(f\"Mutual Funds: {fmpsdk.mutual_fund_list(apikey=apikey)=}\")\n",
    "# print(f\"Mutual Fund Quote: {fmpsdk.quote(apikey=apikey, symbol=symbols)=}\")\n",
    "# print(f\"Historical Mutual Fund Prices: {fmpsdk.historical_chart(apikey=apikey, symbol=symbol, time_delta=time_delta_5min)=}\")\n",
    "# print(f\"Historical Daily Mutual Fund Prices: {fmpsdk.historical_price_full(apikey=apikey, symbol=symbol)=}\")\n",
    "# print(f\"Historical Dividends: {fmpsdk.historical_stock_dividend(apikey=apikey, symbol=symbol)=}\")\n",
    "# print(f\"Historical Stock Split: {fmpsdk.historical_stock_split(apikey=apikey, symbol=symbol)=}\")\n",
    "\n",
    "# EuroNext\n",
    "symbol: str = \"KIN.BR\"\n",
    "symbols: typing.List[str] = [\"EDF.PA\", \"KIN.BR\", \"SCB.LS\"]\n",
    "time_delta_5min: str = \"5min\"\n",
    "# print(f\"Available EuroNext: {fmpsdk.available_euronext(apikey=apikey)=}\")\n",
    "# print(f\"EuroNext: {fmpsdk.euronext_list(apikey=apikey)=}\")\n",
    "# print(f\"EuroNext Quote: {fmpsdk.quote(apikey=apikey, symbol=symbols)=}\")\n",
    "# print(f\"Historical EuroNext Prices: {fmpsdk.historical_chart(apikey=apikey, symbol=symbol, time_delta=time_delta_5min)=}\")\n",
    "# print(f\"Historical Daily EuroNext Prices: {fmpsdk.historical_price_full(apikey=apikey, symbol=symbol)=}\")\n",
    "# print(f\"Historical Dividends: {fmpsdk.historical_stock_dividend(apikey=apikey, symbol=symbol)=}\")\n",
    "# print(f\"Historical Stock Split: {fmpsdk.historical_stock_split(apikey=apikey, symbol=symbol)=}\")\n",
    "\n",
    "# TSX\n",
    "symbol: str = \"FNV.TO\"\n",
    "symbols: typing.List[str] = [\"FNV.TO\", \"XAW.TO\", \"DR.TO\"]\n",
    "time_delta_5min: str = \"5min\"\n",
    "# print(f\"Available TSX: {fmpsdk.available_tsx(apikey=apikey)=}\")\n",
    "# print(f\"TSX: {fmpsdk.tsx_list(apikey=apikey)=}\")\n",
    "# print(f\"TSX Quote: {fmpsdk.quote(apikey=apikey, symbol=symbols)=}\")\n",
    "# print(f\"Historical TSX Prices: {fmpsdk.historical_chart(apikey=apikey, symbol=symbol, time_delta=time_delta_5min)=}\")\n",
    "# print(f\"Historical Daily TSX Prices: {fmpsdk.historical_price_full(apikey=apikey, symbol=symbol)=}\")\n",
    "# print(f\"Historical Dividends: {fmpsdk.historical_stock_dividend(apikey=apikey, symbol=symbol)=}\")\n",
    "# print(f\"Historical Stock Split: {fmpsdk.historical_stock_split(apikey=apikey, symbol=symbol)=}\")\n",
    "\n",
    "# Stock Market\n",
    "limit: int = 3\n",
    "# print(f\"Active Stock in Market: {fmpsdk.actives(apikey=apikey)=}\")\n",
    "# print(f\"Stock in Market Gainers: {fmpsdk.gainers(apikey=apikey)=}\")\n",
    "# print(f\"Active Stock in Market Losers: {fmpsdk.losers(apikey=apikey)=}\")\n",
    "# print(f\"Market Hours: {fmpsdk.market_hours(apikey=apikey)=}\")\n",
    "# print(f\"Sector's Performance: {fmpsdk.sectors_performance(apikey=apikey, limit=limit)=}\")\n",
    "\n",
    "\n",
    "# Cryptocurrencies\n",
    "symbol: str = \"BTCUSD\"\n",
    "time_delta_5min: str = \"5min\"\n",
    "# print(f\"Cryptocurrencies: {fmpsdk.cryptocurrencies_list(apikey=apikey)=}\")\n",
    "# print(f\"Cryptocurrencies Quote: {fmpsdk.quote(apikey=apikey, symbol=symbol)=}\")\n",
    "# print(f\"Available Cryptocurrencies: {fmpsdk.available_cryptocurrencies(apikey=apikey)=}\")\n",
    "# print(f\"Historical Cryptocurrencies Prices: {fmpsdk.historical_chart(apikey=apikey, symbol=symbol, time_delta=time_delta_5min)=}\")\n",
    "# print(f\"Historical Daily Cryptocurrencies Prices: {fmpsdk.historical_price_full(apikey=apikey, symbol=symbol)=}\")\n",
    "\n",
    "# FOREX (FX)\n",
    "symbol: str = \"JPYUSD\"\n",
    "time_delta_5min: str = \"5min\"\n",
    "# print(f\"Currency Exchange Rates: {fmpsdk.forex(apikey=apikey)}\")\n",
    "# print(f\"Forex: {fmpsdk.forex_list(apikey=apikey)=}\")\n",
    "# print(f\"Forex Quote: {fmpsdk.quote(apikey=apikey, symbol=symbol)=}\")\n",
    "# print(f\"Available Forex Currency Pairs: {fmpsdk.available_cryptocurrencies(apikey=apikey)=}\")\n",
    "# print(f\"Historical Forex Prices: {fmpsdk.historical_chart(apikey=apikey, symbol=symbol, time_delta=time_delta_5min)=}\")\n",
    "# print(f\"Historical Daily Forex Prices: {fmpsdk.historical_price_full(apikey=apikey, symbol=symbol)=}\")"
   ]
  }
 ],
 "metadata": {
  "kernelspec": {
   "display_name": "Python 3",
   "language": "python",
   "name": "python3"
  },
  "language_info": {
   "codemirror_mode": {
    "name": "ipython",
    "version": 3
   },
   "file_extension": ".py",
   "mimetype": "text/x-python",
   "name": "python",
   "nbconvert_exporter": "python",
   "pygments_lexer": "ipython3",
   "version": "3.7.4"
  }
 },
 "nbformat": 4,
 "nbformat_minor": 4
}
