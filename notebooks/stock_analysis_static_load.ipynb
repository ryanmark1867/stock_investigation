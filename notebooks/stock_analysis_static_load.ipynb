{
 "cells": [
  {
   "cell_type": "markdown",
   "metadata": {
    "id": "InRCaIfsttEW"
   },
   "source": [
    "# Stock Analysis Using LSTM - static load module\n",
    "- load selected features and save in pickle files / CSVs"
   ]
  },
  {
   "cell_type": "markdown",
   "metadata": {},
   "source": [
    "# Feature series frequency and beginning dates:\n",
    "- '2 YR','30 YR' - daily; 1990-01-02\n",
    "- 'Sector_Close' - daily; depends on sector\n",
    "- 'VIX' - daily; 2001-05-15\n",
    "- 'URTH' - daily; 2012-01-12\n",
    "- 'personal_sav_rate' - monthly; 1959-01-01\n",
    "- 'oil_price' - daily; 1986-01-02\n",
    "- 'schiller_ratio' - monthly; 1871-02-01\n",
    "- 'consumer_sentiment' - every 4 months, then monthly; 1952-11-30\n",
    "- 'public_debt' - quarterly; 1966-01-01\n",
    "- 'Bullish', 'Bearish' - weekly; 1987-06-26\n",
    "- 'gdp' - quarterly; 1947-01-01\n",
    "- 'cpi' - monthly; 1947-01-01\n",
    "- 'us_dollar_index' - yearly; 1995-01-01"
   ]
  },
  {
   "cell_type": "markdown",
   "metadata": {
    "id": "GA1ksHAIttEf"
   },
   "source": [
    "# Import required libraries and set up notebook\n"
   ]
  },
  {
   "cell_type": "code",
   "execution_count": 12,
   "metadata": {},
   "outputs": [
    {
     "name": "stdout",
     "output_type": "stream",
     "text": [
      "Python 3.7.4\n"
     ]
    }
   ],
   "source": [
    "! python --version"
   ]
  },
  {
   "cell_type": "code",
   "execution_count": 13,
   "metadata": {
    "executionInfo": {
     "elapsed": 1460,
     "status": "ok",
     "timestamp": 1611806431398,
     "user": {
      "displayName": "Mark Ryan",
      "photoUrl": "https://lh3.googleusercontent.com/a-/AOh14GiOaJEeoxteIdEhraqpv8y7ol-feJVt-BYY9ceTIQ=s64",
      "userId": "08045617267833954278"
     },
     "user_tz": 300
    },
    "id": "GdtAhwhattEh"
   },
   "outputs": [
    {
     "name": "stdout",
     "output_type": "stream",
     "text": [
      "Requirement already satisfied: quandl in c:\\users\\ryanm\\appdata\\local\\programs\\python\\python37\\lib\\site-packages (3.6.0)\n",
      "Requirement already satisfied: inflection>=0.3.1 in c:\\users\\ryanm\\appdata\\local\\programs\\python\\python37\\lib\\site-packages (from quandl) (0.3.1)\n",
      "Requirement already satisfied: more-itertools in c:\\users\\ryanm\\appdata\\local\\programs\\python\\python37\\lib\\site-packages (from quandl) (8.6.0)\n",
      "Requirement already satisfied: requests>=2.7.0 in c:\\users\\ryanm\\appdata\\local\\programs\\python\\python37\\lib\\site-packages (from quandl) (2.22.0)\n",
      "Requirement already satisfied: python-dateutil in c:\\users\\ryanm\\appdata\\local\\programs\\python\\python37\\lib\\site-packages (from quandl) (2.8.0)\n",
      "Requirement already satisfied: pandas>=0.14 in c:\\users\\ryanm\\appdata\\local\\programs\\python\\python37\\lib\\site-packages (from quandl) (1.2.4)\n",
      "Requirement already satisfied: six in c:\\users\\ryanm\\appdata\\local\\programs\\python\\python37\\lib\\site-packages (from quandl) (1.12.0)\n",
      "Requirement already satisfied: numpy>=1.8 in c:\\users\\ryanm\\appdata\\local\\programs\\python\\python37\\lib\\site-packages (from quandl) (1.19.5)\n",
      "Requirement already satisfied: pytz>=2017.3 in c:\\users\\ryanm\\appdata\\local\\programs\\python\\python37\\lib\\site-packages (from pandas>=0.14->quandl) (2019.2)\n",
      "Requirement already satisfied: certifi>=2017.4.17 in c:\\users\\ryanm\\appdata\\local\\programs\\python\\python37\\lib\\site-packages (from requests>=2.7.0->quandl) (2019.6.16)\n",
      "Requirement already satisfied: idna<2.9,>=2.5 in c:\\users\\ryanm\\appdata\\local\\programs\\python\\python37\\lib\\site-packages (from requests>=2.7.0->quandl) (2.8)\n",
      "Requirement already satisfied: urllib3!=1.25.0,!=1.25.1,<1.26,>=1.21.1 in c:\\users\\ryanm\\appdata\\local\\programs\\python\\python37\\lib\\site-packages (from requests>=2.7.0->quandl) (1.25.3)\n",
      "Requirement already satisfied: chardet<3.1.0,>=3.0.2 in c:\\users\\ryanm\\appdata\\local\\programs\\python\\python37\\lib\\site-packages (from requests>=2.7.0->quandl) (3.0.4)\n",
      "past pandas_datareader\n"
     ]
    },
    {
     "name": "stderr",
     "output_type": "stream",
     "text": [
      "WARNING: You are using pip version 21.0.1; however, version 21.2.3 is available.\n",
      "You should consider upgrading via the 'c:\\users\\ryanm\\appdata\\local\\programs\\python\\python37\\python.exe -m pip install --upgrade pip' command.\n"
     ]
    }
   ],
   "source": [
    "! pip install quandl\n",
    "#! pip install pip --upgrade\n",
    "#! pip install pandas-datareader\n",
    "print(\"past pandas_datareader\")\n",
    "#! pip install yahoo_fin\n",
    "import pandas as pd\n",
    "import numpy as np\n",
    "import os\n",
    "import yaml\n",
    "from datetime import date\n",
    "import requests\n",
    "from sklearn.metrics import classification_report\n",
    "\n",
    "import matplotlib.pyplot as plt\n",
    "import seaborn as sns\n",
    "sns.set_style('whitegrid')\n",
    "plt.style.use(\"fivethirtyeight\")\n",
    "%matplotlib inline\n",
    "\n",
    "# For reading stock data from yahoo\n",
    "#import pandas_datareader as pdr\n",
    "from pandas_datareader.data import DataReader\n",
    "# import yahoo_fin.stock_info as si\n",
    "\n",
    "# For time stamps\n",
    "from datetime import datetime\n",
    "\n",
    "# for LSTM\n",
    "from keras.models import Sequential\n",
    "from keras.layers import Dense, LSTM, Input\n",
    "from keras.models import Model\n",
    "# from tensorflow.keras.layers import Input, Dropout, Dense, BatchNormalization, Activation, concatenate, GRU, Embedding, Flatten, BatchNormalization\n",
    "from sklearn.preprocessing import MinMaxScaler\n",
    "from sklearn.preprocessing import StandardScaler\n",
    "from tensorflow.keras.models import load_model\n",
    "# access datasets from quandl.com - need to pip install Quandl to use\n",
    "import quandl\n",
    "on_colab = False\n",
    "verboseout = True\n",
    "results_columns = ['ticker','feature_list','total deviation','avg deviation','max deviation','min deviation','proportion good days']    \n",
    "config_file = 'model_training_config.yml'\n",
    "feature_df_dict = {}"
   ]
  },
  {
   "cell_type": "code",
   "execution_count": 14,
   "metadata": {},
   "outputs": [
    {
     "data": {
      "text/plain": [
       "'1.15.0'"
      ]
     },
     "execution_count": 14,
     "metadata": {},
     "output_type": "execute_result"
    }
   ],
   "source": [
    "import tensorflow as tf\n",
    "tf.__version__"
   ]
  },
  {
   "cell_type": "code",
   "execution_count": 15,
   "metadata": {},
   "outputs": [],
   "source": [
    "start_timestamp = datetime.now()\n",
    "if on_colab:\n",
    "    from google.colab import drive\n",
    "    drive.mount('/content/drive')"
   ]
  },
  {
   "cell_type": "code",
   "execution_count": 16,
   "metadata": {},
   "outputs": [],
   "source": [
    "if on_colab:\n",
    "    %cd /content/drive/MyDrive/karma_jan_2021/stock_investigation/notebooks"
   ]
  },
  {
   "cell_type": "markdown",
   "metadata": {},
   "source": [
    "# Load config parameters"
   ]
  },
  {
   "cell_type": "code",
   "execution_count": 17,
   "metadata": {
    "colab": {
     "base_uri": "https://localhost:8080/"
    },
    "executionInfo": {
     "elapsed": 2330,
     "status": "ok",
     "timestamp": 1611806432280,
     "user": {
      "displayName": "Mark Ryan",
      "photoUrl": "https://lh3.googleusercontent.com/a-/AOh14GiOaJEeoxteIdEhraqpv8y7ol-feJVt-BYY9ceTIQ=s64",
      "userId": "08045617267833954278"
     },
     "user_tz": 300
    },
    "id": "uwJ6aCMDttEi",
    "outputId": "8105b877-ad16-4665-e584-59858f3f1108"
   },
   "outputs": [
    {
     "name": "stdout",
     "output_type": "stream",
     "text": [
      "current directory is: C:\\personal\\karma_stocks_2021\\stock_investigation\\notebooks\n",
      "path_to_yaml C:\\personal\\karma_stocks_2021\\stock_investigation\\notebooks\\model_training_config.yml\n"
     ]
    }
   ],
   "source": [
    "# load config file\n",
    "current_path = os.getcwd()\n",
    "print(\"current directory is: \"+current_path)\n",
    "\n",
    "path_to_yaml = os.path.join(current_path, config_file)\n",
    "print(\"path_to_yaml \"+path_to_yaml)\n",
    "try:\n",
    "    with open (path_to_yaml, 'r') as c_file:\n",
    "        config = yaml.safe_load(c_file)\n",
    "except Exception as e:\n",
    "    print('Error reading the config file')"
   ]
  },
  {
   "cell_type": "code",
   "execution_count": 18,
   "metadata": {
    "executionInfo": {
     "elapsed": 2324,
     "status": "ok",
     "timestamp": 1611806432284,
     "user": {
      "displayName": "Mark Ryan",
      "photoUrl": "https://lh3.googleusercontent.com/a-/AOh14GiOaJEeoxteIdEhraqpv8y7ol-feJVt-BYY9ceTIQ=s64",
      "userId": "08045617267833954278"
     },
     "user_tz": 300
    },
    "id": "6Q2YaYEmttEj"
   },
   "outputs": [],
   "source": [
    "# set parameters\n",
    "# parameters that could change if the CSV file is used to drive multiple runs are set in the dictionary parms\n",
    "parms = {}\n",
    "parms['repeatable_run'] = config['general']['repeatable_run']\n",
    "# fix seeds to get identical results on mulitiple runs\n",
    "if parms['repeatable_run']:\n",
    "    from numpy.random import seed\n",
    "    seed(4)\n",
    "    # dumb switch to make up for dumb regression going from TF 1 to TF 2\n",
    "    if tf.__version__ == '1.15.0':\n",
    "        tf.set_random_seed(7)\n",
    "    else:\n",
    "        tf.random.set_seed(7)\n",
    "\n",
    "\n",
    "#master_date_mode', 'master_start', 'master_end',\n",
    "#       'repeatable_run', 'years_window', 'training_proportion',\n",
    "#       'close_threshold', 'look_back', 'look_ahead', 'look_ahead_scale',\n",
    "#       'tech_list'\n",
    "list_parms = ['tech_list']\n",
    "plot_all = config['general']['verboseout']\n",
    "use_saved_model = config['general']['presaved']\n",
    "ust_cols = config['general']['ust_cols']\n",
    "report_round = config['general']['report_round']\n",
    "# list of ticket symbols\n",
    "# e.g. tech_list = ['AAPL', 'GOOG', 'MSFT', 'AMZN']\n",
    "parms['tech_list'] = config['tech_list']\n",
    "# dictionary to seed stock handles with company names\n",
    "saved_model_modifier = config['files']['saved_model_modifier']\n",
    "# get the column lists\n",
    "parms['close_threshold'] = config['general']['close_threshold']\n",
    "quandl_token = config['general']['quandl_token']\n",
    "rapidai_key = config['general']['rapidai_key']\n",
    "# number of days previous used to predict subsequent day\n",
    "parms['look_back'] = config['general']['look_back']\n",
    "# gap in day betwen the last day previous and the subsequent day being predicted\n",
    "parms['look_ahead'] = config['general']['look_ahead']\n",
    "parms['look_ahead_scale'] = config['general']['look_ahead_scale']\n",
    "parms['years_window'] = config['general']['years_window']\n",
    "# target column\n",
    "lstm_target = config['general']['lstm_target']\n",
    "# list from target column\n",
    "lstm_target_list = [lstm_target]\n",
    "# additional features beyond the target column\n",
    "feature_list = config['general']['feature_list']\n",
    "# complete list of features LSTM trained on\n",
    "lstm_feature_list = lstm_target_list+feature_list\n",
    "# switch to determine normalization method\n",
    "min_max_norm = config['general']['min_max_norm']\n",
    "eod_token = config['general']['eod_token']\n",
    "sector_ticker = config['files']['sector_ticker']\n",
    "multi_parm_file = config['files']['multi_parm_file'] # CSV file containing parms for multiple runs\n",
    "debug_on = config['general']['debug_on']\n",
    "max_years_back = config['general']['max_years_back']\n",
    "parms['master_date_mode'] = config['general']['master_date_mode']\n",
    "parms['master_start'] = config['general']['master_start']\n",
    "parms['master_end'] = config['general']['master_end']\n",
    "parms['training_proportion'] = config['general']['training_proportion']\n",
    "static_feature_list = config['static_load']['static_feature_list']\n",
    "static_load_end = config['static_load']['static_load_end']\n",
    "\n",
    "multi_parm_run = config['general']['multi_parm_run']\n",
    "# ensure value of training_proportion is valid\n",
    "if (parms['training_proportion'] < 0.25) or (parms['training_proportion'] > 0.9):\n",
    "    print(\"setting default training proportion\")\n",
    "    parms['training_proportion'] = 0.8"
   ]
  },
  {
   "cell_type": "code",
   "execution_count": 19,
   "metadata": {
    "colab": {
     "base_uri": "https://localhost:8080/"
    },
    "executionInfo": {
     "elapsed": 2297,
     "status": "ok",
     "timestamp": 1611806432297,
     "user": {
      "displayName": "Mark Ryan",
      "photoUrl": "https://lh3.googleusercontent.com/a-/AOh14GiOaJEeoxteIdEhraqpv8y7ol-feJVt-BYY9ceTIQ=s64",
      "userId": "08045617267833954278"
     },
     "user_tz": 300
    },
    "id": "XQjAr633CmYT",
    "outputId": "82a71416-6d92-4e33-d566-19dbc9298eed"
   },
   "outputs": [
    {
     "data": {
      "text/plain": [
       "{'general': {'verboseout': False,\n",
       "  'includetext': True,\n",
       "  'on_colab': False,\n",
       "  'debug_on': False,\n",
       "  'presaved': False,\n",
       "  'savemodel': False,\n",
       "  'picklemodel': True,\n",
       "  'save_model_plot': False,\n",
       "  'tensorboard_callback': False,\n",
       "  'hctextmax': 7000,\n",
       "  'maxwords': 6000,\n",
       "  'textmax': 50,\n",
       "  'pickled_data_file': '20142018_0930.pkl',\n",
       "  'pickled_dataframe': 'AB_NYC_2019_output_aug19_2020.pkl',\n",
       "  'modifier': 'oct05_2020',\n",
       "  'targetthresh': 6.0,\n",
       "  'targetcontinuous': False,\n",
       "  'target_col': 'price',\n",
       "  'emptythresh': 6000,\n",
       "  'zero_weight': 1.0,\n",
       "  'one_weight': 45.878,\n",
       "  'one_weight_offset': 0,\n",
       "  'patience_threshold': 3,\n",
       "  'min_max_norm': True,\n",
       "  'master_date_mode': True,\n",
       "  'master_start': '2020-08-01',\n",
       "  'master_end': '2021-08-10',\n",
       "  'repeatable_run': False,\n",
       "  'years_window': 2,\n",
       "  'max_years_back': 20,\n",
       "  'training_proportion': 0.8,\n",
       "  'close_threshold': 0.01,\n",
       "  'report_round': 4,\n",
       "  'ust_cols': ['2 YR'],\n",
       "  'quandl_token': 'uCghYBw8CtpUvWct_W8c',\n",
       "  'finnhumb_key': 'c16hj0f48v6ppg7erf7g',\n",
       "  'rapidai_key': 'd747b1fadamsh1d7ce49966b2dffp161862jsnab3680125c9e',\n",
       "  'eod_token': 'OeAFFmMliFG5orCUuwAKQ8l4WWFQ67YX',\n",
       "  'fmpcloud_key': '8b8f188c549c0399d2679fbf974a0a9f',\n",
       "  'eod_historical_token': '6057885c018fd9.09873427',\n",
       "  'marketstack_key': '619472d1ffefe4e9c494e77be6266dae',\n",
       "  'look_back': 20,\n",
       "  'look_ahead': 40,\n",
       "  'look_ahead_scale': 0.5,\n",
       "  'xgboost_solo': True,\n",
       "  'multi_parm_run': True,\n",
       "  'lstm_target': 'Close',\n",
       "  'feature_list': ['2 YR',\n",
       "   'us_dollar_index',\n",
       "   'personal_sav_rate',\n",
       "   'oil_price',\n",
       "   'schiller_ratio',\n",
       "   'consumer_sentiment',\n",
       "   'public_debt',\n",
       "   'Bullish',\n",
       "   'Bearish',\n",
       "   'gdp',\n",
       "   'cpi',\n",
       "   'unemployment'],\n",
       "  'conventional_feature_list': ['us_dollar_index',\n",
       "   'public_debt',\n",
       "   'personal_sav_rate',\n",
       "   'oil_price',\n",
       "   'schiller_ratio',\n",
       "   'consumer_sentiment',\n",
       "   'gdp',\n",
       "   'cpi',\n",
       "   'unemployment']},\n",
       " 'conventional_feature_keys': {'us_dollar_index': 'FRED/TWEXBANL',\n",
       "  'public_debt': 'FRED/GFDEGDQ188S',\n",
       "  'personal_sav_rate': 'FRED/PSAVERT',\n",
       "  'oil_price': 'FRED/DCOILWTICO',\n",
       "  'schiller_ratio': 'MULTPL/SHILLER_PE_RATIO_MONTH',\n",
       "  'consumer_sentiment': 'UMICH/SOC1',\n",
       "  'gdp': 'FRED/GDP',\n",
       "  'cpi': 'FRED/CPIAUCSL',\n",
       "  'unemployment': 'FRED/UNRATE'},\n",
       " 'files': {'saved_model_modifier': 'January312021',\n",
       "  'sector_ticker': 'sector_ticker.csv',\n",
       "  'multi_parm_file': 'test_multi_parm.csv'},\n",
       " 'tech_list': ['GE', 'IBM'],\n",
       " 'static_load': {'static_feature_list': ['gdp', 'cpi', 'oil_price'],\n",
       "  'static_load_start': '2002-10-01',\n",
       "  'static_load_end': '2021-04-01'},\n",
       " 'hyperparameters': {'learning_rate': 0.001,\n",
       "  'dropout_rate': 0.0003,\n",
       "  'l2_lambda': 0.0003,\n",
       "  'loss_func': 'binary_crossentropy',\n",
       "  'output_activation': 'hard_sigmoid',\n",
       "  'batch_size': 1000,\n",
       "  'epochs': 50}}"
      ]
     },
     "execution_count": 19,
     "metadata": {},
     "output_type": "execute_result"
    }
   ],
   "source": [
    "config"
   ]
  },
  {
   "cell_type": "markdown",
   "metadata": {},
   "source": [
    "# Ingest Sector Ticker file\n",
    "- ingest CSV file that contains correlation between stock ticker symbols and ETF tickers as a proxy for sector tickers"
   ]
  },
  {
   "cell_type": "code",
   "execution_count": 20,
   "metadata": {},
   "outputs": [],
   "source": [
    "def get_data_path():\n",
    "    '''get the path for data files'''\n",
    "    rawpath = os.getcwd()\n",
    "    # data is in a directory called \"data\" that is a sibling to the directory containing the notebook\n",
    "    path = os.path.abspath(os.path.join(rawpath, '..', 'data'))\n",
    "    return(path)"
   ]
  },
  {
   "cell_type": "code",
   "execution_count": 21,
   "metadata": {},
   "outputs": [
    {
     "name": "stdout",
     "output_type": "stream",
     "text": [
      "sector_file:  C:\\personal\\karma_stocks_2021\\stock_investigation\\data\\sector_ticker.csv\n"
     ]
    },
    {
     "data": {
      "text/html": [
       "<div>\n",
       "<style scoped>\n",
       "    .dataframe tbody tr th:only-of-type {\n",
       "        vertical-align: middle;\n",
       "    }\n",
       "\n",
       "    .dataframe tbody tr th {\n",
       "        vertical-align: top;\n",
       "    }\n",
       "\n",
       "    .dataframe thead th {\n",
       "        text-align: right;\n",
       "    }\n",
       "</style>\n",
       "<table border=\"1\" class=\"dataframe\">\n",
       "  <thead>\n",
       "    <tr style=\"text-align: right;\">\n",
       "      <th></th>\n",
       "      <th>Symbol</th>\n",
       "      <th>Name</th>\n",
       "      <th>Sector</th>\n",
       "      <th>Sector Ticker</th>\n",
       "      <th>Sector ETF Ticker</th>\n",
       "      <th>Unnamed: 5</th>\n",
       "      <th>Unnamed: 6</th>\n",
       "      <th>Unnamed: 7</th>\n",
       "      <th>Unnamed: 8</th>\n",
       "      <th>Unnamed: 9</th>\n",
       "      <th>Unnamed: 10</th>\n",
       "    </tr>\n",
       "  </thead>\n",
       "  <tbody>\n",
       "    <tr>\n",
       "      <th>0</th>\n",
       "      <td>A</td>\n",
       "      <td>Agilent Technologies Inc</td>\n",
       "      <td>Health Care</td>\n",
       "      <td>^SP500-35</td>\n",
       "      <td>IYH</td>\n",
       "      <td>NaN</td>\n",
       "      <td>- 'A'</td>\n",
       "      <td>NaN</td>\n",
       "      <td>NaN</td>\n",
       "      <td>NaN</td>\n",
       "      <td>NaN</td>\n",
       "    </tr>\n",
       "    <tr>\n",
       "      <th>1</th>\n",
       "      <td>AAL</td>\n",
       "      <td>American Airlines Group</td>\n",
       "      <td>Industrials</td>\n",
       "      <td>^SP500-20</td>\n",
       "      <td>IYJ</td>\n",
       "      <td>NaN</td>\n",
       "      <td>- 'AAL'</td>\n",
       "      <td>NaN</td>\n",
       "      <td>NaN</td>\n",
       "      <td>NaN</td>\n",
       "      <td>NaN</td>\n",
       "    </tr>\n",
       "    <tr>\n",
       "      <th>2</th>\n",
       "      <td>AAP</td>\n",
       "      <td>Advance Auto Parts</td>\n",
       "      <td>Consumer Discretionary</td>\n",
       "      <td>^SP500-25</td>\n",
       "      <td>XLY</td>\n",
       "      <td>NaN</td>\n",
       "      <td>- 'AAP'</td>\n",
       "      <td>NaN</td>\n",
       "      <td>NaN</td>\n",
       "      <td>NaN</td>\n",
       "      <td>NaN</td>\n",
       "    </tr>\n",
       "    <tr>\n",
       "      <th>3</th>\n",
       "      <td>AAPL</td>\n",
       "      <td>Apple Inc.</td>\n",
       "      <td>Information Technology</td>\n",
       "      <td>^SP500-45</td>\n",
       "      <td>IYW</td>\n",
       "      <td>NaN</td>\n",
       "      <td>- 'AAPL'</td>\n",
       "      <td>NaN</td>\n",
       "      <td>NaN</td>\n",
       "      <td>NaN</td>\n",
       "      <td>NaN</td>\n",
       "    </tr>\n",
       "    <tr>\n",
       "      <th>4</th>\n",
       "      <td>ABBV</td>\n",
       "      <td>AbbVie Inc.</td>\n",
       "      <td>Health Care</td>\n",
       "      <td>^SP500-35</td>\n",
       "      <td>IYH</td>\n",
       "      <td>NaN</td>\n",
       "      <td>- 'ABBV'</td>\n",
       "      <td>NaN</td>\n",
       "      <td>NaN</td>\n",
       "      <td>NaN</td>\n",
       "      <td>NaN</td>\n",
       "    </tr>\n",
       "  </tbody>\n",
       "</table>\n",
       "</div>"
      ],
      "text/plain": [
       "  Symbol                      Name                  Sector Sector Ticker  \\\n",
       "0      A  Agilent Technologies Inc             Health Care     ^SP500-35   \n",
       "1    AAL   American Airlines Group             Industrials     ^SP500-20   \n",
       "2    AAP        Advance Auto Parts  Consumer Discretionary     ^SP500-25   \n",
       "3   AAPL                Apple Inc.  Information Technology     ^SP500-45   \n",
       "4   ABBV               AbbVie Inc.             Health Care     ^SP500-35   \n",
       "\n",
       "  Sector ETF Ticker  Unnamed: 5 Unnamed: 6  Unnamed: 7  Unnamed: 8  \\\n",
       "0               IYH         NaN      - 'A'         NaN         NaN   \n",
       "1               IYJ         NaN    - 'AAL'         NaN         NaN   \n",
       "2               XLY         NaN    - 'AAP'         NaN         NaN   \n",
       "3               IYW         NaN   - 'AAPL'         NaN         NaN   \n",
       "4               IYH         NaN   - 'ABBV'         NaN         NaN   \n",
       "\n",
       "   Unnamed: 9  Unnamed: 10  \n",
       "0         NaN          NaN  \n",
       "1         NaN          NaN  \n",
       "2         NaN          NaN  \n",
       "3         NaN          NaN  \n",
       "4         NaN          NaN  "
      ]
     },
     "execution_count": 21,
     "metadata": {},
     "output_type": "execute_result"
    }
   ],
   "source": [
    "sector_file = os.path.join(get_data_path(),sector_ticker)\n",
    "print(\"sector_file: \",sector_file)\n",
    "df_sector = pd.read_csv(sector_file,encoding = \"ISO-8859-1\")\n",
    "df_sector.head()"
   ]
  },
  {
   "cell_type": "markdown",
   "metadata": {},
   "source": [
    "# Define start and end of analysis period"
   ]
  },
  {
   "cell_type": "code",
   "execution_count": 22,
   "metadata": {
    "colab": {
     "base_uri": "https://localhost:8080/",
     "height": 232
    },
    "executionInfo": {
     "elapsed": 2755,
     "status": "ok",
     "timestamp": 1611806432764,
     "user": {
      "displayName": "Mark Ryan",
      "photoUrl": "https://lh3.googleusercontent.com/a-/AOh14GiOaJEeoxteIdEhraqpv8y7ol-feJVt-BYY9ceTIQ=s64",
      "userId": "08045617267833954278"
     },
     "user_tz": 300
    },
    "id": "aHWsIsOlttEk",
    "outputId": "6c74987f-3eaf-4bbb-b075-aac34a58e469"
   },
   "outputs": [],
   "source": [
    "# DataReader: https://riptutorial.com/pandas/topic/1912/pandas-datareader\n",
    "# https://pandas-datareader.readthedocs.io/en/latest/remote_data.html\n",
    "# \n",
    "# Set up End and Start times for data grab\n",
    "# check to see if start and end dates are hard-coded with master dates\n",
    "def set_start_end():\n",
    "    if parms['master_date_mode']: # start and end hardcoded by parameters\n",
    "        start = parms['master_start']\n",
    "        end = parms['master_end']\n",
    "    else: # end is current date; start is current date minus years_window\n",
    "        end = datetime.now()\n",
    "        start = datetime(end.year - parms['years_window'], end.month, end.day)\n",
    "    # output a test dataset\n",
    "    tester = DataReader('IBM', 'yahoo', start, end)\n",
    "    print(tester.shape)\n",
    "    return(start,end)"
   ]
  },
  {
   "cell_type": "code",
   "execution_count": 23,
   "metadata": {},
   "outputs": [],
   "source": [
    "def get_path():\n",
    "    rawpath = os.getcwd()\n",
    "    # data is in a directory called \"static_load\" that is a sibling to the directory containing the notebook\n",
    "    path = os.path.abspath(os.path.join(rawpath, '..', 'static_load'))\n",
    "    return(path)"
   ]
  },
  {
   "cell_type": "markdown",
   "metadata": {},
   "source": [
    "# Experiment with EOD API for dividend\n",
    "- EOD historical data doesn't directly support Python access\n",
    "- https://eodhistoricaldata.com/financial-apis/python-example/\n",
    "\n",
    "\n"
   ]
  },
  {
   "cell_type": "code",
   "execution_count": 24,
   "metadata": {},
   "outputs": [],
   "source": [
    "import requests\n",
    "\n",
    "import pandas as pd\n",
    "\n",
    "from io import StringIO\n",
    "\n",
    "# URL for dividend data\n",
    "# https://eodhistoricaldata.com/api/div/AAPL.US?api_token=OeAFFmMliFG5orCUuwAKQ8l4WWFQ67YX&from=2000-01-01\n",
    "\n",
    "def get_div_data(symbol='AAPL.US', api_token='OeAFFmMliFG5orCUuwAKQ8l4WWFQ67YX', session=None):\n",
    "    if session is None:\n",
    "        session = requests.Session()\n",
    "    url = 'https://eodhistoricaldata.com/api/div/%s' % symbol\n",
    "    params = {'api_token': api_token}\n",
    "    r = session.get(url, params=params)\n",
    "    if r.status_code == requests.codes.ok:\n",
    "        df = pd.read_csv(StringIO(r.text), skipfooter=1, parse_dates=[0], index_col=0, engine='python')\n",
    "        return(True, df)\n",
    "    else:\n",
    "        print(\"status code\",str(r.status_code))\n",
    "        print(\"reason code\",str(r.reason))\n",
    "        return(False,\"null\")\n",
    "        #raise Exception(r.status_code, r.reason, url)"
   ]
  },
  {
   "cell_type": "markdown",
   "metadata": {},
   "source": [
    "# Load US Treasury stats"
   ]
  },
  {
   "cell_type": "code",
   "execution_count": 25,
   "metadata": {},
   "outputs": [],
   "source": [
    "# load US Treasury yield dataframe\n",
    "ust_df = quandl.get(\"USTREASURY/YIELD\", authtoken=quandl_token)"
   ]
  },
  {
   "cell_type": "code",
   "execution_count": 26,
   "metadata": {},
   "outputs": [
    {
     "data": {
      "text/html": [
       "<div>\n",
       "<style scoped>\n",
       "    .dataframe tbody tr th:only-of-type {\n",
       "        vertical-align: middle;\n",
       "    }\n",
       "\n",
       "    .dataframe tbody tr th {\n",
       "        vertical-align: top;\n",
       "    }\n",
       "\n",
       "    .dataframe thead th {\n",
       "        text-align: right;\n",
       "    }\n",
       "</style>\n",
       "<table border=\"1\" class=\"dataframe\">\n",
       "  <thead>\n",
       "    <tr style=\"text-align: right;\">\n",
       "      <th></th>\n",
       "      <th>1 MO</th>\n",
       "      <th>2 MO</th>\n",
       "      <th>3 MO</th>\n",
       "      <th>6 MO</th>\n",
       "      <th>1 YR</th>\n",
       "      <th>2 YR</th>\n",
       "      <th>3 YR</th>\n",
       "      <th>5 YR</th>\n",
       "      <th>7 YR</th>\n",
       "      <th>10 YR</th>\n",
       "      <th>20 YR</th>\n",
       "      <th>30 YR</th>\n",
       "    </tr>\n",
       "    <tr>\n",
       "      <th>Date</th>\n",
       "      <th></th>\n",
       "      <th></th>\n",
       "      <th></th>\n",
       "      <th></th>\n",
       "      <th></th>\n",
       "      <th></th>\n",
       "      <th></th>\n",
       "      <th></th>\n",
       "      <th></th>\n",
       "      <th></th>\n",
       "      <th></th>\n",
       "      <th></th>\n",
       "    </tr>\n",
       "  </thead>\n",
       "  <tbody>\n",
       "    <tr>\n",
       "      <th>1990-01-02</th>\n",
       "      <td>NaN</td>\n",
       "      <td>NaN</td>\n",
       "      <td>7.83</td>\n",
       "      <td>7.89</td>\n",
       "      <td>7.81</td>\n",
       "      <td>7.87</td>\n",
       "      <td>7.90</td>\n",
       "      <td>7.87</td>\n",
       "      <td>7.98</td>\n",
       "      <td>7.94</td>\n",
       "      <td>NaN</td>\n",
       "      <td>8.00</td>\n",
       "    </tr>\n",
       "    <tr>\n",
       "      <th>1990-01-03</th>\n",
       "      <td>NaN</td>\n",
       "      <td>NaN</td>\n",
       "      <td>7.89</td>\n",
       "      <td>7.94</td>\n",
       "      <td>7.85</td>\n",
       "      <td>7.94</td>\n",
       "      <td>7.96</td>\n",
       "      <td>7.92</td>\n",
       "      <td>8.04</td>\n",
       "      <td>7.99</td>\n",
       "      <td>NaN</td>\n",
       "      <td>8.04</td>\n",
       "    </tr>\n",
       "    <tr>\n",
       "      <th>1990-01-04</th>\n",
       "      <td>NaN</td>\n",
       "      <td>NaN</td>\n",
       "      <td>7.84</td>\n",
       "      <td>7.90</td>\n",
       "      <td>7.82</td>\n",
       "      <td>7.92</td>\n",
       "      <td>7.93</td>\n",
       "      <td>7.91</td>\n",
       "      <td>8.02</td>\n",
       "      <td>7.98</td>\n",
       "      <td>NaN</td>\n",
       "      <td>8.04</td>\n",
       "    </tr>\n",
       "    <tr>\n",
       "      <th>1990-01-05</th>\n",
       "      <td>NaN</td>\n",
       "      <td>NaN</td>\n",
       "      <td>7.79</td>\n",
       "      <td>7.85</td>\n",
       "      <td>7.79</td>\n",
       "      <td>7.90</td>\n",
       "      <td>7.94</td>\n",
       "      <td>7.92</td>\n",
       "      <td>8.03</td>\n",
       "      <td>7.99</td>\n",
       "      <td>NaN</td>\n",
       "      <td>8.06</td>\n",
       "    </tr>\n",
       "    <tr>\n",
       "      <th>1990-01-08</th>\n",
       "      <td>NaN</td>\n",
       "      <td>NaN</td>\n",
       "      <td>7.79</td>\n",
       "      <td>7.88</td>\n",
       "      <td>7.81</td>\n",
       "      <td>7.90</td>\n",
       "      <td>7.95</td>\n",
       "      <td>7.92</td>\n",
       "      <td>8.05</td>\n",
       "      <td>8.02</td>\n",
       "      <td>NaN</td>\n",
       "      <td>8.09</td>\n",
       "    </tr>\n",
       "    <tr>\n",
       "      <th>...</th>\n",
       "      <td>...</td>\n",
       "      <td>...</td>\n",
       "      <td>...</td>\n",
       "      <td>...</td>\n",
       "      <td>...</td>\n",
       "      <td>...</td>\n",
       "      <td>...</td>\n",
       "      <td>...</td>\n",
       "      <td>...</td>\n",
       "      <td>...</td>\n",
       "      <td>...</td>\n",
       "      <td>...</td>\n",
       "    </tr>\n",
       "    <tr>\n",
       "      <th>2021-08-09</th>\n",
       "      <td>0.04</td>\n",
       "      <td>0.05</td>\n",
       "      <td>0.06</td>\n",
       "      <td>0.06</td>\n",
       "      <td>0.08</td>\n",
       "      <td>0.23</td>\n",
       "      <td>0.43</td>\n",
       "      <td>0.79</td>\n",
       "      <td>1.09</td>\n",
       "      <td>1.33</td>\n",
       "      <td>1.87</td>\n",
       "      <td>1.96</td>\n",
       "    </tr>\n",
       "    <tr>\n",
       "      <th>2021-08-10</th>\n",
       "      <td>0.05</td>\n",
       "      <td>0.05</td>\n",
       "      <td>0.05</td>\n",
       "      <td>0.05</td>\n",
       "      <td>0.08</td>\n",
       "      <td>0.24</td>\n",
       "      <td>0.47</td>\n",
       "      <td>0.82</td>\n",
       "      <td>1.12</td>\n",
       "      <td>1.36</td>\n",
       "      <td>1.90</td>\n",
       "      <td>1.99</td>\n",
       "    </tr>\n",
       "    <tr>\n",
       "      <th>2021-08-11</th>\n",
       "      <td>0.05</td>\n",
       "      <td>0.05</td>\n",
       "      <td>0.05</td>\n",
       "      <td>0.06</td>\n",
       "      <td>0.08</td>\n",
       "      <td>0.23</td>\n",
       "      <td>0.45</td>\n",
       "      <td>0.81</td>\n",
       "      <td>1.11</td>\n",
       "      <td>1.35</td>\n",
       "      <td>1.90</td>\n",
       "      <td>1.99</td>\n",
       "    </tr>\n",
       "    <tr>\n",
       "      <th>2021-08-12</th>\n",
       "      <td>0.05</td>\n",
       "      <td>0.06</td>\n",
       "      <td>0.06</td>\n",
       "      <td>0.06</td>\n",
       "      <td>0.09</td>\n",
       "      <td>0.23</td>\n",
       "      <td>0.46</td>\n",
       "      <td>0.83</td>\n",
       "      <td>1.13</td>\n",
       "      <td>1.36</td>\n",
       "      <td>1.92</td>\n",
       "      <td>2.03</td>\n",
       "    </tr>\n",
       "    <tr>\n",
       "      <th>2021-08-13</th>\n",
       "      <td>0.04</td>\n",
       "      <td>0.05</td>\n",
       "      <td>0.06</td>\n",
       "      <td>0.05</td>\n",
       "      <td>0.08</td>\n",
       "      <td>0.23</td>\n",
       "      <td>0.44</td>\n",
       "      <td>0.79</td>\n",
       "      <td>1.08</td>\n",
       "      <td>1.29</td>\n",
       "      <td>1.85</td>\n",
       "      <td>1.94</td>\n",
       "    </tr>\n",
       "  </tbody>\n",
       "</table>\n",
       "<p>7912 rows × 12 columns</p>\n",
       "</div>"
      ],
      "text/plain": [
       "            1 MO  2 MO  3 MO  6 MO  1 YR  2 YR  3 YR  5 YR  7 YR  10 YR  \\\n",
       "Date                                                                      \n",
       "1990-01-02   NaN   NaN  7.83  7.89  7.81  7.87  7.90  7.87  7.98   7.94   \n",
       "1990-01-03   NaN   NaN  7.89  7.94  7.85  7.94  7.96  7.92  8.04   7.99   \n",
       "1990-01-04   NaN   NaN  7.84  7.90  7.82  7.92  7.93  7.91  8.02   7.98   \n",
       "1990-01-05   NaN   NaN  7.79  7.85  7.79  7.90  7.94  7.92  8.03   7.99   \n",
       "1990-01-08   NaN   NaN  7.79  7.88  7.81  7.90  7.95  7.92  8.05   8.02   \n",
       "...          ...   ...   ...   ...   ...   ...   ...   ...   ...    ...   \n",
       "2021-08-09  0.04  0.05  0.06  0.06  0.08  0.23  0.43  0.79  1.09   1.33   \n",
       "2021-08-10  0.05  0.05  0.05  0.05  0.08  0.24  0.47  0.82  1.12   1.36   \n",
       "2021-08-11  0.05  0.05  0.05  0.06  0.08  0.23  0.45  0.81  1.11   1.35   \n",
       "2021-08-12  0.05  0.06  0.06  0.06  0.09  0.23  0.46  0.83  1.13   1.36   \n",
       "2021-08-13  0.04  0.05  0.06  0.05  0.08  0.23  0.44  0.79  1.08   1.29   \n",
       "\n",
       "            20 YR  30 YR  \n",
       "Date                      \n",
       "1990-01-02    NaN   8.00  \n",
       "1990-01-03    NaN   8.04  \n",
       "1990-01-04    NaN   8.04  \n",
       "1990-01-05    NaN   8.06  \n",
       "1990-01-08    NaN   8.09  \n",
       "...           ...    ...  \n",
       "2021-08-09   1.87   1.96  \n",
       "2021-08-10   1.90   1.99  \n",
       "2021-08-11   1.90   1.99  \n",
       "2021-08-12   1.92   2.03  \n",
       "2021-08-13   1.85   1.94  \n",
       "\n",
       "[7912 rows x 12 columns]"
      ]
     },
     "execution_count": 26,
     "metadata": {},
     "output_type": "execute_result"
    }
   ],
   "source": [
    "ust_df"
   ]
  },
  {
   "cell_type": "code",
   "execution_count": 27,
   "metadata": {},
   "outputs": [],
   "source": [
    "#ust_df['30 YR'].mean()"
   ]
  },
  {
   "cell_type": "code",
   "execution_count": 28,
   "metadata": {},
   "outputs": [],
   "source": [
    "#ust_df['2 YR'].mean()"
   ]
  },
  {
   "cell_type": "code",
   "execution_count": 29,
   "metadata": {},
   "outputs": [],
   "source": [
    "#us_30 = ust_df['30 YR']"
   ]
  },
  {
   "cell_type": "code",
   "execution_count": 30,
   "metadata": {},
   "outputs": [
    {
     "data": {
      "text/html": [
       "<div>\n",
       "<style scoped>\n",
       "    .dataframe tbody tr th:only-of-type {\n",
       "        vertical-align: middle;\n",
       "    }\n",
       "\n",
       "    .dataframe tbody tr th {\n",
       "        vertical-align: top;\n",
       "    }\n",
       "\n",
       "    .dataframe thead th {\n",
       "        text-align: right;\n",
       "    }\n",
       "</style>\n",
       "<table border=\"1\" class=\"dataframe\">\n",
       "  <thead>\n",
       "    <tr style=\"text-align: right;\">\n",
       "      <th></th>\n",
       "      <th>2 YR</th>\n",
       "    </tr>\n",
       "    <tr>\n",
       "      <th>Date</th>\n",
       "      <th></th>\n",
       "    </tr>\n",
       "  </thead>\n",
       "  <tbody>\n",
       "    <tr>\n",
       "      <th>1990-01-02</th>\n",
       "      <td>7.87</td>\n",
       "    </tr>\n",
       "    <tr>\n",
       "      <th>1990-01-03</th>\n",
       "      <td>7.94</td>\n",
       "    </tr>\n",
       "    <tr>\n",
       "      <th>1990-01-04</th>\n",
       "      <td>7.92</td>\n",
       "    </tr>\n",
       "    <tr>\n",
       "      <th>1990-01-05</th>\n",
       "      <td>7.90</td>\n",
       "    </tr>\n",
       "    <tr>\n",
       "      <th>1990-01-08</th>\n",
       "      <td>7.90</td>\n",
       "    </tr>\n",
       "  </tbody>\n",
       "</table>\n",
       "</div>"
      ],
      "text/plain": [
       "            2 YR\n",
       "Date            \n",
       "1990-01-02  7.87\n",
       "1990-01-03  7.94\n",
       "1990-01-04  7.92\n",
       "1990-01-05  7.90\n",
       "1990-01-08  7.90"
      ]
     },
     "execution_count": 30,
     "metadata": {},
     "output_type": "execute_result"
    }
   ],
   "source": [
    "# new = old[['A', 'C', 'D']].copy()\n",
    "ust_df_2year = ust_df[['2 YR']].copy()\n",
    "ust_df_2year.head()"
   ]
  },
  {
   "cell_type": "markdown",
   "metadata": {},
   "source": [
    "# Load Fear and Greed Index"
   ]
  },
  {
   "cell_type": "code",
   "execution_count": 31,
   "metadata": {},
   "outputs": [
    {
     "name": "stdout",
     "output_type": "stream",
     "text": [
      "{\"fgi\":{\"now\":{\"value\":43,\"valueText\":\"Fear\"},\"previousClose\":{\"value\":42,\"valueText\":\"Fear\"},\"oneWeekAgo\":{\"value\":36,\"valueText\":\"Fear\"},\"oneMonthAgo\":{\"value\":34,\"valueText\":\"Fear\"},\"oneYearAgo\":{\"value\":72,\"valueText\":\"Greed\"}},\"lastUpdate\":{\"epochUnixSeconds\":1628889420,\"humanDate\":\"2021-08-13T21:17:00Z\"}}\n"
     ]
    }
   ],
   "source": [
    "# fear and greed index Source: https://rapidapi.com/rpi4gx/api/fear-and-greed-index\n",
    "import requests\n",
    "\n",
    "url = \"https://fear-and-greed-index.p.rapidapi.com/v1/fgi\"\n",
    "\n",
    "headers = {\n",
    "    'x-rapidapi-key': rapidai_key,\n",
    "    'x-rapidapi-host': \"fear-and-greed-index.p.rapidapi.com\"\n",
    "    }\n",
    "\n",
    "response = requests.request(\"GET\", url, headers=headers)\n",
    "\n",
    "print(response.text)"
   ]
  },
  {
   "cell_type": "markdown",
   "metadata": {},
   "source": [
    "# Load US Dollar Index"
   ]
  },
  {
   "cell_type": "code",
   "execution_count": 32,
   "metadata": {},
   "outputs": [
    {
     "data": {
      "text/html": [
       "<div>\n",
       "<style scoped>\n",
       "    .dataframe tbody tr th:only-of-type {\n",
       "        vertical-align: middle;\n",
       "    }\n",
       "\n",
       "    .dataframe tbody tr th {\n",
       "        vertical-align: top;\n",
       "    }\n",
       "\n",
       "    .dataframe thead th {\n",
       "        text-align: right;\n",
       "    }\n",
       "</style>\n",
       "<table border=\"1\" class=\"dataframe\">\n",
       "  <thead>\n",
       "    <tr style=\"text-align: right;\">\n",
       "      <th></th>\n",
       "      <th>Value</th>\n",
       "    </tr>\n",
       "    <tr>\n",
       "      <th>Date</th>\n",
       "      <th></th>\n",
       "    </tr>\n",
       "  </thead>\n",
       "  <tbody>\n",
       "    <tr>\n",
       "      <th>1995-01-01</th>\n",
       "      <td>92.5752</td>\n",
       "    </tr>\n",
       "    <tr>\n",
       "      <th>1996-01-01</th>\n",
       "      <td>97.4584</td>\n",
       "    </tr>\n",
       "    <tr>\n",
       "      <th>1997-01-01</th>\n",
       "      <td>104.3864</td>\n",
       "    </tr>\n",
       "    <tr>\n",
       "      <th>1998-01-01</th>\n",
       "      <td>115.9162</td>\n",
       "    </tr>\n",
       "    <tr>\n",
       "      <th>1999-01-01</th>\n",
       "      <td>116.1848</td>\n",
       "    </tr>\n",
       "  </tbody>\n",
       "</table>\n",
       "</div>"
      ],
      "text/plain": [
       "               Value\n",
       "Date                \n",
       "1995-01-01   92.5752\n",
       "1996-01-01   97.4584\n",
       "1997-01-01  104.3864\n",
       "1998-01-01  115.9162\n",
       "1999-01-01  116.1848"
      ]
     },
     "execution_count": 32,
     "metadata": {},
     "output_type": "execute_result"
    }
   ],
   "source": [
    "#A weighted average of the foreign exchange value of the U.S. dollar against the currencies of a \n",
    "# broad group of major U.S. trading partners.\n",
    "# Source: https://www.quandl.com/data/FRED/TWEXBANL-Trade-Weighted-U-S-Dollar-Index-Broad\n",
    "us_dollar_index_df = quandl.get(\"FRED/TWEXBANL\", authtoken=quandl_token)\n",
    "us_dollar_index_df.head()"
   ]
  },
  {
   "cell_type": "code",
   "execution_count": 33,
   "metadata": {},
   "outputs": [],
   "source": [
    "us_dollar_index_df.rename(columns={'Value':'us_dollar_index'}, inplace=True)\n",
    "feature_df_dict['us_dollar_index'] = us_dollar_index_df"
   ]
  },
  {
   "cell_type": "markdown",
   "metadata": {},
   "source": [
    "# Load Public Debt"
   ]
  },
  {
   "cell_type": "code",
   "execution_count": 34,
   "metadata": {},
   "outputs": [
    {
     "data": {
      "text/html": [
       "<div>\n",
       "<style scoped>\n",
       "    .dataframe tbody tr th:only-of-type {\n",
       "        vertical-align: middle;\n",
       "    }\n",
       "\n",
       "    .dataframe tbody tr th {\n",
       "        vertical-align: top;\n",
       "    }\n",
       "\n",
       "    .dataframe thead th {\n",
       "        text-align: right;\n",
       "    }\n",
       "</style>\n",
       "<table border=\"1\" class=\"dataframe\">\n",
       "  <thead>\n",
       "    <tr style=\"text-align: right;\">\n",
       "      <th></th>\n",
       "      <th>Value</th>\n",
       "    </tr>\n",
       "    <tr>\n",
       "      <th>Date</th>\n",
       "      <th></th>\n",
       "    </tr>\n",
       "  </thead>\n",
       "  <tbody>\n",
       "    <tr>\n",
       "      <th>1966-01-01</th>\n",
       "      <td>40.33999</td>\n",
       "    </tr>\n",
       "    <tr>\n",
       "      <th>1966-04-01</th>\n",
       "      <td>39.26763</td>\n",
       "    </tr>\n",
       "    <tr>\n",
       "      <th>1966-07-01</th>\n",
       "      <td>39.62091</td>\n",
       "    </tr>\n",
       "    <tr>\n",
       "      <th>1966-10-01</th>\n",
       "      <td>39.51977</td>\n",
       "    </tr>\n",
       "    <tr>\n",
       "      <th>1967-01-01</th>\n",
       "      <td>39.20383</td>\n",
       "    </tr>\n",
       "  </tbody>\n",
       "</table>\n",
       "</div>"
      ],
      "text/plain": [
       "               Value\n",
       "Date                \n",
       "1966-01-01  40.33999\n",
       "1966-04-01  39.26763\n",
       "1966-07-01  39.62091\n",
       "1966-10-01  39.51977\n",
       "1967-01-01  39.20383"
      ]
     },
     "execution_count": 34,
     "metadata": {},
     "output_type": "execute_result"
    }
   ],
   "source": [
    "# Public debt as % of GDP (quarterly)\n",
    "# https://www.quandl.com/data/FRED/GFDEGDQ188S-Federal-Debt-Total-Public-Debt-as-Percent-of-Gross-Domestic-Product\n",
    "public_debt_df = quandl.get(\"FRED/GFDEGDQ188S\", authtoken=quandl_token)\n",
    "public_debt_df.head()"
   ]
  },
  {
   "cell_type": "code",
   "execution_count": 35,
   "metadata": {},
   "outputs": [],
   "source": [
    "public_debt_df.rename(columns={'Value':'public_debt'}, inplace=True)\n",
    "feature_df_dict['public_debt'] = public_debt_df"
   ]
  },
  {
   "cell_type": "markdown",
   "metadata": {},
   "source": [
    "# Load Personal saving rate"
   ]
  },
  {
   "cell_type": "code",
   "execution_count": 36,
   "metadata": {},
   "outputs": [
    {
     "data": {
      "text/html": [
       "<div>\n",
       "<style scoped>\n",
       "    .dataframe tbody tr th:only-of-type {\n",
       "        vertical-align: middle;\n",
       "    }\n",
       "\n",
       "    .dataframe tbody tr th {\n",
       "        vertical-align: top;\n",
       "    }\n",
       "\n",
       "    .dataframe thead th {\n",
       "        text-align: right;\n",
       "    }\n",
       "</style>\n",
       "<table border=\"1\" class=\"dataframe\">\n",
       "  <thead>\n",
       "    <tr style=\"text-align: right;\">\n",
       "      <th></th>\n",
       "      <th>Value</th>\n",
       "    </tr>\n",
       "    <tr>\n",
       "      <th>Date</th>\n",
       "      <th></th>\n",
       "    </tr>\n",
       "  </thead>\n",
       "  <tbody>\n",
       "    <tr>\n",
       "      <th>1959-01-01</th>\n",
       "      <td>11.3</td>\n",
       "    </tr>\n",
       "    <tr>\n",
       "      <th>1959-02-01</th>\n",
       "      <td>10.6</td>\n",
       "    </tr>\n",
       "    <tr>\n",
       "      <th>1959-03-01</th>\n",
       "      <td>10.3</td>\n",
       "    </tr>\n",
       "    <tr>\n",
       "      <th>1959-04-01</th>\n",
       "      <td>11.2</td>\n",
       "    </tr>\n",
       "    <tr>\n",
       "      <th>1959-05-01</th>\n",
       "      <td>10.6</td>\n",
       "    </tr>\n",
       "  </tbody>\n",
       "</table>\n",
       "</div>"
      ],
      "text/plain": [
       "            Value\n",
       "Date             \n",
       "1959-01-01   11.3\n",
       "1959-02-01   10.6\n",
       "1959-03-01   10.3\n",
       "1959-04-01   11.2\n",
       "1959-05-01   10.6"
      ]
     },
     "execution_count": 36,
     "metadata": {},
     "output_type": "execute_result"
    }
   ],
   "source": [
    "# Personal Savings Rate: https://www.quandl.com/data/FRED/PSAVERT-Personal-Saving-Rate (monthly)\n",
    "psr_df = quandl.get(\"FRED/PSAVERT\", authtoken=quandl_token)\n",
    "psr_df.head()"
   ]
  },
  {
   "cell_type": "code",
   "execution_count": 37,
   "metadata": {},
   "outputs": [],
   "source": [
    "\n",
    "psr_df.rename(columns={'Value':'personal_sav_rate'}, inplace=True)\n",
    "feature_df_dict['personal_sav_rate'] = psr_df"
   ]
  },
  {
   "cell_type": "markdown",
   "metadata": {},
   "source": [
    "# Load crude oil price"
   ]
  },
  {
   "cell_type": "code",
   "execution_count": 38,
   "metadata": {},
   "outputs": [
    {
     "data": {
      "text/html": [
       "<div>\n",
       "<style scoped>\n",
       "    .dataframe tbody tr th:only-of-type {\n",
       "        vertical-align: middle;\n",
       "    }\n",
       "\n",
       "    .dataframe tbody tr th {\n",
       "        vertical-align: top;\n",
       "    }\n",
       "\n",
       "    .dataframe thead th {\n",
       "        text-align: right;\n",
       "    }\n",
       "</style>\n",
       "<table border=\"1\" class=\"dataframe\">\n",
       "  <thead>\n",
       "    <tr style=\"text-align: right;\">\n",
       "      <th></th>\n",
       "      <th>Value</th>\n",
       "    </tr>\n",
       "    <tr>\n",
       "      <th>Date</th>\n",
       "      <th></th>\n",
       "    </tr>\n",
       "  </thead>\n",
       "  <tbody>\n",
       "    <tr>\n",
       "      <th>1986-01-02</th>\n",
       "      <td>25.56</td>\n",
       "    </tr>\n",
       "    <tr>\n",
       "      <th>1986-01-03</th>\n",
       "      <td>26.00</td>\n",
       "    </tr>\n",
       "    <tr>\n",
       "      <th>1986-01-06</th>\n",
       "      <td>26.53</td>\n",
       "    </tr>\n",
       "    <tr>\n",
       "      <th>1986-01-07</th>\n",
       "      <td>25.85</td>\n",
       "    </tr>\n",
       "    <tr>\n",
       "      <th>1986-01-08</th>\n",
       "      <td>25.87</td>\n",
       "    </tr>\n",
       "  </tbody>\n",
       "</table>\n",
       "</div>"
      ],
      "text/plain": [
       "            Value\n",
       "Date             \n",
       "1986-01-02  25.56\n",
       "1986-01-03  26.00\n",
       "1986-01-06  26.53\n",
       "1986-01-07  25.85\n",
       "1986-01-08  25.87"
      ]
     },
     "execution_count": 38,
     "metadata": {},
     "output_type": "execute_result"
    }
   ],
   "source": [
    "# Crude Oil price (WTI): https://www.quandl.com/data/FRED/DCOILWTICO-Crude-Oil-Prices-West-Texas-Intermediate-WTI-Cushing-Oklahoma (daily)\n",
    "oil_df = quandl.get(\"FRED/DCOILWTICO\", authtoken=quandl_token)\n",
    "oil_df.head()"
   ]
  },
  {
   "cell_type": "code",
   "execution_count": 39,
   "metadata": {},
   "outputs": [
    {
     "data": {
      "text/html": [
       "<div>\n",
       "<style scoped>\n",
       "    .dataframe tbody tr th:only-of-type {\n",
       "        vertical-align: middle;\n",
       "    }\n",
       "\n",
       "    .dataframe tbody tr th {\n",
       "        vertical-align: top;\n",
       "    }\n",
       "\n",
       "    .dataframe thead th {\n",
       "        text-align: right;\n",
       "    }\n",
       "</style>\n",
       "<table border=\"1\" class=\"dataframe\">\n",
       "  <thead>\n",
       "    <tr style=\"text-align: right;\">\n",
       "      <th></th>\n",
       "      <th>Value</th>\n",
       "    </tr>\n",
       "    <tr>\n",
       "      <th>Date</th>\n",
       "      <th></th>\n",
       "    </tr>\n",
       "  </thead>\n",
       "  <tbody>\n",
       "    <tr>\n",
       "      <th>2021-08-03</th>\n",
       "      <td>70.64</td>\n",
       "    </tr>\n",
       "    <tr>\n",
       "      <th>2021-08-04</th>\n",
       "      <td>68.19</td>\n",
       "    </tr>\n",
       "    <tr>\n",
       "      <th>2021-08-05</th>\n",
       "      <td>69.10</td>\n",
       "    </tr>\n",
       "    <tr>\n",
       "      <th>2021-08-06</th>\n",
       "      <td>68.26</td>\n",
       "    </tr>\n",
       "    <tr>\n",
       "      <th>2021-08-09</th>\n",
       "      <td>66.56</td>\n",
       "    </tr>\n",
       "  </tbody>\n",
       "</table>\n",
       "</div>"
      ],
      "text/plain": [
       "            Value\n",
       "Date             \n",
       "2021-08-03  70.64\n",
       "2021-08-04  68.19\n",
       "2021-08-05  69.10\n",
       "2021-08-06  68.26\n",
       "2021-08-09  66.56"
      ]
     },
     "execution_count": 39,
     "metadata": {},
     "output_type": "execute_result"
    }
   ],
   "source": [
    "oil_df.tail()"
   ]
  },
  {
   "cell_type": "code",
   "execution_count": 40,
   "metadata": {},
   "outputs": [],
   "source": [
    "oil_df.rename(columns={'Value':'oil_price'}, inplace=True)\n",
    "feature_df_dict['oil_price'] = oil_df"
   ]
  },
  {
   "cell_type": "markdown",
   "metadata": {},
   "source": [
    "# Load Schiller Ratio"
   ]
  },
  {
   "cell_type": "code",
   "execution_count": 41,
   "metadata": {},
   "outputs": [
    {
     "data": {
      "text/html": [
       "<div>\n",
       "<style scoped>\n",
       "    .dataframe tbody tr th:only-of-type {\n",
       "        vertical-align: middle;\n",
       "    }\n",
       "\n",
       "    .dataframe tbody tr th {\n",
       "        vertical-align: top;\n",
       "    }\n",
       "\n",
       "    .dataframe thead th {\n",
       "        text-align: right;\n",
       "    }\n",
       "</style>\n",
       "<table border=\"1\" class=\"dataframe\">\n",
       "  <thead>\n",
       "    <tr style=\"text-align: right;\">\n",
       "      <th></th>\n",
       "      <th>Value</th>\n",
       "    </tr>\n",
       "    <tr>\n",
       "      <th>Date</th>\n",
       "      <th></th>\n",
       "    </tr>\n",
       "  </thead>\n",
       "  <tbody>\n",
       "    <tr>\n",
       "      <th>1871-02-01</th>\n",
       "      <td>10.92</td>\n",
       "    </tr>\n",
       "    <tr>\n",
       "      <th>1871-03-01</th>\n",
       "      <td>11.19</td>\n",
       "    </tr>\n",
       "    <tr>\n",
       "      <th>1871-04-01</th>\n",
       "      <td>12.05</td>\n",
       "    </tr>\n",
       "    <tr>\n",
       "      <th>1871-05-01</th>\n",
       "      <td>12.59</td>\n",
       "    </tr>\n",
       "    <tr>\n",
       "      <th>1871-06-01</th>\n",
       "      <td>12.59</td>\n",
       "    </tr>\n",
       "  </tbody>\n",
       "</table>\n",
       "</div>"
      ],
      "text/plain": [
       "            Value\n",
       "Date             \n",
       "1871-02-01  10.92\n",
       "1871-03-01  11.19\n",
       "1871-04-01  12.05\n",
       "1871-05-01  12.59\n",
       "1871-06-01  12.59"
      ]
     },
     "execution_count": 41,
     "metadata": {},
     "output_type": "execute_result"
    }
   ],
   "source": [
    "# Shiller PE Ratio by Month:  https://www.quandl.com/data/MULTPL/SHILLER_PE_RATIO_MONTH-Shiller-PE-Ratio-by-Month (monthly)\n",
    "schiller_df = quandl.get(\"MULTPL/SHILLER_PE_RATIO_MONTH\", authtoken=quandl_token)\n",
    "schiller_df.head()"
   ]
  },
  {
   "cell_type": "code",
   "execution_count": 42,
   "metadata": {},
   "outputs": [
    {
     "data": {
      "text/html": [
       "<div>\n",
       "<style scoped>\n",
       "    .dataframe tbody tr th:only-of-type {\n",
       "        vertical-align: middle;\n",
       "    }\n",
       "\n",
       "    .dataframe tbody tr th {\n",
       "        vertical-align: top;\n",
       "    }\n",
       "\n",
       "    .dataframe thead th {\n",
       "        text-align: right;\n",
       "    }\n",
       "</style>\n",
       "<table border=\"1\" class=\"dataframe\">\n",
       "  <thead>\n",
       "    <tr style=\"text-align: right;\">\n",
       "      <th></th>\n",
       "      <th>Value</th>\n",
       "    </tr>\n",
       "    <tr>\n",
       "      <th>Date</th>\n",
       "      <th></th>\n",
       "    </tr>\n",
       "  </thead>\n",
       "  <tbody>\n",
       "    <tr>\n",
       "      <th>2021-04-30</th>\n",
       "      <td>37.56</td>\n",
       "    </tr>\n",
       "    <tr>\n",
       "      <th>2021-05-01</th>\n",
       "      <td>36.62</td>\n",
       "    </tr>\n",
       "    <tr>\n",
       "      <th>2021-06-01</th>\n",
       "      <td>36.86</td>\n",
       "    </tr>\n",
       "    <tr>\n",
       "      <th>2021-06-30</th>\n",
       "      <td>38.11</td>\n",
       "    </tr>\n",
       "    <tr>\n",
       "      <th>2021-07-01</th>\n",
       "      <td>37.86</td>\n",
       "    </tr>\n",
       "  </tbody>\n",
       "</table>\n",
       "</div>"
      ],
      "text/plain": [
       "            Value\n",
       "Date             \n",
       "2021-04-30  37.56\n",
       "2021-05-01  36.62\n",
       "2021-06-01  36.86\n",
       "2021-06-30  38.11\n",
       "2021-07-01  37.86"
      ]
     },
     "execution_count": 42,
     "metadata": {},
     "output_type": "execute_result"
    }
   ],
   "source": [
    "schiller_df.tail()"
   ]
  },
  {
   "cell_type": "code",
   "execution_count": 43,
   "metadata": {},
   "outputs": [
    {
     "data": {
      "text/plain": [
       "(1821, 1)"
      ]
     },
     "execution_count": 43,
     "metadata": {},
     "output_type": "execute_result"
    }
   ],
   "source": [
    "schiller_df.shape"
   ]
  },
  {
   "cell_type": "code",
   "execution_count": 44,
   "metadata": {},
   "outputs": [],
   "source": [
    "schiller_df.rename(columns={'Value':'schiller_ratio'}, inplace=True)\n",
    "feature_df_dict['schiller_ratio'] = schiller_df"
   ]
  },
  {
   "cell_type": "markdown",
   "metadata": {},
   "source": [
    "# Load consumer sentiment\n"
   ]
  },
  {
   "cell_type": "code",
   "execution_count": 45,
   "metadata": {},
   "outputs": [],
   "source": [
    "# Consumer Sentiment: https://www.quandl.com/data/UMICH/SOC1-University-of-Michigan-Consumer-Survey-Index-of-Consumer-Sentiment (monthly)\n",
    "conf_df = quandl.get(\"UMICH/SOC1\", authtoken=quandl_token)"
   ]
  },
  {
   "cell_type": "code",
   "execution_count": 46,
   "metadata": {},
   "outputs": [
    {
     "data": {
      "text/html": [
       "<div>\n",
       "<style scoped>\n",
       "    .dataframe tbody tr th:only-of-type {\n",
       "        vertical-align: middle;\n",
       "    }\n",
       "\n",
       "    .dataframe tbody tr th {\n",
       "        vertical-align: top;\n",
       "    }\n",
       "\n",
       "    .dataframe thead th {\n",
       "        text-align: right;\n",
       "    }\n",
       "</style>\n",
       "<table border=\"1\" class=\"dataframe\">\n",
       "  <thead>\n",
       "    <tr style=\"text-align: right;\">\n",
       "      <th></th>\n",
       "      <th>Index</th>\n",
       "    </tr>\n",
       "    <tr>\n",
       "      <th>Date</th>\n",
       "      <th></th>\n",
       "    </tr>\n",
       "  </thead>\n",
       "  <tbody>\n",
       "    <tr>\n",
       "      <th>1952-11-30</th>\n",
       "      <td>86.2</td>\n",
       "    </tr>\n",
       "    <tr>\n",
       "      <th>1953-02-28</th>\n",
       "      <td>90.7</td>\n",
       "    </tr>\n",
       "    <tr>\n",
       "      <th>1953-08-31</th>\n",
       "      <td>80.8</td>\n",
       "    </tr>\n",
       "    <tr>\n",
       "      <th>1953-11-30</th>\n",
       "      <td>80.7</td>\n",
       "    </tr>\n",
       "    <tr>\n",
       "      <th>1954-02-28</th>\n",
       "      <td>82.0</td>\n",
       "    </tr>\n",
       "  </tbody>\n",
       "</table>\n",
       "</div>"
      ],
      "text/plain": [
       "            Index\n",
       "Date             \n",
       "1952-11-30   86.2\n",
       "1953-02-28   90.7\n",
       "1953-08-31   80.8\n",
       "1953-11-30   80.7\n",
       "1954-02-28   82.0"
      ]
     },
     "execution_count": 46,
     "metadata": {},
     "output_type": "execute_result"
    }
   ],
   "source": [
    "conf_df.head()"
   ]
  },
  {
   "cell_type": "code",
   "execution_count": 47,
   "metadata": {},
   "outputs": [
    {
     "data": {
      "text/html": [
       "<div>\n",
       "<style scoped>\n",
       "    .dataframe tbody tr th:only-of-type {\n",
       "        vertical-align: middle;\n",
       "    }\n",
       "\n",
       "    .dataframe tbody tr th {\n",
       "        vertical-align: top;\n",
       "    }\n",
       "\n",
       "    .dataframe thead th {\n",
       "        text-align: right;\n",
       "    }\n",
       "</style>\n",
       "<table border=\"1\" class=\"dataframe\">\n",
       "  <thead>\n",
       "    <tr style=\"text-align: right;\">\n",
       "      <th></th>\n",
       "      <th>Index</th>\n",
       "    </tr>\n",
       "    <tr>\n",
       "      <th>Date</th>\n",
       "      <th></th>\n",
       "    </tr>\n",
       "  </thead>\n",
       "  <tbody>\n",
       "    <tr>\n",
       "      <th>2021-02-28</th>\n",
       "      <td>76.8</td>\n",
       "    </tr>\n",
       "    <tr>\n",
       "      <th>2021-03-31</th>\n",
       "      <td>84.9</td>\n",
       "    </tr>\n",
       "    <tr>\n",
       "      <th>2021-04-30</th>\n",
       "      <td>88.3</td>\n",
       "    </tr>\n",
       "    <tr>\n",
       "      <th>2021-05-31</th>\n",
       "      <td>82.9</td>\n",
       "    </tr>\n",
       "    <tr>\n",
       "      <th>2021-06-30</th>\n",
       "      <td>85.5</td>\n",
       "    </tr>\n",
       "  </tbody>\n",
       "</table>\n",
       "</div>"
      ],
      "text/plain": [
       "            Index\n",
       "Date             \n",
       "2021-02-28   76.8\n",
       "2021-03-31   84.9\n",
       "2021-04-30   88.3\n",
       "2021-05-31   82.9\n",
       "2021-06-30   85.5"
      ]
     },
     "execution_count": 47,
     "metadata": {},
     "output_type": "execute_result"
    }
   ],
   "source": [
    "conf_df.tail()"
   ]
  },
  {
   "cell_type": "code",
   "execution_count": 48,
   "metadata": {},
   "outputs": [
    {
     "data": {
      "text/plain": [
       "(614, 1)"
      ]
     },
     "execution_count": 48,
     "metadata": {},
     "output_type": "execute_result"
    }
   ],
   "source": [
    "conf_df.shape"
   ]
  },
  {
   "cell_type": "code",
   "execution_count": 49,
   "metadata": {},
   "outputs": [],
   "source": [
    "conf_df.rename(columns={'Index':'consumer_sentiment'}, inplace=True)\n",
    "feature_df_dict['consumer_sentiment'] = conf_df"
   ]
  },
  {
   "cell_type": "markdown",
   "metadata": {},
   "source": [
    "# Parameters to incorporate\n",
    "- Investor sentiment: https://www.quandl.com/data/AAII/AAII_SENTIMENT-AAII-Investor-Sentiment-Data\n",
    "- GDP: https://www.quandl.com/data/FRED/GDP-Gross-Domestic-Product\n",
    "- Consumer Price Index (as proxy for inflation): https://www.quandl.com/data/FRED/CPIAUCSL-Consumer-Price-Index-for-All-Urban-Consumers-All-Items (I think these figures are derived from the same source I put in the factor spreadsheet: https://www.bls.gov/news.release/cpi.toc.htm)\n",
    "- Civilian unemployment rate: https://www.quandl.com/data/FRED/UNRATE-Civilian-Unemployment-Rate"
   ]
  },
  {
   "cell_type": "markdown",
   "metadata": {},
   "source": [
    "# Load investor sentiment"
   ]
  },
  {
   "cell_type": "code",
   "execution_count": 50,
   "metadata": {},
   "outputs": [
    {
     "data": {
      "text/html": [
       "<div>\n",
       "<style scoped>\n",
       "    .dataframe tbody tr th:only-of-type {\n",
       "        vertical-align: middle;\n",
       "    }\n",
       "\n",
       "    .dataframe tbody tr th {\n",
       "        vertical-align: top;\n",
       "    }\n",
       "\n",
       "    .dataframe thead th {\n",
       "        text-align: right;\n",
       "    }\n",
       "</style>\n",
       "<table border=\"1\" class=\"dataframe\">\n",
       "  <thead>\n",
       "    <tr style=\"text-align: right;\">\n",
       "      <th></th>\n",
       "      <th>Bullish</th>\n",
       "      <th>Neutral</th>\n",
       "      <th>Bearish</th>\n",
       "      <th>Total</th>\n",
       "      <th>Bullish 8-Week Mov Avg</th>\n",
       "      <th>Bull-Bear Spread</th>\n",
       "      <th>Bullish Average</th>\n",
       "      <th>Bullish Average + St. Dev</th>\n",
       "      <th>Bullish Average - St. Dev</th>\n",
       "      <th>S&amp;P 500 Weekly High</th>\n",
       "      <th>S&amp;P 500 Weekly Low</th>\n",
       "      <th>S&amp;P 500 Weekly Close</th>\n",
       "    </tr>\n",
       "    <tr>\n",
       "      <th>Date</th>\n",
       "      <th></th>\n",
       "      <th></th>\n",
       "      <th></th>\n",
       "      <th></th>\n",
       "      <th></th>\n",
       "      <th></th>\n",
       "      <th></th>\n",
       "      <th></th>\n",
       "      <th></th>\n",
       "      <th></th>\n",
       "      <th></th>\n",
       "      <th></th>\n",
       "    </tr>\n",
       "  </thead>\n",
       "  <tbody>\n",
       "    <tr>\n",
       "      <th>1987-06-26</th>\n",
       "      <td>NaN</td>\n",
       "      <td>NaN</td>\n",
       "      <td>NaN</td>\n",
       "      <td>NaN</td>\n",
       "      <td>NaN</td>\n",
       "      <td>NaN</td>\n",
       "      <td>0.380245</td>\n",
       "      <td>0.480891</td>\n",
       "      <td>0.279599</td>\n",
       "      <td>NaN</td>\n",
       "      <td>NaN</td>\n",
       "      <td>NaN</td>\n",
       "    </tr>\n",
       "    <tr>\n",
       "      <th>1987-07-17</th>\n",
       "      <td>NaN</td>\n",
       "      <td>NaN</td>\n",
       "      <td>NaN</td>\n",
       "      <td>NaN</td>\n",
       "      <td>NaN</td>\n",
       "      <td>NaN</td>\n",
       "      <td>0.380245</td>\n",
       "      <td>0.480891</td>\n",
       "      <td>0.279599</td>\n",
       "      <td>314.59</td>\n",
       "      <td>307.63</td>\n",
       "      <td>314.59</td>\n",
       "    </tr>\n",
       "    <tr>\n",
       "      <th>1987-07-24</th>\n",
       "      <td>0.36</td>\n",
       "      <td>0.50</td>\n",
       "      <td>0.14</td>\n",
       "      <td>1.0</td>\n",
       "      <td>NaN</td>\n",
       "      <td>0.22</td>\n",
       "      <td>0.380245</td>\n",
       "      <td>0.480891</td>\n",
       "      <td>0.279599</td>\n",
       "      <td>311.39</td>\n",
       "      <td>307.81</td>\n",
       "      <td>309.27</td>\n",
       "    </tr>\n",
       "    <tr>\n",
       "      <th>1987-07-31</th>\n",
       "      <td>0.26</td>\n",
       "      <td>0.48</td>\n",
       "      <td>0.26</td>\n",
       "      <td>1.0</td>\n",
       "      <td>NaN</td>\n",
       "      <td>0.00</td>\n",
       "      <td>0.380245</td>\n",
       "      <td>0.480891</td>\n",
       "      <td>0.279599</td>\n",
       "      <td>318.66</td>\n",
       "      <td>310.65</td>\n",
       "      <td>318.66</td>\n",
       "    </tr>\n",
       "    <tr>\n",
       "      <th>1987-08-07</th>\n",
       "      <td>0.56</td>\n",
       "      <td>0.15</td>\n",
       "      <td>0.29</td>\n",
       "      <td>1.0</td>\n",
       "      <td>NaN</td>\n",
       "      <td>0.27</td>\n",
       "      <td>0.380245</td>\n",
       "      <td>0.480891</td>\n",
       "      <td>0.279599</td>\n",
       "      <td>323.00</td>\n",
       "      <td>316.23</td>\n",
       "      <td>323.00</td>\n",
       "    </tr>\n",
       "  </tbody>\n",
       "</table>\n",
       "</div>"
      ],
      "text/plain": [
       "            Bullish  Neutral  Bearish  Total  Bullish 8-Week Mov Avg  \\\n",
       "Date                                                                   \n",
       "1987-06-26      NaN      NaN      NaN    NaN                     NaN   \n",
       "1987-07-17      NaN      NaN      NaN    NaN                     NaN   \n",
       "1987-07-24     0.36     0.50     0.14    1.0                     NaN   \n",
       "1987-07-31     0.26     0.48     0.26    1.0                     NaN   \n",
       "1987-08-07     0.56     0.15     0.29    1.0                     NaN   \n",
       "\n",
       "            Bull-Bear Spread  Bullish Average  Bullish Average + St. Dev  \\\n",
       "Date                                                                       \n",
       "1987-06-26               NaN         0.380245                   0.480891   \n",
       "1987-07-17               NaN         0.380245                   0.480891   \n",
       "1987-07-24              0.22         0.380245                   0.480891   \n",
       "1987-07-31              0.00         0.380245                   0.480891   \n",
       "1987-08-07              0.27         0.380245                   0.480891   \n",
       "\n",
       "            Bullish Average - St. Dev  S&P 500 Weekly High  \\\n",
       "Date                                                         \n",
       "1987-06-26                   0.279599                  NaN   \n",
       "1987-07-17                   0.279599               314.59   \n",
       "1987-07-24                   0.279599               311.39   \n",
       "1987-07-31                   0.279599               318.66   \n",
       "1987-08-07                   0.279599               323.00   \n",
       "\n",
       "            S&P 500 Weekly Low  S&P 500 Weekly Close  \n",
       "Date                                                  \n",
       "1987-06-26                 NaN                   NaN  \n",
       "1987-07-17              307.63                314.59  \n",
       "1987-07-24              307.81                309.27  \n",
       "1987-07-31              310.65                318.66  \n",
       "1987-08-07              316.23                323.00  "
      ]
     },
     "execution_count": 50,
     "metadata": {},
     "output_type": "execute_result"
    }
   ],
   "source": [
    "# investor sentiment\n",
    "# https://www.quandl.com/data/AAII/AAII_SENTIMENT-AAII-Investor-Sentiment-Data\n",
    "# weekly\n",
    "inv_sent_df = quandl.get(\"AAII/AAII_SENTIMENT\", authtoken=quandl_token)\n",
    "inv_sent_df.head()"
   ]
  },
  {
   "cell_type": "code",
   "execution_count": 51,
   "metadata": {},
   "outputs": [
    {
     "data": {
      "text/html": [
       "<div>\n",
       "<style scoped>\n",
       "    .dataframe tbody tr th:only-of-type {\n",
       "        vertical-align: middle;\n",
       "    }\n",
       "\n",
       "    .dataframe tbody tr th {\n",
       "        vertical-align: top;\n",
       "    }\n",
       "\n",
       "    .dataframe thead th {\n",
       "        text-align: right;\n",
       "    }\n",
       "</style>\n",
       "<table border=\"1\" class=\"dataframe\">\n",
       "  <thead>\n",
       "    <tr style=\"text-align: right;\">\n",
       "      <th></th>\n",
       "      <th>Bullish</th>\n",
       "      <th>Neutral</th>\n",
       "      <th>Bearish</th>\n",
       "      <th>Total</th>\n",
       "      <th>Bullish 8-Week Mov Avg</th>\n",
       "      <th>Bull-Bear Spread</th>\n",
       "      <th>Bullish Average</th>\n",
       "      <th>Bullish Average + St. Dev</th>\n",
       "      <th>Bullish Average - St. Dev</th>\n",
       "      <th>S&amp;P 500 Weekly High</th>\n",
       "      <th>S&amp;P 500 Weekly Low</th>\n",
       "      <th>S&amp;P 500 Weekly Close</th>\n",
       "    </tr>\n",
       "    <tr>\n",
       "      <th>Date</th>\n",
       "      <th></th>\n",
       "      <th></th>\n",
       "      <th></th>\n",
       "      <th></th>\n",
       "      <th></th>\n",
       "      <th></th>\n",
       "      <th></th>\n",
       "      <th></th>\n",
       "      <th></th>\n",
       "      <th></th>\n",
       "      <th></th>\n",
       "      <th></th>\n",
       "    </tr>\n",
       "  </thead>\n",
       "  <tbody>\n",
       "    <tr>\n",
       "      <th>2021-03-25</th>\n",
       "      <td>0.509494</td>\n",
       "      <td>0.284810</td>\n",
       "      <td>0.205696</td>\n",
       "      <td>1.0</td>\n",
       "      <td>0.450599</td>\n",
       "      <td>0.303798</td>\n",
       "      <td>0.380245</td>\n",
       "      <td>0.480891</td>\n",
       "      <td>0.279599</td>\n",
       "      <td>3887.14</td>\n",
       "      <td>3864.63</td>\n",
       "      <td>3881.20</td>\n",
       "    </tr>\n",
       "    <tr>\n",
       "      <th>2021-04-01</th>\n",
       "      <td>0.458333</td>\n",
       "      <td>0.309524</td>\n",
       "      <td>0.232143</td>\n",
       "      <td>1.0</td>\n",
       "      <td>0.451054</td>\n",
       "      <td>0.226190</td>\n",
       "      <td>0.380245</td>\n",
       "      <td>0.480891</td>\n",
       "      <td>0.279599</td>\n",
       "      <td>4013.04</td>\n",
       "      <td>4013.04</td>\n",
       "      <td>4013.04</td>\n",
       "    </tr>\n",
       "    <tr>\n",
       "      <th>2021-04-08</th>\n",
       "      <td>0.569079</td>\n",
       "      <td>0.226974</td>\n",
       "      <td>0.203947</td>\n",
       "      <td>1.0</td>\n",
       "      <td>0.457611</td>\n",
       "      <td>0.365132</td>\n",
       "      <td>0.380245</td>\n",
       "      <td>0.480891</td>\n",
       "      <td>0.279599</td>\n",
       "      <td>4093.87</td>\n",
       "      <td>4089.89</td>\n",
       "      <td>4091.04</td>\n",
       "    </tr>\n",
       "    <tr>\n",
       "      <th>2021-04-15</th>\n",
       "      <td>0.538206</td>\n",
       "      <td>0.215947</td>\n",
       "      <td>0.245847</td>\n",
       "      <td>1.0</td>\n",
       "      <td>0.460250</td>\n",
       "      <td>0.292359</td>\n",
       "      <td>0.380245</td>\n",
       "      <td>0.480891</td>\n",
       "      <td>0.279599</td>\n",
       "      <td>4151.69</td>\n",
       "      <td>4120.87</td>\n",
       "      <td>4124.66</td>\n",
       "    </tr>\n",
       "    <tr>\n",
       "      <th>2021-04-22</th>\n",
       "      <td>0.526814</td>\n",
       "      <td>0.268139</td>\n",
       "      <td>0.205047</td>\n",
       "      <td>1.0</td>\n",
       "      <td>0.462819</td>\n",
       "      <td>0.321767</td>\n",
       "      <td>0.380245</td>\n",
       "      <td>0.480891</td>\n",
       "      <td>0.279599</td>\n",
       "      <td>4170.46</td>\n",
       "      <td>4160.11</td>\n",
       "      <td>4162.43</td>\n",
       "    </tr>\n",
       "  </tbody>\n",
       "</table>\n",
       "</div>"
      ],
      "text/plain": [
       "             Bullish   Neutral   Bearish  Total  Bullish 8-Week Mov Avg  \\\n",
       "Date                                                                      \n",
       "2021-03-25  0.509494  0.284810  0.205696    1.0                0.450599   \n",
       "2021-04-01  0.458333  0.309524  0.232143    1.0                0.451054   \n",
       "2021-04-08  0.569079  0.226974  0.203947    1.0                0.457611   \n",
       "2021-04-15  0.538206  0.215947  0.245847    1.0                0.460250   \n",
       "2021-04-22  0.526814  0.268139  0.205047    1.0                0.462819   \n",
       "\n",
       "            Bull-Bear Spread  Bullish Average  Bullish Average + St. Dev  \\\n",
       "Date                                                                       \n",
       "2021-03-25          0.303798         0.380245                   0.480891   \n",
       "2021-04-01          0.226190         0.380245                   0.480891   \n",
       "2021-04-08          0.365132         0.380245                   0.480891   \n",
       "2021-04-15          0.292359         0.380245                   0.480891   \n",
       "2021-04-22          0.321767         0.380245                   0.480891   \n",
       "\n",
       "            Bullish Average - St. Dev  S&P 500 Weekly High  \\\n",
       "Date                                                         \n",
       "2021-03-25                   0.279599              3887.14   \n",
       "2021-04-01                   0.279599              4013.04   \n",
       "2021-04-08                   0.279599              4093.87   \n",
       "2021-04-15                   0.279599              4151.69   \n",
       "2021-04-22                   0.279599              4170.46   \n",
       "\n",
       "            S&P 500 Weekly Low  S&P 500 Weekly Close  \n",
       "Date                                                  \n",
       "2021-03-25             3864.63               3881.20  \n",
       "2021-04-01             4013.04               4013.04  \n",
       "2021-04-08             4089.89               4091.04  \n",
       "2021-04-15             4120.87               4124.66  \n",
       "2021-04-22             4160.11               4162.43  "
      ]
     },
     "execution_count": 51,
     "metadata": {},
     "output_type": "execute_result"
    }
   ],
   "source": [
    "inv_sent_df.tail()"
   ]
  },
  {
   "cell_type": "code",
   "execution_count": 52,
   "metadata": {},
   "outputs": [
    {
     "data": {
      "text/plain": [
       "(1762, 12)"
      ]
     },
     "execution_count": 52,
     "metadata": {},
     "output_type": "execute_result"
    }
   ],
   "source": [
    "inv_sent_df.shape"
   ]
  },
  {
   "cell_type": "code",
   "execution_count": 53,
   "metadata": {},
   "outputs": [],
   "source": [
    "# inv_sent_df2 = inv_sent_df[['Bullish','Bearish']].copy()\n",
    "bullish_df = inv_sent_df[['Bullish']].copy()\n",
    "bearish_df = inv_sent_df[['Bearish']].copy()\n",
    "feature_df_dict['Bullish'] = bullish_df\n",
    "feature_df_dict['Bearish'] = bearish_df"
   ]
  },
  {
   "cell_type": "markdown",
   "metadata": {},
   "source": [
    "# Load GDP"
   ]
  },
  {
   "cell_type": "code",
   "execution_count": 54,
   "metadata": {},
   "outputs": [
    {
     "data": {
      "text/html": [
       "<div>\n",
       "<style scoped>\n",
       "    .dataframe tbody tr th:only-of-type {\n",
       "        vertical-align: middle;\n",
       "    }\n",
       "\n",
       "    .dataframe tbody tr th {\n",
       "        vertical-align: top;\n",
       "    }\n",
       "\n",
       "    .dataframe thead th {\n",
       "        text-align: right;\n",
       "    }\n",
       "</style>\n",
       "<table border=\"1\" class=\"dataframe\">\n",
       "  <thead>\n",
       "    <tr style=\"text-align: right;\">\n",
       "      <th></th>\n",
       "      <th>Value</th>\n",
       "    </tr>\n",
       "    <tr>\n",
       "      <th>Date</th>\n",
       "      <th></th>\n",
       "    </tr>\n",
       "  </thead>\n",
       "  <tbody>\n",
       "    <tr>\n",
       "      <th>1947-01-01</th>\n",
       "      <td>243.164</td>\n",
       "    </tr>\n",
       "    <tr>\n",
       "      <th>1947-04-01</th>\n",
       "      <td>245.968</td>\n",
       "    </tr>\n",
       "    <tr>\n",
       "      <th>1947-07-01</th>\n",
       "      <td>249.585</td>\n",
       "    </tr>\n",
       "    <tr>\n",
       "      <th>1947-10-01</th>\n",
       "      <td>259.745</td>\n",
       "    </tr>\n",
       "    <tr>\n",
       "      <th>1948-01-01</th>\n",
       "      <td>265.742</td>\n",
       "    </tr>\n",
       "  </tbody>\n",
       "</table>\n",
       "</div>"
      ],
      "text/plain": [
       "              Value\n",
       "Date               \n",
       "1947-01-01  243.164\n",
       "1947-04-01  245.968\n",
       "1947-07-01  249.585\n",
       "1947-10-01  259.745\n",
       "1948-01-01  265.742"
      ]
     },
     "execution_count": 54,
     "metadata": {},
     "output_type": "execute_result"
    }
   ],
   "source": [
    "gdp_df = quandl.get(\"FRED/GDP\", authtoken=quandl_token)\n",
    "gdp_df.head()"
   ]
  },
  {
   "cell_type": "code",
   "execution_count": 55,
   "metadata": {},
   "outputs": [
    {
     "data": {
      "text/html": [
       "<div>\n",
       "<style scoped>\n",
       "    .dataframe tbody tr th:only-of-type {\n",
       "        vertical-align: middle;\n",
       "    }\n",
       "\n",
       "    .dataframe tbody tr th {\n",
       "        vertical-align: top;\n",
       "    }\n",
       "\n",
       "    .dataframe thead th {\n",
       "        text-align: right;\n",
       "    }\n",
       "</style>\n",
       "<table border=\"1\" class=\"dataframe\">\n",
       "  <thead>\n",
       "    <tr style=\"text-align: right;\">\n",
       "      <th></th>\n",
       "      <th>gdp</th>\n",
       "    </tr>\n",
       "    <tr>\n",
       "      <th>Date</th>\n",
       "      <th></th>\n",
       "    </tr>\n",
       "  </thead>\n",
       "  <tbody>\n",
       "    <tr>\n",
       "      <th>1947-01-01</th>\n",
       "      <td>243.164</td>\n",
       "    </tr>\n",
       "    <tr>\n",
       "      <th>1947-04-01</th>\n",
       "      <td>245.968</td>\n",
       "    </tr>\n",
       "    <tr>\n",
       "      <th>1947-07-01</th>\n",
       "      <td>249.585</td>\n",
       "    </tr>\n",
       "    <tr>\n",
       "      <th>1947-10-01</th>\n",
       "      <td>259.745</td>\n",
       "    </tr>\n",
       "    <tr>\n",
       "      <th>1948-01-01</th>\n",
       "      <td>265.742</td>\n",
       "    </tr>\n",
       "  </tbody>\n",
       "</table>\n",
       "</div>"
      ],
      "text/plain": [
       "                gdp\n",
       "Date               \n",
       "1947-01-01  243.164\n",
       "1947-04-01  245.968\n",
       "1947-07-01  249.585\n",
       "1947-10-01  259.745\n",
       "1948-01-01  265.742"
      ]
     },
     "execution_count": 55,
     "metadata": {},
     "output_type": "execute_result"
    }
   ],
   "source": [
    "gdp_df.rename(columns={'Value':'gdp'}, inplace=True)\n",
    "feature_df_dict['gdp'] = gdp_df\n",
    "gdp_df.head()"
   ]
  },
  {
   "cell_type": "markdown",
   "metadata": {},
   "source": [
    "# Load CPI"
   ]
  },
  {
   "cell_type": "code",
   "execution_count": 56,
   "metadata": {},
   "outputs": [
    {
     "data": {
      "text/html": [
       "<div>\n",
       "<style scoped>\n",
       "    .dataframe tbody tr th:only-of-type {\n",
       "        vertical-align: middle;\n",
       "    }\n",
       "\n",
       "    .dataframe tbody tr th {\n",
       "        vertical-align: top;\n",
       "    }\n",
       "\n",
       "    .dataframe thead th {\n",
       "        text-align: right;\n",
       "    }\n",
       "</style>\n",
       "<table border=\"1\" class=\"dataframe\">\n",
       "  <thead>\n",
       "    <tr style=\"text-align: right;\">\n",
       "      <th></th>\n",
       "      <th>Value</th>\n",
       "    </tr>\n",
       "    <tr>\n",
       "      <th>Date</th>\n",
       "      <th></th>\n",
       "    </tr>\n",
       "  </thead>\n",
       "  <tbody>\n",
       "    <tr>\n",
       "      <th>1947-01-01</th>\n",
       "      <td>21.48</td>\n",
       "    </tr>\n",
       "    <tr>\n",
       "      <th>1947-02-01</th>\n",
       "      <td>21.62</td>\n",
       "    </tr>\n",
       "    <tr>\n",
       "      <th>1947-03-01</th>\n",
       "      <td>22.00</td>\n",
       "    </tr>\n",
       "    <tr>\n",
       "      <th>1947-04-01</th>\n",
       "      <td>22.00</td>\n",
       "    </tr>\n",
       "    <tr>\n",
       "      <th>1947-05-01</th>\n",
       "      <td>21.95</td>\n",
       "    </tr>\n",
       "  </tbody>\n",
       "</table>\n",
       "</div>"
      ],
      "text/plain": [
       "            Value\n",
       "Date             \n",
       "1947-01-01  21.48\n",
       "1947-02-01  21.62\n",
       "1947-03-01  22.00\n",
       "1947-04-01  22.00\n",
       "1947-05-01  21.95"
      ]
     },
     "execution_count": 56,
     "metadata": {},
     "output_type": "execute_result"
    }
   ],
   "source": [
    "cpi_df = quandl.get(\"FRED/CPIAUCSL\", authtoken=quandl_token)\n",
    "cpi_df.head()"
   ]
  },
  {
   "cell_type": "code",
   "execution_count": 57,
   "metadata": {},
   "outputs": [],
   "source": [
    "cpi_df.rename(columns={'Value':'cpi'}, inplace=True)\n",
    "feature_df_dict['cpi'] = cpi_df"
   ]
  },
  {
   "cell_type": "markdown",
   "metadata": {},
   "source": [
    "# Load VIX\n",
    "- special ticker to get options as proxies of where investors think the market is heading \n",
    "- source: Yahoo\n",
    "- frequency: daily"
   ]
  },
  {
   "cell_type": "code",
   "execution_count": 58,
   "metadata": {},
   "outputs": [
    {
     "data": {
      "text/plain": [
       "'\\n# brute force to just get the VIX series for the last 20 years\\nvix_end = datetime.now()\\nvix_start = datetime(end.year-max_years_back, end.month, end.day)\\nprint(\"vix_start: \",vix_start)\\nprint(\"vix_end: \",vix_end)\\ncompany = \\'^VIX\\'\\ntemp_df = DataReader(company,data_source=\\'yahoo\\', start=vix_start, end=vix_end)\\nvix_df = temp_df[[\"Close\"]].copy()\\nvix_df.rename(columns={\\'Close\\':\\'VIX\\'}, inplace=True)\\nfeature_df_dict[\\'VIX\\'] = vix_df\\nvix_df.head()\\n'"
      ]
     },
     "execution_count": 58,
     "metadata": {},
     "output_type": "execute_result"
    }
   ],
   "source": [
    "# VIX not available from MarketStack\n",
    "'''\n",
    "# brute force to just get the VIX series for the last 20 years\n",
    "vix_end = datetime.now()\n",
    "vix_start = datetime(end.year-max_years_back, end.month, end.day)\n",
    "print(\"vix_start: \",vix_start)\n",
    "print(\"vix_end: \",vix_end)\n",
    "company = '^VIX'\n",
    "temp_df = DataReader(company,data_source='yahoo', start=vix_start, end=vix_end)\n",
    "vix_df = temp_df[[\"Close\"]].copy()\n",
    "vix_df.rename(columns={'Close':'VIX'}, inplace=True)\n",
    "feature_df_dict['VIX'] = vix_df\n",
    "vix_df.head()\n",
    "'''"
   ]
  },
  {
   "cell_type": "code",
   "execution_count": 59,
   "metadata": {},
   "outputs": [],
   "source": [
    "#vix_df.tail()"
   ]
  },
  {
   "cell_type": "markdown",
   "metadata": {},
   "source": [
    "# Load URTH"
   ]
  },
  {
   "cell_type": "code",
   "execution_count": 60,
   "metadata": {},
   "outputs": [
    {
     "data": {
      "text/plain": [
       "'\\n# brute force to just get the URTH series for the last 20 years\\nurth_end = datetime.now()\\nurth_start = datetime(end.year-max_years_back, end.month, end.day)\\nprint(\"urth_start: \",urth_start)\\nprint(\"urth_end: \",urth_end)\\ncompany = \\'URTH\\'\\ntemp_df = DataReader(company,data_source=\\'yahoo\\', start=urth_start, end=urth_end)\\nurth_df = temp_df[[\"Close\"]].copy()\\nurth_df.rename(columns={\\'Close\\':\\'URTH\\'}, inplace=True)\\nfeature_df_dict[\\'URTH\\'] = urth_df\\nurth_df.head()\\n'"
      ]
     },
     "execution_count": 60,
     "metadata": {},
     "output_type": "execute_result"
    }
   ],
   "source": [
    "# Post Aug 10 getting URTH along with other tickers from MarketStack\n",
    "'''\n",
    "# brute force to just get the URTH series for the last 20 years\n",
    "urth_end = datetime.now()\n",
    "urth_start = datetime(end.year-max_years_back, end.month, end.day)\n",
    "print(\"urth_start: \",urth_start)\n",
    "print(\"urth_end: \",urth_end)\n",
    "company = 'URTH'\n",
    "temp_df = DataReader(company,data_source='yahoo', start=urth_start, end=urth_end)\n",
    "urth_df = temp_df[[\"Close\"]].copy()\n",
    "urth_df.rename(columns={'Close':'URTH'}, inplace=True)\n",
    "feature_df_dict['URTH'] = urth_df\n",
    "urth_df.head()\n",
    "'''"
   ]
  },
  {
   "cell_type": "code",
   "execution_count": 61,
   "metadata": {},
   "outputs": [],
   "source": [
    "#urth_df.tail()"
   ]
  },
  {
   "cell_type": "markdown",
   "metadata": {},
   "source": [
    "# Load unemployment"
   ]
  },
  {
   "cell_type": "code",
   "execution_count": 62,
   "metadata": {},
   "outputs": [
    {
     "data": {
      "text/html": [
       "<div>\n",
       "<style scoped>\n",
       "    .dataframe tbody tr th:only-of-type {\n",
       "        vertical-align: middle;\n",
       "    }\n",
       "\n",
       "    .dataframe tbody tr th {\n",
       "        vertical-align: top;\n",
       "    }\n",
       "\n",
       "    .dataframe thead th {\n",
       "        text-align: right;\n",
       "    }\n",
       "</style>\n",
       "<table border=\"1\" class=\"dataframe\">\n",
       "  <thead>\n",
       "    <tr style=\"text-align: right;\">\n",
       "      <th></th>\n",
       "      <th>Value</th>\n",
       "    </tr>\n",
       "    <tr>\n",
       "      <th>Date</th>\n",
       "      <th></th>\n",
       "    </tr>\n",
       "  </thead>\n",
       "  <tbody>\n",
       "    <tr>\n",
       "      <th>1948-01-01</th>\n",
       "      <td>3.4</td>\n",
       "    </tr>\n",
       "    <tr>\n",
       "      <th>1948-02-01</th>\n",
       "      <td>3.8</td>\n",
       "    </tr>\n",
       "    <tr>\n",
       "      <th>1948-03-01</th>\n",
       "      <td>4.0</td>\n",
       "    </tr>\n",
       "    <tr>\n",
       "      <th>1948-04-01</th>\n",
       "      <td>3.9</td>\n",
       "    </tr>\n",
       "    <tr>\n",
       "      <th>1948-05-01</th>\n",
       "      <td>3.5</td>\n",
       "    </tr>\n",
       "  </tbody>\n",
       "</table>\n",
       "</div>"
      ],
      "text/plain": [
       "            Value\n",
       "Date             \n",
       "1948-01-01    3.4\n",
       "1948-02-01    3.8\n",
       "1948-03-01    4.0\n",
       "1948-04-01    3.9\n",
       "1948-05-01    3.5"
      ]
     },
     "execution_count": 62,
     "metadata": {},
     "output_type": "execute_result"
    }
   ],
   "source": [
    "# Civilian unemployment rate: https://www.quandl.com/data/FRED/UNRATE-Civilian-Unemployment-Rate\n",
    "# monthly\n",
    "unemp_df = quandl.get(\"FRED/UNRATE\")\n",
    "unemp_df.head()"
   ]
  },
  {
   "cell_type": "code",
   "execution_count": 63,
   "metadata": {},
   "outputs": [],
   "source": [
    "unemp_df.rename(columns={'Value':'unemployment'}, inplace=True)\n",
    "feature_df_dict['unemployment'] = unemp_df"
   ]
  },
  {
   "cell_type": "markdown",
   "metadata": {},
   "source": [
    "# Load non-farm payrolls"
   ]
  },
  {
   "cell_type": "code",
   "execution_count": 64,
   "metadata": {},
   "outputs": [
    {
     "data": {
      "text/html": [
       "<div>\n",
       "<style scoped>\n",
       "    .dataframe tbody tr th:only-of-type {\n",
       "        vertical-align: middle;\n",
       "    }\n",
       "\n",
       "    .dataframe tbody tr th {\n",
       "        vertical-align: top;\n",
       "    }\n",
       "\n",
       "    .dataframe thead th {\n",
       "        text-align: right;\n",
       "    }\n",
       "</style>\n",
       "<table border=\"1\" class=\"dataframe\">\n",
       "  <thead>\n",
       "    <tr style=\"text-align: right;\">\n",
       "      <th></th>\n",
       "      <th>Value</th>\n",
       "    </tr>\n",
       "    <tr>\n",
       "      <th>Date</th>\n",
       "      <th></th>\n",
       "    </tr>\n",
       "  </thead>\n",
       "  <tbody>\n",
       "    <tr>\n",
       "      <th>1939-01-01</th>\n",
       "      <td>29923.0</td>\n",
       "    </tr>\n",
       "    <tr>\n",
       "      <th>1939-02-01</th>\n",
       "      <td>30100.0</td>\n",
       "    </tr>\n",
       "    <tr>\n",
       "      <th>1939-03-01</th>\n",
       "      <td>30280.0</td>\n",
       "    </tr>\n",
       "    <tr>\n",
       "      <th>1939-04-01</th>\n",
       "      <td>30094.0</td>\n",
       "    </tr>\n",
       "    <tr>\n",
       "      <th>1939-05-01</th>\n",
       "      <td>30299.0</td>\n",
       "    </tr>\n",
       "  </tbody>\n",
       "</table>\n",
       "</div>"
      ],
      "text/plain": [
       "              Value\n",
       "Date               \n",
       "1939-01-01  29923.0\n",
       "1939-02-01  30100.0\n",
       "1939-03-01  30280.0\n",
       "1939-04-01  30094.0\n",
       "1939-05-01  30299.0"
      ]
     },
     "execution_count": 64,
     "metadata": {},
     "output_type": "execute_result"
    }
   ],
   "source": [
    "# non-farm payroll:  https://www.quandl.com/data/FRED/PAYEMS-All-Employees-Total-Nonfarm-Payrolls\n",
    "# https://en.wikipedia.org/wiki/Nonfarm_payrolls\n",
    "# monthly\n",
    "non_farm_df = quandl.get(\"FRED/PAYEMS\")\n",
    "non_farm_df.head()"
   ]
  },
  {
   "cell_type": "code",
   "execution_count": 65,
   "metadata": {},
   "outputs": [],
   "source": [
    "non_farm_df.rename(columns={'Value':'non_farm'}, inplace=True)\n",
    "feature_df_dict['non_farm'] = non_farm_df"
   ]
  },
  {
   "cell_type": "markdown",
   "metadata": {},
   "source": [
    "# Load M2 Money Supply"
   ]
  },
  {
   "cell_type": "code",
   "execution_count": 66,
   "metadata": {},
   "outputs": [
    {
     "data": {
      "text/html": [
       "<div>\n",
       "<style scoped>\n",
       "    .dataframe tbody tr th:only-of-type {\n",
       "        vertical-align: middle;\n",
       "    }\n",
       "\n",
       "    .dataframe tbody tr th {\n",
       "        vertical-align: top;\n",
       "    }\n",
       "\n",
       "    .dataframe thead th {\n",
       "        text-align: right;\n",
       "    }\n",
       "</style>\n",
       "<table border=\"1\" class=\"dataframe\">\n",
       "  <thead>\n",
       "    <tr style=\"text-align: right;\">\n",
       "      <th></th>\n",
       "      <th>Value</th>\n",
       "    </tr>\n",
       "    <tr>\n",
       "      <th>Date</th>\n",
       "      <th></th>\n",
       "    </tr>\n",
       "  </thead>\n",
       "  <tbody>\n",
       "    <tr>\n",
       "      <th>1959-01-01</th>\n",
       "      <td>1.773</td>\n",
       "    </tr>\n",
       "    <tr>\n",
       "      <th>1959-04-01</th>\n",
       "      <td>1.789</td>\n",
       "    </tr>\n",
       "    <tr>\n",
       "      <th>1959-07-01</th>\n",
       "      <td>1.773</td>\n",
       "    </tr>\n",
       "    <tr>\n",
       "      <th>1959-10-01</th>\n",
       "      <td>1.779</td>\n",
       "    </tr>\n",
       "    <tr>\n",
       "      <th>1960-01-01</th>\n",
       "      <td>1.817</td>\n",
       "    </tr>\n",
       "  </tbody>\n",
       "</table>\n",
       "</div>"
      ],
      "text/plain": [
       "            Value\n",
       "Date             \n",
       "1959-01-01  1.773\n",
       "1959-04-01  1.789\n",
       "1959-07-01  1.773\n",
       "1959-10-01  1.779\n",
       "1960-01-01  1.817"
      ]
     },
     "execution_count": 66,
     "metadata": {},
     "output_type": "execute_result"
    }
   ],
   "source": [
    "# non-farm payroll:   https://www.quandl.com/data/FRED/M2V-Velocity-of-M2-Money-Stock\n",
    "# quarterly\n",
    "m2_money_df = quandl.get(\"FRED/M2V\")\n",
    "m2_money_df.head()"
   ]
  },
  {
   "cell_type": "code",
   "execution_count": 67,
   "metadata": {},
   "outputs": [],
   "source": [
    "m2_money_df.rename(columns={'Value':'m2_money'}, inplace=True)\n",
    "feature_df_dict['m2_money'] = m2_money_df"
   ]
  },
  {
   "cell_type": "markdown",
   "metadata": {},
   "source": [
    "# St Louis Stress Index"
   ]
  },
  {
   "cell_type": "code",
   "execution_count": 68,
   "metadata": {},
   "outputs": [
    {
     "data": {
      "text/html": [
       "<div>\n",
       "<style scoped>\n",
       "    .dataframe tbody tr th:only-of-type {\n",
       "        vertical-align: middle;\n",
       "    }\n",
       "\n",
       "    .dataframe tbody tr th {\n",
       "        vertical-align: top;\n",
       "    }\n",
       "\n",
       "    .dataframe thead th {\n",
       "        text-align: right;\n",
       "    }\n",
       "</style>\n",
       "<table border=\"1\" class=\"dataframe\">\n",
       "  <thead>\n",
       "    <tr style=\"text-align: right;\">\n",
       "      <th></th>\n",
       "      <th>Value</th>\n",
       "    </tr>\n",
       "    <tr>\n",
       "      <th>Date</th>\n",
       "      <th></th>\n",
       "    </tr>\n",
       "  </thead>\n",
       "  <tbody>\n",
       "    <tr>\n",
       "      <th>1993-12-31</th>\n",
       "      <td>0.259</td>\n",
       "    </tr>\n",
       "    <tr>\n",
       "      <th>1994-01-07</th>\n",
       "      <td>0.303</td>\n",
       "    </tr>\n",
       "    <tr>\n",
       "      <th>1994-01-14</th>\n",
       "      <td>0.246</td>\n",
       "    </tr>\n",
       "    <tr>\n",
       "      <th>1994-01-21</th>\n",
       "      <td>0.265</td>\n",
       "    </tr>\n",
       "    <tr>\n",
       "      <th>1994-01-28</th>\n",
       "      <td>0.242</td>\n",
       "    </tr>\n",
       "  </tbody>\n",
       "</table>\n",
       "</div>"
      ],
      "text/plain": [
       "            Value\n",
       "Date             \n",
       "1993-12-31  0.259\n",
       "1994-01-07  0.303\n",
       "1994-01-14  0.246\n",
       "1994-01-21  0.265\n",
       "1994-01-28  0.242"
      ]
     },
     "execution_count": 68,
     "metadata": {},
     "output_type": "execute_result"
    }
   ],
   "source": [
    "# source: https://www.quandl.com/data/FRED/STLFSI-St-Louis-Financial-Stress-Index\n",
    "# https://en.wikipedia.org/wiki/St._Louis_Fed_Financial_Stress_Index\n",
    "# weekly\n",
    "st_louis_df = quandl.get(\"FRED/STLFSI\")\n",
    "st_louis_df.head()"
   ]
  },
  {
   "cell_type": "code",
   "execution_count": 70,
   "metadata": {},
   "outputs": [],
   "source": [
    "st_louis_df.rename(columns={'Value':'st_louis'}, inplace=True)\n",
    "feature_df_dict['st_louis'] = st_louis_df"
   ]
  },
  {
   "cell_type": "code",
   "execution_count": null,
   "metadata": {},
   "outputs": [],
   "source": []
  },
  {
   "cell_type": "markdown",
   "metadata": {},
   "source": [
    "# Save static loads"
   ]
  },
  {
   "cell_type": "code",
   "execution_count": 115,
   "metadata": {
    "scrolled": true
   },
   "outputs": [
    {
     "name": "stdout",
     "output_type": "stream",
     "text": [
      "udf shape before:  (7878, 12)\n",
      "filling in df for: gdp\n",
      "shape of df:  (27120, 1)\n",
      "output static load:  C:\\personal\\karma_stocks_2021\\stock_investigation\\static_load\\gdp20210627-222520.csv\n",
      "filling in df for: cpi\n",
      "shape of df:  (27120, 1)\n",
      "output static load:  C:\\personal\\karma_stocks_2021\\stock_investigation\\static_load\\cpi20210627-222520.csv\n",
      "filling in df for: oil_price\n",
      "shape of df:  (12874, 1)\n",
      "output static load:  C:\\personal\\karma_stocks_2021\\stock_investigation\\static_load\\oil_price20210627-222520.csv\n"
     ]
    }
   ],
   "source": [
    "# load features on the static load list\n",
    "str_date = datetime.now().strftime(\"%Y%m%d-%H%M%S\")\n",
    "add_date = np.datetime64(static_load_end)\n",
    "add_date\n",
    "ass_feat = []\n",
    "print(\"udf shape before: \",ust_df.shape)\n",
    "for feature_df in static_feature_list:\n",
    "    print(\"filling in df for:\",feature_df)\n",
    "    # set the value of the end row\n",
    "    feature_df_dict[feature_df].loc[add_date] = [feature_df_dict[feature_df][feature_df].iloc[-1]]\n",
    "    # fill in the daily values\n",
    "    feature_df_dict[feature_df] = feature_df_dict[feature_df].resample('D').ffill()\n",
    "    # truncate all the values after the specified end date of static load\n",
    "    feature_df_dict[feature_df] = feature_df_dict[feature_df].truncate(after = static_load_end)\n",
    "    #data = data.loc[(data[\"deaths_7_days\"] > 0) & (data[\"deaths_24_hours\"] > 0)]\n",
    "    print(\"shape of df: \",feature_df_dict[feature_df].shape)\n",
    "    file_name = os.path.join(get_path(),feature_df+str_date+\".csv\")\n",
    "    print(\"output static load: \",file_name)\n",
    "    try:\n",
    "        feature_df_dict[feature_df].to_csv(file_name)\n",
    "    except Exception as f:\n",
    "        if debug_on:\n",
    "            raise\n",
    "            print(\"exception generated \"+str(f)+\" attempting to write output CSV \"+file_name)\n",
    "        else:\n",
    "            print(\"exception not generated\")\n",
    "\n",
    "    "
   ]
  },
  {
   "cell_type": "code",
   "execution_count": 116,
   "metadata": {},
   "outputs": [],
   "source": [
    "#['2 YR','30 YR', 'Sector_Close','VIX','URTH', 'personal_sav_rate', 'oil_price', 'schiller_ratio', 'consumer_sentiment','public_debt', 'Bullish', 'Bearish', 'gdp', 'cpi', 'unemployment']"
   ]
  },
  {
   "cell_type": "code",
   "execution_count": 117,
   "metadata": {},
   "outputs": [
    {
     "data": {
      "text/html": [
       "<div>\n",
       "<style scoped>\n",
       "    .dataframe tbody tr th:only-of-type {\n",
       "        vertical-align: middle;\n",
       "    }\n",
       "\n",
       "    .dataframe tbody tr th {\n",
       "        vertical-align: top;\n",
       "    }\n",
       "\n",
       "    .dataframe thead th {\n",
       "        text-align: right;\n",
       "    }\n",
       "</style>\n",
       "<table border=\"1\" class=\"dataframe\">\n",
       "  <thead>\n",
       "    <tr style=\"text-align: right;\">\n",
       "      <th></th>\n",
       "      <th>1 MO</th>\n",
       "      <th>2 MO</th>\n",
       "      <th>3 MO</th>\n",
       "      <th>6 MO</th>\n",
       "      <th>1 YR</th>\n",
       "      <th>2 YR</th>\n",
       "      <th>3 YR</th>\n",
       "      <th>5 YR</th>\n",
       "      <th>7 YR</th>\n",
       "      <th>10 YR</th>\n",
       "      <th>20 YR</th>\n",
       "      <th>30 YR</th>\n",
       "    </tr>\n",
       "    <tr>\n",
       "      <th>Date</th>\n",
       "      <th></th>\n",
       "      <th></th>\n",
       "      <th></th>\n",
       "      <th></th>\n",
       "      <th></th>\n",
       "      <th></th>\n",
       "      <th></th>\n",
       "      <th></th>\n",
       "      <th></th>\n",
       "      <th></th>\n",
       "      <th></th>\n",
       "      <th></th>\n",
       "    </tr>\n",
       "  </thead>\n",
       "  <tbody>\n",
       "    <tr>\n",
       "      <th>1990-01-02</th>\n",
       "      <td>NaN</td>\n",
       "      <td>NaN</td>\n",
       "      <td>7.83</td>\n",
       "      <td>7.89</td>\n",
       "      <td>7.81</td>\n",
       "      <td>7.87</td>\n",
       "      <td>7.90</td>\n",
       "      <td>7.87</td>\n",
       "      <td>7.98</td>\n",
       "      <td>7.94</td>\n",
       "      <td>NaN</td>\n",
       "      <td>8.00</td>\n",
       "    </tr>\n",
       "    <tr>\n",
       "      <th>1990-01-03</th>\n",
       "      <td>NaN</td>\n",
       "      <td>NaN</td>\n",
       "      <td>7.89</td>\n",
       "      <td>7.94</td>\n",
       "      <td>7.85</td>\n",
       "      <td>7.94</td>\n",
       "      <td>7.96</td>\n",
       "      <td>7.92</td>\n",
       "      <td>8.04</td>\n",
       "      <td>7.99</td>\n",
       "      <td>NaN</td>\n",
       "      <td>8.04</td>\n",
       "    </tr>\n",
       "    <tr>\n",
       "      <th>1990-01-04</th>\n",
       "      <td>NaN</td>\n",
       "      <td>NaN</td>\n",
       "      <td>7.84</td>\n",
       "      <td>7.90</td>\n",
       "      <td>7.82</td>\n",
       "      <td>7.92</td>\n",
       "      <td>7.93</td>\n",
       "      <td>7.91</td>\n",
       "      <td>8.02</td>\n",
       "      <td>7.98</td>\n",
       "      <td>NaN</td>\n",
       "      <td>8.04</td>\n",
       "    </tr>\n",
       "    <tr>\n",
       "      <th>1990-01-05</th>\n",
       "      <td>NaN</td>\n",
       "      <td>NaN</td>\n",
       "      <td>7.79</td>\n",
       "      <td>7.85</td>\n",
       "      <td>7.79</td>\n",
       "      <td>7.90</td>\n",
       "      <td>7.94</td>\n",
       "      <td>7.92</td>\n",
       "      <td>8.03</td>\n",
       "      <td>7.99</td>\n",
       "      <td>NaN</td>\n",
       "      <td>8.06</td>\n",
       "    </tr>\n",
       "    <tr>\n",
       "      <th>1990-01-08</th>\n",
       "      <td>NaN</td>\n",
       "      <td>NaN</td>\n",
       "      <td>7.79</td>\n",
       "      <td>7.88</td>\n",
       "      <td>7.81</td>\n",
       "      <td>7.90</td>\n",
       "      <td>7.95</td>\n",
       "      <td>7.92</td>\n",
       "      <td>8.05</td>\n",
       "      <td>8.02</td>\n",
       "      <td>NaN</td>\n",
       "      <td>8.09</td>\n",
       "    </tr>\n",
       "  </tbody>\n",
       "</table>\n",
       "</div>"
      ],
      "text/plain": [
       "            1 MO  2 MO  3 MO  6 MO  1 YR  2 YR  3 YR  5 YR  7 YR  10 YR  \\\n",
       "Date                                                                      \n",
       "1990-01-02   NaN   NaN  7.83  7.89  7.81  7.87  7.90  7.87  7.98   7.94   \n",
       "1990-01-03   NaN   NaN  7.89  7.94  7.85  7.94  7.96  7.92  8.04   7.99   \n",
       "1990-01-04   NaN   NaN  7.84  7.90  7.82  7.92  7.93  7.91  8.02   7.98   \n",
       "1990-01-05   NaN   NaN  7.79  7.85  7.79  7.90  7.94  7.92  8.03   7.99   \n",
       "1990-01-08   NaN   NaN  7.79  7.88  7.81  7.90  7.95  7.92  8.05   8.02   \n",
       "\n",
       "            20 YR  30 YR  \n",
       "Date                      \n",
       "1990-01-02    NaN   8.00  \n",
       "1990-01-03    NaN   8.04  \n",
       "1990-01-04    NaN   8.04  \n",
       "1990-01-05    NaN   8.06  \n",
       "1990-01-08    NaN   8.09  "
      ]
     },
     "execution_count": 117,
     "metadata": {},
     "output_type": "execute_result"
    }
   ],
   "source": [
    "ust_df.head()"
   ]
  },
  {
   "cell_type": "code",
   "execution_count": 118,
   "metadata": {},
   "outputs": [
    {
     "data": {
      "text/html": [
       "<div>\n",
       "<style scoped>\n",
       "    .dataframe tbody tr th:only-of-type {\n",
       "        vertical-align: middle;\n",
       "    }\n",
       "\n",
       "    .dataframe tbody tr th {\n",
       "        vertical-align: top;\n",
       "    }\n",
       "\n",
       "    .dataframe thead th {\n",
       "        text-align: right;\n",
       "    }\n",
       "</style>\n",
       "<table border=\"1\" class=\"dataframe\">\n",
       "  <thead>\n",
       "    <tr style=\"text-align: right;\">\n",
       "      <th></th>\n",
       "      <th>1 MO</th>\n",
       "      <th>2 MO</th>\n",
       "      <th>3 MO</th>\n",
       "      <th>6 MO</th>\n",
       "      <th>1 YR</th>\n",
       "      <th>2 YR</th>\n",
       "      <th>3 YR</th>\n",
       "      <th>5 YR</th>\n",
       "      <th>7 YR</th>\n",
       "      <th>10 YR</th>\n",
       "      <th>20 YR</th>\n",
       "      <th>30 YR</th>\n",
       "    </tr>\n",
       "    <tr>\n",
       "      <th>Date</th>\n",
       "      <th></th>\n",
       "      <th></th>\n",
       "      <th></th>\n",
       "      <th></th>\n",
       "      <th></th>\n",
       "      <th></th>\n",
       "      <th></th>\n",
       "      <th></th>\n",
       "      <th></th>\n",
       "      <th></th>\n",
       "      <th></th>\n",
       "      <th></th>\n",
       "    </tr>\n",
       "  </thead>\n",
       "  <tbody>\n",
       "    <tr>\n",
       "      <th>2021-06-21</th>\n",
       "      <td>0.04</td>\n",
       "      <td>0.04</td>\n",
       "      <td>0.05</td>\n",
       "      <td>0.06</td>\n",
       "      <td>0.09</td>\n",
       "      <td>0.27</td>\n",
       "      <td>0.48</td>\n",
       "      <td>0.90</td>\n",
       "      <td>1.25</td>\n",
       "      <td>1.50</td>\n",
       "      <td>2.05</td>\n",
       "      <td>2.11</td>\n",
       "    </tr>\n",
       "    <tr>\n",
       "      <th>2021-06-22</th>\n",
       "      <td>0.04</td>\n",
       "      <td>0.05</td>\n",
       "      <td>0.04</td>\n",
       "      <td>0.06</td>\n",
       "      <td>0.09</td>\n",
       "      <td>0.25</td>\n",
       "      <td>0.44</td>\n",
       "      <td>0.87</td>\n",
       "      <td>1.23</td>\n",
       "      <td>1.48</td>\n",
       "      <td>2.03</td>\n",
       "      <td>2.10</td>\n",
       "    </tr>\n",
       "    <tr>\n",
       "      <th>2021-06-23</th>\n",
       "      <td>0.04</td>\n",
       "      <td>0.04</td>\n",
       "      <td>0.05</td>\n",
       "      <td>0.05</td>\n",
       "      <td>0.08</td>\n",
       "      <td>0.26</td>\n",
       "      <td>0.47</td>\n",
       "      <td>0.90</td>\n",
       "      <td>1.25</td>\n",
       "      <td>1.50</td>\n",
       "      <td>2.04</td>\n",
       "      <td>2.11</td>\n",
       "    </tr>\n",
       "    <tr>\n",
       "      <th>2021-06-24</th>\n",
       "      <td>0.05</td>\n",
       "      <td>0.05</td>\n",
       "      <td>0.05</td>\n",
       "      <td>0.05</td>\n",
       "      <td>0.08</td>\n",
       "      <td>0.26</td>\n",
       "      <td>0.48</td>\n",
       "      <td>0.90</td>\n",
       "      <td>1.26</td>\n",
       "      <td>1.49</td>\n",
       "      <td>2.03</td>\n",
       "      <td>2.10</td>\n",
       "    </tr>\n",
       "    <tr>\n",
       "      <th>2021-06-25</th>\n",
       "      <td>0.05</td>\n",
       "      <td>0.05</td>\n",
       "      <td>0.06</td>\n",
       "      <td>0.06</td>\n",
       "      <td>0.09</td>\n",
       "      <td>0.28</td>\n",
       "      <td>0.48</td>\n",
       "      <td>0.92</td>\n",
       "      <td>1.29</td>\n",
       "      <td>1.54</td>\n",
       "      <td>2.09</td>\n",
       "      <td>2.16</td>\n",
       "    </tr>\n",
       "  </tbody>\n",
       "</table>\n",
       "</div>"
      ],
      "text/plain": [
       "            1 MO  2 MO  3 MO  6 MO  1 YR  2 YR  3 YR  5 YR  7 YR  10 YR  \\\n",
       "Date                                                                      \n",
       "2021-06-21  0.04  0.04  0.05  0.06  0.09  0.27  0.48  0.90  1.25   1.50   \n",
       "2021-06-22  0.04  0.05  0.04  0.06  0.09  0.25  0.44  0.87  1.23   1.48   \n",
       "2021-06-23  0.04  0.04  0.05  0.05  0.08  0.26  0.47  0.90  1.25   1.50   \n",
       "2021-06-24  0.05  0.05  0.05  0.05  0.08  0.26  0.48  0.90  1.26   1.49   \n",
       "2021-06-25  0.05  0.05  0.06  0.06  0.09  0.28  0.48  0.92  1.29   1.54   \n",
       "\n",
       "            20 YR  30 YR  \n",
       "Date                      \n",
       "2021-06-21   2.05   2.11  \n",
       "2021-06-22   2.03   2.10  \n",
       "2021-06-23   2.04   2.11  \n",
       "2021-06-24   2.03   2.10  \n",
       "2021-06-25   2.09   2.16  "
      ]
     },
     "execution_count": 118,
     "metadata": {},
     "output_type": "execute_result"
    }
   ],
   "source": [
    "ust_df.tail()"
   ]
  },
  {
   "cell_type": "markdown",
   "metadata": {},
   "source": [
    "# Define helper functions\n",
    "- define helper functions used by main model training block"
   ]
  },
  {
   "cell_type": "code",
   "execution_count": null,
   "metadata": {},
   "outputs": [],
   "source": []
  }
 ],
 "metadata": {
  "accelerator": "GPU",
  "colab": {
   "collapsed_sections": [
    "nXsLh7jMttEr"
   ],
   "name": "stock_analysis_using_lstm_mvp.ipynb",
   "provenance": []
  },
  "kernelspec": {
   "display_name": "Python 3",
   "language": "python",
   "name": "python3"
  },
  "language_info": {
   "codemirror_mode": {
    "name": "ipython",
    "version": 3
   },
   "file_extension": ".py",
   "mimetype": "text/x-python",
   "name": "python",
   "nbconvert_exporter": "python",
   "pygments_lexer": "ipython3",
   "version": "3.7.4"
  }
 },
 "nbformat": 4,
 "nbformat_minor": 1
}
