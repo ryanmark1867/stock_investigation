{
 "cells": [
  {
   "cell_type": "markdown",
   "metadata": {
    "id": "InRCaIfsttEW"
   },
   "source": [
    "# Stock Analysis Using LSTM - MVP\n",
    "This notebook adapted from https://www.kaggle.com/faressayah/stock-market-analysis-prediction-using-lstm"
   ]
  },
  {
   "cell_type": "markdown",
   "metadata": {
    "id": "GA1ksHAIttEf"
   },
   "source": [
    "# Import required libraries and set up notebook\n"
   ]
  },
  {
   "cell_type": "code",
   "execution_count": 97,
   "metadata": {
    "executionInfo": {
     "elapsed": 1460,
     "status": "ok",
     "timestamp": 1611806431398,
     "user": {
      "displayName": "Mark Ryan",
      "photoUrl": "https://lh3.googleusercontent.com/a-/AOh14GiOaJEeoxteIdEhraqpv8y7ol-feJVt-BYY9ceTIQ=s64",
      "userId": "08045617267833954278"
     },
     "user_tz": 300
    },
    "id": "GdtAhwhattEh"
   },
   "outputs": [],
   "source": [
    "import pandas as pd\n",
    "import numpy as np\n",
    "import os\n",
    "import yaml\n",
    "\n",
    "import matplotlib.pyplot as plt\n",
    "import seaborn as sns\n",
    "sns.set_style('whitegrid')\n",
    "plt.style.use(\"fivethirtyeight\")\n",
    "%matplotlib inline\n",
    "\n",
    "# For reading stock data from yahoo\n",
    "from pandas_datareader.data import DataReader\n",
    "\n",
    "# For time stamps\n",
    "from datetime import datetime\n",
    "\n",
    "# for LSTM\n",
    "from keras.models import Sequential\n",
    "from keras.layers import Dense, LSTM, Input\n",
    "from keras.models import Model\n",
    "# from tensorflow.keras.layers import Input, Dropout, Dense, BatchNormalization, Activation, concatenate, GRU, Embedding, Flatten, BatchNormalization\n",
    "from sklearn.preprocessing import MinMaxScaler\n",
    "from tensorflow.keras.models import load_model\n",
    "# access datasets from quandl.com - need to pip install Quandl to use\n",
    "import quandl\n",
    "on_colab = False\n",
    "verboseout = True"
   ]
  },
  {
   "cell_type": "code",
   "execution_count": 98,
   "metadata": {},
   "outputs": [],
   "source": [
    "if on_colab:\n",
    "    from google.colab import drive\n",
    "    drive.mount('/content/drive')"
   ]
  },
  {
   "cell_type": "code",
   "execution_count": 99,
   "metadata": {},
   "outputs": [],
   "source": [
    "if on_colab:\n",
    "    %cd /content/drive/MyDrive/karma_jan_2021/stock_investigation/notebooks"
   ]
  },
  {
   "cell_type": "code",
   "execution_count": 100,
   "metadata": {
    "colab": {
     "base_uri": "https://localhost:8080/"
    },
    "executionInfo": {
     "elapsed": 2330,
     "status": "ok",
     "timestamp": 1611806432280,
     "user": {
      "displayName": "Mark Ryan",
      "photoUrl": "https://lh3.googleusercontent.com/a-/AOh14GiOaJEeoxteIdEhraqpv8y7ol-feJVt-BYY9ceTIQ=s64",
      "userId": "08045617267833954278"
     },
     "user_tz": 300
    },
    "id": "uwJ6aCMDttEi",
    "outputId": "8105b877-ad16-4665-e584-59858f3f1108"
   },
   "outputs": [
    {
     "name": "stdout",
     "output_type": "stream",
     "text": [
      "current directory is: C:\\personal\\karma_stocks_2021\\stock_investigation\\notebooks\n",
      "path_to_yaml C:\\personal\\karma_stocks_2021\\stock_investigation\\notebooks\\model_training_config.yml\n"
     ]
    }
   ],
   "source": [
    "# load config file\n",
    "current_path = os.getcwd()\n",
    "print(\"current directory is: \"+current_path)\n",
    "\n",
    "path_to_yaml = os.path.join(current_path, 'model_training_config.yml')\n",
    "print(\"path_to_yaml \"+path_to_yaml)\n",
    "try:\n",
    "    with open (path_to_yaml, 'r') as c_file:\n",
    "        config = yaml.safe_load(c_file)\n",
    "except Exception as e:\n",
    "    print('Error reading the config file')"
   ]
  },
  {
   "cell_type": "code",
   "execution_count": 101,
   "metadata": {
    "executionInfo": {
     "elapsed": 2324,
     "status": "ok",
     "timestamp": 1611806432284,
     "user": {
      "displayName": "Mark Ryan",
      "photoUrl": "https://lh3.googleusercontent.com/a-/AOh14GiOaJEeoxteIdEhraqpv8y7ol-feJVt-BYY9ceTIQ=s64",
      "userId": "08045617267833954278"
     },
     "user_tz": 300
    },
    "id": "6Q2YaYEmttEj"
   },
   "outputs": [],
   "source": [
    "# switches\n",
    "plot_all = config['general']['verboseout']\n",
    "use_saved_model = config['general']['presaved']\n",
    "# list of ticket symbols\n",
    "# e.g. tech_list = ['AAPL', 'GOOG', 'MSFT', 'AMZN']\n",
    "tech_list = config['tech_list']\n",
    "# dictionary to seed stock handles with company names\n",
    "# e.g. company_dict = {'AAPL':\"APPLE\", 'GOOG':\"GOOGLE\", 'MSFT':\"MICROSOFT\", 'AMZN':\"AMAZON\"}\n",
    "company_dict = config['company_dict']\n",
    "saved_model_modifier = config['files']['saved_model_modifier']\n",
    "# get the column lists\n",
    "continuouscols = config['categorical']\n",
    "textcols = config['text']\n",
    "collist = config['continuous']"
   ]
  },
  {
   "cell_type": "code",
   "execution_count": 102,
   "metadata": {
    "executionInfo": {
     "elapsed": 2303,
     "status": "ok",
     "timestamp": 1611806432294,
     "user": {
      "displayName": "Mark Ryan",
      "photoUrl": "https://lh3.googleusercontent.com/a-/AOh14GiOaJEeoxteIdEhraqpv8y7ol-feJVt-BYY9ceTIQ=s64",
      "userId": "08045617267833954278"
     },
     "user_tz": 300
    },
    "id": "uq4T4eTTttEk"
   },
   "outputs": [],
   "source": [
    "# ingest config parameters"
   ]
  },
  {
   "cell_type": "code",
   "execution_count": 103,
   "metadata": {
    "colab": {
     "base_uri": "https://localhost:8080/"
    },
    "executionInfo": {
     "elapsed": 2297,
     "status": "ok",
     "timestamp": 1611806432297,
     "user": {
      "displayName": "Mark Ryan",
      "photoUrl": "https://lh3.googleusercontent.com/a-/AOh14GiOaJEeoxteIdEhraqpv8y7ol-feJVt-BYY9ceTIQ=s64",
      "userId": "08045617267833954278"
     },
     "user_tz": 300
    },
    "id": "XQjAr633CmYT",
    "outputId": "82a71416-6d92-4e33-d566-19dbc9298eed"
   },
   "outputs": [
    {
     "data": {
      "text/plain": [
       "{'general': {'verboseout': False,\n",
       "  'includetext': True,\n",
       "  'on_colab': False,\n",
       "  'presaved': False,\n",
       "  'savemodel': True,\n",
       "  'picklemodel': True,\n",
       "  'save_model_plot': False,\n",
       "  'tensorboard_callback': False,\n",
       "  'hctextmax': 7000,\n",
       "  'maxwords': 6000,\n",
       "  'textmax': 50,\n",
       "  'pickled_data_file': '20142018_0930.pkl',\n",
       "  'pickled_dataframe': 'AB_NYC_2019_output_aug19_2020.pkl',\n",
       "  'modifier': 'oct05_2020',\n",
       "  'targetthresh': 6.0,\n",
       "  'targetcontinuous': False,\n",
       "  'target_col': 'price',\n",
       "  'emptythresh': 6000,\n",
       "  'zero_weight': 1.0,\n",
       "  'one_weight': 45.878,\n",
       "  'one_weight_offset': 0,\n",
       "  'patience_threshold': 3,\n",
       "  'master_start': '2018-01-01',\n",
       "  'ust_cols': ['2 YR'],\n",
       "  'years_window': 2,\n",
       "  'quandl_token': 'uCghYBw8CtpUvWct_W8c',\n",
       "  'look_back': 3},\n",
       " 'files': {'saved_model_modifier': 'January312021'},\n",
       " 'tech_list': ['CROX'],\n",
       " 'company_dict': {'CROX': 'Crocs'},\n",
       " 'test_parms': {'testproportion': 0.2,\n",
       "  'trainproportion': 0.8,\n",
       "  'current_experiment': 5,\n",
       "  'repeatable_run': False,\n",
       "  'get_test_train_acc': True},\n",
       " 'categorical': ['neighbourhood_group', 'neighbourhood', 'room_type'],\n",
       " 'continuous': ['minimum_nights',\n",
       "  'number_of_reviews',\n",
       "  'reviews_per_month',\n",
       "  'calculated_host_listings_count'],\n",
       " 'text': [],\n",
       " 'excluded': ['price',\n",
       "  'id',\n",
       "  'latitude',\n",
       "  'longitude',\n",
       "  'host_name',\n",
       "  'last_review',\n",
       "  'name',\n",
       "  'host_name',\n",
       "  'availability_365'],\n",
       " 'hyperparameters': {'learning_rate': 0.001,\n",
       "  'dropout_rate': 0.0003,\n",
       "  'l2_lambda': 0.0003,\n",
       "  'loss_func': 'binary_crossentropy',\n",
       "  'output_activation': 'hard_sigmoid',\n",
       "  'batch_size': 1000,\n",
       "  'epochs': 50}}"
      ]
     },
     "execution_count": 103,
     "metadata": {},
     "output_type": "execute_result"
    }
   ],
   "source": [
    "config"
   ]
  },
  {
   "cell_type": "code",
   "execution_count": 104,
   "metadata": {},
   "outputs": [],
   "source": [
    "# load US Treasury yield dataframe\n",
    "ust_df = quandl.get(\"USTREASURY/YIELD\", authtoken=\"uCghYBw8CtpUvWct_W8c\")"
   ]
  },
  {
   "cell_type": "code",
   "execution_count": 105,
   "metadata": {},
   "outputs": [
    {
     "data": {
      "text/html": [
       "<div>\n",
       "<style scoped>\n",
       "    .dataframe tbody tr th:only-of-type {\n",
       "        vertical-align: middle;\n",
       "    }\n",
       "\n",
       "    .dataframe tbody tr th {\n",
       "        vertical-align: top;\n",
       "    }\n",
       "\n",
       "    .dataframe thead th {\n",
       "        text-align: right;\n",
       "    }\n",
       "</style>\n",
       "<table border=\"1\" class=\"dataframe\">\n",
       "  <thead>\n",
       "    <tr style=\"text-align: right;\">\n",
       "      <th></th>\n",
       "      <th>1 MO</th>\n",
       "      <th>2 MO</th>\n",
       "      <th>3 MO</th>\n",
       "      <th>6 MO</th>\n",
       "      <th>1 YR</th>\n",
       "      <th>2 YR</th>\n",
       "      <th>3 YR</th>\n",
       "      <th>5 YR</th>\n",
       "      <th>7 YR</th>\n",
       "      <th>10 YR</th>\n",
       "      <th>20 YR</th>\n",
       "      <th>30 YR</th>\n",
       "    </tr>\n",
       "    <tr>\n",
       "      <th>Date</th>\n",
       "      <th></th>\n",
       "      <th></th>\n",
       "      <th></th>\n",
       "      <th></th>\n",
       "      <th></th>\n",
       "      <th></th>\n",
       "      <th></th>\n",
       "      <th></th>\n",
       "      <th></th>\n",
       "      <th></th>\n",
       "      <th></th>\n",
       "      <th></th>\n",
       "    </tr>\n",
       "  </thead>\n",
       "  <tbody>\n",
       "    <tr>\n",
       "      <td>1990-01-02</td>\n",
       "      <td>NaN</td>\n",
       "      <td>NaN</td>\n",
       "      <td>7.83</td>\n",
       "      <td>7.89</td>\n",
       "      <td>7.81</td>\n",
       "      <td>7.87</td>\n",
       "      <td>7.90</td>\n",
       "      <td>7.87</td>\n",
       "      <td>7.98</td>\n",
       "      <td>7.94</td>\n",
       "      <td>NaN</td>\n",
       "      <td>8.00</td>\n",
       "    </tr>\n",
       "    <tr>\n",
       "      <td>1990-01-03</td>\n",
       "      <td>NaN</td>\n",
       "      <td>NaN</td>\n",
       "      <td>7.89</td>\n",
       "      <td>7.94</td>\n",
       "      <td>7.85</td>\n",
       "      <td>7.94</td>\n",
       "      <td>7.96</td>\n",
       "      <td>7.92</td>\n",
       "      <td>8.04</td>\n",
       "      <td>7.99</td>\n",
       "      <td>NaN</td>\n",
       "      <td>8.04</td>\n",
       "    </tr>\n",
       "    <tr>\n",
       "      <td>1990-01-04</td>\n",
       "      <td>NaN</td>\n",
       "      <td>NaN</td>\n",
       "      <td>7.84</td>\n",
       "      <td>7.90</td>\n",
       "      <td>7.82</td>\n",
       "      <td>7.92</td>\n",
       "      <td>7.93</td>\n",
       "      <td>7.91</td>\n",
       "      <td>8.02</td>\n",
       "      <td>7.98</td>\n",
       "      <td>NaN</td>\n",
       "      <td>8.04</td>\n",
       "    </tr>\n",
       "    <tr>\n",
       "      <td>1990-01-05</td>\n",
       "      <td>NaN</td>\n",
       "      <td>NaN</td>\n",
       "      <td>7.79</td>\n",
       "      <td>7.85</td>\n",
       "      <td>7.79</td>\n",
       "      <td>7.90</td>\n",
       "      <td>7.94</td>\n",
       "      <td>7.92</td>\n",
       "      <td>8.03</td>\n",
       "      <td>7.99</td>\n",
       "      <td>NaN</td>\n",
       "      <td>8.06</td>\n",
       "    </tr>\n",
       "    <tr>\n",
       "      <td>1990-01-08</td>\n",
       "      <td>NaN</td>\n",
       "      <td>NaN</td>\n",
       "      <td>7.79</td>\n",
       "      <td>7.88</td>\n",
       "      <td>7.81</td>\n",
       "      <td>7.90</td>\n",
       "      <td>7.95</td>\n",
       "      <td>7.92</td>\n",
       "      <td>8.05</td>\n",
       "      <td>8.02</td>\n",
       "      <td>NaN</td>\n",
       "      <td>8.09</td>\n",
       "    </tr>\n",
       "    <tr>\n",
       "      <td>...</td>\n",
       "      <td>...</td>\n",
       "      <td>...</td>\n",
       "      <td>...</td>\n",
       "      <td>...</td>\n",
       "      <td>...</td>\n",
       "      <td>...</td>\n",
       "      <td>...</td>\n",
       "      <td>...</td>\n",
       "      <td>...</td>\n",
       "      <td>...</td>\n",
       "      <td>...</td>\n",
       "      <td>...</td>\n",
       "    </tr>\n",
       "    <tr>\n",
       "      <td>2021-02-02</td>\n",
       "      <td>0.04</td>\n",
       "      <td>0.05</td>\n",
       "      <td>0.07</td>\n",
       "      <td>0.08</td>\n",
       "      <td>0.08</td>\n",
       "      <td>0.11</td>\n",
       "      <td>0.18</td>\n",
       "      <td>0.45</td>\n",
       "      <td>0.79</td>\n",
       "      <td>1.12</td>\n",
       "      <td>1.69</td>\n",
       "      <td>1.87</td>\n",
       "    </tr>\n",
       "    <tr>\n",
       "      <td>2021-02-03</td>\n",
       "      <td>0.03</td>\n",
       "      <td>0.04</td>\n",
       "      <td>0.04</td>\n",
       "      <td>0.06</td>\n",
       "      <td>0.08</td>\n",
       "      <td>0.11</td>\n",
       "      <td>0.19</td>\n",
       "      <td>0.46</td>\n",
       "      <td>0.81</td>\n",
       "      <td>1.15</td>\n",
       "      <td>1.73</td>\n",
       "      <td>1.92</td>\n",
       "    </tr>\n",
       "    <tr>\n",
       "      <td>2021-02-04</td>\n",
       "      <td>0.03</td>\n",
       "      <td>0.04</td>\n",
       "      <td>0.04</td>\n",
       "      <td>0.06</td>\n",
       "      <td>0.07</td>\n",
       "      <td>0.11</td>\n",
       "      <td>0.18</td>\n",
       "      <td>0.46</td>\n",
       "      <td>0.81</td>\n",
       "      <td>1.15</td>\n",
       "      <td>1.75</td>\n",
       "      <td>1.93</td>\n",
       "    </tr>\n",
       "    <tr>\n",
       "      <td>2021-02-05</td>\n",
       "      <td>0.02</td>\n",
       "      <td>0.03</td>\n",
       "      <td>0.03</td>\n",
       "      <td>0.05</td>\n",
       "      <td>0.06</td>\n",
       "      <td>0.09</td>\n",
       "      <td>0.19</td>\n",
       "      <td>0.47</td>\n",
       "      <td>0.83</td>\n",
       "      <td>1.19</td>\n",
       "      <td>1.79</td>\n",
       "      <td>1.97</td>\n",
       "    </tr>\n",
       "    <tr>\n",
       "      <td>2021-02-08</td>\n",
       "      <td>0.04</td>\n",
       "      <td>0.03</td>\n",
       "      <td>0.05</td>\n",
       "      <td>0.05</td>\n",
       "      <td>0.07</td>\n",
       "      <td>0.11</td>\n",
       "      <td>0.20</td>\n",
       "      <td>0.48</td>\n",
       "      <td>0.83</td>\n",
       "      <td>1.19</td>\n",
       "      <td>1.78</td>\n",
       "      <td>1.96</td>\n",
       "    </tr>\n",
       "  </tbody>\n",
       "</table>\n",
       "<p>7781 rows × 12 columns</p>\n",
       "</div>"
      ],
      "text/plain": [
       "            1 MO  2 MO  3 MO  6 MO  1 YR  2 YR  3 YR  5 YR  7 YR  10 YR  \\\n",
       "Date                                                                      \n",
       "1990-01-02   NaN   NaN  7.83  7.89  7.81  7.87  7.90  7.87  7.98   7.94   \n",
       "1990-01-03   NaN   NaN  7.89  7.94  7.85  7.94  7.96  7.92  8.04   7.99   \n",
       "1990-01-04   NaN   NaN  7.84  7.90  7.82  7.92  7.93  7.91  8.02   7.98   \n",
       "1990-01-05   NaN   NaN  7.79  7.85  7.79  7.90  7.94  7.92  8.03   7.99   \n",
       "1990-01-08   NaN   NaN  7.79  7.88  7.81  7.90  7.95  7.92  8.05   8.02   \n",
       "...          ...   ...   ...   ...   ...   ...   ...   ...   ...    ...   \n",
       "2021-02-02  0.04  0.05  0.07  0.08  0.08  0.11  0.18  0.45  0.79   1.12   \n",
       "2021-02-03  0.03  0.04  0.04  0.06  0.08  0.11  0.19  0.46  0.81   1.15   \n",
       "2021-02-04  0.03  0.04  0.04  0.06  0.07  0.11  0.18  0.46  0.81   1.15   \n",
       "2021-02-05  0.02  0.03  0.03  0.05  0.06  0.09  0.19  0.47  0.83   1.19   \n",
       "2021-02-08  0.04  0.03  0.05  0.05  0.07  0.11  0.20  0.48  0.83   1.19   \n",
       "\n",
       "            20 YR  30 YR  \n",
       "Date                      \n",
       "1990-01-02    NaN   8.00  \n",
       "1990-01-03    NaN   8.04  \n",
       "1990-01-04    NaN   8.04  \n",
       "1990-01-05    NaN   8.06  \n",
       "1990-01-08    NaN   8.09  \n",
       "...           ...    ...  \n",
       "2021-02-02   1.69   1.87  \n",
       "2021-02-03   1.73   1.92  \n",
       "2021-02-04   1.75   1.93  \n",
       "2021-02-05   1.79   1.97  \n",
       "2021-02-08   1.78   1.96  \n",
       "\n",
       "[7781 rows x 12 columns]"
      ]
     },
     "execution_count": 105,
     "metadata": {},
     "output_type": "execute_result"
    }
   ],
   "source": [
    "ust_df"
   ]
  },
  {
   "cell_type": "code",
   "execution_count": 106,
   "metadata": {},
   "outputs": [
    {
     "data": {
      "text/html": [
       "<div>\n",
       "<style scoped>\n",
       "    .dataframe tbody tr th:only-of-type {\n",
       "        vertical-align: middle;\n",
       "    }\n",
       "\n",
       "    .dataframe tbody tr th {\n",
       "        vertical-align: top;\n",
       "    }\n",
       "\n",
       "    .dataframe thead th {\n",
       "        text-align: right;\n",
       "    }\n",
       "</style>\n",
       "<table border=\"1\" class=\"dataframe\">\n",
       "  <thead>\n",
       "    <tr style=\"text-align: right;\">\n",
       "      <th></th>\n",
       "      <th>2 YR</th>\n",
       "    </tr>\n",
       "    <tr>\n",
       "      <th>Date</th>\n",
       "      <th></th>\n",
       "    </tr>\n",
       "  </thead>\n",
       "  <tbody>\n",
       "    <tr>\n",
       "      <td>1990-01-02</td>\n",
       "      <td>7.87</td>\n",
       "    </tr>\n",
       "    <tr>\n",
       "      <td>1990-01-03</td>\n",
       "      <td>7.94</td>\n",
       "    </tr>\n",
       "    <tr>\n",
       "      <td>1990-01-04</td>\n",
       "      <td>7.92</td>\n",
       "    </tr>\n",
       "    <tr>\n",
       "      <td>1990-01-05</td>\n",
       "      <td>7.90</td>\n",
       "    </tr>\n",
       "    <tr>\n",
       "      <td>1990-01-08</td>\n",
       "      <td>7.90</td>\n",
       "    </tr>\n",
       "  </tbody>\n",
       "</table>\n",
       "</div>"
      ],
      "text/plain": [
       "            2 YR\n",
       "Date            \n",
       "1990-01-02  7.87\n",
       "1990-01-03  7.94\n",
       "1990-01-04  7.92\n",
       "1990-01-05  7.90\n",
       "1990-01-08  7.90"
      ]
     },
     "execution_count": 106,
     "metadata": {},
     "output_type": "execute_result"
    }
   ],
   "source": [
    "# new = old[['A', 'C', 'D']].copy()\n",
    "ust_df_2year = ust_df[['2 YR']].copy()\n",
    "ust_df_2year.head()"
   ]
  },
  {
   "cell_type": "code",
   "execution_count": 107,
   "metadata": {
    "colab": {
     "base_uri": "https://localhost:8080/",
     "height": 232
    },
    "executionInfo": {
     "elapsed": 2755,
     "status": "ok",
     "timestamp": 1611806432764,
     "user": {
      "displayName": "Mark Ryan",
      "photoUrl": "https://lh3.googleusercontent.com/a-/AOh14GiOaJEeoxteIdEhraqpv8y7ol-feJVt-BYY9ceTIQ=s64",
      "userId": "08045617267833954278"
     },
     "user_tz": 300
    },
    "id": "aHWsIsOlttEk",
    "outputId": "6c74987f-3eaf-4bbb-b075-aac34a58e469"
   },
   "outputs": [
    {
     "data": {
      "text/html": [
       "<div>\n",
       "<style scoped>\n",
       "    .dataframe tbody tr th:only-of-type {\n",
       "        vertical-align: middle;\n",
       "    }\n",
       "\n",
       "    .dataframe tbody tr th {\n",
       "        vertical-align: top;\n",
       "    }\n",
       "\n",
       "    .dataframe thead th {\n",
       "        text-align: right;\n",
       "    }\n",
       "</style>\n",
       "<table border=\"1\" class=\"dataframe\">\n",
       "  <thead>\n",
       "    <tr style=\"text-align: right;\">\n",
       "      <th></th>\n",
       "      <th>High</th>\n",
       "      <th>Low</th>\n",
       "      <th>Open</th>\n",
       "      <th>Close</th>\n",
       "      <th>Volume</th>\n",
       "      <th>Adj Close</th>\n",
       "    </tr>\n",
       "    <tr>\n",
       "      <th>Date</th>\n",
       "      <th></th>\n",
       "      <th></th>\n",
       "      <th></th>\n",
       "      <th></th>\n",
       "      <th></th>\n",
       "      <th></th>\n",
       "    </tr>\n",
       "  </thead>\n",
       "  <tbody>\n",
       "    <tr>\n",
       "      <td>2020-02-10</td>\n",
       "      <td>80.387497</td>\n",
       "      <td>78.462502</td>\n",
       "      <td>78.544998</td>\n",
       "      <td>80.387497</td>\n",
       "      <td>109348800.0</td>\n",
       "      <td>79.769165</td>\n",
       "    </tr>\n",
       "    <tr>\n",
       "      <td>2020-02-11</td>\n",
       "      <td>80.974998</td>\n",
       "      <td>79.677498</td>\n",
       "      <td>80.900002</td>\n",
       "      <td>79.902496</td>\n",
       "      <td>94323200.0</td>\n",
       "      <td>79.287888</td>\n",
       "    </tr>\n",
       "    <tr>\n",
       "      <td>2020-02-12</td>\n",
       "      <td>81.805000</td>\n",
       "      <td>80.367500</td>\n",
       "      <td>80.367500</td>\n",
       "      <td>81.800003</td>\n",
       "      <td>113730400.0</td>\n",
       "      <td>81.170799</td>\n",
       "    </tr>\n",
       "    <tr>\n",
       "      <td>2020-02-13</td>\n",
       "      <td>81.555000</td>\n",
       "      <td>80.837502</td>\n",
       "      <td>81.047501</td>\n",
       "      <td>81.217499</td>\n",
       "      <td>94747600.0</td>\n",
       "      <td>80.592773</td>\n",
       "    </tr>\n",
       "    <tr>\n",
       "      <td>2020-02-14</td>\n",
       "      <td>81.495003</td>\n",
       "      <td>80.712502</td>\n",
       "      <td>81.184998</td>\n",
       "      <td>81.237503</td>\n",
       "      <td>80113600.0</td>\n",
       "      <td>80.612625</td>\n",
       "    </tr>\n",
       "  </tbody>\n",
       "</table>\n",
       "</div>"
      ],
      "text/plain": [
       "                 High        Low       Open      Close       Volume  Adj Close\n",
       "Date                                                                          \n",
       "2020-02-10  80.387497  78.462502  78.544998  80.387497  109348800.0  79.769165\n",
       "2020-02-11  80.974998  79.677498  80.900002  79.902496   94323200.0  79.287888\n",
       "2020-02-12  81.805000  80.367500  80.367500  81.800003  113730400.0  81.170799\n",
       "2020-02-13  81.555000  80.837502  81.047501  81.217499   94747600.0  80.592773\n",
       "2020-02-14  81.495003  80.712502  81.184998  81.237503   80113600.0  80.612625"
      ]
     },
     "execution_count": 107,
     "metadata": {},
     "output_type": "execute_result"
    }
   ],
   "source": [
    "# DataReader: https://riptutorial.com/pandas/topic/1912/pandas-datareader\n",
    "# https://pandas-datareader.readthedocs.io/en/latest/remote_data.html\n",
    "# \n",
    "# Set up End and Start times for data grab\n",
    "end = datetime.now()\n",
    "start = datetime(end.year - 1, end.month, end.day)\n",
    "tester = DataReader('AAPL', 'yahoo', start, end)\n",
    "tester.head()"
   ]
  },
  {
   "cell_type": "code",
   "execution_count": 108,
   "metadata": {
    "colab": {
     "base_uri": "https://localhost:8080/",
     "height": 386
    },
    "executionInfo": {
     "elapsed": 3901,
     "status": "ok",
     "timestamp": 1611806433919,
     "user": {
      "displayName": "Mark Ryan",
      "photoUrl": "https://lh3.googleusercontent.com/a-/AOh14GiOaJEeoxteIdEhraqpv8y7ol-feJVt-BYY9ceTIQ=s64",
      "userId": "08045617267833954278"
     },
     "user_tz": 300
    },
    "id": "DVAQQ2CAttEl",
    "outputId": "0e3265fb-d6c3-4371-d196-be3d9a8924db"
   },
   "outputs": [
    {
     "data": {
      "text/html": [
       "<div>\n",
       "<style scoped>\n",
       "    .dataframe tbody tr th:only-of-type {\n",
       "        vertical-align: middle;\n",
       "    }\n",
       "\n",
       "    .dataframe tbody tr th {\n",
       "        vertical-align: top;\n",
       "    }\n",
       "\n",
       "    .dataframe thead th {\n",
       "        text-align: right;\n",
       "    }\n",
       "</style>\n",
       "<table border=\"1\" class=\"dataframe\">\n",
       "  <thead>\n",
       "    <tr style=\"text-align: right;\">\n",
       "      <th></th>\n",
       "      <th>High</th>\n",
       "      <th>Low</th>\n",
       "      <th>Open</th>\n",
       "      <th>Close</th>\n",
       "      <th>Volume</th>\n",
       "      <th>Adj Close</th>\n",
       "      <th>company_name</th>\n",
       "    </tr>\n",
       "    <tr>\n",
       "      <th>Date</th>\n",
       "      <th></th>\n",
       "      <th></th>\n",
       "      <th></th>\n",
       "      <th></th>\n",
       "      <th></th>\n",
       "      <th></th>\n",
       "      <th></th>\n",
       "    </tr>\n",
       "  </thead>\n",
       "  <tbody>\n",
       "    <tr>\n",
       "      <td>2021-01-26</td>\n",
       "      <td>74.690002</td>\n",
       "      <td>71.800003</td>\n",
       "      <td>74.559998</td>\n",
       "      <td>72.239998</td>\n",
       "      <td>819000</td>\n",
       "      <td>72.239998</td>\n",
       "      <td>Crocs</td>\n",
       "    </tr>\n",
       "    <tr>\n",
       "      <td>2021-01-27</td>\n",
       "      <td>70.430000</td>\n",
       "      <td>65.370003</td>\n",
       "      <td>70.430000</td>\n",
       "      <td>65.800003</td>\n",
       "      <td>2100100</td>\n",
       "      <td>65.800003</td>\n",
       "      <td>Crocs</td>\n",
       "    </tr>\n",
       "    <tr>\n",
       "      <td>2021-01-28</td>\n",
       "      <td>70.809998</td>\n",
       "      <td>66.699997</td>\n",
       "      <td>67.230003</td>\n",
       "      <td>70.370003</td>\n",
       "      <td>1414100</td>\n",
       "      <td>70.370003</td>\n",
       "      <td>Crocs</td>\n",
       "    </tr>\n",
       "    <tr>\n",
       "      <td>2021-01-29</td>\n",
       "      <td>72.070000</td>\n",
       "      <td>68.500000</td>\n",
       "      <td>70.139999</td>\n",
       "      <td>70.019997</td>\n",
       "      <td>1264100</td>\n",
       "      <td>70.019997</td>\n",
       "      <td>Crocs</td>\n",
       "    </tr>\n",
       "    <tr>\n",
       "      <td>2021-02-01</td>\n",
       "      <td>72.980003</td>\n",
       "      <td>68.580002</td>\n",
       "      <td>71.000000</td>\n",
       "      <td>72.769997</td>\n",
       "      <td>836800</td>\n",
       "      <td>72.769997</td>\n",
       "      <td>Crocs</td>\n",
       "    </tr>\n",
       "    <tr>\n",
       "      <td>2021-02-02</td>\n",
       "      <td>76.089996</td>\n",
       "      <td>73.320000</td>\n",
       "      <td>73.720001</td>\n",
       "      <td>75.459999</td>\n",
       "      <td>1424900</td>\n",
       "      <td>75.459999</td>\n",
       "      <td>Crocs</td>\n",
       "    </tr>\n",
       "    <tr>\n",
       "      <td>2021-02-03</td>\n",
       "      <td>77.120003</td>\n",
       "      <td>73.949997</td>\n",
       "      <td>75.889999</td>\n",
       "      <td>74.930000</td>\n",
       "      <td>736700</td>\n",
       "      <td>74.930000</td>\n",
       "      <td>Crocs</td>\n",
       "    </tr>\n",
       "    <tr>\n",
       "      <td>2021-02-04</td>\n",
       "      <td>76.800003</td>\n",
       "      <td>74.169998</td>\n",
       "      <td>75.300003</td>\n",
       "      <td>75.040001</td>\n",
       "      <td>615000</td>\n",
       "      <td>75.040001</td>\n",
       "      <td>Crocs</td>\n",
       "    </tr>\n",
       "    <tr>\n",
       "      <td>2021-02-05</td>\n",
       "      <td>77.160004</td>\n",
       "      <td>74.809998</td>\n",
       "      <td>75.720001</td>\n",
       "      <td>75.519997</td>\n",
       "      <td>1062400</td>\n",
       "      <td>75.519997</td>\n",
       "      <td>Crocs</td>\n",
       "    </tr>\n",
       "    <tr>\n",
       "      <td>2021-02-08</td>\n",
       "      <td>78.470001</td>\n",
       "      <td>76.349998</td>\n",
       "      <td>76.959999</td>\n",
       "      <td>77.809998</td>\n",
       "      <td>859504</td>\n",
       "      <td>77.809998</td>\n",
       "      <td>Crocs</td>\n",
       "    </tr>\n",
       "  </tbody>\n",
       "</table>\n",
       "</div>"
      ],
      "text/plain": [
       "                 High        Low       Open      Close   Volume  Adj Close  \\\n",
       "Date                                                                         \n",
       "2021-01-26  74.690002  71.800003  74.559998  72.239998   819000  72.239998   \n",
       "2021-01-27  70.430000  65.370003  70.430000  65.800003  2100100  65.800003   \n",
       "2021-01-28  70.809998  66.699997  67.230003  70.370003  1414100  70.370003   \n",
       "2021-01-29  72.070000  68.500000  70.139999  70.019997  1264100  70.019997   \n",
       "2021-02-01  72.980003  68.580002  71.000000  72.769997   836800  72.769997   \n",
       "2021-02-02  76.089996  73.320000  73.720001  75.459999  1424900  75.459999   \n",
       "2021-02-03  77.120003  73.949997  75.889999  74.930000   736700  74.930000   \n",
       "2021-02-04  76.800003  74.169998  75.300003  75.040001   615000  75.040001   \n",
       "2021-02-05  77.160004  74.809998  75.720001  75.519997  1062400  75.519997   \n",
       "2021-02-08  78.470001  76.349998  76.959999  77.809998   859504  77.809998   \n",
       "\n",
       "           company_name  \n",
       "Date                     \n",
       "2021-01-26        Crocs  \n",
       "2021-01-27        Crocs  \n",
       "2021-01-28        Crocs  \n",
       "2021-01-29        Crocs  \n",
       "2021-02-01        Crocs  \n",
       "2021-02-02        Crocs  \n",
       "2021-02-03        Crocs  \n",
       "2021-02-04        Crocs  \n",
       "2021-02-05        Crocs  \n",
       "2021-02-08        Crocs  "
      ]
     },
     "execution_count": 108,
     "metadata": {},
     "output_type": "execute_result"
    }
   ],
   "source": [
    "# The tech stocks used for this analysis\n",
    "#tech_list = ['AAPL', 'GOOG', 'MSFT', 'AMZN']\n",
    "tech_list = config['tech_list']\n",
    "# dictionary to seed stock handles with company names\n",
    "#company_dict = {'AAPL':\"APPLE\", 'GOOG':\"GOOGLE\", 'MSFT':\"MICROSOFT\", 'AMZN':\"AMAZON\"}\n",
    "company_dict = config['company_dict']\n",
    "\n",
    "# Set up End and Start times for data grab\n",
    "end = datetime.now()\n",
    "start = datetime(end.year - 1, end.month, end.day)\n",
    "\n",
    "stock_dict = {}\n",
    "#For loop for grabing yahoo finance data and setting as a dataframe\n",
    "# TODO correct use of globals() here\n",
    "seeded = False\n",
    "for stock in tech_list:   \n",
    "    # Set DataFrame as the Stock Ticker\n",
    "    stock_dict[stock] = DataReader(stock, 'yahoo', start, end)\n",
    "    # add column for company name\n",
    "    stock_dict[stock]['company_name'] = company_dict[stock]\n",
    "    # build up overall dataframe containing stock info for all companies\n",
    "    if seeded:\n",
    "        df = pd.concat([df,stock_dict[stock]],axis=0)\n",
    "    else:\n",
    "        seeded = True\n",
    "        df = stock_dict[stock]\n",
    "df.tail(10)"
   ]
  },
  {
   "cell_type": "code",
   "execution_count": 109,
   "metadata": {
    "colab": {
     "base_uri": "https://localhost:8080/",
     "height": 232
    },
    "executionInfo": {
     "elapsed": 3894,
     "status": "ok",
     "timestamp": 1611806433922,
     "user": {
      "displayName": "Mark Ryan",
      "photoUrl": "https://lh3.googleusercontent.com/a-/AOh14GiOaJEeoxteIdEhraqpv8y7ol-feJVt-BYY9ceTIQ=s64",
      "userId": "08045617267833954278"
     },
     "user_tz": 300
    },
    "id": "velBocHnHsag",
    "outputId": "649289a4-e83a-40f0-e690-ab11132d71e2"
   },
   "outputs": [
    {
     "data": {
      "text/html": [
       "<div>\n",
       "<style scoped>\n",
       "    .dataframe tbody tr th:only-of-type {\n",
       "        vertical-align: middle;\n",
       "    }\n",
       "\n",
       "    .dataframe tbody tr th {\n",
       "        vertical-align: top;\n",
       "    }\n",
       "\n",
       "    .dataframe thead th {\n",
       "        text-align: right;\n",
       "    }\n",
       "</style>\n",
       "<table border=\"1\" class=\"dataframe\">\n",
       "  <thead>\n",
       "    <tr style=\"text-align: right;\">\n",
       "      <th></th>\n",
       "      <th>High</th>\n",
       "      <th>Low</th>\n",
       "      <th>Open</th>\n",
       "      <th>Close</th>\n",
       "      <th>Volume</th>\n",
       "      <th>Adj Close</th>\n",
       "      <th>company_name</th>\n",
       "    </tr>\n",
       "    <tr>\n",
       "      <th>Date</th>\n",
       "      <th></th>\n",
       "      <th></th>\n",
       "      <th></th>\n",
       "      <th></th>\n",
       "      <th></th>\n",
       "      <th></th>\n",
       "      <th></th>\n",
       "    </tr>\n",
       "  </thead>\n",
       "  <tbody>\n",
       "    <tr>\n",
       "      <td>2020-02-10</td>\n",
       "      <td>38.000000</td>\n",
       "      <td>36.439999</td>\n",
       "      <td>37.779999</td>\n",
       "      <td>36.490002</td>\n",
       "      <td>1049500</td>\n",
       "      <td>36.490002</td>\n",
       "      <td>Crocs</td>\n",
       "    </tr>\n",
       "    <tr>\n",
       "      <td>2020-02-11</td>\n",
       "      <td>37.200001</td>\n",
       "      <td>36.110001</td>\n",
       "      <td>36.560001</td>\n",
       "      <td>36.520000</td>\n",
       "      <td>811300</td>\n",
       "      <td>36.520000</td>\n",
       "      <td>Crocs</td>\n",
       "    </tr>\n",
       "    <tr>\n",
       "      <td>2020-02-12</td>\n",
       "      <td>38.480000</td>\n",
       "      <td>36.759998</td>\n",
       "      <td>36.759998</td>\n",
       "      <td>37.860001</td>\n",
       "      <td>1040100</td>\n",
       "      <td>37.860001</td>\n",
       "      <td>Crocs</td>\n",
       "    </tr>\n",
       "    <tr>\n",
       "      <td>2020-02-13</td>\n",
       "      <td>39.060001</td>\n",
       "      <td>37.400002</td>\n",
       "      <td>37.410000</td>\n",
       "      <td>38.570000</td>\n",
       "      <td>723900</td>\n",
       "      <td>38.570000</td>\n",
       "      <td>Crocs</td>\n",
       "    </tr>\n",
       "    <tr>\n",
       "      <td>2020-02-14</td>\n",
       "      <td>38.959999</td>\n",
       "      <td>37.160000</td>\n",
       "      <td>38.700001</td>\n",
       "      <td>37.310001</td>\n",
       "      <td>614200</td>\n",
       "      <td>37.310001</td>\n",
       "      <td>Crocs</td>\n",
       "    </tr>\n",
       "  </tbody>\n",
       "</table>\n",
       "</div>"
      ],
      "text/plain": [
       "                 High        Low       Open      Close   Volume  Adj Close  \\\n",
       "Date                                                                         \n",
       "2020-02-10  38.000000  36.439999  37.779999  36.490002  1049500  36.490002   \n",
       "2020-02-11  37.200001  36.110001  36.560001  36.520000   811300  36.520000   \n",
       "2020-02-12  38.480000  36.759998  36.759998  37.860001  1040100  37.860001   \n",
       "2020-02-13  39.060001  37.400002  37.410000  38.570000   723900  38.570000   \n",
       "2020-02-14  38.959999  37.160000  38.700001  37.310001   614200  37.310001   \n",
       "\n",
       "           company_name  \n",
       "Date                     \n",
       "2020-02-10        Crocs  \n",
       "2020-02-11        Crocs  \n",
       "2020-02-12        Crocs  \n",
       "2020-02-13        Crocs  \n",
       "2020-02-14        Crocs  "
      ]
     },
     "execution_count": 109,
     "metadata": {},
     "output_type": "execute_result"
    }
   ],
   "source": [
    "df.head()"
   ]
  },
  {
   "cell_type": "markdown",
   "metadata": {
    "id": "nH94b3sPttEl"
   },
   "source": [
    "Let's go ahead and play aorund with the AAPL DataFrame to get a feel for the data"
   ]
  },
  {
   "cell_type": "markdown",
   "metadata": {
    "id": "0VY3r0v1ttEm"
   },
   "source": [
    "# Create dataframe"
   ]
  },
  {
   "cell_type": "code",
   "execution_count": 110,
   "metadata": {
    "executionInfo": {
     "elapsed": 3887,
     "status": "ok",
     "timestamp": 1611806433925,
     "user": {
      "displayName": "Mark Ryan",
      "photoUrl": "https://lh3.googleusercontent.com/a-/AOh14GiOaJEeoxteIdEhraqpv8y7ol-feJVt-BYY9ceTIQ=s64",
      "userId": "08045617267833954278"
     },
     "user_tz": 300
    },
    "id": "W95GV4fvttEm"
   },
   "outputs": [],
   "source": [
    "# Summary Stats\n",
    "#stock_dict['AAPL'].describe()"
   ]
  },
  {
   "cell_type": "code",
   "execution_count": 111,
   "metadata": {
    "executionInfo": {
     "elapsed": 3881,
     "status": "ok",
     "timestamp": 1611806433927,
     "user": {
      "displayName": "Mark Ryan",
      "photoUrl": "https://lh3.googleusercontent.com/a-/AOh14GiOaJEeoxteIdEhraqpv8y7ol-feJVt-BYY9ceTIQ=s64",
      "userId": "08045617267833954278"
     },
     "user_tz": 300
    },
    "id": "hUIOM_duttEn"
   },
   "outputs": [],
   "source": [
    "# General info\n",
    "#stock_dict['AAPL'].info()"
   ]
  },
  {
   "cell_type": "code",
   "execution_count": 112,
   "metadata": {
    "executionInfo": {
     "elapsed": 3874,
     "status": "ok",
     "timestamp": 1611806433929,
     "user": {
      "displayName": "Mark Ryan",
      "photoUrl": "https://lh3.googleusercontent.com/a-/AOh14GiOaJEeoxteIdEhraqpv8y7ol-feJVt-BYY9ceTIQ=s64",
      "userId": "08045617267833954278"
     },
     "user_tz": 300
    },
    "id": "er4uAYRIttEn"
   },
   "outputs": [],
   "source": [
    "# Let's see a historical view of the closing price\n",
    "\n",
    "if plot_all:\n",
    "    plt.figure(figsize=(12, 8))\n",
    "    plt.subplots_adjust(top=1.25, bottom=1.2)\n",
    "\n",
    "    for i, company in enumerate(tech_list, 1):\n",
    "        plt.subplot(2, 2, i)\n",
    "        stock_dict[company]['Adj Close'].plot()\n",
    "        plt.ylabel('Adj Close')\n",
    "        plt.xlabel(None)\n",
    "        plt.title(f\"{tech_list[i - 1]}\")"
   ]
  },
  {
   "cell_type": "code",
   "execution_count": 113,
   "metadata": {
    "executionInfo": {
     "elapsed": 3870,
     "status": "ok",
     "timestamp": 1611806433931,
     "user": {
      "displayName": "Mark Ryan",
      "photoUrl": "https://lh3.googleusercontent.com/a-/AOh14GiOaJEeoxteIdEhraqpv8y7ol-feJVt-BYY9ceTIQ=s64",
      "userId": "08045617267833954278"
     },
     "user_tz": 300
    },
    "id": "2ibiP-DQttEo"
   },
   "outputs": [],
   "source": [
    "# Now let's plot the total volume of stock being traded each day\n",
    "if plot_all:\n",
    "    plt.figure(figsize=(12, 8))\n",
    "    plt.subplots_adjust(top=1.25, bottom=1.2)\n",
    "\n",
    "    for i, company in enumerate(tech_list, 1):\n",
    "        plt.subplot(2, 2, i)\n",
    "        stock_dict[company]['Volume'].plot()\n",
    "        plt.ylabel('Volume')\n",
    "        plt.xlabel(None)\n",
    "        plt.title(f\"{tech_list[i - 1]}\")"
   ]
  },
  {
   "cell_type": "markdown",
   "metadata": {
    "id": "O29GyjqcttEo"
   },
   "source": [
    "Now that we've seen the visualizations for the closing price and the volume traded each day, let's go ahead and caculate the moving average for the stock."
   ]
  },
  {
   "cell_type": "markdown",
   "metadata": {
    "id": "vCa3-nUpttEp"
   },
   "source": [
    "# 2. What was the moving average of the various stocks?"
   ]
  },
  {
   "cell_type": "code",
   "execution_count": 114,
   "metadata": {
    "executionInfo": {
     "elapsed": 3865,
     "status": "ok",
     "timestamp": 1611806433932,
     "user": {
      "displayName": "Mark Ryan",
      "photoUrl": "https://lh3.googleusercontent.com/a-/AOh14GiOaJEeoxteIdEhraqpv8y7ol-feJVt-BYY9ceTIQ=s64",
      "userId": "08045617267833954278"
     },
     "user_tz": 300
    },
    "id": "l6AqBdUZttEp"
   },
   "outputs": [],
   "source": [
    "ma_day = [10, 20, 50]\n",
    "\n",
    "for ma in ma_day:\n",
    "    for company in tech_list:\n",
    "        column_name = f\"MA for {ma} days\"\n",
    "        stock_dict[company][column_name] = stock_dict[company]['Adj Close'].rolling(ma).mean()"
   ]
  },
  {
   "cell_type": "code",
   "execution_count": 115,
   "metadata": {
    "executionInfo": {
     "elapsed": 3861,
     "status": "ok",
     "timestamp": 1611806433934,
     "user": {
      "displayName": "Mark Ryan",
      "photoUrl": "https://lh3.googleusercontent.com/a-/AOh14GiOaJEeoxteIdEhraqpv8y7ol-feJVt-BYY9ceTIQ=s64",
      "userId": "08045617267833954278"
     },
     "user_tz": 300
    },
    "id": "Fbo4ergjttEp"
   },
   "outputs": [],
   "source": [
    "#print(stock_dict['GOOG'].columns)"
   ]
  },
  {
   "cell_type": "markdown",
   "metadata": {
    "id": "FyV09EbdttEq"
   },
   "source": [
    "Now let's go ahead and plot all the additional Moving Averages"
   ]
  },
  {
   "cell_type": "code",
   "execution_count": 116,
   "metadata": {
    "executionInfo": {
     "elapsed": 3856,
     "status": "ok",
     "timestamp": 1611806433935,
     "user": {
      "displayName": "Mark Ryan",
      "photoUrl": "https://lh3.googleusercontent.com/a-/AOh14GiOaJEeoxteIdEhraqpv8y7ol-feJVt-BYY9ceTIQ=s64",
      "userId": "08045617267833954278"
     },
     "user_tz": 300
    },
    "id": "RzUULd3TttEq"
   },
   "outputs": [],
   "source": [
    "if plot_all:\n",
    "    df.groupby(\"company_name\").hist(figsize=(12, 12));"
   ]
  },
  {
   "cell_type": "code",
   "execution_count": 117,
   "metadata": {
    "executionInfo": {
     "elapsed": 3852,
     "status": "ok",
     "timestamp": 1611806433936,
     "user": {
      "displayName": "Mark Ryan",
      "photoUrl": "https://lh3.googleusercontent.com/a-/AOh14GiOaJEeoxteIdEhraqpv8y7ol-feJVt-BYY9ceTIQ=s64",
      "userId": "08045617267833954278"
     },
     "user_tz": 300
    },
    "id": "fdUmsz0kttEr"
   },
   "outputs": [],
   "source": [
    "if plot_all:\n",
    "    fig, axes = plt.subplots(nrows=2, ncols=2)\n",
    "    fig.set_figheight(8)\n",
    "    fig.set_figwidth(15)\n",
    "\n",
    "    AAPL[['Adj Close', 'MA for 10 days', 'MA for 20 days', 'MA for 50 days']].plot(ax=axes[0,0])\n",
    "    axes[0,0].set_title('APPLE')\n",
    "\n",
    "    GOOG[['Adj Close', 'MA for 10 days', 'MA for 20 days', 'MA for 50 days']].plot(ax=axes[0,1])\n",
    "    axes[0,1].set_title('GOOGLE')\n",
    "\n",
    "    MSFT[['Adj Close', 'MA for 10 days', 'MA for 20 days', 'MA for 50 days']].plot(ax=axes[1,0])\n",
    "    axes[1,0].set_title('MICROSOFT')\n",
    "\n",
    "    AMZN[['Adj Close', 'MA for 10 days', 'MA for 20 days', 'MA for 50 days']].plot(ax=axes[1,1])\n",
    "    axes[1,1].set_title('AMAZON')\n",
    "\n",
    "    fig.tight_layout()"
   ]
  },
  {
   "cell_type": "markdown",
   "metadata": {
    "id": "nXsLh7jMttEr"
   },
   "source": [
    "# 3. What was the daily return of the stock on average?"
   ]
  },
  {
   "cell_type": "markdown",
   "metadata": {
    "id": "GFIPYq91ttEs"
   },
   "source": [
    "Now that we've done some baseline analysis, let's go ahead and dive a little deeper. We're now going to analyze the risk of the stock. In order to do so we'll need to take a closer look at the daily changes of the stock, and not just its absolute value. Let's go ahead and use pandas to retrieve teh daily returns for the Apple stock."
   ]
  },
  {
   "cell_type": "code",
   "execution_count": 118,
   "metadata": {
    "executionInfo": {
     "elapsed": 3846,
     "status": "ok",
     "timestamp": 1611806433938,
     "user": {
      "displayName": "Mark Ryan",
      "photoUrl": "https://lh3.googleusercontent.com/a-/AOh14GiOaJEeoxteIdEhraqpv8y7ol-feJVt-BYY9ceTIQ=s64",
      "userId": "08045617267833954278"
     },
     "user_tz": 300
    },
    "id": "3hKm8z9IttEs"
   },
   "outputs": [],
   "source": [
    "if plot_all:\n",
    "    # We'll use pct_change to find the percent change for each day\n",
    "    for company in tech_list:\n",
    "        stock_dict[company]['Daily Return'] = stock_dict[company]['Adj Close'].pct_change()\n",
    "\n",
    "    # Then we'll plot the daily return percentage\n",
    "    fig, axes = plt.subplots(nrows=2, ncols=2)\n",
    "    fig.set_figheight(8)\n",
    "    fig.set_figwidth(15)\n",
    "\n",
    "    stock_dict['AAPL']['Daily Return'].plot(ax=axes[0,0], legend=True, linestyle='--', marker='o')\n",
    "    axes[0,0].set_title('APPLE')\n",
    "\n",
    "    stock_dict['GOOG']['Daily Return'].plot(ax=axes[0,1], legend=True, linestyle='--', marker='o')\n",
    "    axes[0,1].set_title('GOOGLE')\n",
    "\n",
    "    stock_dict['MSFT']['Daily Return'].plot(ax=axes[1,0], legend=True, linestyle='--', marker='o')\n",
    "    axes[1,0].set_title('MICROSOFT')\n",
    "\n",
    "    stock_dict['AMZN']['Daily Return'].plot(ax=axes[1,1], legend=True, linestyle='--', marker='o')\n",
    "    axes[1,1].set_title('AMAZON')\n",
    "\n",
    "    fig.tight_layout()"
   ]
  },
  {
   "cell_type": "markdown",
   "metadata": {
    "id": "SbSLRiNlttEt"
   },
   "source": [
    "Great, now let's get an overall look at the average daily return using a histogram. We'll use seaborn to create both a histogram and kde plot on the same figure."
   ]
  },
  {
   "cell_type": "code",
   "execution_count": 119,
   "metadata": {
    "executionInfo": {
     "elapsed": 3840,
     "status": "ok",
     "timestamp": 1611806433940,
     "user": {
      "displayName": "Mark Ryan",
      "photoUrl": "https://lh3.googleusercontent.com/a-/AOh14GiOaJEeoxteIdEhraqpv8y7ol-feJVt-BYY9ceTIQ=s64",
      "userId": "08045617267833954278"
     },
     "user_tz": 300
    },
    "id": "4iaLUgfLttEu"
   },
   "outputs": [],
   "source": [
    "# Note the use of dropna() here, otherwise the NaN values can't be read by seaborn\n",
    "if plot_all:\n",
    "    plt.figure(figsize=(12, 12))\n",
    "\n",
    "    for i, company in enumerate(tech_list, 1):\n",
    "        plt.subplot(2, 2, i)\n",
    "        sns.distplot(stock_dict[company]['Daily Return'].dropna(), bins=100, color='purple')\n",
    "        plt.ylabel('Daily Return')\n",
    "        plt.title(company_dict[company])\n",
    "    # Could have also done:\n",
    "    #AAPL['Daily Return'].hist()"
   ]
  },
  {
   "cell_type": "markdown",
   "metadata": {
    "id": "9JQBYLSittEu"
   },
   "source": [
    "# 4. What was the correlation between different stocks closing prices?"
   ]
  },
  {
   "cell_type": "markdown",
   "metadata": {
    "id": "6mr_ilnOttEu"
   },
   "source": [
    "Now what if we wanted to analyze the returns of all the stocks in our list? Let's go ahead and build a DataFrame with all the ['Close'] columns for each of the stocks dataframes."
   ]
  },
  {
   "cell_type": "code",
   "execution_count": 120,
   "metadata": {
    "colab": {
     "base_uri": "https://localhost:8080/",
     "height": 232
    },
    "executionInfo": {
     "elapsed": 9723,
     "status": "ok",
     "timestamp": 1611806439830,
     "user": {
      "displayName": "Mark Ryan",
      "photoUrl": "https://lh3.googleusercontent.com/a-/AOh14GiOaJEeoxteIdEhraqpv8y7ol-feJVt-BYY9ceTIQ=s64",
      "userId": "08045617267833954278"
     },
     "user_tz": 300
    },
    "id": "OHnT2tkPttEu",
    "outputId": "8a28ff85-0ad6-4bde-835c-704608c3c37b"
   },
   "outputs": [
    {
     "data": {
      "text/html": [
       "<div>\n",
       "<style scoped>\n",
       "    .dataframe tbody tr th:only-of-type {\n",
       "        vertical-align: middle;\n",
       "    }\n",
       "\n",
       "    .dataframe tbody tr th {\n",
       "        vertical-align: top;\n",
       "    }\n",
       "\n",
       "    .dataframe thead th {\n",
       "        text-align: right;\n",
       "    }\n",
       "</style>\n",
       "<table border=\"1\" class=\"dataframe\">\n",
       "  <thead>\n",
       "    <tr style=\"text-align: right;\">\n",
       "      <th>Symbols</th>\n",
       "      <th>CROX</th>\n",
       "    </tr>\n",
       "    <tr>\n",
       "      <th>Date</th>\n",
       "      <th></th>\n",
       "    </tr>\n",
       "  </thead>\n",
       "  <tbody>\n",
       "    <tr>\n",
       "      <td>2020-02-10</td>\n",
       "      <td>36.490002</td>\n",
       "    </tr>\n",
       "    <tr>\n",
       "      <td>2020-02-11</td>\n",
       "      <td>36.520000</td>\n",
       "    </tr>\n",
       "    <tr>\n",
       "      <td>2020-02-12</td>\n",
       "      <td>37.860001</td>\n",
       "    </tr>\n",
       "    <tr>\n",
       "      <td>2020-02-13</td>\n",
       "      <td>38.570000</td>\n",
       "    </tr>\n",
       "    <tr>\n",
       "      <td>2020-02-14</td>\n",
       "      <td>37.310001</td>\n",
       "    </tr>\n",
       "  </tbody>\n",
       "</table>\n",
       "</div>"
      ],
      "text/plain": [
       "Symbols          CROX\n",
       "Date                 \n",
       "2020-02-10  36.490002\n",
       "2020-02-11  36.520000\n",
       "2020-02-12  37.860001\n",
       "2020-02-13  38.570000\n",
       "2020-02-14  37.310001"
      ]
     },
     "execution_count": 120,
     "metadata": {},
     "output_type": "execute_result"
    }
   ],
   "source": [
    "# Grab all the closing prices for the tech stock list into one DataFrame\n",
    "closing_df = DataReader(tech_list, 'yahoo', start, end)['Adj Close']\n",
    "\n",
    "# Let's take a quick look\n",
    "closing_df.head() "
   ]
  },
  {
   "cell_type": "markdown",
   "metadata": {
    "id": "DO2OAeLJttEv"
   },
   "source": [
    "Now that we have all the closing prices, let's go ahead and get the daily return for all the stocks, like we did for the Apple stock."
   ]
  },
  {
   "cell_type": "code",
   "execution_count": 121,
   "metadata": {
    "colab": {
     "base_uri": "https://localhost:8080/",
     "height": 232
    },
    "executionInfo": {
     "elapsed": 9719,
     "status": "ok",
     "timestamp": 1611806439835,
     "user": {
      "displayName": "Mark Ryan",
      "photoUrl": "https://lh3.googleusercontent.com/a-/AOh14GiOaJEeoxteIdEhraqpv8y7ol-feJVt-BYY9ceTIQ=s64",
      "userId": "08045617267833954278"
     },
     "user_tz": 300
    },
    "id": "mWAX7F2cttEw",
    "outputId": "fb8940a7-fe48-4081-f697-5c197a873d41"
   },
   "outputs": [
    {
     "data": {
      "text/html": [
       "<div>\n",
       "<style scoped>\n",
       "    .dataframe tbody tr th:only-of-type {\n",
       "        vertical-align: middle;\n",
       "    }\n",
       "\n",
       "    .dataframe tbody tr th {\n",
       "        vertical-align: top;\n",
       "    }\n",
       "\n",
       "    .dataframe thead th {\n",
       "        text-align: right;\n",
       "    }\n",
       "</style>\n",
       "<table border=\"1\" class=\"dataframe\">\n",
       "  <thead>\n",
       "    <tr style=\"text-align: right;\">\n",
       "      <th>Symbols</th>\n",
       "      <th>CROX</th>\n",
       "    </tr>\n",
       "    <tr>\n",
       "      <th>Date</th>\n",
       "      <th></th>\n",
       "    </tr>\n",
       "  </thead>\n",
       "  <tbody>\n",
       "    <tr>\n",
       "      <td>2020-02-10</td>\n",
       "      <td>NaN</td>\n",
       "    </tr>\n",
       "    <tr>\n",
       "      <td>2020-02-11</td>\n",
       "      <td>0.000822</td>\n",
       "    </tr>\n",
       "    <tr>\n",
       "      <td>2020-02-12</td>\n",
       "      <td>0.036692</td>\n",
       "    </tr>\n",
       "    <tr>\n",
       "      <td>2020-02-13</td>\n",
       "      <td>0.018753</td>\n",
       "    </tr>\n",
       "    <tr>\n",
       "      <td>2020-02-14</td>\n",
       "      <td>-0.032668</td>\n",
       "    </tr>\n",
       "  </tbody>\n",
       "</table>\n",
       "</div>"
      ],
      "text/plain": [
       "Symbols         CROX\n",
       "Date                \n",
       "2020-02-10       NaN\n",
       "2020-02-11  0.000822\n",
       "2020-02-12  0.036692\n",
       "2020-02-13  0.018753\n",
       "2020-02-14 -0.032668"
      ]
     },
     "execution_count": 121,
     "metadata": {},
     "output_type": "execute_result"
    }
   ],
   "source": [
    "# Make a new tech returns DataFrame\n",
    "# pct_change() https://pandas.pydata.org/pandas-docs/stable/reference/api/pandas.DataFrame.pct_change.html\n",
    "# Percentage change between the current and a prior element.\n",
    "# Computes the percentage change from the immediately previous row by default. This is useful in comparing the percentage of change in a time series of elements.\n",
    "tech_rets = closing_df.pct_change()\n",
    "# note that first row is NaN because there is no predecessor for the first row\n",
    "tech_rets.head()"
   ]
  },
  {
   "cell_type": "markdown",
   "metadata": {
    "id": "kAKykxMnttEx"
   },
   "source": [
    "Now we can compare the daily percentage return of two stocks to check how correlated. First let's see a sotck compared to itself."
   ]
  },
  {
   "cell_type": "code",
   "execution_count": 122,
   "metadata": {
    "executionInfo": {
     "elapsed": 9712,
     "status": "ok",
     "timestamp": 1611806439839,
     "user": {
      "displayName": "Mark Ryan",
      "photoUrl": "https://lh3.googleusercontent.com/a-/AOh14GiOaJEeoxteIdEhraqpv8y7ol-feJVt-BYY9ceTIQ=s64",
      "userId": "08045617267833954278"
     },
     "user_tz": 300
    },
    "id": "01KoxylgttEx"
   },
   "outputs": [],
   "source": [
    "# Comparing Google to itself should show a perfectly linear relationship\n",
    "if plot_all:\n",
    "    sns.jointplot('GOOG', 'GOOG', tech_rets, kind='scatter', color='seagreen')"
   ]
  },
  {
   "cell_type": "code",
   "execution_count": 123,
   "metadata": {
    "executionInfo": {
     "elapsed": 9707,
     "status": "ok",
     "timestamp": 1611806439843,
     "user": {
      "displayName": "Mark Ryan",
      "photoUrl": "https://lh3.googleusercontent.com/a-/AOh14GiOaJEeoxteIdEhraqpv8y7ol-feJVt-BYY9ceTIQ=s64",
      "userId": "08045617267833954278"
     },
     "user_tz": 300
    },
    "id": "dQYaUIsOttEy"
   },
   "outputs": [],
   "source": [
    "# We'll use joinplot to compare the daily returns of Google and Microsoft\n",
    "if plot_all:\n",
    "    sns.jointplot('GOOG', 'MSFT', tech_rets, kind='scatter')"
   ]
  },
  {
   "cell_type": "markdown",
   "metadata": {
    "id": "msAanENFttEy"
   },
   "source": [
    "So now we can see that if two stocks are perfectly (and positivley) correlated with each other a linear relationship bewteen its daily return values should occur. \n",
    "\n",
    "Seaborn and pandas make it very easy to repeat this comparison analysis for every possible combination of stocks in our technology stock ticker list. We can use sns.pairplot() to automatically create this plot"
   ]
  },
  {
   "cell_type": "code",
   "execution_count": 124,
   "metadata": {
    "executionInfo": {
     "elapsed": 9702,
     "status": "ok",
     "timestamp": 1611806439845,
     "user": {
      "displayName": "Mark Ryan",
      "photoUrl": "https://lh3.googleusercontent.com/a-/AOh14GiOaJEeoxteIdEhraqpv8y7ol-feJVt-BYY9ceTIQ=s64",
      "userId": "08045617267833954278"
     },
     "user_tz": 300
    },
    "id": "c9p-TywAttEy"
   },
   "outputs": [],
   "source": [
    "# We can simply call pairplot on our DataFrame for an automatic visual analysis \n",
    "# of all the comparisons\n",
    "if plot_all:\n",
    "    sns.pairplot(tech_rets, kind='reg')"
   ]
  },
  {
   "cell_type": "markdown",
   "metadata": {
    "id": "JBKYH4mjttEz"
   },
   "source": [
    "Above we can see all the relationships on daily returns between all the stocks. A quick glance shows an interesting correlation between Google and Amazon daily returns. It might be interesting to investigate that individual comaprison. While the simplicity of just calling sns.pairplot() is fantastic we can also use sns.PairGrid() for full control of the figure, including what kind of plots go in the diagonal, the upper triangle, and the lower triangle. Below is an example of utilizing the full power of seaborn to achieve this result."
   ]
  },
  {
   "cell_type": "code",
   "execution_count": 125,
   "metadata": {
    "executionInfo": {
     "elapsed": 9695,
     "status": "ok",
     "timestamp": 1611806439846,
     "user": {
      "displayName": "Mark Ryan",
      "photoUrl": "https://lh3.googleusercontent.com/a-/AOh14GiOaJEeoxteIdEhraqpv8y7ol-feJVt-BYY9ceTIQ=s64",
      "userId": "08045617267833954278"
     },
     "user_tz": 300
    },
    "id": "kLzXS983ttEz"
   },
   "outputs": [],
   "source": [
    "# Set up our figure by naming it returns_fig, call PairPLot on the DataFrame\n",
    "if plot_all:\n",
    "    return_fig = sns.PairGrid(tech_rets.dropna())\n",
    "\n",
    "    # Using map_upper we can specify what the upper triangle will look like.\n",
    "    return_fig.map_upper(plt.scatter, color='purple')\n",
    "\n",
    "    # We can also define the lower triangle in the figure, inclufing the plot type (kde) \n",
    "    # or the color map (BluePurple)\n",
    "    return_fig.map_lower(sns.kdeplot, cmap='cool_d')\n",
    "\n",
    "    # Finally we'll define the diagonal as a series of histogram plots of the daily return\n",
    "    return_fig.map_diag(plt.hist, bins=30)"
   ]
  },
  {
   "cell_type": "code",
   "execution_count": 126,
   "metadata": {
    "executionInfo": {
     "elapsed": 9690,
     "status": "ok",
     "timestamp": 1611806439848,
     "user": {
      "displayName": "Mark Ryan",
      "photoUrl": "https://lh3.googleusercontent.com/a-/AOh14GiOaJEeoxteIdEhraqpv8y7ol-feJVt-BYY9ceTIQ=s64",
      "userId": "08045617267833954278"
     },
     "user_tz": 300
    },
    "id": "xF_wYnxyttE0"
   },
   "outputs": [],
   "source": [
    "# Set up our figure by naming it returns_fig, call PairPLot on the DataFrame\n",
    "if plot_all:\n",
    "    returns_fig = sns.PairGrid(closing_df)\n",
    "\n",
    "    # Using map_upper we can specify what the upper triangle will look like.\n",
    "    returns_fig.map_upper(plt.scatter,color='purple')\n",
    "\n",
    "    # We can also define the lower triangle in the figure, inclufing the plot type (kde) or the color map (BluePurple)\n",
    "    returns_fig.map_lower(sns.kdeplot,cmap='cool_d')\n",
    "\n",
    "    # Finally we'll define the diagonal as a series of histogram plots of the daily return\n",
    "    returns_fig.map_diag(plt.hist,bins=30)"
   ]
  },
  {
   "cell_type": "markdown",
   "metadata": {
    "id": "g8tj-lGNttE0"
   },
   "source": [
    "Finally, we could also do a correlation plot, to get actual numerical values for the correlation between the stocks' daily return values. By comparing the closing prices, we see an interesting relationship between Microsoft and Apple."
   ]
  },
  {
   "cell_type": "code",
   "execution_count": 127,
   "metadata": {
    "executionInfo": {
     "elapsed": 9686,
     "status": "ok",
     "timestamp": 1611806439849,
     "user": {
      "displayName": "Mark Ryan",
      "photoUrl": "https://lh3.googleusercontent.com/a-/AOh14GiOaJEeoxteIdEhraqpv8y7ol-feJVt-BYY9ceTIQ=s64",
      "userId": "08045617267833954278"
     },
     "user_tz": 300
    },
    "id": "BQpGB2EPttE0"
   },
   "outputs": [],
   "source": [
    "# Let's go ahead and use sebron for a quick correlation plot for the daily returns\n",
    "if plot_all:\n",
    "    sns.heatmap(tech_rets.corr(), annot=True, cmap='summer')"
   ]
  },
  {
   "cell_type": "code",
   "execution_count": 128,
   "metadata": {
    "executionInfo": {
     "elapsed": 9681,
     "status": "ok",
     "timestamp": 1611806439850,
     "user": {
      "displayName": "Mark Ryan",
      "photoUrl": "https://lh3.googleusercontent.com/a-/AOh14GiOaJEeoxteIdEhraqpv8y7ol-feJVt-BYY9ceTIQ=s64",
      "userId": "08045617267833954278"
     },
     "user_tz": 300
    },
    "id": "f6N7mKCcttE0"
   },
   "outputs": [],
   "source": [
    "if plot_all:\n",
    "    sns.heatmap(closing_df.corr(), annot=True, cmap='summer')"
   ]
  },
  {
   "cell_type": "markdown",
   "metadata": {
    "id": "uFIa73fLttE1"
   },
   "source": [
    "Fantastic! Just like we suspected in our PairPlot we see here numerically and visually that Microsoft and Amazon had the strongest correlation of daily stock return. It's also interesting to see that all the technology comapnies are positively correlated."
   ]
  },
  {
   "cell_type": "markdown",
   "metadata": {
    "id": "tiqIZOLNttE1"
   },
   "source": [
    "# 5. How much value do we put at risk by investing in a particular stock?"
   ]
  },
  {
   "cell_type": "markdown",
   "metadata": {
    "id": "eENcTt05ttE1"
   },
   "source": [
    "There are many ways we can quantify risk, one of the most basic ways using the information we've gathered on daily percentage returns is by comparing the expected return with the standard deviation of the daily returns."
   ]
  },
  {
   "cell_type": "code",
   "execution_count": 129,
   "metadata": {
    "executionInfo": {
     "elapsed": 9677,
     "status": "ok",
     "timestamp": 1611806439852,
     "user": {
      "displayName": "Mark Ryan",
      "photoUrl": "https://lh3.googleusercontent.com/a-/AOh14GiOaJEeoxteIdEhraqpv8y7ol-feJVt-BYY9ceTIQ=s64",
      "userId": "08045617267833954278"
     },
     "user_tz": 300
    },
    "id": "9dwlU_hettE1"
   },
   "outputs": [],
   "source": [
    "# Let's start by defining a new DataFrame as a cleaned version of the orignal tech_rets DataFrame\n",
    "rets = tech_rets.dropna()\n",
    "if plot_all:\n",
    "    area = np.pi*20\n",
    "\n",
    "    plt.figure(figsize=(12, 10))\n",
    "    plt.scatter(rets.mean(), rets.std(), s=area)\n",
    "    plt.xlabel('Expected return')\n",
    "    plt.ylabel('Risk')\n",
    "\n",
    "    for label, x, y in zip(rets.columns, rets.mean(), rets.std()):\n",
    "        plt.annotate(label, xy=(x, y), xytext=(50, 50), textcoords='offset points', ha='right', va='bottom', \n",
    "                     arrowprops=dict(arrowstyle='-', color='blue', connectionstyle='arc3,rad=-0.3'))"
   ]
  },
  {
   "cell_type": "markdown",
   "metadata": {
    "id": "vEgA2qjYttE2"
   },
   "source": [
    "# 6. Predicting the closing price stock price of APPLE inc:"
   ]
  },
  {
   "cell_type": "code",
   "execution_count": 130,
   "metadata": {
    "executionInfo": {
     "elapsed": 11046,
     "status": "ok",
     "timestamp": 1611806441227,
     "user": {
      "displayName": "Mark Ryan",
      "photoUrl": "https://lh3.googleusercontent.com/a-/AOh14GiOaJEeoxteIdEhraqpv8y7ol-feJVt-BYY9ceTIQ=s64",
      "userId": "08045617267833954278"
     },
     "user_tz": 300
    },
    "id": "Q39q1pn_ttE2"
   },
   "outputs": [
    {
     "data": {
      "text/html": [
       "<div>\n",
       "<style scoped>\n",
       "    .dataframe tbody tr th:only-of-type {\n",
       "        vertical-align: middle;\n",
       "    }\n",
       "\n",
       "    .dataframe tbody tr th {\n",
       "        vertical-align: top;\n",
       "    }\n",
       "\n",
       "    .dataframe thead th {\n",
       "        text-align: right;\n",
       "    }\n",
       "</style>\n",
       "<table border=\"1\" class=\"dataframe\">\n",
       "  <thead>\n",
       "    <tr style=\"text-align: right;\">\n",
       "      <th></th>\n",
       "      <th>High</th>\n",
       "      <th>Low</th>\n",
       "      <th>Open</th>\n",
       "      <th>Close</th>\n",
       "      <th>Volume</th>\n",
       "      <th>Adj Close</th>\n",
       "      <th>2 YR</th>\n",
       "    </tr>\n",
       "    <tr>\n",
       "      <th>Date</th>\n",
       "      <th></th>\n",
       "      <th></th>\n",
       "      <th></th>\n",
       "      <th></th>\n",
       "      <th></th>\n",
       "      <th></th>\n",
       "      <th></th>\n",
       "    </tr>\n",
       "  </thead>\n",
       "  <tbody>\n",
       "    <tr>\n",
       "      <td>2018-01-02</td>\n",
       "      <td>12.98</td>\n",
       "      <td>12.58</td>\n",
       "      <td>12.64</td>\n",
       "      <td>12.97</td>\n",
       "      <td>778900</td>\n",
       "      <td>12.97</td>\n",
       "      <td>1.92</td>\n",
       "    </tr>\n",
       "    <tr>\n",
       "      <td>2018-01-03</td>\n",
       "      <td>13.14</td>\n",
       "      <td>12.83</td>\n",
       "      <td>12.99</td>\n",
       "      <td>12.90</td>\n",
       "      <td>1200900</td>\n",
       "      <td>12.90</td>\n",
       "      <td>1.94</td>\n",
       "    </tr>\n",
       "    <tr>\n",
       "      <td>2018-01-04</td>\n",
       "      <td>12.98</td>\n",
       "      <td>12.51</td>\n",
       "      <td>12.91</td>\n",
       "      <td>12.70</td>\n",
       "      <td>813900</td>\n",
       "      <td>12.70</td>\n",
       "      <td>1.96</td>\n",
       "    </tr>\n",
       "    <tr>\n",
       "      <td>2018-01-05</td>\n",
       "      <td>12.24</td>\n",
       "      <td>11.65</td>\n",
       "      <td>12.05</td>\n",
       "      <td>12.20</td>\n",
       "      <td>1893100</td>\n",
       "      <td>12.20</td>\n",
       "      <td>1.96</td>\n",
       "    </tr>\n",
       "    <tr>\n",
       "      <td>2018-01-08</td>\n",
       "      <td>13.55</td>\n",
       "      <td>12.52</td>\n",
       "      <td>12.53</td>\n",
       "      <td>13.23</td>\n",
       "      <td>2862900</td>\n",
       "      <td>13.23</td>\n",
       "      <td>1.96</td>\n",
       "    </tr>\n",
       "  </tbody>\n",
       "</table>\n",
       "</div>"
      ],
      "text/plain": [
       "             High    Low   Open  Close   Volume  Adj Close  2 YR\n",
       "Date                                                            \n",
       "2018-01-02  12.98  12.58  12.64  12.97   778900      12.97  1.92\n",
       "2018-01-03  13.14  12.83  12.99  12.90  1200900      12.90  1.94\n",
       "2018-01-04  12.98  12.51  12.91  12.70   813900      12.70  1.96\n",
       "2018-01-05  12.24  11.65  12.05  12.20  1893100      12.20  1.96\n",
       "2018-01-08  13.55  12.52  12.53  13.23  2862900      13.23  1.96"
      ]
     },
     "execution_count": 130,
     "metadata": {},
     "output_type": "execute_result"
    }
   ],
   "source": [
    "#Get the stock quote\n",
    "# tech_list = ['AAPL', 'GOOG', 'MSFT', 'AMZN']\n",
    "df_predict = {}\n",
    "# start='2012-01-01'\n",
    "for company in tech_list:\n",
    "    df_predict[company] = DataReader(company,data_source='yahoo', start=config['general']['master_start'], end=datetime.now())\n",
    "    df_predict[company] = pd.merge(df_predict[company],ust_df_2year,on=['Date'],how='inner')\n",
    "    # add\n",
    "    # show an example\n",
    "df_predict[tech_list[0]].head()"
   ]
  },
  {
   "cell_type": "code",
   "execution_count": 131,
   "metadata": {
    "executionInfo": {
     "elapsed": 11042,
     "status": "ok",
     "timestamp": 1611806441229,
     "user": {
      "displayName": "Mark Ryan",
      "photoUrl": "https://lh3.googleusercontent.com/a-/AOh14GiOaJEeoxteIdEhraqpv8y7ol-feJVt-BYY9ceTIQ=s64",
      "userId": "08045617267833954278"
     },
     "user_tz": 300
    },
    "id": "OgHKLQS-ttE2"
   },
   "outputs": [],
   "source": [
    "if plot_all:\n",
    "    plt.figure(figsize=(12, 12))\n",
    "    #plt.title('Close Price History')\n",
    "    for i, company in enumerate(tech_list,1):\n",
    "        plt.subplot(2,2,i)\n",
    "        plt.plot(df_predict[company]['Close'])\n",
    "        plt.xlabel('Date', fontsize=18)\n",
    "        plt.ylabel('Close Price USD ($)', fontsize=18)\n",
    "        plt.title(company_dict[company])\n",
    "        #plt.show()\n",
    "    \n"
   ]
  },
  {
   "cell_type": "code",
   "execution_count": 132,
   "metadata": {
    "executionInfo": {
     "elapsed": 11036,
     "status": "ok",
     "timestamp": 1611806441230,
     "user": {
      "displayName": "Mark Ryan",
      "photoUrl": "https://lh3.googleusercontent.com/a-/AOh14GiOaJEeoxteIdEhraqpv8y7ol-feJVt-BYY9ceTIQ=s64",
      "userId": "08045617267833954278"
     },
     "user_tz": 300
    },
    "id": "ceD3yTC4ttE3"
   },
   "outputs": [],
   "source": [
    "def get_model_path():\n",
    "    '''get the path for data files'''\n",
    "    rawpath = os.getcwd()\n",
    "    # data is in a directory called \"data\" that is a sibling to the directory containing the notebook\n",
    "    path = os.path.abspath(os.path.join(rawpath, '..', 'models'))\n",
    "    return(path)"
   ]
  },
  {
   "cell_type": "code",
   "execution_count": 133,
   "metadata": {
    "executionInfo": {
     "elapsed": 11032,
     "status": "ok",
     "timestamp": 1611806441231,
     "user": {
      "displayName": "Mark Ryan",
      "photoUrl": "https://lh3.googleusercontent.com/a-/AOh14GiOaJEeoxteIdEhraqpv8y7ol-feJVt-BYY9ceTIQ=s64",
      "userId": "08045617267833954278"
     },
     "user_tz": 300
    },
    "id": "SSrv9zAhttE3"
   },
   "outputs": [],
   "source": [
    "def save_model(model,company):\n",
    "    '''save the model to a file in directory models that is a peer of the directory containing this notebook'''\n",
    "    model_path = get_model_path()\n",
    "    modifier = datetime.now().strftime(\"%B%d%Y\")\n",
    "    save_model_path = os.path.join(model_path,company+modifier+'.h5')\n",
    "    model.save(save_model_path)\n",
    "    # no early stop, so make current model saved_model\n",
    "    print(\"Saved model with name \",company+modifier+'.h5')\n",
    "    \n"
   ]
  },
  {
   "cell_type": "code",
   "execution_count": 134,
   "metadata": {
    "executionInfo": {
     "elapsed": 11028,
     "status": "ok",
     "timestamp": 1611806441234,
     "user": {
      "displayName": "Mark Ryan",
      "photoUrl": "https://lh3.googleusercontent.com/a-/AOh14GiOaJEeoxteIdEhraqpv8y7ol-feJVt-BYY9ceTIQ=s64",
      "userId": "08045617267833954278"
     },
     "user_tz": 300
    },
    "id": "ijCLNQ1LttE3"
   },
   "outputs": [],
   "source": [
    "def get_save_model_path(company):\n",
    "    model_path = get_model_path()\n",
    "    modifier = saved_model_modifier\n",
    "    # modifier = datetime.now().strftime(\"%B%d%Y\")\n",
    "    save_model_path = os.path.join(model_path,company+modifier+'.h5')\n",
    "    return(save_model_path)"
   ]
  },
  {
   "cell_type": "code",
   "execution_count": 135,
   "metadata": {
    "executionInfo": {
     "elapsed": 11023,
     "status": "ok",
     "timestamp": 1611806441236,
     "user": {
      "displayName": "Mark Ryan",
      "photoUrl": "https://lh3.googleusercontent.com/a-/AOh14GiOaJEeoxteIdEhraqpv8y7ol-feJVt-BYY9ceTIQ=s64",
      "userId": "08045617267833954278"
     },
     "user_tz": 300
    },
    "id": "qS4bPikXttE3"
   },
   "outputs": [],
   "source": [
    "def one_col_df(df,col):\n",
    "    data = df.filter([col])\n",
    "    dataset = data.values\n",
    "    training_data_len = int(np.ceil( len(dataset) * .8 ))\n",
    "    return(data,dataset,training_data_len)"
   ]
  },
  {
   "cell_type": "code",
   "execution_count": 136,
   "metadata": {},
   "outputs": [],
   "source": [
    "def multi_col_df(df,cols):\n",
    "    #printf(\"cols is:\", cols)\n",
    "    data = df.filter(cols)\n",
    "    #print(\"data inside is\")\n",
    "    dataset = data.values\n",
    "    training_data_len = int(np.ceil( len(dataset) * .8 ))\n",
    "    return(data,dataset,training_data_len)"
   ]
  },
  {
   "cell_type": "code",
   "execution_count": 137,
   "metadata": {},
   "outputs": [],
   "source": [
    "def get_keras_vars(dataset):\n",
    "    '''cribbed from traditional DL on structured data code'''\n",
    "    X = {}\n",
    "    dictlist = []\n",
    "    for col in collist:\n",
    "        if verboseout:\n",
    "            print(\"cat col is\",col)\n",
    "        X[col] = np.array(dataset[col])\n",
    "        dictlist.append(np.array(dataset[col]))\n",
    "       \n",
    "    for col in textcols:\n",
    "        if verboseout:\n",
    "            print(\"text col is\",col)\n",
    "        X[col] = pad_sequences(dataset[col], maxlen=max_dict[col])\n",
    "        dictlist.append(pad_sequences(dataset[col], maxlen=max_dict[col]))\n",
    "        \n",
    "    for col in continuouscols:\n",
    "        if verboseout:\n",
    "            print(\"cont col is\",col)\n",
    "        X[col] = np.array(dataset[col])\n",
    "        dictlist.append(np.array(dataset[col]))\n",
    "        \n",
    "    return X, dictlist"
   ]
  },
  {
   "cell_type": "code",
   "execution_count": 138,
   "metadata": {
    "executionInfo": {
     "elapsed": 11017,
     "status": "ok",
     "timestamp": 1611806441237,
     "user": {
      "displayName": "Mark Ryan",
      "photoUrl": "https://lh3.googleusercontent.com/a-/AOh14GiOaJEeoxteIdEhraqpv8y7ol-feJVt-BYY9ceTIQ=s64",
      "userId": "08045617267833954278"
     },
     "user_tz": 300
    },
    "id": "6bfV2DBrttE4"
   },
   "outputs": [],
   "source": [
    "def scale_data(dataset):\n",
    "    scaler = MinMaxScaler(feature_range=(0,1))\n",
    "    scaled_data = scaler.fit_transform(dataset)\n",
    "    return(scaled_data,scaler)"
   ]
  },
  {
   "cell_type": "code",
   "execution_count": 139,
   "metadata": {
    "executionInfo": {
     "elapsed": 11009,
     "status": "ok",
     "timestamp": 1611806441239,
     "user": {
      "displayName": "Mark Ryan",
      "photoUrl": "https://lh3.googleusercontent.com/a-/AOh14GiOaJEeoxteIdEhraqpv8y7ol-feJVt-BYY9ceTIQ=s64",
      "userId": "08045617267833954278"
     },
     "user_tz": 300
    },
    "id": "ERZT1IH6ttE4"
   },
   "outputs": [],
   "source": [
    "def create_x_y(scaled_data,training_data_len):\n",
    "    '''convert scaled dataset into numpy x and y arrays for training'''\n",
    "    #Create the training data set\n",
    "    #Create the scaled training data set\n",
    "    print(\"scaled_data shape: \",str(scaled_data.shape))\n",
    "    print('training_data_len: ',training_data_len)\n",
    "    train_data = scaled_data[0:int(training_data_len), :]\n",
    "    print(\"train_data is:\",train_data)\n",
    "    #Split the data into x_train and y_train data sets\n",
    "    x_train = []\n",
    "    y_train = []\n",
    "    print(\"len(train_data): \",str(len(train_data)))\n",
    "    # here, each x is a set of 60 values and each y is the 61st value\n",
    "    for i in range(60, len(train_data)):\n",
    "        x_train.append(train_data[i-60:i, 0])\n",
    "        y_train.append(train_data[i, 0])\n",
    "        if (i<= 61) and plot_all:\n",
    "            print(x_train)\n",
    "            print(y_train)\n",
    "            print()\n",
    "\n",
    "    # Convert the x_train and y_train to numpy arrays \n",
    "    x_train, y_train = np.array(x_train), np.array(y_train)\n",
    "\n",
    "    #Reshape the data\n",
    "    x_train = np.reshape(x_train, (x_train.shape[0], x_train.shape[1], 1))\n",
    "    # x_train.shape\n",
    "    return(x_train,y_train)"
   ]
  },
  {
   "cell_type": "code",
   "execution_count": 140,
   "metadata": {},
   "outputs": [],
   "source": [
    "def build_model(x_train,y_train,optimizer,loss_function):\n",
    "        '''build simple model given x, y, optimizer and loss function - sequential API'''\n",
    "        model = Sequential()\n",
    "        model.add(LSTM(128, return_sequences=True, input_shape= (x_train.shape[1], 1)))\n",
    "        model.add(LSTM(64, return_sequences=False))\n",
    "        model.add(Dense(25))\n",
    "        model.add(Dense(1))\n",
    "\n",
    "        # Compile the model\n",
    "        model.compile(optimizer=optimizer, loss=loss_function)\n",
    "\n",
    "        #Train the model\n",
    "       \n",
    "        model.fit(x_train, y_train, batch_size=1, epochs=1)\n",
    "        return(model)"
   ]
  },
  {
   "cell_type": "code",
   "execution_count": 141,
   "metadata": {},
   "outputs": [],
   "source": [
    "def build_model_func(x_train,y_train,optimizer,loss_function):\n",
    "        '''build simple model given x, y, optimizer and loss function - functional API'''\n",
    "        lstminputs = {}\n",
    "        inputlayerlist = []\n",
    "        col = \"holder\"\n",
    "        lstminputs[col] = Input(shape=(x_train.shape[1],1),name=col)\n",
    "        inputlayerlist.append(lstminputs[col])\n",
    "        lstminputs[col] = (LSTM(128,return_sequences=True) (lstminputs[col]))\n",
    "        lstminputs[col] = (LSTM(64,return_sequences=False) (lstminputs[col]))\n",
    "        lstminputs[col] = (Dense(25) (lstminputs[col]))\n",
    "        \n",
    "        #output = Dense(1, activation=output_activation) (lstminputs[col])\n",
    "        output = Dense(1) (lstminputs[col])\n",
    "        # define model\n",
    "\n",
    "        model = Model(inputlayerlist, output)\n",
    "\n",
    "        \n",
    "        \n",
    " \n",
    "        model.compile(optimizer=optimizer, loss=loss_function)\n",
    "\n",
    "        #Train the model\n",
    "       \n",
    "        model.fit(x_train, y_train, batch_size=1, epochs=1)\n",
    "        return(model)"
   ]
  },
  {
   "cell_type": "code",
   "execution_count": 142,
   "metadata": {},
   "outputs": [],
   "source": [
    "def build_model_func2(x_train,y_train,optimizer,loss_function,collist,continuouscols,lstmcols):\n",
    "    '''build multi-input functional API model\n",
    "    collist - list of categorical columns\n",
    "    continuouscols - list of continuous columns\n",
    "    \n",
    "    want to have x_train being a list of numpy arrays, \n",
    "    one for each column that we want to create layers for\n",
    "    \n",
    "    \n",
    "    \n",
    "    '''\n",
    "    catinputs = {} # list of categorical inputs\n",
    "    textinputs = {} # list of text inputs\n",
    "    lstminput = {} # list of lstm inputs\n",
    "    continputs = {} # list of continuous inputs\n",
    "    embeddings = {}\n",
    "    textembeddings = {}\n",
    "    catemb = 10 # size of categorical embeddings\n",
    "    textemb = 50 # size of text embeddings\n",
    "    inputlayerlist = []\n",
    "    \n",
    "\n",
    "    \n",
    "    '''\n",
    "    for col in lstmcols:\n",
    "        lstminputs[col] = Input(shape=(x_train.shape[1],1),name=col)\n",
    "        inputlayerlist.append(lstminputs[col])\n",
    "        lstminputs[col] = (LSTM(128,return_sequences=True) (lstminputs[col]))\n",
    "        lstminputs[col] = (LSTM(64,return_sequences=False) (lstminputs[col]))\n",
    "        lstminputs[col] = (Dense(25) (lstminputs[col]))\n",
    "        # question here whether to include a dense layer or not at the end of LSTM \n",
    "        '''\n",
    "    for col in collist:\n",
    "        catinputs[col] = Input(shape=[1],name=col)\n",
    "        inputlayerlist.append(catinputs[col])\n",
    "        #print(\"inputname\",inputname)\n",
    "        embeddings[col] = (Embedding(max_dict[col],catemb) (catinputs[col]))\n",
    "        # batchnorm all\n",
    "        embeddings[col] = (BatchNormalization() (embeddings[col]))\n",
    "        collistfix.append(embeddings[col])\n",
    "    for col in continuouscols:\n",
    "        continputs[col] = Input(shape=[1],name=col)\n",
    "        inputlayerlist.append(continputs[col])\n",
    "        \n",
    "    return(model)"
   ]
  },
  {
   "cell_type": "code",
   "execution_count": 143,
   "metadata": {
    "colab": {
     "base_uri": "https://localhost:8080/"
    },
    "executionInfo": {
     "elapsed": 29702,
     "status": "ok",
     "timestamp": 1611806459942,
     "user": {
      "displayName": "Mark Ryan",
      "photoUrl": "https://lh3.googleusercontent.com/a-/AOh14GiOaJEeoxteIdEhraqpv8y7ol-feJVt-BYY9ceTIQ=s64",
      "userId": "08045617267833954278"
     },
     "user_tz": 300
    },
    "id": "yU3zPKDZttE4",
    "outputId": "dce1cfd6-efac-439d-b311-ff58364c5f83",
    "scrolled": true
   },
   "outputs": [
    {
     "name": "stdout",
     "output_type": "stream",
     "text": [
      "training_data_len:  620\n",
      "dataset shape:  (775, 1)\n",
      "scaled_data shape:  (775, 1)\n",
      "training_data_len:  620\n",
      "train_data is: [[0.03281623]\n",
      " [0.03177207]\n",
      " [0.02878877]\n",
      " [0.02133054]\n",
      " [0.0366945 ]\n",
      " [0.04072195]\n",
      " [0.03997613]\n",
      " [0.04236276]\n",
      " [0.04251193]\n",
      " [0.0392303 ]\n",
      " [0.04355607]\n",
      " [0.04206444]\n",
      " [0.04758353]\n",
      " [0.05131265]\n",
      " [0.05414677]\n",
      " [0.04818019]\n",
      " [0.0451969 ]\n",
      " [0.04549522]\n",
      " [0.04474941]\n",
      " [0.04415273]\n",
      " [0.04087112]\n",
      " [0.04489856]\n",
      " [0.04027446]\n",
      " [0.03132458]\n",
      " [0.03326372]\n",
      " [0.03565035]\n",
      " [0.02774463]\n",
      " [0.03147374]\n",
      " [0.02938543]\n",
      " [0.03177207]\n",
      " [0.03758949]\n",
      " [0.037142  ]\n",
      " [0.03699283]\n",
      " [0.04042362]\n",
      " [0.03997613]\n",
      " [0.04445107]\n",
      " [0.04415273]\n",
      " [0.05817422]\n",
      " [0.04922433]\n",
      " [0.0219272 ]\n",
      " [0.0320704 ]\n",
      " [0.04266109]\n",
      " [0.04102029]\n",
      " [0.04743436]\n",
      " [0.05295345]\n",
      " [0.04982099]\n",
      " [0.05086516]\n",
      " [0.05146181]\n",
      " [0.0528043 ]\n",
      " [0.05101431]\n",
      " [0.0528043 ]\n",
      " [0.06115751]\n",
      " [0.06324582]\n",
      " [0.06816826]\n",
      " [0.07130072]\n",
      " [0.07055489]\n",
      " [0.0692124 ]\n",
      " [0.07681981]\n",
      " [0.07681981]\n",
      " [0.0789081 ]\n",
      " [0.08174224]\n",
      " [0.07637232]\n",
      " [0.08666467]\n",
      " [0.09322793]\n",
      " [0.09770286]\n",
      " [0.08666467]\n",
      " [0.08711218]\n",
      " [0.09009545]\n",
      " [0.09173628]\n",
      " [0.08920047]\n",
      " [0.08204058]\n",
      " [0.07875894]\n",
      " [0.07950478]\n",
      " [0.07458234]\n",
      " [0.07488066]\n",
      " [0.07174821]\n",
      " [0.07353818]\n",
      " [0.07383652]\n",
      " [0.07562649]\n",
      " [0.07771479]\n",
      " [0.07786395]\n",
      " [0.07502983]\n",
      " [0.07309069]\n",
      " [0.07786395]\n",
      " [0.0721957 ]\n",
      " [0.06951074]\n",
      " [0.06533412]\n",
      " [0.08114557]\n",
      " [0.07368735]\n",
      " [0.07995225]\n",
      " [0.07801312]\n",
      " [0.06786992]\n",
      " [0.07353818]\n",
      " [0.08114557]\n",
      " [0.08054892]\n",
      " [0.08427804]\n",
      " [0.09427208]\n",
      " [0.08875297]\n",
      " [0.08890214]\n",
      " [0.08979715]\n",
      " [0.09710621]\n",
      " [0.09815036]\n",
      " [0.10545943]\n",
      " [0.10545943]\n",
      " [0.11172435]\n",
      " [0.10978519]\n",
      " [0.11694511]\n",
      " [0.11455848]\n",
      " [0.11590097]\n",
      " [0.12410501]\n",
      " [0.11992839]\n",
      " [0.12783413]\n",
      " [0.11784009]\n",
      " [0.1203759 ]\n",
      " [0.11769093]\n",
      " [0.1233592 ]\n",
      " [0.12410501]\n",
      " [0.12455252]\n",
      " [0.12112171]\n",
      " [0.10799523]\n",
      " [0.10307279]\n",
      " [0.1056086 ]\n",
      " [0.10695108]\n",
      " [0.10411694]\n",
      " [0.10202865]\n",
      " [0.09829953]\n",
      " [0.09665871]\n",
      " [0.0962112 ]\n",
      " [0.08905131]\n",
      " [0.08934964]\n",
      " [0.08681384]\n",
      " [0.09278042]\n",
      " [0.09128877]\n",
      " [0.09471958]\n",
      " [0.0933771 ]\n",
      " [0.09800119]\n",
      " [0.10322196]\n",
      " [0.10874104]\n",
      " [0.10262529]\n",
      " [0.09815036]\n",
      " [0.09486872]\n",
      " [0.11724342]\n",
      " [0.11858591]\n",
      " [0.10903938]\n",
      " [0.10650358]\n",
      " [0.10948688]\n",
      " [0.10352027]\n",
      " [0.10724939]\n",
      " [0.10754772]\n",
      " [0.10963605]\n",
      " [0.10247612]\n",
      " [0.11172435]\n",
      " [0.12216586]\n",
      " [0.1157518 ]\n",
      " [0.10695108]\n",
      " [0.11739259]\n",
      " [0.11232099]\n",
      " [0.11053103]\n",
      " [0.11784009]\n",
      " [0.13066827]\n",
      " [0.14096061]\n",
      " [0.14468973]\n",
      " [0.14797137]\n",
      " [0.14424225]\n",
      " [0.13976729]\n",
      " [0.14394391]\n",
      " [0.14543557]\n",
      " [0.13499403]\n",
      " [0.14752386]\n",
      " [0.14916468]\n",
      " [0.14409308]\n",
      " [0.14946302]\n",
      " [0.15438545]\n",
      " [0.15766707]\n",
      " [0.15214796]\n",
      " [0.15468376]\n",
      " [0.15721956]\n",
      " [0.15886038]\n",
      " [0.16318614]\n",
      " [0.16572194]\n",
      " [0.15781623]\n",
      " [0.16109785]\n",
      " [0.16035204]\n",
      " [0.15826371]\n",
      " [0.15721956]\n",
      " [0.15647375]\n",
      " [0.15363961]\n",
      " [0.15692125]\n",
      " [0.15304297]\n",
      " [0.13156325]\n",
      " [0.13842481]\n",
      " [0.12693915]\n",
      " [0.12470166]\n",
      " [0.12917661]\n",
      " [0.11918258]\n",
      " [0.12783413]\n",
      " [0.13678402]\n",
      " [0.13335321]\n",
      " [0.14245226]\n",
      " [0.13991646]\n",
      " [0.13380071]\n",
      " [0.11515513]\n",
      " [0.13469569]\n",
      " [0.12962409]\n",
      " [0.12678998]\n",
      " [0.13156325]\n",
      " [0.1330549 ]\n",
      " [0.13857398]\n",
      " [0.15557877]\n",
      " [0.1457339 ]\n",
      " [0.14931385]\n",
      " [0.15363961]\n",
      " [0.15274463]\n",
      " [0.15781623]\n",
      " [0.15915872]\n",
      " [0.24731505]\n",
      " [0.21778044]\n",
      " [0.23538185]\n",
      " [0.24194511]\n",
      " [0.24015515]\n",
      " [0.24686754]\n",
      " [0.23806682]\n",
      " [0.21315632]\n",
      " [0.22195704]\n",
      " [0.22136039]\n",
      " [0.23448687]\n",
      " [0.23612769]\n",
      " [0.2534308 ]\n",
      " [0.24343676]\n",
      " [0.25402744]\n",
      " [0.27341887]\n",
      " [0.2465692 ]\n",
      " [0.2318019 ]\n",
      " [0.21226134]\n",
      " [0.2195704 ]\n",
      " [0.22315035]\n",
      " [0.2267303 ]\n",
      " [0.21822792]\n",
      " [0.21807875]\n",
      " [0.21509548]\n",
      " [0.21464797]\n",
      " [0.21166467]\n",
      " [0.20167066]\n",
      " [0.20390812]\n",
      " [0.19630072]\n",
      " [0.23418854]\n",
      " [0.23732101]\n",
      " [0.23672434]\n",
      " [0.22687947]\n",
      " [0.25104416]\n",
      " [0.24313842]\n",
      " [0.25268495]\n",
      " [0.27446301]\n",
      " [0.28863367]\n",
      " [0.30727926]\n",
      " [0.3032518 ]\n",
      " [0.30116348]\n",
      " [0.28520286]\n",
      " [0.28758949]\n",
      " [0.29474942]\n",
      " [0.29713605]\n",
      " [0.27774463]\n",
      " [0.26804893]\n",
      " [0.26879477]\n",
      " [0.26909308]\n",
      " [0.27043556]\n",
      " [0.27028639]\n",
      " [0.26223151]\n",
      " [0.26431981]\n",
      " [0.26775059]\n",
      " [0.24582339]\n",
      " [0.25104416]\n",
      " [0.25208831]\n",
      " [0.24582339]\n",
      " [0.24269095]\n",
      " [0.24284009]\n",
      " [0.23776849]\n",
      " [0.24343676]\n",
      " [0.24269095]\n",
      " [0.2513425 ]\n",
      " [0.25492245]\n",
      " [0.26446898]\n",
      " [0.25969571]\n",
      " [0.2585024 ]\n",
      " [0.2610382 ]\n",
      " [0.26417064]\n",
      " [0.25447494]\n",
      " [0.26476731]\n",
      " [0.22240454]\n",
      " [0.21405133]\n",
      " [0.20137232]\n",
      " [0.21599046]\n",
      " [0.21136636]\n",
      " [0.21778044]\n",
      " [0.21494631]\n",
      " [0.21166467]\n",
      " [0.21076969]\n",
      " [0.21300715]\n",
      " [0.20972554]\n",
      " [0.21106802]\n",
      " [0.22329952]\n",
      " [0.22404536]\n",
      " [0.22180787]\n",
      " [0.22464201]\n",
      " [0.21375299]\n",
      " [0.21852626]\n",
      " [0.21867542]\n",
      " [0.22031625]\n",
      " [0.2289678 ]\n",
      " [0.22344869]\n",
      " [0.23926014]\n",
      " [0.23299522]\n",
      " [0.23389023]\n",
      " [0.23493438]\n",
      " [0.23568019]\n",
      " [0.22628283]\n",
      " [0.22583532]\n",
      " [0.22971361]\n",
      " [0.2289678 ]\n",
      " [0.23523271]\n",
      " [0.23359189]\n",
      " [0.24075179]\n",
      " [0.24970168]\n",
      " [0.24806086]\n",
      " [0.24597256]\n",
      " [0.23568019]\n",
      " [0.25208831]\n",
      " [0.24597256]\n",
      " [0.25014918]\n",
      " [0.25775656]\n",
      " [0.25477328]\n",
      " [0.25701074]\n",
      " [0.25984488]\n",
      " [0.27461218]\n",
      " [0.26208235]\n",
      " [0.2411993 ]\n",
      " [0.20316228]\n",
      " [0.1946599 ]\n",
      " [0.18585918]\n",
      " [0.17049524]\n",
      " [0.17452266]\n",
      " [0.16870525]\n",
      " [0.17422436]\n",
      " [0.17124105]\n",
      " [0.17243437]\n",
      " [0.17765514]\n",
      " [0.17571598]\n",
      " [0.16497613]\n",
      " [0.1672136 ]\n",
      " [0.13678402]\n",
      " [0.13126491]\n",
      " [0.13171242]\n",
      " [0.12753579]\n",
      " [0.12977326]\n",
      " [0.137679  ]\n",
      " [0.12857994]\n",
      " [0.12678998]\n",
      " [0.12947495]\n",
      " [0.12634248]\n",
      " [0.13409905]\n",
      " [0.12589497]\n",
      " [0.12410501]\n",
      " [0.11963008]\n",
      " [0.1056086 ]\n",
      " [0.11261933]\n",
      " [0.10426611]\n",
      " [0.10590693]\n",
      " [0.12813247]\n",
      " [0.12649165]\n",
      " [0.1229117 ]\n",
      " [0.13022076]\n",
      " [0.13215989]\n",
      " [0.13394988]\n",
      " [0.14394391]\n",
      " [0.13872314]\n",
      " [0.1351432 ]\n",
      " [0.14260143]\n",
      " [0.15229713]\n",
      " [0.14483889]\n",
      " [0.14588304]\n",
      " [0.14424225]\n",
      " [0.15199879]\n",
      " [0.17347852]\n",
      " [0.17616348]\n",
      " [0.17571598]\n",
      " [0.1727327 ]\n",
      " [0.18436753]\n",
      " [0.18585918]\n",
      " [0.18824582]\n",
      " [0.19316825]\n",
      " [0.19063245]\n",
      " [0.19242244]\n",
      " [0.18675419]\n",
      " [0.1845167 ]\n",
      " [0.18019094]\n",
      " [0.20390812]\n",
      " [0.20465394]\n",
      " [0.19853819]\n",
      " [0.20972554]\n",
      " [0.21076969]\n",
      " [0.21658713]\n",
      " [0.20987471]\n",
      " [0.20375896]\n",
      " [0.2043556 ]\n",
      " [0.1967482 ]\n",
      " [0.19093078]\n",
      " [0.20137232]\n",
      " [0.20002984]\n",
      " [0.19495824]\n",
      " [0.20346062]\n",
      " [0.20554892]\n",
      " [0.18436753]\n",
      " [0.1875    ]\n",
      " [0.17586515]\n",
      " [0.18168259]\n",
      " [0.18093675]\n",
      " [0.17198686]\n",
      " [0.18660502]\n",
      " [0.19570405]\n",
      " [0.20629476]\n",
      " [0.20525061]\n",
      " [0.22329952]\n",
      " [0.23403937]\n",
      " [0.24806086]\n",
      " [0.25775656]\n",
      " [0.26536396]\n",
      " [0.26297733]\n",
      " [0.26879477]\n",
      " [0.26297733]\n",
      " [0.25238665]\n",
      " [0.24224344]\n",
      " [0.25402744]\n",
      " [0.24298926]\n",
      " [0.25686158]\n",
      " [0.25626493]\n",
      " [0.24955251]\n",
      " [0.2534308 ]\n",
      " [0.26581146]\n",
      " [0.26148567]\n",
      " [0.26834726]\n",
      " [0.26894391]\n",
      " [0.27162888]\n",
      " [0.29176611]\n",
      " [0.29430192]\n",
      " [0.28923031]\n",
      " [0.29967185]\n",
      " [0.31115751]\n",
      " [0.31190335]\n",
      " [0.32771483]\n",
      " [0.32846064]\n",
      " [0.32935559]\n",
      " [0.33263723]\n",
      " [0.33636635]\n",
      " [0.33621721]\n",
      " [0.34203463]\n",
      " [0.35143202]\n",
      " [0.33636635]\n",
      " [0.41408114]\n",
      " [0.36127688]\n",
      " [0.37664083]\n",
      " [0.37306085]\n",
      " [0.36769091]\n",
      " [0.36247017]\n",
      " [0.36918259]\n",
      " [0.36977927]\n",
      " [0.3670943 ]\n",
      " [0.3690334 ]\n",
      " [0.37753584]\n",
      " [0.38618736]\n",
      " [0.36843678]\n",
      " [0.35844272]\n",
      " [0.35739857]\n",
      " [0.3526253 ]\n",
      " [0.349642  ]\n",
      " [0.36232103]\n",
      " [0.36858592]\n",
      " [0.36560262]\n",
      " [0.3599344 ]\n",
      " [0.33800717]\n",
      " [0.3497912 ]\n",
      " [0.37470167]\n",
      " [0.38618736]\n",
      " [0.36828758]\n",
      " [0.38036994]\n",
      " [0.37037588]\n",
      " [0.37127089]\n",
      " [0.37500001]\n",
      " [0.37813245]\n",
      " [0.40438547]\n",
      " [0.41467781]\n",
      " [0.42556683]\n",
      " [0.42497015]\n",
      " [0.44063249]\n",
      " [0.43645584]\n",
      " [0.43451674]\n",
      " [0.44719572]\n",
      " [0.45480309]\n",
      " [0.45838307]\n",
      " [0.46420048]\n",
      " [0.46211218]\n",
      " [0.46703465]\n",
      " [0.47195705]\n",
      " [0.46002389]\n",
      " [0.47598451]\n",
      " [0.48672438]\n",
      " [0.47911695]\n",
      " [0.46927208]\n",
      " [0.47926615]\n",
      " [0.47777447]\n",
      " [0.47941529]\n",
      " [0.45957641]\n",
      " [0.46151551]\n",
      " [0.47136038]\n",
      " [0.46763126]\n",
      " [0.45495229]\n",
      " [0.44316826]\n",
      " [0.44451075]\n",
      " [0.44495822]\n",
      " [0.42482101]\n",
      " [0.40483294]\n",
      " [0.39856805]\n",
      " [0.41870526]\n",
      " [0.42720765]\n",
      " [0.42362767]\n",
      " [0.4037888 ]\n",
      " [0.38365159]\n",
      " [0.38409906]\n",
      " [0.40408713]\n",
      " [0.41467781]\n",
      " [0.39588309]\n",
      " [0.41020288]\n",
      " [0.4188544 ]\n",
      " [0.38976734]\n",
      " [0.38678403]\n",
      " [0.36724344]\n",
      " [0.349642  ]\n",
      " [0.3445704 ]\n",
      " [0.26372317]\n",
      " [0.22971361]\n",
      " [0.23523271]\n",
      " [0.22822196]\n",
      " [0.24015515]\n",
      " [0.19958234]\n",
      " [0.20077565]\n",
      " [0.16094868]\n",
      " [0.17646182]\n",
      " [0.1427506 ]\n",
      " [0.11023269]\n",
      " [0.12783413]\n",
      " [0.08666467]\n",
      " [0.0544451 ]\n",
      " [0.00134247]\n",
      " [0.01088902]\n",
      " [0.        ]\n",
      " [0.02640214]\n",
      " [0.0641408 ]\n",
      " [0.11739259]\n",
      " [0.11426015]\n",
      " [0.10829356]\n",
      " [0.10038783]\n",
      " [0.09278042]\n",
      " [0.07115155]\n",
      " [0.07547732]\n",
      " [0.05877088]\n",
      " [0.11649761]\n",
      " [0.10620524]\n",
      " [0.14797137]\n",
      " [0.15020883]\n",
      " [0.14767303]\n",
      " [0.16318614]\n",
      " [0.15886038]\n",
      " [0.15841288]\n",
      " [0.18571001]\n",
      " [0.17929596]\n",
      " [0.18213007]\n",
      " [0.18690333]\n",
      " [0.12947495]\n",
      " [0.16020287]\n",
      " [0.18988664]\n",
      " [0.19301908]\n",
      " [0.22971361]\n",
      " [0.20107399]\n",
      " [0.16855608]\n",
      " [0.17198686]\n",
      " [0.17511934]\n",
      " [0.1798926 ]\n",
      " [0.19093078]\n",
      " [0.21241051]\n",
      " [0.19480907]\n",
      " [0.16885442]\n",
      " [0.15393795]\n",
      " [0.17914679]\n",
      " [0.19734487]\n",
      " [0.22911694]\n",
      " [0.21241051]\n",
      " [0.2465692 ]\n",
      " [0.24567422]\n",
      " [0.23776849]\n",
      " [0.27565633]\n",
      " [0.29892601]\n",
      " [0.26879477]\n",
      " [0.26670644]\n",
      " [0.27983295]\n",
      " [0.29072197]\n",
      " [0.3180191 ]\n",
      " [0.33353224]\n",
      " [0.34337711]\n",
      " [0.37619335]\n",
      " [0.34829951]\n",
      " [0.32741649]\n",
      " [0.2855012 ]\n",
      " [0.29668855]\n",
      " [0.31235083]\n",
      " [0.32980313]\n",
      " [0.33174223]\n",
      " [0.32875898]\n",
      " [0.32428399]\n",
      " [0.32398571]\n",
      " [0.34904533]\n",
      " [0.34128881]]\n",
      "len(train_data):  620\n",
      "x_train shape:  (560, 60, 1)\n",
      "y_train shape:  (560,)\n",
      "TRAINING LOOP FOR:  CROX\n"
     ]
    },
    {
     "name": "stdout",
     "output_type": "stream",
     "text": [
      "Epoch 1/1\n",
      "560/560 [==============================] - 31s 55ms/step - loss: 0.0017\n",
      "Saved model with name  CROXFebruary082021.h5\n",
      "x_test shape 1 (155, 60)\n",
      "x_test shape 2 (155, 60, 1)\n",
      "predictions_temp shape (155, 1)\n",
      "predictions[company] shape (155, 1)\n",
      "Wall time: 35.2 s\n"
     ]
    }
   ],
   "source": [
    "%%time\n",
    "# train models for each company in tech_list and save trained models\n",
    "predictions = {}\n",
    "data = {}\n",
    "for company in tech_list:\n",
    "    data[company],dataset,training_data_len = one_col_df(df_predict[company],'Close')\n",
    "    #data[company],dataset,training_data_len = multi_col_df(df_predict[company],['Close','2YR'])\n",
    "    # X, dictlist get_keras_vars(df_predict[company])\n",
    "    #print(\"dataset is: \",dataset)\n",
    "    #print((\"data[company] is:\",data[company]))\n",
    "    print(\"training_data_len: \",training_data_len)\n",
    "    print(\"dataset shape: \",str(dataset.shape))\n",
    "    scaled_data, scaler = scale_data(dataset)\n",
    "    x_train, y_train = create_x_y(scaled_data,training_data_len)\n",
    "    print(\"x_train shape: \",x_train.shape)\n",
    "    print(\"y_train shape: \",y_train.shape)\n",
    "    print(\"TRAINING LOOP FOR: \",str(company))\n",
    "    '''\n",
    "    turn off for experiment with multi columns\n",
    "    '''\n",
    "    if use_saved_model:\n",
    "        # put here\n",
    "        save_model_path = get_save_model_path(company)\n",
    "        model = load_model(save_model_path)\n",
    "    else:\n",
    "        # train model fresh\n",
    "        #Build the LSTM model\n",
    "        #model = build_model(x_train,y_train,'adam','mean_squared_error')\n",
    "        model = build_model_func(x_train,y_train,'adam','mean_squared_error')\n",
    "        # save the model\n",
    "        save_model(model,company)\n",
    "    #Create a new array containing scaled values from index 1543 to 2002 \n",
    "    test_data = scaled_data[training_data_len - 60: , :]\n",
    "    #Create the data sets x_test and y_test\n",
    "    x_test = []\n",
    "    y_test = dataset[training_data_len:, :]\n",
    "    for i in range(60, len(test_data)):\n",
    "        x_test.append(test_data[i-60:i, 0])\n",
    "\n",
    "    # Convert the data to a numpy array\n",
    "    x_test = np.array(x_test)\n",
    "    print(\"x_test shape 1\",x_test.shape)\n",
    "    # Reshape the data\n",
    "    x_test = np.reshape(x_test, (x_test.shape[0], x_test.shape[1], 1 ))\n",
    "    print(\"x_test shape 2\",x_test.shape)\n",
    "    # Get the models predicted price values \n",
    "    predictions_temp = model.predict(x_test)\n",
    "    print(\"predictions_temp shape\",predictions_temp.shape)\n",
    "    predictions[company] = scaler.inverse_transform(predictions_temp)\n",
    "    print(\"predictions[company] shape\",predictions[company].shape)\n",
    "    "
   ]
  },
  {
   "cell_type": "code",
   "execution_count": 49,
   "metadata": {
    "colab": {
     "base_uri": "https://localhost:8080/",
     "height": 1000
    },
    "executionInfo": {
     "elapsed": 31172,
     "status": "ok",
     "timestamp": 1611806461427,
     "user": {
      "displayName": "Mark Ryan",
      "photoUrl": "https://lh3.googleusercontent.com/a-/AOh14GiOaJEeoxteIdEhraqpv8y7ol-feJVt-BYY9ceTIQ=s64",
      "userId": "08045617267833954278"
     },
     "user_tz": 300
    },
    "id": "HcyoiMipttE5",
    "outputId": "4c45f63e-3fc7-458e-88d0-3f958deba6f5"
   },
   "outputs": [
    {
     "name": "stdout",
     "output_type": "stream",
     "text": [
      "train shape  (620, 1)\n",
      "valid shape  (155, 1)\n",
      "predictions[company] shape  (155, 1)\n"
     ]
    },
    {
     "name": "stderr",
     "output_type": "stream",
     "text": [
      "c:\\users\\ryanm\\appdata\\local\\programs\\python\\python37\\lib\\site-packages\\ipykernel_launcher.py:8: SettingWithCopyWarning: \n",
      "A value is trying to be set on a copy of a slice from a DataFrame.\n",
      "Try using .loc[row_indexer,col_indexer] = value instead\n",
      "\n",
      "See the caveats in the documentation: http://pandas.pydata.org/pandas-docs/stable/user_guide/indexing.html#returning-a-view-versus-a-copy\n",
      "  \n",
      "c:\\users\\ryanm\\appdata\\local\\programs\\python\\python37\\lib\\site-packages\\pandas\\plotting\\_matplotlib\\converter.py:103: FutureWarning: Using an implicitly registered datetime converter for a matplotlib plotting method. The converter was registered by pandas on import. Future versions of pandas will require you to explicitly register matplotlib converters.\n",
      "\n",
      "To register the converters:\n",
      "\t>>> from pandas.plotting import register_matplotlib_converters\n",
      "\t>>> register_matplotlib_converters()\n",
      "  warnings.warn(msg, FutureWarning)\n"
     ]
    },
    {
     "data": {
      "image/png": "[encoded data removed]",
      "text/plain": [
       "<Figure size 1152x576 with 1 Axes>"
      ]
     },
     "metadata": {
      "needs_background": "light"
     },
     "output_type": "display_data"
    }
   ],
   "source": [
    "# Plot the data\n",
    "for company in tech_list:\n",
    "    train = data[company][:training_data_len]\n",
    "    valid = data[company][training_data_len:]\n",
    "    print(\"train shape \",train.shape)\n",
    "    print(\"valid shape \",valid.shape)\n",
    "    print(\"predictions[company] shape \",predictions[company].shape)\n",
    "    valid['Predictions'] = predictions[company]\n",
    "    # Visualize the data\n",
    "    plt.figure(figsize=(16,8))\n",
    "    plt.title('Model'+\" \"+company)\n",
    "    plt.xlabel('Date', fontsize=18)\n",
    "    plt.ylabel('Close Price USD ($)', fontsize=18)\n",
    "    plt.plot(train['Close'])\n",
    "    plt.plot(valid[['Close', 'Predictions']])\n",
    "    plt.legend(['Train', 'Val', 'Predictions'], loc='lower right')\n",
    "    plt.show()"
   ]
  },
  {
   "cell_type": "code",
   "execution_count": null,
   "metadata": {
    "colab": {
     "base_uri": "https://localhost:8080/",
     "height": 446
    },
    "executionInfo": {
     "elapsed": 31160,
     "status": "ok",
     "timestamp": 1611806461429,
     "user": {
      "displayName": "Mark Ryan",
      "photoUrl": "https://lh3.googleusercontent.com/a-/AOh14GiOaJEeoxteIdEhraqpv8y7ol-feJVt-BYY9ceTIQ=s64",
      "userId": "08045617267833954278"
     },
     "user_tz": 300
    },
    "id": "mpcDNFfYttE5",
    "outputId": "ef14c45f-3c1f-4aa0-ce3c-54de8861801e"
   },
   "outputs": [],
   "source": [
    "#Show the valid and predicted prices\n",
    "valid"
   ]
  },
  {
   "cell_type": "code",
   "execution_count": null,
   "metadata": {
    "executionInfo": {
     "elapsed": 31138,
     "status": "ok",
     "timestamp": 1611806461431,
     "user": {
      "displayName": "Mark Ryan",
      "photoUrl": "https://lh3.googleusercontent.com/a-/AOh14GiOaJEeoxteIdEhraqpv8y7ol-feJVt-BYY9ceTIQ=s64",
      "userId": "08045617267833954278"
     },
     "user_tz": 300
    },
    "id": "H4wln8eKttE5"
   },
   "outputs": [],
   "source": []
  }
 ],
 "metadata": {
  "accelerator": "GPU",
  "colab": {
   "collapsed_sections": [
    "nXsLh7jMttEr"
   ],
   "name": "stock_analysis_using_lstm_mvp.ipynb",
   "provenance": []
  },
  "kernelspec": {
   "display_name": "Python 3",
   "language": "python",
   "name": "python3"
  },
  "language_info": {
   "codemirror_mode": {
    "name": "ipython",
    "version": 3
   },
   "file_extension": ".py",
   "mimetype": "text/x-python",
   "name": "python",
   "nbconvert_exporter": "python",
   "pygments_lexer": "ipython3",
   "version": "3.7.4"
  }
 },
 "nbformat": 4,
 "nbformat_minor": 1
}
