{
 "cells": [
  {
   "cell_type": "markdown",
   "metadata": {},
   "source": [
    "# Stock Analysis Using LSTM - MVP\n",
    "This notebook adapted from https://www.kaggle.com/faressayah/stock-market-analysis-prediction-using-lstm"
   ]
  },
  {
   "cell_type": "markdown",
   "metadata": {},
   "source": [
    "# Import required libraries and set up notebook\n"
   ]
  },
  {
   "cell_type": "code",
   "execution_count": 136,
   "metadata": {},
   "outputs": [],
   "source": [
    "import pandas as pd\n",
    "import numpy as np\n",
    "import os\n",
    "import yaml\n",
    "\n",
    "import matplotlib.pyplot as plt\n",
    "import seaborn as sns\n",
    "sns.set_style('whitegrid')\n",
    "plt.style.use(\"fivethirtyeight\")\n",
    "%matplotlib inline\n",
    "\n",
    "# For reading stock data from yahoo\n",
    "from pandas_datareader.data import DataReader\n",
    "\n",
    "# For time stamps\n",
    "from datetime import datetime\n",
    "\n",
    "# for LSTM\n",
    "from keras.models import Sequential\n",
    "from keras.layers import Dense, LSTM\n",
    "from sklearn.preprocessing import MinMaxScaler\n",
    "from tensorflow.keras.models import load_model"
   ]
  },
  {
   "cell_type": "code",
   "execution_count": 137,
   "metadata": {},
   "outputs": [
    {
     "name": "stdout",
     "output_type": "stream",
     "text": [
      "current directory is: C:\\personal\\karma_stocks_2021\\stock_investigation\\notebooks\n",
      "path_to_yaml C:\\personal\\karma_stocks_2021\\stock_investigation\\notebooks\\model_training_config.yml\n"
     ]
    }
   ],
   "source": [
    "# load config file\n",
    "current_path = os.getcwd()\n",
    "print(\"current directory is: \"+current_path)\n",
    "\n",
    "path_to_yaml = os.path.join(current_path, 'model_training_config.yml')\n",
    "print(\"path_to_yaml \"+path_to_yaml)\n",
    "try:\n",
    "    with open (path_to_yaml, 'r') as c_file:\n",
    "        config = yaml.safe_load(c_file)\n",
    "except Exception as e:\n",
    "    print('Error reading the config file')"
   ]
  },
  {
   "cell_type": "code",
   "execution_count": 138,
   "metadata": {},
   "outputs": [],
   "source": [
    "# switches\n",
    "plot_all = config['general']['verboseout']\n",
    "use_saved_model = config['general']['presaved']"
   ]
  },
  {
   "cell_type": "code",
   "execution_count": null,
   "metadata": {},
   "outputs": [],
   "source": [
    "# ingest config parameters"
   ]
  },
  {
   "cell_type": "code",
   "execution_count": 96,
   "metadata": {},
   "outputs": [
    {
     "data": {
      "text/html": [
       "<div>\n",
       "<style scoped>\n",
       "    .dataframe tbody tr th:only-of-type {\n",
       "        vertical-align: middle;\n",
       "    }\n",
       "\n",
       "    .dataframe tbody tr th {\n",
       "        vertical-align: top;\n",
       "    }\n",
       "\n",
       "    .dataframe thead th {\n",
       "        text-align: right;\n",
       "    }\n",
       "</style>\n",
       "<table border=\"1\" class=\"dataframe\">\n",
       "  <thead>\n",
       "    <tr style=\"text-align: right;\">\n",
       "      <th></th>\n",
       "      <th>High</th>\n",
       "      <th>Low</th>\n",
       "      <th>Open</th>\n",
       "      <th>Close</th>\n",
       "      <th>Volume</th>\n",
       "      <th>Adj Close</th>\n",
       "    </tr>\n",
       "    <tr>\n",
       "      <th>Date</th>\n",
       "      <th></th>\n",
       "      <th></th>\n",
       "      <th></th>\n",
       "      <th></th>\n",
       "      <th></th>\n",
       "      <th></th>\n",
       "    </tr>\n",
       "  </thead>\n",
       "  <tbody>\n",
       "    <tr>\n",
       "      <td>2020-01-24</td>\n",
       "      <td>80.832497</td>\n",
       "      <td>79.379997</td>\n",
       "      <td>80.062500</td>\n",
       "      <td>79.577499</td>\n",
       "      <td>146537600.0</td>\n",
       "      <td>78.896149</td>\n",
       "    </tr>\n",
       "    <tr>\n",
       "      <td>2020-01-27</td>\n",
       "      <td>77.942497</td>\n",
       "      <td>76.220001</td>\n",
       "      <td>77.514999</td>\n",
       "      <td>77.237503</td>\n",
       "      <td>161940000.0</td>\n",
       "      <td>76.576187</td>\n",
       "    </tr>\n",
       "    <tr>\n",
       "      <td>2020-01-28</td>\n",
       "      <td>79.599998</td>\n",
       "      <td>78.047501</td>\n",
       "      <td>78.150002</td>\n",
       "      <td>79.422501</td>\n",
       "      <td>162234000.0</td>\n",
       "      <td>78.742477</td>\n",
       "    </tr>\n",
       "    <tr>\n",
       "      <td>2020-01-29</td>\n",
       "      <td>81.962502</td>\n",
       "      <td>80.345001</td>\n",
       "      <td>81.112503</td>\n",
       "      <td>81.084999</td>\n",
       "      <td>216229200.0</td>\n",
       "      <td>80.390747</td>\n",
       "    </tr>\n",
       "    <tr>\n",
       "      <td>2020-01-30</td>\n",
       "      <td>81.022499</td>\n",
       "      <td>79.687500</td>\n",
       "      <td>80.135002</td>\n",
       "      <td>80.967499</td>\n",
       "      <td>126743200.0</td>\n",
       "      <td>80.274246</td>\n",
       "    </tr>\n",
       "  </tbody>\n",
       "</table>\n",
       "</div>"
      ],
      "text/plain": [
       "                 High        Low       Open      Close       Volume  Adj Close\n",
       "Date                                                                          \n",
       "2020-01-24  80.832497  79.379997  80.062500  79.577499  146537600.0  78.896149\n",
       "2020-01-27  77.942497  76.220001  77.514999  77.237503  161940000.0  76.576187\n",
       "2020-01-28  79.599998  78.047501  78.150002  79.422501  162234000.0  78.742477\n",
       "2020-01-29  81.962502  80.345001  81.112503  81.084999  216229200.0  80.390747\n",
       "2020-01-30  81.022499  79.687500  80.135002  80.967499  126743200.0  80.274246"
      ]
     },
     "execution_count": 96,
     "metadata": {},
     "output_type": "execute_result"
    }
   ],
   "source": [
    "# DataReader: https://riptutorial.com/pandas/topic/1912/pandas-datareader\n",
    "# https://pandas-datareader.readthedocs.io/en/latest/remote_data.html\n",
    "# \n",
    "# Set up End and Start times for data grab\n",
    "end = datetime.now()\n",
    "start = datetime(end.year - 1, end.month, end.day)\n",
    "tester = DataReader('AAPL', 'yahoo', start, end)\n",
    "tester.head()"
   ]
  },
  {
   "cell_type": "code",
   "execution_count": 97,
   "metadata": {},
   "outputs": [
    {
     "data": {
      "text/html": [
       "<div>\n",
       "<style scoped>\n",
       "    .dataframe tbody tr th:only-of-type {\n",
       "        vertical-align: middle;\n",
       "    }\n",
       "\n",
       "    .dataframe tbody tr th {\n",
       "        vertical-align: top;\n",
       "    }\n",
       "\n",
       "    .dataframe thead th {\n",
       "        text-align: right;\n",
       "    }\n",
       "</style>\n",
       "<table border=\"1\" class=\"dataframe\">\n",
       "  <thead>\n",
       "    <tr style=\"text-align: right;\">\n",
       "      <th></th>\n",
       "      <th>High</th>\n",
       "      <th>Low</th>\n",
       "      <th>Open</th>\n",
       "      <th>Close</th>\n",
       "      <th>Volume</th>\n",
       "      <th>Adj Close</th>\n",
       "      <th>company_name</th>\n",
       "    </tr>\n",
       "    <tr>\n",
       "      <th>Date</th>\n",
       "      <th></th>\n",
       "      <th></th>\n",
       "      <th></th>\n",
       "      <th></th>\n",
       "      <th></th>\n",
       "      <th></th>\n",
       "      <th></th>\n",
       "    </tr>\n",
       "  </thead>\n",
       "  <tbody>\n",
       "    <tr>\n",
       "      <td>2021-01-08</td>\n",
       "      <td>3190.639893</td>\n",
       "      <td>3142.199951</td>\n",
       "      <td>3180.000000</td>\n",
       "      <td>3182.699951</td>\n",
       "      <td>3534300.0</td>\n",
       "      <td>3182.699951</td>\n",
       "      <td>AMAZON</td>\n",
       "    </tr>\n",
       "    <tr>\n",
       "      <td>2021-01-11</td>\n",
       "      <td>3156.379883</td>\n",
       "      <td>3110.000000</td>\n",
       "      <td>3148.010010</td>\n",
       "      <td>3114.209961</td>\n",
       "      <td>3683400.0</td>\n",
       "      <td>3114.209961</td>\n",
       "      <td>AMAZON</td>\n",
       "    </tr>\n",
       "    <tr>\n",
       "      <td>2021-01-12</td>\n",
       "      <td>3142.139893</td>\n",
       "      <td>3086.000000</td>\n",
       "      <td>3120.000000</td>\n",
       "      <td>3120.830078</td>\n",
       "      <td>3514600.0</td>\n",
       "      <td>3120.830078</td>\n",
       "      <td>AMAZON</td>\n",
       "    </tr>\n",
       "    <tr>\n",
       "      <td>2021-01-13</td>\n",
       "      <td>3189.949951</td>\n",
       "      <td>3122.080078</td>\n",
       "      <td>3128.439941</td>\n",
       "      <td>3165.889893</td>\n",
       "      <td>3321200.0</td>\n",
       "      <td>3165.889893</td>\n",
       "      <td>AMAZON</td>\n",
       "    </tr>\n",
       "    <tr>\n",
       "      <td>2021-01-14</td>\n",
       "      <td>3178.000000</td>\n",
       "      <td>3120.590088</td>\n",
       "      <td>3167.520020</td>\n",
       "      <td>3127.469971</td>\n",
       "      <td>3070900.0</td>\n",
       "      <td>3127.469971</td>\n",
       "      <td>AMAZON</td>\n",
       "    </tr>\n",
       "    <tr>\n",
       "      <td>2021-01-15</td>\n",
       "      <td>3142.550049</td>\n",
       "      <td>3095.169922</td>\n",
       "      <td>3123.020020</td>\n",
       "      <td>3104.250000</td>\n",
       "      <td>4214200.0</td>\n",
       "      <td>3104.250000</td>\n",
       "      <td>AMAZON</td>\n",
       "    </tr>\n",
       "    <tr>\n",
       "      <td>2021-01-19</td>\n",
       "      <td>3145.000000</td>\n",
       "      <td>3096.000000</td>\n",
       "      <td>3107.000000</td>\n",
       "      <td>3120.760010</td>\n",
       "      <td>3305100.0</td>\n",
       "      <td>3120.760010</td>\n",
       "      <td>AMAZON</td>\n",
       "    </tr>\n",
       "    <tr>\n",
       "      <td>2021-01-20</td>\n",
       "      <td>3279.800049</td>\n",
       "      <td>3175.000000</td>\n",
       "      <td>3181.989990</td>\n",
       "      <td>3263.379883</td>\n",
       "      <td>5309800.0</td>\n",
       "      <td>3263.379883</td>\n",
       "      <td>AMAZON</td>\n",
       "    </tr>\n",
       "    <tr>\n",
       "      <td>2021-01-21</td>\n",
       "      <td>3348.550049</td>\n",
       "      <td>3289.570068</td>\n",
       "      <td>3293.000000</td>\n",
       "      <td>3306.989990</td>\n",
       "      <td>4945100.0</td>\n",
       "      <td>3306.989990</td>\n",
       "      <td>AMAZON</td>\n",
       "    </tr>\n",
       "    <tr>\n",
       "      <td>2021-01-22</td>\n",
       "      <td>3321.909912</td>\n",
       "      <td>3283.159912</td>\n",
       "      <td>3304.310059</td>\n",
       "      <td>3292.229980</td>\n",
       "      <td>2816300.0</td>\n",
       "      <td>3292.229980</td>\n",
       "      <td>AMAZON</td>\n",
       "    </tr>\n",
       "  </tbody>\n",
       "</table>\n",
       "</div>"
      ],
      "text/plain": [
       "                   High          Low         Open        Close     Volume  \\\n",
       "Date                                                                        \n",
       "2021-01-08  3190.639893  3142.199951  3180.000000  3182.699951  3534300.0   \n",
       "2021-01-11  3156.379883  3110.000000  3148.010010  3114.209961  3683400.0   \n",
       "2021-01-12  3142.139893  3086.000000  3120.000000  3120.830078  3514600.0   \n",
       "2021-01-13  3189.949951  3122.080078  3128.439941  3165.889893  3321200.0   \n",
       "2021-01-14  3178.000000  3120.590088  3167.520020  3127.469971  3070900.0   \n",
       "2021-01-15  3142.550049  3095.169922  3123.020020  3104.250000  4214200.0   \n",
       "2021-01-19  3145.000000  3096.000000  3107.000000  3120.760010  3305100.0   \n",
       "2021-01-20  3279.800049  3175.000000  3181.989990  3263.379883  5309800.0   \n",
       "2021-01-21  3348.550049  3289.570068  3293.000000  3306.989990  4945100.0   \n",
       "2021-01-22  3321.909912  3283.159912  3304.310059  3292.229980  2816300.0   \n",
       "\n",
       "              Adj Close company_name  \n",
       "Date                                  \n",
       "2021-01-08  3182.699951       AMAZON  \n",
       "2021-01-11  3114.209961       AMAZON  \n",
       "2021-01-12  3120.830078       AMAZON  \n",
       "2021-01-13  3165.889893       AMAZON  \n",
       "2021-01-14  3127.469971       AMAZON  \n",
       "2021-01-15  3104.250000       AMAZON  \n",
       "2021-01-19  3120.760010       AMAZON  \n",
       "2021-01-20  3263.379883       AMAZON  \n",
       "2021-01-21  3306.989990       AMAZON  \n",
       "2021-01-22  3292.229980       AMAZON  "
      ]
     },
     "execution_count": 97,
     "metadata": {},
     "output_type": "execute_result"
    }
   ],
   "source": [
    "# The tech stocks used for this analysis\n",
    "tech_list = ['AAPL', 'GOOG', 'MSFT', 'AMZN']\n",
    "# dictionary to seed stock handles with company names\n",
    "company_dict = {'AAPL':\"APPLE\", 'GOOG':\"GOOGLE\", 'MSFT':\"MICROSOFT\", 'AMZN':\"AMAZON\"}\n",
    "\n",
    "# Set up End and Start times for data grab\n",
    "end = datetime.now()\n",
    "start = datetime(end.year - 1, end.month, end.day)\n",
    "\n",
    "stock_dict = {}\n",
    "#For loop for grabing yahoo finance data and setting as a dataframe\n",
    "# TODO correct use of globals() here\n",
    "seeded = False\n",
    "for stock in tech_list:   \n",
    "    # Set DataFrame as the Stock Ticker\n",
    "    stock_dict[stock] = DataReader(stock, 'yahoo', start, end)\n",
    "    # add column for company name\n",
    "    stock_dict[stock]['company_name'] = company_dict[stock]\n",
    "    # build up overall dataframe containing stock info for all companies\n",
    "    if seeded:\n",
    "        df = pd.concat([df,stock_dict[stock]],axis=0)\n",
    "    else:\n",
    "        seeded = True\n",
    "        df = stock_dict[stock]\n",
    "df.tail(10)"
   ]
  },
  {
   "cell_type": "markdown",
   "metadata": {},
   "source": [
    "Let's go ahead and play aorund with the AAPL DataFrame to get a feel for the data"
   ]
  },
  {
   "cell_type": "markdown",
   "metadata": {},
   "source": [
    "# Create dataframe"
   ]
  },
  {
   "cell_type": "code",
   "execution_count": 98,
   "metadata": {},
   "outputs": [
    {
     "data": {
      "text/html": [
       "<div>\n",
       "<style scoped>\n",
       "    .dataframe tbody tr th:only-of-type {\n",
       "        vertical-align: middle;\n",
       "    }\n",
       "\n",
       "    .dataframe tbody tr th {\n",
       "        vertical-align: top;\n",
       "    }\n",
       "\n",
       "    .dataframe thead th {\n",
       "        text-align: right;\n",
       "    }\n",
       "</style>\n",
       "<table border=\"1\" class=\"dataframe\">\n",
       "  <thead>\n",
       "    <tr style=\"text-align: right;\">\n",
       "      <th></th>\n",
       "      <th>High</th>\n",
       "      <th>Low</th>\n",
       "      <th>Open</th>\n",
       "      <th>Close</th>\n",
       "      <th>Volume</th>\n",
       "      <th>Adj Close</th>\n",
       "    </tr>\n",
       "  </thead>\n",
       "  <tbody>\n",
       "    <tr>\n",
       "      <td>count</td>\n",
       "      <td>252.000000</td>\n",
       "      <td>252.000000</td>\n",
       "      <td>252.000000</td>\n",
       "      <td>252.000000</td>\n",
       "      <td>2.520000e+02</td>\n",
       "      <td>252.000000</td>\n",
       "    </tr>\n",
       "    <tr>\n",
       "      <td>mean</td>\n",
       "      <td>99.766488</td>\n",
       "      <td>96.875774</td>\n",
       "      <td>98.292659</td>\n",
       "      <td>98.378680</td>\n",
       "      <td>1.566257e+08</td>\n",
       "      <td>98.113678</td>\n",
       "    </tr>\n",
       "    <tr>\n",
       "      <td>std</td>\n",
       "      <td>23.044460</td>\n",
       "      <td>22.562308</td>\n",
       "      <td>22.931885</td>\n",
       "      <td>22.793580</td>\n",
       "      <td>7.051495e+07</td>\n",
       "      <td>22.936554</td>\n",
       "    </tr>\n",
       "    <tr>\n",
       "      <td>min</td>\n",
       "      <td>57.125000</td>\n",
       "      <td>53.152500</td>\n",
       "      <td>57.020000</td>\n",
       "      <td>56.092499</td>\n",
       "      <td>4.669130e+07</td>\n",
       "      <td>55.744217</td>\n",
       "    </tr>\n",
       "    <tr>\n",
       "      <td>25%</td>\n",
       "      <td>79.665623</td>\n",
       "      <td>77.701876</td>\n",
       "      <td>78.704374</td>\n",
       "      <td>78.626249</td>\n",
       "      <td>1.072792e+08</td>\n",
       "      <td>78.349566</td>\n",
       "    </tr>\n",
       "    <tr>\n",
       "      <td>50%</td>\n",
       "      <td>97.689999</td>\n",
       "      <td>95.872498</td>\n",
       "      <td>96.840000</td>\n",
       "      <td>96.761250</td>\n",
       "      <td>1.375974e+08</td>\n",
       "      <td>96.420753</td>\n",
       "    </tr>\n",
       "    <tr>\n",
       "      <td>75%</td>\n",
       "      <td>119.304998</td>\n",
       "      <td>116.152498</td>\n",
       "      <td>118.042498</td>\n",
       "      <td>117.640001</td>\n",
       "      <td>1.875871e+08</td>\n",
       "      <td>117.512497</td>\n",
       "    </tr>\n",
       "    <tr>\n",
       "      <td>max</td>\n",
       "      <td>139.850006</td>\n",
       "      <td>135.020004</td>\n",
       "      <td>138.050003</td>\n",
       "      <td>139.070007</td>\n",
       "      <td>4.268848e+08</td>\n",
       "      <td>139.070007</td>\n",
       "    </tr>\n",
       "  </tbody>\n",
       "</table>\n",
       "</div>"
      ],
      "text/plain": [
       "             High         Low        Open       Close        Volume  \\\n",
       "count  252.000000  252.000000  252.000000  252.000000  2.520000e+02   \n",
       "mean    99.766488   96.875774   98.292659   98.378680  1.566257e+08   \n",
       "std     23.044460   22.562308   22.931885   22.793580  7.051495e+07   \n",
       "min     57.125000   53.152500   57.020000   56.092499  4.669130e+07   \n",
       "25%     79.665623   77.701876   78.704374   78.626249  1.072792e+08   \n",
       "50%     97.689999   95.872498   96.840000   96.761250  1.375974e+08   \n",
       "75%    119.304998  116.152498  118.042498  117.640001  1.875871e+08   \n",
       "max    139.850006  135.020004  138.050003  139.070007  4.268848e+08   \n",
       "\n",
       "        Adj Close  \n",
       "count  252.000000  \n",
       "mean    98.113678  \n",
       "std     22.936554  \n",
       "min     55.744217  \n",
       "25%     78.349566  \n",
       "50%     96.420753  \n",
       "75%    117.512497  \n",
       "max    139.070007  "
      ]
     },
     "execution_count": 98,
     "metadata": {},
     "output_type": "execute_result"
    }
   ],
   "source": [
    "# Summary Stats\n",
    "stock_dict['AAPL'].describe()"
   ]
  },
  {
   "cell_type": "code",
   "execution_count": 99,
   "metadata": {},
   "outputs": [
    {
     "name": "stdout",
     "output_type": "stream",
     "text": [
      "<class 'pandas.core.frame.DataFrame'>\n",
      "DatetimeIndex: 252 entries, 2020-01-24 to 2021-01-22\n",
      "Data columns (total 7 columns):\n",
      "High            252 non-null float64\n",
      "Low             252 non-null float64\n",
      "Open            252 non-null float64\n",
      "Close           252 non-null float64\n",
      "Volume          252 non-null float64\n",
      "Adj Close       252 non-null float64\n",
      "company_name    252 non-null object\n",
      "dtypes: float64(6), object(1)\n",
      "memory usage: 15.8+ KB\n"
     ]
    }
   ],
   "source": [
    "# General info\n",
    "stock_dict['AAPL'].info()"
   ]
  },
  {
   "cell_type": "code",
   "execution_count": 100,
   "metadata": {},
   "outputs": [],
   "source": [
    "# Let's see a historical view of the closing price\n",
    "\n",
    "if plot_all:\n",
    "    plt.figure(figsize=(12, 8))\n",
    "    plt.subplots_adjust(top=1.25, bottom=1.2)\n",
    "\n",
    "    for i, company in enumerate(tech_list, 1):\n",
    "        plt.subplot(2, 2, i)\n",
    "        stock_dict[company]['Adj Close'].plot()\n",
    "        plt.ylabel('Adj Close')\n",
    "        plt.xlabel(None)\n",
    "        plt.title(f\"{tech_list[i - 1]}\")"
   ]
  },
  {
   "cell_type": "code",
   "execution_count": 101,
   "metadata": {},
   "outputs": [],
   "source": [
    "# Now let's plot the total volume of stock being traded each day\n",
    "if plot_all:\n",
    "    plt.figure(figsize=(12, 8))\n",
    "    plt.subplots_adjust(top=1.25, bottom=1.2)\n",
    "\n",
    "    for i, company in enumerate(tech_list, 1):\n",
    "        plt.subplot(2, 2, i)\n",
    "        stock_dict[company]['Volume'].plot()\n",
    "        plt.ylabel('Volume')\n",
    "        plt.xlabel(None)\n",
    "        plt.title(f\"{tech_list[i - 1]}\")"
   ]
  },
  {
   "cell_type": "markdown",
   "metadata": {},
   "source": [
    "Now that we've seen the visualizations for the closing price and the volume traded each day, let's go ahead and caculate the moving average for the stock."
   ]
  },
  {
   "cell_type": "markdown",
   "metadata": {},
   "source": [
    "# 2. What was the moving average of the various stocks?"
   ]
  },
  {
   "cell_type": "code",
   "execution_count": 102,
   "metadata": {},
   "outputs": [],
   "source": [
    "ma_day = [10, 20, 50]\n",
    "\n",
    "for ma in ma_day:\n",
    "    for company in tech_list:\n",
    "        column_name = f\"MA for {ma} days\"\n",
    "        stock_dict[company][column_name] = stock_dict[company]['Adj Close'].rolling(ma).mean()"
   ]
  },
  {
   "cell_type": "code",
   "execution_count": 103,
   "metadata": {},
   "outputs": [
    {
     "name": "stdout",
     "output_type": "stream",
     "text": [
      "Index(['High', 'Low', 'Open', 'Close', 'Volume', 'Adj Close', 'company_name',\n",
      "       'MA for 10 days', 'MA for 20 days', 'MA for 50 days'],\n",
      "      dtype='object')\n"
     ]
    }
   ],
   "source": [
    "print(stock_dict['GOOG'].columns)"
   ]
  },
  {
   "cell_type": "markdown",
   "metadata": {},
   "source": [
    "Now let's go ahead and plot all the additional Moving Averages"
   ]
  },
  {
   "cell_type": "code",
   "execution_count": 104,
   "metadata": {},
   "outputs": [],
   "source": [
    "if plot_all:\n",
    "    df.groupby(\"company_name\").hist(figsize=(12, 12));"
   ]
  },
  {
   "cell_type": "code",
   "execution_count": 105,
   "metadata": {},
   "outputs": [],
   "source": [
    "if plot_all:\n",
    "    fig, axes = plt.subplots(nrows=2, ncols=2)\n",
    "    fig.set_figheight(8)\n",
    "    fig.set_figwidth(15)\n",
    "\n",
    "    AAPL[['Adj Close', 'MA for 10 days', 'MA for 20 days', 'MA for 50 days']].plot(ax=axes[0,0])\n",
    "    axes[0,0].set_title('APPLE')\n",
    "\n",
    "    GOOG[['Adj Close', 'MA for 10 days', 'MA for 20 days', 'MA for 50 days']].plot(ax=axes[0,1])\n",
    "    axes[0,1].set_title('GOOGLE')\n",
    "\n",
    "    MSFT[['Adj Close', 'MA for 10 days', 'MA for 20 days', 'MA for 50 days']].plot(ax=axes[1,0])\n",
    "    axes[1,0].set_title('MICROSOFT')\n",
    "\n",
    "    AMZN[['Adj Close', 'MA for 10 days', 'MA for 20 days', 'MA for 50 days']].plot(ax=axes[1,1])\n",
    "    axes[1,1].set_title('AMAZON')\n",
    "\n",
    "    fig.tight_layout()"
   ]
  },
  {
   "cell_type": "markdown",
   "metadata": {},
   "source": [
    "# 3. What was the daily return of the stock on average?"
   ]
  },
  {
   "cell_type": "markdown",
   "metadata": {},
   "source": [
    "Now that we've done some baseline analysis, let's go ahead and dive a little deeper. We're now going to analyze the risk of the stock. In order to do so we'll need to take a closer look at the daily changes of the stock, and not just its absolute value. Let's go ahead and use pandas to retrieve teh daily returns for the Apple stock."
   ]
  },
  {
   "cell_type": "code",
   "execution_count": 106,
   "metadata": {},
   "outputs": [],
   "source": [
    "if plot_all:\n",
    "    # We'll use pct_change to find the percent change for each day\n",
    "    for company in tech_list:\n",
    "        stock_dict[company]['Daily Return'] = stock_dict[company]['Adj Close'].pct_change()\n",
    "\n",
    "    # Then we'll plot the daily return percentage\n",
    "    fig, axes = plt.subplots(nrows=2, ncols=2)\n",
    "    fig.set_figheight(8)\n",
    "    fig.set_figwidth(15)\n",
    "\n",
    "    stock_dict['AAPL']['Daily Return'].plot(ax=axes[0,0], legend=True, linestyle='--', marker='o')\n",
    "    axes[0,0].set_title('APPLE')\n",
    "\n",
    "    stock_dict['GOOG']['Daily Return'].plot(ax=axes[0,1], legend=True, linestyle='--', marker='o')\n",
    "    axes[0,1].set_title('GOOGLE')\n",
    "\n",
    "    stock_dict['MSFT']['Daily Return'].plot(ax=axes[1,0], legend=True, linestyle='--', marker='o')\n",
    "    axes[1,0].set_title('MICROSOFT')\n",
    "\n",
    "    stock_dict['AMZN']['Daily Return'].plot(ax=axes[1,1], legend=True, linestyle='--', marker='o')\n",
    "    axes[1,1].set_title('AMAZON')\n",
    "\n",
    "    fig.tight_layout()"
   ]
  },
  {
   "cell_type": "markdown",
   "metadata": {},
   "source": [
    "Great, now let's get an overall look at the average daily return using a histogram. We'll use seaborn to create both a histogram and kde plot on the same figure."
   ]
  },
  {
   "cell_type": "code",
   "execution_count": 107,
   "metadata": {},
   "outputs": [],
   "source": [
    "# Note the use of dropna() here, otherwise the NaN values can't be read by seaborn\n",
    "if plot_all:\n",
    "    plt.figure(figsize=(12, 12))\n",
    "\n",
    "    for i, company in enumerate(tech_list, 1):\n",
    "        plt.subplot(2, 2, i)\n",
    "        sns.distplot(stock_dict[company]['Daily Return'].dropna(), bins=100, color='purple')\n",
    "        plt.ylabel('Daily Return')\n",
    "        plt.title(company_dict[company])\n",
    "    # Could have also done:\n",
    "    #AAPL['Daily Return'].hist()"
   ]
  },
  {
   "cell_type": "markdown",
   "metadata": {},
   "source": [
    "# 4. What was the correlation between different stocks closing prices?"
   ]
  },
  {
   "cell_type": "markdown",
   "metadata": {},
   "source": [
    "Now what if we wanted to analyze the returns of all the stocks in our list? Let's go ahead and build a DataFrame with all the ['Close'] columns for each of the stocks dataframes."
   ]
  },
  {
   "cell_type": "code",
   "execution_count": 108,
   "metadata": {},
   "outputs": [
    {
     "data": {
      "text/html": [
       "<div>\n",
       "<style scoped>\n",
       "    .dataframe tbody tr th:only-of-type {\n",
       "        vertical-align: middle;\n",
       "    }\n",
       "\n",
       "    .dataframe tbody tr th {\n",
       "        vertical-align: top;\n",
       "    }\n",
       "\n",
       "    .dataframe thead th {\n",
       "        text-align: right;\n",
       "    }\n",
       "</style>\n",
       "<table border=\"1\" class=\"dataframe\">\n",
       "  <thead>\n",
       "    <tr style=\"text-align: right;\">\n",
       "      <th>Symbols</th>\n",
       "      <th>AAPL</th>\n",
       "      <th>GOOG</th>\n",
       "      <th>MSFT</th>\n",
       "      <th>AMZN</th>\n",
       "    </tr>\n",
       "    <tr>\n",
       "      <th>Date</th>\n",
       "      <th></th>\n",
       "      <th></th>\n",
       "      <th></th>\n",
       "      <th></th>\n",
       "    </tr>\n",
       "  </thead>\n",
       "  <tbody>\n",
       "    <tr>\n",
       "      <td>2020-01-24</td>\n",
       "      <td>78.896149</td>\n",
       "      <td>1466.709961</td>\n",
       "      <td>163.309952</td>\n",
       "      <td>1861.640015</td>\n",
       "    </tr>\n",
       "    <tr>\n",
       "      <td>2020-01-27</td>\n",
       "      <td>76.576187</td>\n",
       "      <td>1433.900024</td>\n",
       "      <td>160.578888</td>\n",
       "      <td>1828.339966</td>\n",
       "    </tr>\n",
       "    <tr>\n",
       "      <td>2020-01-28</td>\n",
       "      <td>78.742477</td>\n",
       "      <td>1452.560059</td>\n",
       "      <td>163.725555</td>\n",
       "      <td>1853.250000</td>\n",
       "    </tr>\n",
       "    <tr>\n",
       "      <td>2020-01-29</td>\n",
       "      <td>80.390747</td>\n",
       "      <td>1458.630005</td>\n",
       "      <td>166.278503</td>\n",
       "      <td>1858.000000</td>\n",
       "    </tr>\n",
       "    <tr>\n",
       "      <td>2020-01-30</td>\n",
       "      <td>80.274246</td>\n",
       "      <td>1455.839966</td>\n",
       "      <td>170.968826</td>\n",
       "      <td>1870.680054</td>\n",
       "    </tr>\n",
       "  </tbody>\n",
       "</table>\n",
       "</div>"
      ],
      "text/plain": [
       "Symbols          AAPL         GOOG        MSFT         AMZN\n",
       "Date                                                       \n",
       "2020-01-24  78.896149  1466.709961  163.309952  1861.640015\n",
       "2020-01-27  76.576187  1433.900024  160.578888  1828.339966\n",
       "2020-01-28  78.742477  1452.560059  163.725555  1853.250000\n",
       "2020-01-29  80.390747  1458.630005  166.278503  1858.000000\n",
       "2020-01-30  80.274246  1455.839966  170.968826  1870.680054"
      ]
     },
     "execution_count": 108,
     "metadata": {},
     "output_type": "execute_result"
    }
   ],
   "source": [
    "# Grab all the closing prices for the tech stock list into one DataFrame\n",
    "closing_df = DataReader(tech_list, 'yahoo', start, end)['Adj Close']\n",
    "\n",
    "# Let's take a quick look\n",
    "closing_df.head() "
   ]
  },
  {
   "cell_type": "markdown",
   "metadata": {},
   "source": [
    "Now that we have all the closing prices, let's go ahead and get the daily return for all the stocks, like we did for the Apple stock."
   ]
  },
  {
   "cell_type": "code",
   "execution_count": 109,
   "metadata": {},
   "outputs": [
    {
     "data": {
      "text/html": [
       "<div>\n",
       "<style scoped>\n",
       "    .dataframe tbody tr th:only-of-type {\n",
       "        vertical-align: middle;\n",
       "    }\n",
       "\n",
       "    .dataframe tbody tr th {\n",
       "        vertical-align: top;\n",
       "    }\n",
       "\n",
       "    .dataframe thead th {\n",
       "        text-align: right;\n",
       "    }\n",
       "</style>\n",
       "<table border=\"1\" class=\"dataframe\">\n",
       "  <thead>\n",
       "    <tr style=\"text-align: right;\">\n",
       "      <th>Symbols</th>\n",
       "      <th>AAPL</th>\n",
       "      <th>GOOG</th>\n",
       "      <th>MSFT</th>\n",
       "      <th>AMZN</th>\n",
       "    </tr>\n",
       "    <tr>\n",
       "      <th>Date</th>\n",
       "      <th></th>\n",
       "      <th></th>\n",
       "      <th></th>\n",
       "      <th></th>\n",
       "    </tr>\n",
       "  </thead>\n",
       "  <tbody>\n",
       "    <tr>\n",
       "      <td>2020-01-24</td>\n",
       "      <td>NaN</td>\n",
       "      <td>NaN</td>\n",
       "      <td>NaN</td>\n",
       "      <td>NaN</td>\n",
       "    </tr>\n",
       "    <tr>\n",
       "      <td>2020-01-27</td>\n",
       "      <td>-0.029405</td>\n",
       "      <td>-0.022370</td>\n",
       "      <td>-0.016723</td>\n",
       "      <td>-0.017887</td>\n",
       "    </tr>\n",
       "    <tr>\n",
       "      <td>2020-01-28</td>\n",
       "      <td>0.028289</td>\n",
       "      <td>0.013013</td>\n",
       "      <td>0.019596</td>\n",
       "      <td>0.013624</td>\n",
       "    </tr>\n",
       "    <tr>\n",
       "      <td>2020-01-29</td>\n",
       "      <td>0.020932</td>\n",
       "      <td>0.004179</td>\n",
       "      <td>0.015593</td>\n",
       "      <td>0.002563</td>\n",
       "    </tr>\n",
       "    <tr>\n",
       "      <td>2020-01-30</td>\n",
       "      <td>-0.001449</td>\n",
       "      <td>-0.001913</td>\n",
       "      <td>0.028208</td>\n",
       "      <td>0.006825</td>\n",
       "    </tr>\n",
       "  </tbody>\n",
       "</table>\n",
       "</div>"
      ],
      "text/plain": [
       "Symbols         AAPL      GOOG      MSFT      AMZN\n",
       "Date                                              \n",
       "2020-01-24       NaN       NaN       NaN       NaN\n",
       "2020-01-27 -0.029405 -0.022370 -0.016723 -0.017887\n",
       "2020-01-28  0.028289  0.013013  0.019596  0.013624\n",
       "2020-01-29  0.020932  0.004179  0.015593  0.002563\n",
       "2020-01-30 -0.001449 -0.001913  0.028208  0.006825"
      ]
     },
     "execution_count": 109,
     "metadata": {},
     "output_type": "execute_result"
    }
   ],
   "source": [
    "# Make a new tech returns DataFrame\n",
    "# pct_change() https://pandas.pydata.org/pandas-docs/stable/reference/api/pandas.DataFrame.pct_change.html\n",
    "# Percentage change between the current and a prior element.\n",
    "# Computes the percentage change from the immediately previous row by default. This is useful in comparing the percentage of change in a time series of elements.\n",
    "tech_rets = closing_df.pct_change()\n",
    "# note that first row is NaN because there is no predecessor for the first row\n",
    "tech_rets.head()"
   ]
  },
  {
   "cell_type": "markdown",
   "metadata": {},
   "source": [
    "Now we can compare the daily percentage return of two stocks to check how correlated. First let's see a sotck compared to itself."
   ]
  },
  {
   "cell_type": "code",
   "execution_count": 110,
   "metadata": {},
   "outputs": [],
   "source": [
    "# Comparing Google to itself should show a perfectly linear relationship\n",
    "if plot_all:\n",
    "    sns.jointplot('GOOG', 'GOOG', tech_rets, kind='scatter', color='seagreen')"
   ]
  },
  {
   "cell_type": "code",
   "execution_count": 111,
   "metadata": {},
   "outputs": [],
   "source": [
    "# We'll use joinplot to compare the daily returns of Google and Microsoft\n",
    "if plot_all:\n",
    "    sns.jointplot('GOOG', 'MSFT', tech_rets, kind='scatter')"
   ]
  },
  {
   "cell_type": "markdown",
   "metadata": {},
   "source": [
    "So now we can see that if two stocks are perfectly (and positivley) correlated with each other a linear relationship bewteen its daily return values should occur. \n",
    "\n",
    "Seaborn and pandas make it very easy to repeat this comparison analysis for every possible combination of stocks in our technology stock ticker list. We can use sns.pairplot() to automatically create this plot"
   ]
  },
  {
   "cell_type": "code",
   "execution_count": 112,
   "metadata": {},
   "outputs": [],
   "source": [
    "# We can simply call pairplot on our DataFrame for an automatic visual analysis \n",
    "# of all the comparisons\n",
    "if plot_all:\n",
    "    sns.pairplot(tech_rets, kind='reg')"
   ]
  },
  {
   "cell_type": "markdown",
   "metadata": {},
   "source": [
    "Above we can see all the relationships on daily returns between all the stocks. A quick glance shows an interesting correlation between Google and Amazon daily returns. It might be interesting to investigate that individual comaprison. While the simplicity of just calling sns.pairplot() is fantastic we can also use sns.PairGrid() for full control of the figure, including what kind of plots go in the diagonal, the upper triangle, and the lower triangle. Below is an example of utilizing the full power of seaborn to achieve this result."
   ]
  },
  {
   "cell_type": "code",
   "execution_count": 113,
   "metadata": {},
   "outputs": [],
   "source": [
    "# Set up our figure by naming it returns_fig, call PairPLot on the DataFrame\n",
    "if plot_all:\n",
    "    return_fig = sns.PairGrid(tech_rets.dropna())\n",
    "\n",
    "    # Using map_upper we can specify what the upper triangle will look like.\n",
    "    return_fig.map_upper(plt.scatter, color='purple')\n",
    "\n",
    "    # We can also define the lower triangle in the figure, inclufing the plot type (kde) \n",
    "    # or the color map (BluePurple)\n",
    "    return_fig.map_lower(sns.kdeplot, cmap='cool_d')\n",
    "\n",
    "    # Finally we'll define the diagonal as a series of histogram plots of the daily return\n",
    "    return_fig.map_diag(plt.hist, bins=30)"
   ]
  },
  {
   "cell_type": "code",
   "execution_count": 114,
   "metadata": {},
   "outputs": [],
   "source": [
    "# Set up our figure by naming it returns_fig, call PairPLot on the DataFrame\n",
    "if plot_all:\n",
    "    returns_fig = sns.PairGrid(closing_df)\n",
    "\n",
    "    # Using map_upper we can specify what the upper triangle will look like.\n",
    "    returns_fig.map_upper(plt.scatter,color='purple')\n",
    "\n",
    "    # We can also define the lower triangle in the figure, inclufing the plot type (kde) or the color map (BluePurple)\n",
    "    returns_fig.map_lower(sns.kdeplot,cmap='cool_d')\n",
    "\n",
    "    # Finally we'll define the diagonal as a series of histogram plots of the daily return\n",
    "    returns_fig.map_diag(plt.hist,bins=30)"
   ]
  },
  {
   "cell_type": "markdown",
   "metadata": {},
   "source": [
    "Finally, we could also do a correlation plot, to get actual numerical values for the correlation between the stocks' daily return values. By comparing the closing prices, we see an interesting relationship between Microsoft and Apple."
   ]
  },
  {
   "cell_type": "code",
   "execution_count": 115,
   "metadata": {},
   "outputs": [],
   "source": [
    "# Let's go ahead and use sebron for a quick correlation plot for the daily returns\n",
    "if plot_all:\n",
    "    sns.heatmap(tech_rets.corr(), annot=True, cmap='summer')"
   ]
  },
  {
   "cell_type": "code",
   "execution_count": 116,
   "metadata": {},
   "outputs": [],
   "source": [
    "if plot_all:\n",
    "    sns.heatmap(closing_df.corr(), annot=True, cmap='summer')"
   ]
  },
  {
   "cell_type": "markdown",
   "metadata": {},
   "source": [
    "Fantastic! Just like we suspected in our PairPlot we see here numerically and visually that Microsoft and Amazon had the strongest correlation of daily stock return. It's also interesting to see that all the technology comapnies are positively correlated."
   ]
  },
  {
   "cell_type": "markdown",
   "metadata": {},
   "source": [
    "# 5. How much value do we put at risk by investing in a particular stock?"
   ]
  },
  {
   "cell_type": "markdown",
   "metadata": {},
   "source": [
    "There are many ways we can quantify risk, one of the most basic ways using the information we've gathered on daily percentage returns is by comparing the expected return with the standard deviation of the daily returns."
   ]
  },
  {
   "cell_type": "code",
   "execution_count": 117,
   "metadata": {},
   "outputs": [],
   "source": [
    "# Let's start by defining a new DataFrame as a cleaned version of the orignal tech_rets DataFrame\n",
    "rets = tech_rets.dropna()\n",
    "if plot_all:\n",
    "    area = np.pi*20\n",
    "\n",
    "    plt.figure(figsize=(12, 10))\n",
    "    plt.scatter(rets.mean(), rets.std(), s=area)\n",
    "    plt.xlabel('Expected return')\n",
    "    plt.ylabel('Risk')\n",
    "\n",
    "    for label, x, y in zip(rets.columns, rets.mean(), rets.std()):\n",
    "        plt.annotate(label, xy=(x, y), xytext=(50, 50), textcoords='offset points', ha='right', va='bottom', \n",
    "                     arrowprops=dict(arrowstyle='-', color='blue', connectionstyle='arc3,rad=-0.3'))"
   ]
  },
  {
   "cell_type": "markdown",
   "metadata": {},
   "source": [
    "# 6. Predicting the closing price stock price of APPLE inc:"
   ]
  },
  {
   "cell_type": "code",
   "execution_count": 118,
   "metadata": {},
   "outputs": [
    {
     "data": {
      "text/html": [
       "<div>\n",
       "<style scoped>\n",
       "    .dataframe tbody tr th:only-of-type {\n",
       "        vertical-align: middle;\n",
       "    }\n",
       "\n",
       "    .dataframe tbody tr th {\n",
       "        vertical-align: top;\n",
       "    }\n",
       "\n",
       "    .dataframe thead th {\n",
       "        text-align: right;\n",
       "    }\n",
       "</style>\n",
       "<table border=\"1\" class=\"dataframe\">\n",
       "  <thead>\n",
       "    <tr style=\"text-align: right;\">\n",
       "      <th></th>\n",
       "      <th>High</th>\n",
       "      <th>Low</th>\n",
       "      <th>Open</th>\n",
       "      <th>Close</th>\n",
       "      <th>Volume</th>\n",
       "      <th>Adj Close</th>\n",
       "    </tr>\n",
       "    <tr>\n",
       "      <th>Date</th>\n",
       "      <th></th>\n",
       "      <th></th>\n",
       "      <th></th>\n",
       "      <th></th>\n",
       "      <th></th>\n",
       "      <th></th>\n",
       "    </tr>\n",
       "  </thead>\n",
       "  <tbody>\n",
       "    <tr>\n",
       "      <td>2012-01-03</td>\n",
       "      <td>14.732143</td>\n",
       "      <td>14.607143</td>\n",
       "      <td>14.621429</td>\n",
       "      <td>14.686786</td>\n",
       "      <td>302220800.0</td>\n",
       "      <td>12.669562</td>\n",
       "    </tr>\n",
       "    <tr>\n",
       "      <td>2012-01-04</td>\n",
       "      <td>14.810000</td>\n",
       "      <td>14.617143</td>\n",
       "      <td>14.642857</td>\n",
       "      <td>14.765714</td>\n",
       "      <td>260022000.0</td>\n",
       "      <td>12.737653</td>\n",
       "    </tr>\n",
       "    <tr>\n",
       "      <td>2012-01-05</td>\n",
       "      <td>14.948214</td>\n",
       "      <td>14.738214</td>\n",
       "      <td>14.819643</td>\n",
       "      <td>14.929643</td>\n",
       "      <td>271269600.0</td>\n",
       "      <td>12.879066</td>\n",
       "    </tr>\n",
       "    <tr>\n",
       "      <td>2012-01-06</td>\n",
       "      <td>15.098214</td>\n",
       "      <td>14.972143</td>\n",
       "      <td>14.991786</td>\n",
       "      <td>15.085714</td>\n",
       "      <td>318292800.0</td>\n",
       "      <td>13.013701</td>\n",
       "    </tr>\n",
       "    <tr>\n",
       "      <td>2012-01-09</td>\n",
       "      <td>15.276786</td>\n",
       "      <td>15.048214</td>\n",
       "      <td>15.196429</td>\n",
       "      <td>15.061786</td>\n",
       "      <td>394024400.0</td>\n",
       "      <td>12.993060</td>\n",
       "    </tr>\n",
       "    <tr>\n",
       "      <td>...</td>\n",
       "      <td>...</td>\n",
       "      <td>...</td>\n",
       "      <td>...</td>\n",
       "      <td>...</td>\n",
       "      <td>...</td>\n",
       "      <td>...</td>\n",
       "    </tr>\n",
       "    <tr>\n",
       "      <td>2021-01-15</td>\n",
       "      <td>130.220001</td>\n",
       "      <td>127.000000</td>\n",
       "      <td>128.779999</td>\n",
       "      <td>127.139999</td>\n",
       "      <td>111235300.0</td>\n",
       "      <td>127.139999</td>\n",
       "    </tr>\n",
       "    <tr>\n",
       "      <td>2021-01-19</td>\n",
       "      <td>128.710007</td>\n",
       "      <td>126.940002</td>\n",
       "      <td>127.779999</td>\n",
       "      <td>127.830002</td>\n",
       "      <td>90757300.0</td>\n",
       "      <td>127.830002</td>\n",
       "    </tr>\n",
       "    <tr>\n",
       "      <td>2021-01-20</td>\n",
       "      <td>132.490005</td>\n",
       "      <td>128.550003</td>\n",
       "      <td>128.660004</td>\n",
       "      <td>132.029999</td>\n",
       "      <td>104319500.0</td>\n",
       "      <td>132.029999</td>\n",
       "    </tr>\n",
       "    <tr>\n",
       "      <td>2021-01-21</td>\n",
       "      <td>139.669998</td>\n",
       "      <td>133.589996</td>\n",
       "      <td>133.800003</td>\n",
       "      <td>136.869995</td>\n",
       "      <td>120529500.0</td>\n",
       "      <td>136.869995</td>\n",
       "    </tr>\n",
       "    <tr>\n",
       "      <td>2021-01-22</td>\n",
       "      <td>139.850006</td>\n",
       "      <td>135.020004</td>\n",
       "      <td>136.279999</td>\n",
       "      <td>139.070007</td>\n",
       "      <td>113907200.0</td>\n",
       "      <td>139.070007</td>\n",
       "    </tr>\n",
       "  </tbody>\n",
       "</table>\n",
       "<p>2279 rows × 6 columns</p>\n",
       "</div>"
      ],
      "text/plain": [
       "                  High         Low        Open       Close       Volume  \\\n",
       "Date                                                                      \n",
       "2012-01-03   14.732143   14.607143   14.621429   14.686786  302220800.0   \n",
       "2012-01-04   14.810000   14.617143   14.642857   14.765714  260022000.0   \n",
       "2012-01-05   14.948214   14.738214   14.819643   14.929643  271269600.0   \n",
       "2012-01-06   15.098214   14.972143   14.991786   15.085714  318292800.0   \n",
       "2012-01-09   15.276786   15.048214   15.196429   15.061786  394024400.0   \n",
       "...                ...         ...         ...         ...          ...   \n",
       "2021-01-15  130.220001  127.000000  128.779999  127.139999  111235300.0   \n",
       "2021-01-19  128.710007  126.940002  127.779999  127.830002   90757300.0   \n",
       "2021-01-20  132.490005  128.550003  128.660004  132.029999  104319500.0   \n",
       "2021-01-21  139.669998  133.589996  133.800003  136.869995  120529500.0   \n",
       "2021-01-22  139.850006  135.020004  136.279999  139.070007  113907200.0   \n",
       "\n",
       "             Adj Close  \n",
       "Date                    \n",
       "2012-01-03   12.669562  \n",
       "2012-01-04   12.737653  \n",
       "2012-01-05   12.879066  \n",
       "2012-01-06   13.013701  \n",
       "2012-01-09   12.993060  \n",
       "...                ...  \n",
       "2021-01-15  127.139999  \n",
       "2021-01-19  127.830002  \n",
       "2021-01-20  132.029999  \n",
       "2021-01-21  136.869995  \n",
       "2021-01-22  139.070007  \n",
       "\n",
       "[2279 rows x 6 columns]"
      ]
     },
     "execution_count": 118,
     "metadata": {},
     "output_type": "execute_result"
    }
   ],
   "source": [
    "#Get the stock quote\n",
    "# tech_list = ['AAPL', 'GOOG', 'MSFT', 'AMZN']\n",
    "df_predict = {}\n",
    "for company in tech_list:\n",
    "    df_predict[company] = DataReader(company,data_source='yahoo', start='2012-01-01', end=datetime.now())\n",
    "#df = DataReader('AAPL', data_source='yahoo', start='2012-01-01', end=datetime.now())\n",
    "#Show teh data\n",
    "df_predict['AAPL']"
   ]
  },
  {
   "cell_type": "code",
   "execution_count": 119,
   "metadata": {},
   "outputs": [],
   "source": [
    "if plot_all:\n",
    "    plt.figure(figsize=(12, 12))\n",
    "    #plt.title('Close Price History')\n",
    "    for i, company in enumerate(tech_list,1):\n",
    "        plt.subplot(2,2,i)\n",
    "        plt.plot(df_predict[company]['Close'])\n",
    "        plt.xlabel('Date', fontsize=18)\n",
    "        plt.ylabel('Close Price USD ($)', fontsize=18)\n",
    "        plt.title(company_dict[company])\n",
    "        #plt.show()\n",
    "    \n"
   ]
  },
  {
   "cell_type": "code",
   "execution_count": 120,
   "metadata": {},
   "outputs": [],
   "source": [
    "def get_model_path():\n",
    "    '''get the path for data files'''\n",
    "    rawpath = os.getcwd()\n",
    "    # data is in a directory called \"data\" that is a sibling to the directory containing the notebook\n",
    "    path = os.path.abspath(os.path.join(rawpath, '..', 'models'))\n",
    "    return(path)"
   ]
  },
  {
   "cell_type": "code",
   "execution_count": 121,
   "metadata": {},
   "outputs": [],
   "source": [
    "def save_model(model,company):\n",
    "    '''save the model to a file in directory models that is a peer of the directory containing this notebook'''\n",
    "    model_path = get_model_path()\n",
    "    modifier = datetime.now().strftime(\"%B%d%Y\")\n",
    "    save_model_path = os.path.join(model_path,company+modifier+'.h5')\n",
    "    model.save(save_model_path)\n",
    "    # no early stop, so make current model saved_model\n",
    "    print(\"Saved model with name \",company+modifier+'.h5')\n",
    "    \n"
   ]
  },
  {
   "cell_type": "code",
   "execution_count": 122,
   "metadata": {},
   "outputs": [],
   "source": [
    "def get_save_model_path(company):\n",
    "    model_path = get_model_path()\n",
    "    modifier = datetime.now().strftime(\"%B%d%Y\")\n",
    "    save_model_path = os.path.join(model_path,company+modifier+'.h5')\n",
    "    return(save_model_path)"
   ]
  },
  {
   "cell_type": "code",
   "execution_count": 123,
   "metadata": {},
   "outputs": [],
   "source": [
    "def one_col_df(df,col):\n",
    "    data = df.filter([col])\n",
    "    dataset = data.values\n",
    "    training_data_len = int(np.ceil( len(dataset) * .8 ))\n",
    "    return(data,dataset,training_data_len)"
   ]
  },
  {
   "cell_type": "code",
   "execution_count": 124,
   "metadata": {},
   "outputs": [],
   "source": [
    "def scale_data(dataset):\n",
    "    scaler = MinMaxScaler(feature_range=(0,1))\n",
    "    scaled_data = scaler.fit_transform(dataset)\n",
    "    return(scaled_data,scaler)"
   ]
  },
  {
   "cell_type": "code",
   "execution_count": 125,
   "metadata": {},
   "outputs": [],
   "source": [
    "def create_x_y(scaled_data,training_data_len):\n",
    "    '''convert scaled dataset into numpy x and y arrays for training'''\n",
    "    #Create the training data set\n",
    "    #Create the scaled training data set\n",
    "    train_data = scaled_data[0:int(training_data_len), :]\n",
    "    #Split the data into x_train and y_train data sets\n",
    "    x_train = []\n",
    "    y_train = []\n",
    "\n",
    "    for i in range(60, len(train_data)):\n",
    "        x_train.append(train_data[i-60:i, 0])\n",
    "        y_train.append(train_data[i, 0])\n",
    "        if (i<= 61) and plot_all:\n",
    "            print(x_train)\n",
    "            print(y_train)\n",
    "            print()\n",
    "\n",
    "    # Convert the x_train and y_train to numpy arrays \n",
    "    x_train, y_train = np.array(x_train), np.array(y_train)\n",
    "\n",
    "    #Reshape the data\n",
    "    x_train = np.reshape(x_train, (x_train.shape[0], x_train.shape[1], 1))\n",
    "    # x_train.shape\n",
    "    return(x_train,y_train)"
   ]
  },
  {
   "cell_type": "code",
   "execution_count": 133,
   "metadata": {},
   "outputs": [
    {
     "name": "stdout",
     "output_type": "stream",
     "text": [
      "Wall time: 39.3 s\n"
     ]
    }
   ],
   "source": [
    "%%time\n",
    "# train models for each company in tech_list and save trained models\n",
    "predictions = {}\n",
    "data = {}\n",
    "for company in tech_list:\n",
    "    data[company],dataset,training_data_len = one_col_df(df_predict[company],'Close')\n",
    "    scaled_data, scaler = scale_data(dataset)\n",
    "    x_train, y_train = create_x_y(scaled_data,training_data_len)\n",
    "    print(\"TRAINING LOOP FOR: \",str(company))\n",
    "    if use_saved_model:\n",
    "        # put here\n",
    "        save_model_path = get_save_model_path(company)\n",
    "        model = load_model(save_model_path)\n",
    "    else:\n",
    "        # train model fresh\n",
    "        #Build the LSTM model\n",
    "        model = Sequential()\n",
    "        model.add(LSTM(128, return_sequences=True, input_shape= (x_train.shape[1], 1)))\n",
    "        model.add(LSTM(64, return_sequences=False))\n",
    "        model.add(Dense(25))\n",
    "        model.add(Dense(1))\n",
    "\n",
    "        # Compile the model\n",
    "        model.compile(optimizer='adam', loss='mean_squared_error')\n",
    "\n",
    "        #Train the model\n",
    "       \n",
    "        model.fit(x_train, y_train, batch_size=1, epochs=1)\n",
    "        # save the model\n",
    "        save_model(model,company)\n",
    "    #Create a new array containing scaled values from index 1543 to 2002 \n",
    "    test_data = scaled_data[training_data_len - 60: , :]\n",
    "    #Create the data sets x_test and y_test\n",
    "    x_test = []\n",
    "    y_test = dataset[training_data_len:, :]\n",
    "    for i in range(60, len(test_data)):\n",
    "        x_test.append(test_data[i-60:i, 0])\n",
    "\n",
    "    # Convert the data to a numpy array\n",
    "    x_test = np.array(x_test)\n",
    "\n",
    "    # Reshape the data\n",
    "    x_test = np.reshape(x_test, (x_test.shape[0], x_test.shape[1], 1 ))\n",
    "\n",
    "    # Get the models predicted price values \n",
    "    predictions_temp = model.predict(x_test)\n",
    "    predictions[company] = scaler.inverse_transform(predictions_temp)"
   ]
  },
  {
   "cell_type": "code",
   "execution_count": 134,
   "metadata": {},
   "outputs": [
    {
     "name": "stderr",
     "output_type": "stream",
     "text": [
      "c:\\users\\ryanm\\appdata\\local\\programs\\python\\python37\\lib\\site-packages\\ipykernel_launcher.py:5: SettingWithCopyWarning: \n",
      "A value is trying to be set on a copy of a slice from a DataFrame.\n",
      "Try using .loc[row_indexer,col_indexer] = value instead\n",
      "\n",
      "See the caveats in the documentation: http://pandas.pydata.org/pandas-docs/stable/user_guide/indexing.html#returning-a-view-versus-a-copy\n",
      "  \"\"\"\n"
     ]
    },
    {
     "data": {
      "image/png": "[encoded data removed]",
      "text/plain": [
       "<Figure size 1152x576 with 1 Axes>"
      ]
     },
     "metadata": {
      "needs_background": "light"
     },
     "output_type": "display_data"
    },
    {
     "data": {
      "image/png": "[encoded data removed]",
      "text/plain": [
       "<Figure size 1152x576 with 1 Axes>"
      ]
     },
     "metadata": {
      "needs_background": "light"
     },
     "output_type": "display_data"
    },
    {
     "data": {
      "image/png": "[encoded data removed]",
      "text/plain": [
       "<Figure size 1152x576 with 1 Axes>"
      ]
     },
     "metadata": {
      "needs_background": "light"
     },
     "output_type": "display_data"
    },
    {
     "data": {
      "image/png": "[encoded data removed]",
      "text/plain": [
       "<Figure size 1152x576 with 1 Axes>"
      ]
     },
     "metadata": {
      "needs_background": "light"
     },
     "output_type": "display_data"
    }
   ],
   "source": [
    "# Plot the data\n",
    "for company in tech_list:\n",
    "    train = data[company][:training_data_len]\n",
    "    valid = data[company][training_data_len:]\n",
    "    valid['Predictions'] = predictions[company]\n",
    "    # Visualize the data\n",
    "    plt.figure(figsize=(16,8))\n",
    "    plt.title('Model'+\" \"+company)\n",
    "    plt.xlabel('Date', fontsize=18)\n",
    "    plt.ylabel('Close Price USD ($)', fontsize=18)\n",
    "    plt.plot(train['Close'])\n",
    "    plt.plot(valid[['Close', 'Predictions']])\n",
    "    plt.legend(['Train', 'Val', 'Predictions'], loc='lower right')\n",
    "    plt.show()"
   ]
  },
  {
   "cell_type": "code",
   "execution_count": 135,
   "metadata": {},
   "outputs": [
    {
     "data": {
      "text/html": [
       "<div>\n",
       "<style scoped>\n",
       "    .dataframe tbody tr th:only-of-type {\n",
       "        vertical-align: middle;\n",
       "    }\n",
       "\n",
       "    .dataframe tbody tr th {\n",
       "        vertical-align: top;\n",
       "    }\n",
       "\n",
       "    .dataframe thead th {\n",
       "        text-align: right;\n",
       "    }\n",
       "</style>\n",
       "<table border=\"1\" class=\"dataframe\">\n",
       "  <thead>\n",
       "    <tr style=\"text-align: right;\">\n",
       "      <th></th>\n",
       "      <th>Close</th>\n",
       "      <th>Predictions</th>\n",
       "    </tr>\n",
       "    <tr>\n",
       "      <th>Date</th>\n",
       "      <th></th>\n",
       "      <th></th>\n",
       "    </tr>\n",
       "  </thead>\n",
       "  <tbody>\n",
       "    <tr>\n",
       "      <td>2019-04-04</td>\n",
       "      <td>1818.859985</td>\n",
       "      <td>1632.423462</td>\n",
       "    </tr>\n",
       "    <tr>\n",
       "      <td>2019-04-05</td>\n",
       "      <td>1837.280029</td>\n",
       "      <td>1637.696045</td>\n",
       "    </tr>\n",
       "    <tr>\n",
       "      <td>2019-04-08</td>\n",
       "      <td>1849.859985</td>\n",
       "      <td>1643.892212</td>\n",
       "    </tr>\n",
       "    <tr>\n",
       "      <td>2019-04-09</td>\n",
       "      <td>1835.839966</td>\n",
       "      <td>1651.007568</td>\n",
       "    </tr>\n",
       "    <tr>\n",
       "      <td>2019-04-10</td>\n",
       "      <td>1847.329956</td>\n",
       "      <td>1656.211426</td>\n",
       "    </tr>\n",
       "    <tr>\n",
       "      <td>...</td>\n",
       "      <td>...</td>\n",
       "      <td>...</td>\n",
       "    </tr>\n",
       "    <tr>\n",
       "      <td>2021-01-15</td>\n",
       "      <td>3104.250000</td>\n",
       "      <td>2635.414795</td>\n",
       "    </tr>\n",
       "    <tr>\n",
       "      <td>2021-01-19</td>\n",
       "      <td>3120.760010</td>\n",
       "      <td>2628.950684</td>\n",
       "    </tr>\n",
       "    <tr>\n",
       "      <td>2021-01-20</td>\n",
       "      <td>3263.379883</td>\n",
       "      <td>2624.427246</td>\n",
       "    </tr>\n",
       "    <tr>\n",
       "      <td>2021-01-21</td>\n",
       "      <td>3306.989990</td>\n",
       "      <td>2635.689209</td>\n",
       "    </tr>\n",
       "    <tr>\n",
       "      <td>2021-01-22</td>\n",
       "      <td>3292.229980</td>\n",
       "      <td>2656.601807</td>\n",
       "    </tr>\n",
       "  </tbody>\n",
       "</table>\n",
       "<p>455 rows × 2 columns</p>\n",
       "</div>"
      ],
      "text/plain": [
       "                  Close  Predictions\n",
       "Date                                \n",
       "2019-04-04  1818.859985  1632.423462\n",
       "2019-04-05  1837.280029  1637.696045\n",
       "2019-04-08  1849.859985  1643.892212\n",
       "2019-04-09  1835.839966  1651.007568\n",
       "2019-04-10  1847.329956  1656.211426\n",
       "...                 ...          ...\n",
       "2021-01-15  3104.250000  2635.414795\n",
       "2021-01-19  3120.760010  2628.950684\n",
       "2021-01-20  3263.379883  2624.427246\n",
       "2021-01-21  3306.989990  2635.689209\n",
       "2021-01-22  3292.229980  2656.601807\n",
       "\n",
       "[455 rows x 2 columns]"
      ]
     },
     "execution_count": 135,
     "metadata": {},
     "output_type": "execute_result"
    }
   ],
   "source": [
    "#Show the valid and predicted prices\n",
    "valid"
   ]
  },
  {
   "cell_type": "code",
   "execution_count": null,
   "metadata": {},
   "outputs": [],
   "source": []
  }
 ],
 "metadata": {
  "kernelspec": {
   "display_name": "Python 3",
   "language": "python",
   "name": "python3"
  },
  "language_info": {
   "codemirror_mode": {
    "name": "ipython",
    "version": 3
   },
   "file_extension": ".py",
   "mimetype": "text/x-python",
   "name": "python",
   "nbconvert_exporter": "python",
   "pygments_lexer": "ipython3",
   "version": "3.7.4"
  }
 },
 "nbformat": 4,
 "nbformat_minor": 4
}
