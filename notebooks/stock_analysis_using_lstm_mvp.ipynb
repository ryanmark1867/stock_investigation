{
 "cells": [
  {
   "cell_type": "markdown",
   "metadata": {
    "id": "InRCaIfsttEW"
   },
   "source": [
    "# Stock Analysis Using LSTM - MVP\n",
    "This notebook adapted from https://www.kaggle.com/faressayah/stock-market-analysis-prediction-using-lstm"
   ]
  },
  {
   "cell_type": "markdown",
   "metadata": {
    "id": "GA1ksHAIttEf"
   },
   "source": [
    "# Import required libraries and set up notebook\n"
   ]
  },
  {
   "cell_type": "code",
   "execution_count": 1,
   "metadata": {
    "executionInfo": {
     "elapsed": 1460,
     "status": "ok",
     "timestamp": 1611806431398,
     "user": {
      "displayName": "Mark Ryan",
      "photoUrl": "https://lh3.googleusercontent.com/a-/AOh14GiOaJEeoxteIdEhraqpv8y7ol-feJVt-BYY9ceTIQ=s64",
      "userId": "08045617267833954278"
     },
     "user_tz": 300
    },
    "id": "GdtAhwhattEh"
   },
   "outputs": [
    {
     "name": "stderr",
     "output_type": "stream",
     "text": [
      "Using TensorFlow backend.\n"
     ]
    }
   ],
   "source": [
    "import pandas as pd\n",
    "import numpy as np\n",
    "import os\n",
    "import yaml\n",
    "\n",
    "import matplotlib.pyplot as plt\n",
    "import seaborn as sns\n",
    "sns.set_style('whitegrid')\n",
    "plt.style.use(\"fivethirtyeight\")\n",
    "%matplotlib inline\n",
    "\n",
    "# For reading stock data from yahoo\n",
    "from pandas_datareader.data import DataReader\n",
    "\n",
    "# For time stamps\n",
    "from datetime import datetime\n",
    "\n",
    "# for LSTM\n",
    "from keras.models import Sequential\n",
    "from keras.layers import Dense, LSTM\n",
    "from sklearn.preprocessing import MinMaxScaler\n",
    "from tensorflow.keras.models import load_model"
   ]
  },
  {
   "cell_type": "code",
   "execution_count": 2,
   "metadata": {
    "colab": {
     "base_uri": "https://localhost:8080/"
    },
    "executionInfo": {
     "elapsed": 2330,
     "status": "ok",
     "timestamp": 1611806432280,
     "user": {
      "displayName": "Mark Ryan",
      "photoUrl": "https://lh3.googleusercontent.com/a-/AOh14GiOaJEeoxteIdEhraqpv8y7ol-feJVt-BYY9ceTIQ=s64",
      "userId": "08045617267833954278"
     },
     "user_tz": 300
    },
    "id": "uwJ6aCMDttEi",
    "outputId": "8105b877-ad16-4665-e584-59858f3f1108"
   },
   "outputs": [
    {
     "name": "stdout",
     "output_type": "stream",
     "text": [
      "current directory is: C:\\personal\\karma_stocks_2021\\stock_investigation\\notebooks\n",
      "path_to_yaml C:\\personal\\karma_stocks_2021\\stock_investigation\\notebooks\\model_training_config.yml\n"
     ]
    }
   ],
   "source": [
    "# load config file\n",
    "current_path = os.getcwd()\n",
    "print(\"current directory is: \"+current_path)\n",
    "\n",
    "path_to_yaml = os.path.join(current_path, 'model_training_config.yml')\n",
    "print(\"path_to_yaml \"+path_to_yaml)\n",
    "try:\n",
    "    with open (path_to_yaml, 'r') as c_file:\n",
    "        config = yaml.safe_load(c_file)\n",
    "except Exception as e:\n",
    "    print('Error reading the config file')"
   ]
  },
  {
   "cell_type": "code",
   "execution_count": 3,
   "metadata": {
    "executionInfo": {
     "elapsed": 2324,
     "status": "ok",
     "timestamp": 1611806432284,
     "user": {
      "displayName": "Mark Ryan",
      "photoUrl": "https://lh3.googleusercontent.com/a-/AOh14GiOaJEeoxteIdEhraqpv8y7ol-feJVt-BYY9ceTIQ=s64",
      "userId": "08045617267833954278"
     },
     "user_tz": 300
    },
    "id": "6Q2YaYEmttEj"
   },
   "outputs": [],
   "source": [
    "# switches\n",
    "plot_all = config['general']['verboseout']\n",
    "use_saved_model = config['general']['presaved']\n",
    "# switch to control whether Colab-specific items are run\n",
    "on_colab = config['general']['on_colab']\n",
    "# list of ticket symbols\n",
    "# e.g. tech_list = ['AAPL', 'GOOG', 'MSFT', 'AMZN']\n",
    "tech_list = config['tech_list']\n",
    "# dictionary to seed stock handles with company names\n",
    "# e.g. company_dict = {'AAPL':\"APPLE\", 'GOOG':\"GOOGLE\", 'MSFT':\"MICROSOFT\", 'AMZN':\"AMAZON\"}\n",
    "company_dict = config['company_dict']\n",
    "saved_model_modifier = config['files']['saved_model_modifier']"
   ]
  },
  {
   "cell_type": "code",
   "execution_count": 4,
   "metadata": {
    "colab": {
     "base_uri": "https://localhost:8080/"
    },
    "executionInfo": {
     "elapsed": 2318,
     "status": "ok",
     "timestamp": 1611806432286,
     "user": {
      "displayName": "Mark Ryan",
      "photoUrl": "https://lh3.googleusercontent.com/a-/AOh14GiOaJEeoxteIdEhraqpv8y7ol-feJVt-BYY9ceTIQ=s64",
      "userId": "08045617267833954278"
     },
     "user_tz": 300
    },
    "id": "hflTMh7UuGGS",
    "outputId": "af4dc909-81f3-450b-9d7e-47ad0f2d0ef8"
   },
   "outputs": [],
   "source": [
    "if on_colab:\n",
    "    from google.colab import drive\n",
    "    drive.mount('/content/drive')"
   ]
  },
  {
   "cell_type": "code",
   "execution_count": 5,
   "metadata": {
    "colab": {
     "base_uri": "https://localhost:8080/"
    },
    "executionInfo": {
     "elapsed": 2308,
     "status": "ok",
     "timestamp": 1611806432289,
     "user": {
      "displayName": "Mark Ryan",
      "photoUrl": "https://lh3.googleusercontent.com/a-/AOh14GiOaJEeoxteIdEhraqpv8y7ol-feJVt-BYY9ceTIQ=s64",
      "userId": "08045617267833954278"
     },
     "user_tz": 300
    },
    "id": "TcqH_x2TuP2M",
    "outputId": "a0bcbdd9-86e4-442e-e1ce-612784ce8edf"
   },
   "outputs": [],
   "source": [
    "if on_colab:\n",
    "    %cd /content/drive/MyDrive/karma_jan_2021/stock_investigation/notebooks"
   ]
  },
  {
   "cell_type": "code",
   "execution_count": 6,
   "metadata": {
    "executionInfo": {
     "elapsed": 2303,
     "status": "ok",
     "timestamp": 1611806432294,
     "user": {
      "displayName": "Mark Ryan",
      "photoUrl": "https://lh3.googleusercontent.com/a-/AOh14GiOaJEeoxteIdEhraqpv8y7ol-feJVt-BYY9ceTIQ=s64",
      "userId": "08045617267833954278"
     },
     "user_tz": 300
    },
    "id": "uq4T4eTTttEk"
   },
   "outputs": [],
   "source": [
    "# ingest config parameters"
   ]
  },
  {
   "cell_type": "code",
   "execution_count": 7,
   "metadata": {
    "colab": {
     "base_uri": "https://localhost:8080/"
    },
    "executionInfo": {
     "elapsed": 2297,
     "status": "ok",
     "timestamp": 1611806432297,
     "user": {
      "displayName": "Mark Ryan",
      "photoUrl": "https://lh3.googleusercontent.com/a-/AOh14GiOaJEeoxteIdEhraqpv8y7ol-feJVt-BYY9ceTIQ=s64",
      "userId": "08045617267833954278"
     },
     "user_tz": 300
    },
    "id": "XQjAr633CmYT",
    "outputId": "82a71416-6d92-4e33-d566-19dbc9298eed"
   },
   "outputs": [
    {
     "data": {
      "text/plain": [
       "{'general': {'verboseout': False,\n",
       "  'includetext': True,\n",
       "  'on_colab': False,\n",
       "  'presaved': False,\n",
       "  'savemodel': False,\n",
       "  'picklemodel': True,\n",
       "  'save_model_plot': False,\n",
       "  'tensorboard_callback': False,\n",
       "  'hctextmax': 7000,\n",
       "  'maxwords': 6000,\n",
       "  'textmax': 50,\n",
       "  'pickled_data_file': '20142018_0930.pkl',\n",
       "  'pickled_dataframe': 'AB_NYC_2019_output_aug19_2020.pkl',\n",
       "  'modifier': 'oct05_2020',\n",
       "  'targetthresh': 6.0,\n",
       "  'targetcontinuous': False,\n",
       "  'target_col': 'price',\n",
       "  'emptythresh': 6000,\n",
       "  'zero_weight': 1.0,\n",
       "  'one_weight': 45.878,\n",
       "  'one_weight_offset': 0,\n",
       "  'patience_threshold': 3,\n",
       "  'master_start': '2018-01-01'},\n",
       " 'files': {'saved_model_modifier': 'January272021'},\n",
       " 'tech_list': ['CROX', 'SHAK', 'KWR'],\n",
       " 'company_dict': {'CROX': 'Crocs',\n",
       "  'SHAK': 'Shake Shack',\n",
       "  'KWR': 'Quaker Chemical Corp.'},\n",
       " 'test_parms': {'testproportion': 0.2,\n",
       "  'trainproportion': 0.8,\n",
       "  'current_experiment': 5,\n",
       "  'repeatable_run': False,\n",
       "  'get_test_train_acc': True},\n",
       " 'categorical': ['neighbourhood_group', 'neighbourhood', 'room_type'],\n",
       " 'continuous': ['minimum_nights',\n",
       "  'number_of_reviews',\n",
       "  'reviews_per_month',\n",
       "  'calculated_host_listings_count'],\n",
       " 'text': [],\n",
       " 'excluded': ['price',\n",
       "  'id',\n",
       "  'latitude',\n",
       "  'longitude',\n",
       "  'host_name',\n",
       "  'last_review',\n",
       "  'name',\n",
       "  'host_name',\n",
       "  'availability_365'],\n",
       " 'hyperparameters': {'learning_rate': 0.001,\n",
       "  'dropout_rate': 0.0003,\n",
       "  'l2_lambda': 0.0003,\n",
       "  'loss_func': 'binary_crossentropy',\n",
       "  'output_activation': 'hard_sigmoid',\n",
       "  'batch_size': 1000,\n",
       "  'epochs': 50}}"
      ]
     },
     "execution_count": 7,
     "metadata": {},
     "output_type": "execute_result"
    }
   ],
   "source": [
    "config"
   ]
  },
  {
   "cell_type": "code",
   "execution_count": 8,
   "metadata": {
    "colab": {
     "base_uri": "https://localhost:8080/",
     "height": 232
    },
    "executionInfo": {
     "elapsed": 2755,
     "status": "ok",
     "timestamp": 1611806432764,
     "user": {
      "displayName": "Mark Ryan",
      "photoUrl": "https://lh3.googleusercontent.com/a-/AOh14GiOaJEeoxteIdEhraqpv8y7ol-feJVt-BYY9ceTIQ=s64",
      "userId": "08045617267833954278"
     },
     "user_tz": 300
    },
    "id": "aHWsIsOlttEk",
    "outputId": "6c74987f-3eaf-4bbb-b075-aac34a58e469"
   },
   "outputs": [
    {
     "data": {
      "text/html": [
       "<div>\n",
       "<style scoped>\n",
       "    .dataframe tbody tr th:only-of-type {\n",
       "        vertical-align: middle;\n",
       "    }\n",
       "\n",
       "    .dataframe tbody tr th {\n",
       "        vertical-align: top;\n",
       "    }\n",
       "\n",
       "    .dataframe thead th {\n",
       "        text-align: right;\n",
       "    }\n",
       "</style>\n",
       "<table border=\"1\" class=\"dataframe\">\n",
       "  <thead>\n",
       "    <tr style=\"text-align: right;\">\n",
       "      <th></th>\n",
       "      <th>High</th>\n",
       "      <th>Low</th>\n",
       "      <th>Open</th>\n",
       "      <th>Close</th>\n",
       "      <th>Volume</th>\n",
       "      <th>Adj Close</th>\n",
       "    </tr>\n",
       "    <tr>\n",
       "      <th>Date</th>\n",
       "      <th></th>\n",
       "      <th></th>\n",
       "      <th></th>\n",
       "      <th></th>\n",
       "      <th></th>\n",
       "      <th></th>\n",
       "    </tr>\n",
       "  </thead>\n",
       "  <tbody>\n",
       "    <tr>\n",
       "      <td>2020-01-31</td>\n",
       "      <td>80.669998</td>\n",
       "      <td>77.072502</td>\n",
       "      <td>80.232498</td>\n",
       "      <td>77.377502</td>\n",
       "      <td>199588400.0</td>\n",
       "      <td>76.714989</td>\n",
       "    </tr>\n",
       "    <tr>\n",
       "      <td>2020-02-03</td>\n",
       "      <td>78.372498</td>\n",
       "      <td>75.555000</td>\n",
       "      <td>76.074997</td>\n",
       "      <td>77.165001</td>\n",
       "      <td>173985600.0</td>\n",
       "      <td>76.504311</td>\n",
       "    </tr>\n",
       "    <tr>\n",
       "      <td>2020-02-04</td>\n",
       "      <td>79.910004</td>\n",
       "      <td>78.407501</td>\n",
       "      <td>78.827499</td>\n",
       "      <td>79.712502</td>\n",
       "      <td>136616400.0</td>\n",
       "      <td>79.029999</td>\n",
       "    </tr>\n",
       "    <tr>\n",
       "      <td>2020-02-05</td>\n",
       "      <td>81.190002</td>\n",
       "      <td>79.737503</td>\n",
       "      <td>80.879997</td>\n",
       "      <td>80.362503</td>\n",
       "      <td>118826800.0</td>\n",
       "      <td>79.674438</td>\n",
       "    </tr>\n",
       "    <tr>\n",
       "      <td>2020-02-06</td>\n",
       "      <td>81.305000</td>\n",
       "      <td>80.065002</td>\n",
       "      <td>80.642502</td>\n",
       "      <td>81.302498</td>\n",
       "      <td>105425600.0</td>\n",
       "      <td>80.606384</td>\n",
       "    </tr>\n",
       "  </tbody>\n",
       "</table>\n",
       "</div>"
      ],
      "text/plain": [
       "                 High        Low       Open      Close       Volume  Adj Close\n",
       "Date                                                                          \n",
       "2020-01-31  80.669998  77.072502  80.232498  77.377502  199588400.0  76.714989\n",
       "2020-02-03  78.372498  75.555000  76.074997  77.165001  173985600.0  76.504311\n",
       "2020-02-04  79.910004  78.407501  78.827499  79.712502  136616400.0  79.029999\n",
       "2020-02-05  81.190002  79.737503  80.879997  80.362503  118826800.0  79.674438\n",
       "2020-02-06  81.305000  80.065002  80.642502  81.302498  105425600.0  80.606384"
      ]
     },
     "execution_count": 8,
     "metadata": {},
     "output_type": "execute_result"
    }
   ],
   "source": [
    "# DataReader: https://riptutorial.com/pandas/topic/1912/pandas-datareader\n",
    "# https://pandas-datareader.readthedocs.io/en/latest/remote_data.html\n",
    "# \n",
    "# Set up End and Start times for data grab\n",
    "end = datetime.now()\n",
    "start = datetime(end.year - 1, end.month, end.day)\n",
    "tester = DataReader('AAPL', 'yahoo', start, end)\n",
    "tester.head()"
   ]
  },
  {
   "cell_type": "code",
   "execution_count": 9,
   "metadata": {
    "colab": {
     "base_uri": "https://localhost:8080/",
     "height": 386
    },
    "executionInfo": {
     "elapsed": 3901,
     "status": "ok",
     "timestamp": 1611806433919,
     "user": {
      "displayName": "Mark Ryan",
      "photoUrl": "https://lh3.googleusercontent.com/a-/AOh14GiOaJEeoxteIdEhraqpv8y7ol-feJVt-BYY9ceTIQ=s64",
      "userId": "08045617267833954278"
     },
     "user_tz": 300
    },
    "id": "DVAQQ2CAttEl",
    "outputId": "0e3265fb-d6c3-4371-d196-be3d9a8924db"
   },
   "outputs": [
    {
     "data": {
      "text/html": [
       "<div>\n",
       "<style scoped>\n",
       "    .dataframe tbody tr th:only-of-type {\n",
       "        vertical-align: middle;\n",
       "    }\n",
       "\n",
       "    .dataframe tbody tr th {\n",
       "        vertical-align: top;\n",
       "    }\n",
       "\n",
       "    .dataframe thead th {\n",
       "        text-align: right;\n",
       "    }\n",
       "</style>\n",
       "<table border=\"1\" class=\"dataframe\">\n",
       "  <thead>\n",
       "    <tr style=\"text-align: right;\">\n",
       "      <th></th>\n",
       "      <th>High</th>\n",
       "      <th>Low</th>\n",
       "      <th>Open</th>\n",
       "      <th>Close</th>\n",
       "      <th>Volume</th>\n",
       "      <th>Adj Close</th>\n",
       "      <th>company_name</th>\n",
       "    </tr>\n",
       "    <tr>\n",
       "      <th>Date</th>\n",
       "      <th></th>\n",
       "      <th></th>\n",
       "      <th></th>\n",
       "      <th></th>\n",
       "      <th></th>\n",
       "      <th></th>\n",
       "      <th></th>\n",
       "    </tr>\n",
       "  </thead>\n",
       "  <tbody>\n",
       "    <tr>\n",
       "      <td>2021-01-15</td>\n",
       "      <td>279.059998</td>\n",
       "      <td>270.350006</td>\n",
       "      <td>274.940002</td>\n",
       "      <td>271.269989</td>\n",
       "      <td>64100.0</td>\n",
       "      <td>271.269989</td>\n",
       "      <td>Quaker Chemical Corp.</td>\n",
       "    </tr>\n",
       "    <tr>\n",
       "      <td>2021-01-19</td>\n",
       "      <td>278.570007</td>\n",
       "      <td>273.059998</td>\n",
       "      <td>275.450012</td>\n",
       "      <td>274.720001</td>\n",
       "      <td>70300.0</td>\n",
       "      <td>274.720001</td>\n",
       "      <td>Quaker Chemical Corp.</td>\n",
       "    </tr>\n",
       "    <tr>\n",
       "      <td>2021-01-20</td>\n",
       "      <td>277.519989</td>\n",
       "      <td>272.359985</td>\n",
       "      <td>276.920013</td>\n",
       "      <td>275.799988</td>\n",
       "      <td>55700.0</td>\n",
       "      <td>275.799988</td>\n",
       "      <td>Quaker Chemical Corp.</td>\n",
       "    </tr>\n",
       "    <tr>\n",
       "      <td>2021-01-21</td>\n",
       "      <td>279.720001</td>\n",
       "      <td>268.410004</td>\n",
       "      <td>276.839996</td>\n",
       "      <td>269.059998</td>\n",
       "      <td>55100.0</td>\n",
       "      <td>269.059998</td>\n",
       "      <td>Quaker Chemical Corp.</td>\n",
       "    </tr>\n",
       "    <tr>\n",
       "      <td>2021-01-22</td>\n",
       "      <td>277.160004</td>\n",
       "      <td>263.799988</td>\n",
       "      <td>265.019989</td>\n",
       "      <td>273.899994</td>\n",
       "      <td>57700.0</td>\n",
       "      <td>273.899994</td>\n",
       "      <td>Quaker Chemical Corp.</td>\n",
       "    </tr>\n",
       "    <tr>\n",
       "      <td>2021-01-25</td>\n",
       "      <td>274.429993</td>\n",
       "      <td>268.559998</td>\n",
       "      <td>271.559998</td>\n",
       "      <td>271.609985</td>\n",
       "      <td>59400.0</td>\n",
       "      <td>271.609985</td>\n",
       "      <td>Quaker Chemical Corp.</td>\n",
       "    </tr>\n",
       "    <tr>\n",
       "      <td>2021-01-26</td>\n",
       "      <td>274.329987</td>\n",
       "      <td>268.940002</td>\n",
       "      <td>271.350006</td>\n",
       "      <td>269.299988</td>\n",
       "      <td>74400.0</td>\n",
       "      <td>269.299988</td>\n",
       "      <td>Quaker Chemical Corp.</td>\n",
       "    </tr>\n",
       "    <tr>\n",
       "      <td>2021-01-27</td>\n",
       "      <td>280.769989</td>\n",
       "      <td>261.109985</td>\n",
       "      <td>263.600006</td>\n",
       "      <td>275.320007</td>\n",
       "      <td>130300.0</td>\n",
       "      <td>275.320007</td>\n",
       "      <td>Quaker Chemical Corp.</td>\n",
       "    </tr>\n",
       "    <tr>\n",
       "      <td>2021-01-28</td>\n",
       "      <td>280.850006</td>\n",
       "      <td>267.339996</td>\n",
       "      <td>276.500000</td>\n",
       "      <td>272.959991</td>\n",
       "      <td>71600.0</td>\n",
       "      <td>272.959991</td>\n",
       "      <td>Quaker Chemical Corp.</td>\n",
       "    </tr>\n",
       "    <tr>\n",
       "      <td>2021-01-29</td>\n",
       "      <td>273.029999</td>\n",
       "      <td>262.130005</td>\n",
       "      <td>273.029999</td>\n",
       "      <td>262.130005</td>\n",
       "      <td>56900.0</td>\n",
       "      <td>262.130005</td>\n",
       "      <td>Quaker Chemical Corp.</td>\n",
       "    </tr>\n",
       "  </tbody>\n",
       "</table>\n",
       "</div>"
      ],
      "text/plain": [
       "                  High         Low        Open       Close    Volume  \\\n",
       "Date                                                                   \n",
       "2021-01-15  279.059998  270.350006  274.940002  271.269989   64100.0   \n",
       "2021-01-19  278.570007  273.059998  275.450012  274.720001   70300.0   \n",
       "2021-01-20  277.519989  272.359985  276.920013  275.799988   55700.0   \n",
       "2021-01-21  279.720001  268.410004  276.839996  269.059998   55100.0   \n",
       "2021-01-22  277.160004  263.799988  265.019989  273.899994   57700.0   \n",
       "2021-01-25  274.429993  268.559998  271.559998  271.609985   59400.0   \n",
       "2021-01-26  274.329987  268.940002  271.350006  269.299988   74400.0   \n",
       "2021-01-27  280.769989  261.109985  263.600006  275.320007  130300.0   \n",
       "2021-01-28  280.850006  267.339996  276.500000  272.959991   71600.0   \n",
       "2021-01-29  273.029999  262.130005  273.029999  262.130005   56900.0   \n",
       "\n",
       "             Adj Close           company_name  \n",
       "Date                                           \n",
       "2021-01-15  271.269989  Quaker Chemical Corp.  \n",
       "2021-01-19  274.720001  Quaker Chemical Corp.  \n",
       "2021-01-20  275.799988  Quaker Chemical Corp.  \n",
       "2021-01-21  269.059998  Quaker Chemical Corp.  \n",
       "2021-01-22  273.899994  Quaker Chemical Corp.  \n",
       "2021-01-25  271.609985  Quaker Chemical Corp.  \n",
       "2021-01-26  269.299988  Quaker Chemical Corp.  \n",
       "2021-01-27  275.320007  Quaker Chemical Corp.  \n",
       "2021-01-28  272.959991  Quaker Chemical Corp.  \n",
       "2021-01-29  262.130005  Quaker Chemical Corp.  "
      ]
     },
     "execution_count": 9,
     "metadata": {},
     "output_type": "execute_result"
    }
   ],
   "source": [
    "# The tech stocks used for this analysis\n",
    "#tech_list = ['AAPL', 'GOOG', 'MSFT', 'AMZN']\n",
    "tech_list = config['tech_list']\n",
    "# dictionary to seed stock handles with company names\n",
    "#company_dict = {'AAPL':\"APPLE\", 'GOOG':\"GOOGLE\", 'MSFT':\"MICROSOFT\", 'AMZN':\"AMAZON\"}\n",
    "company_dict = config['company_dict']\n",
    "\n",
    "# Set up End and Start times for data grab\n",
    "end = datetime.now()\n",
    "start = datetime(end.year - 1, end.month, end.day)\n",
    "\n",
    "stock_dict = {}\n",
    "#For loop for grabing yahoo finance data and setting as a dataframe\n",
    "# TODO correct use of globals() here\n",
    "seeded = False\n",
    "for stock in tech_list:   \n",
    "    # Set DataFrame as the Stock Ticker\n",
    "    stock_dict[stock] = DataReader(stock, 'yahoo', start, end)\n",
    "    # add column for company name\n",
    "    stock_dict[stock]['company_name'] = company_dict[stock]\n",
    "    # build up overall dataframe containing stock info for all companies\n",
    "    if seeded:\n",
    "        df = pd.concat([df,stock_dict[stock]],axis=0)\n",
    "    else:\n",
    "        seeded = True\n",
    "        df = stock_dict[stock]\n",
    "df.tail(10)"
   ]
  },
  {
   "cell_type": "code",
   "execution_count": 10,
   "metadata": {
    "colab": {
     "base_uri": "https://localhost:8080/",
     "height": 232
    },
    "executionInfo": {
     "elapsed": 3894,
     "status": "ok",
     "timestamp": 1611806433922,
     "user": {
      "displayName": "Mark Ryan",
      "photoUrl": "https://lh3.googleusercontent.com/a-/AOh14GiOaJEeoxteIdEhraqpv8y7ol-feJVt-BYY9ceTIQ=s64",
      "userId": "08045617267833954278"
     },
     "user_tz": 300
    },
    "id": "velBocHnHsag",
    "outputId": "649289a4-e83a-40f0-e690-ab11132d71e2"
   },
   "outputs": [
    {
     "data": {
      "text/html": [
       "<div>\n",
       "<style scoped>\n",
       "    .dataframe tbody tr th:only-of-type {\n",
       "        vertical-align: middle;\n",
       "    }\n",
       "\n",
       "    .dataframe tbody tr th {\n",
       "        vertical-align: top;\n",
       "    }\n",
       "\n",
       "    .dataframe thead th {\n",
       "        text-align: right;\n",
       "    }\n",
       "</style>\n",
       "<table border=\"1\" class=\"dataframe\">\n",
       "  <thead>\n",
       "    <tr style=\"text-align: right;\">\n",
       "      <th></th>\n",
       "      <th>High</th>\n",
       "      <th>Low</th>\n",
       "      <th>Open</th>\n",
       "      <th>Close</th>\n",
       "      <th>Volume</th>\n",
       "      <th>Adj Close</th>\n",
       "      <th>company_name</th>\n",
       "    </tr>\n",
       "    <tr>\n",
       "      <th>Date</th>\n",
       "      <th></th>\n",
       "      <th></th>\n",
       "      <th></th>\n",
       "      <th></th>\n",
       "      <th></th>\n",
       "      <th></th>\n",
       "      <th></th>\n",
       "    </tr>\n",
       "  </thead>\n",
       "  <tbody>\n",
       "    <tr>\n",
       "      <td>2020-01-31</td>\n",
       "      <td>39.290001</td>\n",
       "      <td>37.759998</td>\n",
       "      <td>39.169998</td>\n",
       "      <td>37.910000</td>\n",
       "      <td>824100.0</td>\n",
       "      <td>37.910000</td>\n",
       "      <td>Crocs</td>\n",
       "    </tr>\n",
       "    <tr>\n",
       "      <td>2020-02-03</td>\n",
       "      <td>38.180000</td>\n",
       "      <td>37.349998</td>\n",
       "      <td>37.880001</td>\n",
       "      <td>37.490002</td>\n",
       "      <td>1102100.0</td>\n",
       "      <td>37.490002</td>\n",
       "      <td>Crocs</td>\n",
       "    </tr>\n",
       "    <tr>\n",
       "      <td>2020-02-04</td>\n",
       "      <td>39.779999</td>\n",
       "      <td>38.160000</td>\n",
       "      <td>38.230000</td>\n",
       "      <td>38.840000</td>\n",
       "      <td>869100.0</td>\n",
       "      <td>38.840000</td>\n",
       "      <td>Crocs</td>\n",
       "    </tr>\n",
       "    <tr>\n",
       "      <td>2020-02-05</td>\n",
       "      <td>39.709999</td>\n",
       "      <td>38.689999</td>\n",
       "      <td>39.090000</td>\n",
       "      <td>39.410000</td>\n",
       "      <td>490200.0</td>\n",
       "      <td>39.410000</td>\n",
       "      <td>Crocs</td>\n",
       "    </tr>\n",
       "    <tr>\n",
       "      <td>2020-02-06</td>\n",
       "      <td>39.750000</td>\n",
       "      <td>39.090000</td>\n",
       "      <td>39.439999</td>\n",
       "      <td>39.169998</td>\n",
       "      <td>337800.0</td>\n",
       "      <td>39.169998</td>\n",
       "      <td>Crocs</td>\n",
       "    </tr>\n",
       "  </tbody>\n",
       "</table>\n",
       "</div>"
      ],
      "text/plain": [
       "                 High        Low       Open      Close     Volume  Adj Close  \\\n",
       "Date                                                                           \n",
       "2020-01-31  39.290001  37.759998  39.169998  37.910000   824100.0  37.910000   \n",
       "2020-02-03  38.180000  37.349998  37.880001  37.490002  1102100.0  37.490002   \n",
       "2020-02-04  39.779999  38.160000  38.230000  38.840000   869100.0  38.840000   \n",
       "2020-02-05  39.709999  38.689999  39.090000  39.410000   490200.0  39.410000   \n",
       "2020-02-06  39.750000  39.090000  39.439999  39.169998   337800.0  39.169998   \n",
       "\n",
       "           company_name  \n",
       "Date                     \n",
       "2020-01-31        Crocs  \n",
       "2020-02-03        Crocs  \n",
       "2020-02-04        Crocs  \n",
       "2020-02-05        Crocs  \n",
       "2020-02-06        Crocs  "
      ]
     },
     "execution_count": 10,
     "metadata": {},
     "output_type": "execute_result"
    }
   ],
   "source": [
    "df.head()"
   ]
  },
  {
   "cell_type": "markdown",
   "metadata": {
    "id": "nH94b3sPttEl"
   },
   "source": [
    "Let's go ahead and play aorund with the AAPL DataFrame to get a feel for the data"
   ]
  },
  {
   "cell_type": "markdown",
   "metadata": {
    "id": "0VY3r0v1ttEm"
   },
   "source": [
    "# Create dataframe"
   ]
  },
  {
   "cell_type": "code",
   "execution_count": 11,
   "metadata": {
    "executionInfo": {
     "elapsed": 3887,
     "status": "ok",
     "timestamp": 1611806433925,
     "user": {
      "displayName": "Mark Ryan",
      "photoUrl": "https://lh3.googleusercontent.com/a-/AOh14GiOaJEeoxteIdEhraqpv8y7ol-feJVt-BYY9ceTIQ=s64",
      "userId": "08045617267833954278"
     },
     "user_tz": 300
    },
    "id": "W95GV4fvttEm"
   },
   "outputs": [],
   "source": [
    "# Summary Stats\n",
    "#stock_dict['AAPL'].describe()"
   ]
  },
  {
   "cell_type": "code",
   "execution_count": 12,
   "metadata": {
    "executionInfo": {
     "elapsed": 3881,
     "status": "ok",
     "timestamp": 1611806433927,
     "user": {
      "displayName": "Mark Ryan",
      "photoUrl": "https://lh3.googleusercontent.com/a-/AOh14GiOaJEeoxteIdEhraqpv8y7ol-feJVt-BYY9ceTIQ=s64",
      "userId": "08045617267833954278"
     },
     "user_tz": 300
    },
    "id": "hUIOM_duttEn"
   },
   "outputs": [],
   "source": [
    "# General info\n",
    "#stock_dict['AAPL'].info()"
   ]
  },
  {
   "cell_type": "code",
   "execution_count": 13,
   "metadata": {
    "executionInfo": {
     "elapsed": 3874,
     "status": "ok",
     "timestamp": 1611806433929,
     "user": {
      "displayName": "Mark Ryan",
      "photoUrl": "https://lh3.googleusercontent.com/a-/AOh14GiOaJEeoxteIdEhraqpv8y7ol-feJVt-BYY9ceTIQ=s64",
      "userId": "08045617267833954278"
     },
     "user_tz": 300
    },
    "id": "er4uAYRIttEn"
   },
   "outputs": [],
   "source": [
    "# Let's see a historical view of the closing price\n",
    "\n",
    "if plot_all:\n",
    "    plt.figure(figsize=(12, 8))\n",
    "    plt.subplots_adjust(top=1.25, bottom=1.2)\n",
    "\n",
    "    for i, company in enumerate(tech_list, 1):\n",
    "        plt.subplot(2, 2, i)\n",
    "        stock_dict[company]['Adj Close'].plot()\n",
    "        plt.ylabel('Adj Close')\n",
    "        plt.xlabel(None)\n",
    "        plt.title(f\"{tech_list[i - 1]}\")"
   ]
  },
  {
   "cell_type": "code",
   "execution_count": 14,
   "metadata": {
    "executionInfo": {
     "elapsed": 3870,
     "status": "ok",
     "timestamp": 1611806433931,
     "user": {
      "displayName": "Mark Ryan",
      "photoUrl": "https://lh3.googleusercontent.com/a-/AOh14GiOaJEeoxteIdEhraqpv8y7ol-feJVt-BYY9ceTIQ=s64",
      "userId": "08045617267833954278"
     },
     "user_tz": 300
    },
    "id": "2ibiP-DQttEo"
   },
   "outputs": [],
   "source": [
    "# Now let's plot the total volume of stock being traded each day\n",
    "if plot_all:\n",
    "    plt.figure(figsize=(12, 8))\n",
    "    plt.subplots_adjust(top=1.25, bottom=1.2)\n",
    "\n",
    "    for i, company in enumerate(tech_list, 1):\n",
    "        plt.subplot(2, 2, i)\n",
    "        stock_dict[company]['Volume'].plot()\n",
    "        plt.ylabel('Volume')\n",
    "        plt.xlabel(None)\n",
    "        plt.title(f\"{tech_list[i - 1]}\")"
   ]
  },
  {
   "cell_type": "markdown",
   "metadata": {
    "id": "O29GyjqcttEo"
   },
   "source": [
    "Now that we've seen the visualizations for the closing price and the volume traded each day, let's go ahead and caculate the moving average for the stock."
   ]
  },
  {
   "cell_type": "markdown",
   "metadata": {
    "id": "vCa3-nUpttEp"
   },
   "source": [
    "# 2. What was the moving average of the various stocks?"
   ]
  },
  {
   "cell_type": "code",
   "execution_count": 15,
   "metadata": {
    "executionInfo": {
     "elapsed": 3865,
     "status": "ok",
     "timestamp": 1611806433932,
     "user": {
      "displayName": "Mark Ryan",
      "photoUrl": "https://lh3.googleusercontent.com/a-/AOh14GiOaJEeoxteIdEhraqpv8y7ol-feJVt-BYY9ceTIQ=s64",
      "userId": "08045617267833954278"
     },
     "user_tz": 300
    },
    "id": "l6AqBdUZttEp"
   },
   "outputs": [],
   "source": [
    "ma_day = [10, 20, 50]\n",
    "\n",
    "for ma in ma_day:\n",
    "    for company in tech_list:\n",
    "        column_name = f\"MA for {ma} days\"\n",
    "        stock_dict[company][column_name] = stock_dict[company]['Adj Close'].rolling(ma).mean()"
   ]
  },
  {
   "cell_type": "code",
   "execution_count": 16,
   "metadata": {
    "executionInfo": {
     "elapsed": 3861,
     "status": "ok",
     "timestamp": 1611806433934,
     "user": {
      "displayName": "Mark Ryan",
      "photoUrl": "https://lh3.googleusercontent.com/a-/AOh14GiOaJEeoxteIdEhraqpv8y7ol-feJVt-BYY9ceTIQ=s64",
      "userId": "08045617267833954278"
     },
     "user_tz": 300
    },
    "id": "Fbo4ergjttEp"
   },
   "outputs": [],
   "source": [
    "#print(stock_dict['GOOG'].columns)"
   ]
  },
  {
   "cell_type": "markdown",
   "metadata": {
    "id": "FyV09EbdttEq"
   },
   "source": [
    "Now let's go ahead and plot all the additional Moving Averages"
   ]
  },
  {
   "cell_type": "code",
   "execution_count": 17,
   "metadata": {
    "executionInfo": {
     "elapsed": 3856,
     "status": "ok",
     "timestamp": 1611806433935,
     "user": {
      "displayName": "Mark Ryan",
      "photoUrl": "https://lh3.googleusercontent.com/a-/AOh14GiOaJEeoxteIdEhraqpv8y7ol-feJVt-BYY9ceTIQ=s64",
      "userId": "08045617267833954278"
     },
     "user_tz": 300
    },
    "id": "RzUULd3TttEq"
   },
   "outputs": [],
   "source": [
    "if plot_all:\n",
    "    df.groupby(\"company_name\").hist(figsize=(12, 12));"
   ]
  },
  {
   "cell_type": "code",
   "execution_count": 18,
   "metadata": {
    "executionInfo": {
     "elapsed": 3852,
     "status": "ok",
     "timestamp": 1611806433936,
     "user": {
      "displayName": "Mark Ryan",
      "photoUrl": "https://lh3.googleusercontent.com/a-/AOh14GiOaJEeoxteIdEhraqpv8y7ol-feJVt-BYY9ceTIQ=s64",
      "userId": "08045617267833954278"
     },
     "user_tz": 300
    },
    "id": "fdUmsz0kttEr"
   },
   "outputs": [],
   "source": [
    "if plot_all:\n",
    "    fig, axes = plt.subplots(nrows=2, ncols=2)\n",
    "    fig.set_figheight(8)\n",
    "    fig.set_figwidth(15)\n",
    "\n",
    "    AAPL[['Adj Close', 'MA for 10 days', 'MA for 20 days', 'MA for 50 days']].plot(ax=axes[0,0])\n",
    "    axes[0,0].set_title('APPLE')\n",
    "\n",
    "    GOOG[['Adj Close', 'MA for 10 days', 'MA for 20 days', 'MA for 50 days']].plot(ax=axes[0,1])\n",
    "    axes[0,1].set_title('GOOGLE')\n",
    "\n",
    "    MSFT[['Adj Close', 'MA for 10 days', 'MA for 20 days', 'MA for 50 days']].plot(ax=axes[1,0])\n",
    "    axes[1,0].set_title('MICROSOFT')\n",
    "\n",
    "    AMZN[['Adj Close', 'MA for 10 days', 'MA for 20 days', 'MA for 50 days']].plot(ax=axes[1,1])\n",
    "    axes[1,1].set_title('AMAZON')\n",
    "\n",
    "    fig.tight_layout()"
   ]
  },
  {
   "cell_type": "markdown",
   "metadata": {
    "id": "nXsLh7jMttEr"
   },
   "source": [
    "# 3. What was the daily return of the stock on average?"
   ]
  },
  {
   "cell_type": "markdown",
   "metadata": {
    "id": "GFIPYq91ttEs"
   },
   "source": [
    "Now that we've done some baseline analysis, let's go ahead and dive a little deeper. We're now going to analyze the risk of the stock. In order to do so we'll need to take a closer look at the daily changes of the stock, and not just its absolute value. Let's go ahead and use pandas to retrieve teh daily returns for the Apple stock."
   ]
  },
  {
   "cell_type": "code",
   "execution_count": 19,
   "metadata": {
    "executionInfo": {
     "elapsed": 3846,
     "status": "ok",
     "timestamp": 1611806433938,
     "user": {
      "displayName": "Mark Ryan",
      "photoUrl": "https://lh3.googleusercontent.com/a-/AOh14GiOaJEeoxteIdEhraqpv8y7ol-feJVt-BYY9ceTIQ=s64",
      "userId": "08045617267833954278"
     },
     "user_tz": 300
    },
    "id": "3hKm8z9IttEs"
   },
   "outputs": [],
   "source": [
    "if plot_all:\n",
    "    # We'll use pct_change to find the percent change for each day\n",
    "    for company in tech_list:\n",
    "        stock_dict[company]['Daily Return'] = stock_dict[company]['Adj Close'].pct_change()\n",
    "\n",
    "    # Then we'll plot the daily return percentage\n",
    "    fig, axes = plt.subplots(nrows=2, ncols=2)\n",
    "    fig.set_figheight(8)\n",
    "    fig.set_figwidth(15)\n",
    "\n",
    "    stock_dict['AAPL']['Daily Return'].plot(ax=axes[0,0], legend=True, linestyle='--', marker='o')\n",
    "    axes[0,0].set_title('APPLE')\n",
    "\n",
    "    stock_dict['GOOG']['Daily Return'].plot(ax=axes[0,1], legend=True, linestyle='--', marker='o')\n",
    "    axes[0,1].set_title('GOOGLE')\n",
    "\n",
    "    stock_dict['MSFT']['Daily Return'].plot(ax=axes[1,0], legend=True, linestyle='--', marker='o')\n",
    "    axes[1,0].set_title('MICROSOFT')\n",
    "\n",
    "    stock_dict['AMZN']['Daily Return'].plot(ax=axes[1,1], legend=True, linestyle='--', marker='o')\n",
    "    axes[1,1].set_title('AMAZON')\n",
    "\n",
    "    fig.tight_layout()"
   ]
  },
  {
   "cell_type": "markdown",
   "metadata": {
    "id": "SbSLRiNlttEt"
   },
   "source": [
    "Great, now let's get an overall look at the average daily return using a histogram. We'll use seaborn to create both a histogram and kde plot on the same figure."
   ]
  },
  {
   "cell_type": "code",
   "execution_count": 20,
   "metadata": {
    "executionInfo": {
     "elapsed": 3840,
     "status": "ok",
     "timestamp": 1611806433940,
     "user": {
      "displayName": "Mark Ryan",
      "photoUrl": "https://lh3.googleusercontent.com/a-/AOh14GiOaJEeoxteIdEhraqpv8y7ol-feJVt-BYY9ceTIQ=s64",
      "userId": "08045617267833954278"
     },
     "user_tz": 300
    },
    "id": "4iaLUgfLttEu"
   },
   "outputs": [],
   "source": [
    "# Note the use of dropna() here, otherwise the NaN values can't be read by seaborn\n",
    "if plot_all:\n",
    "    plt.figure(figsize=(12, 12))\n",
    "\n",
    "    for i, company in enumerate(tech_list, 1):\n",
    "        plt.subplot(2, 2, i)\n",
    "        sns.distplot(stock_dict[company]['Daily Return'].dropna(), bins=100, color='purple')\n",
    "        plt.ylabel('Daily Return')\n",
    "        plt.title(company_dict[company])\n",
    "    # Could have also done:\n",
    "    #AAPL['Daily Return'].hist()"
   ]
  },
  {
   "cell_type": "markdown",
   "metadata": {
    "id": "9JQBYLSittEu"
   },
   "source": [
    "# 4. What was the correlation between different stocks closing prices?"
   ]
  },
  {
   "cell_type": "markdown",
   "metadata": {
    "id": "6mr_ilnOttEu"
   },
   "source": [
    "Now what if we wanted to analyze the returns of all the stocks in our list? Let's go ahead and build a DataFrame with all the ['Close'] columns for each of the stocks dataframes."
   ]
  },
  {
   "cell_type": "code",
   "execution_count": 21,
   "metadata": {
    "colab": {
     "base_uri": "https://localhost:8080/",
     "height": 232
    },
    "executionInfo": {
     "elapsed": 9723,
     "status": "ok",
     "timestamp": 1611806439830,
     "user": {
      "displayName": "Mark Ryan",
      "photoUrl": "https://lh3.googleusercontent.com/a-/AOh14GiOaJEeoxteIdEhraqpv8y7ol-feJVt-BYY9ceTIQ=s64",
      "userId": "08045617267833954278"
     },
     "user_tz": 300
    },
    "id": "OHnT2tkPttEu",
    "outputId": "8a28ff85-0ad6-4bde-835c-704608c3c37b"
   },
   "outputs": [
    {
     "data": {
      "text/html": [
       "<div>\n",
       "<style scoped>\n",
       "    .dataframe tbody tr th:only-of-type {\n",
       "        vertical-align: middle;\n",
       "    }\n",
       "\n",
       "    .dataframe tbody tr th {\n",
       "        vertical-align: top;\n",
       "    }\n",
       "\n",
       "    .dataframe thead th {\n",
       "        text-align: right;\n",
       "    }\n",
       "</style>\n",
       "<table border=\"1\" class=\"dataframe\">\n",
       "  <thead>\n",
       "    <tr style=\"text-align: right;\">\n",
       "      <th>Symbols</th>\n",
       "      <th>CROX</th>\n",
       "      <th>SHAK</th>\n",
       "      <th>KWR</th>\n",
       "    </tr>\n",
       "    <tr>\n",
       "      <th>Date</th>\n",
       "      <th></th>\n",
       "      <th></th>\n",
       "      <th></th>\n",
       "    </tr>\n",
       "  </thead>\n",
       "  <tbody>\n",
       "    <tr>\n",
       "      <td>2020-01-31</td>\n",
       "      <td>37.910000</td>\n",
       "      <td>67.449997</td>\n",
       "      <td>164.677582</td>\n",
       "    </tr>\n",
       "    <tr>\n",
       "      <td>2020-02-03</td>\n",
       "      <td>37.490002</td>\n",
       "      <td>68.239998</td>\n",
       "      <td>166.591980</td>\n",
       "    </tr>\n",
       "    <tr>\n",
       "      <td>2020-02-04</td>\n",
       "      <td>38.840000</td>\n",
       "      <td>69.849998</td>\n",
       "      <td>173.247742</td>\n",
       "    </tr>\n",
       "    <tr>\n",
       "      <td>2020-02-05</td>\n",
       "      <td>39.410000</td>\n",
       "      <td>70.900002</td>\n",
       "      <td>178.008911</td>\n",
       "    </tr>\n",
       "    <tr>\n",
       "      <td>2020-02-06</td>\n",
       "      <td>39.169998</td>\n",
       "      <td>73.320000</td>\n",
       "      <td>177.532791</td>\n",
       "    </tr>\n",
       "  </tbody>\n",
       "</table>\n",
       "</div>"
      ],
      "text/plain": [
       "Symbols          CROX       SHAK         KWR\n",
       "Date                                        \n",
       "2020-01-31  37.910000  67.449997  164.677582\n",
       "2020-02-03  37.490002  68.239998  166.591980\n",
       "2020-02-04  38.840000  69.849998  173.247742\n",
       "2020-02-05  39.410000  70.900002  178.008911\n",
       "2020-02-06  39.169998  73.320000  177.532791"
      ]
     },
     "execution_count": 21,
     "metadata": {},
     "output_type": "execute_result"
    }
   ],
   "source": [
    "# Grab all the closing prices for the tech stock list into one DataFrame\n",
    "closing_df = DataReader(tech_list, 'yahoo', start, end)['Adj Close']\n",
    "\n",
    "# Let's take a quick look\n",
    "closing_df.head() "
   ]
  },
  {
   "cell_type": "markdown",
   "metadata": {
    "id": "DO2OAeLJttEv"
   },
   "source": [
    "Now that we have all the closing prices, let's go ahead and get the daily return for all the stocks, like we did for the Apple stock."
   ]
  },
  {
   "cell_type": "code",
   "execution_count": 22,
   "metadata": {
    "colab": {
     "base_uri": "https://localhost:8080/",
     "height": 232
    },
    "executionInfo": {
     "elapsed": 9719,
     "status": "ok",
     "timestamp": 1611806439835,
     "user": {
      "displayName": "Mark Ryan",
      "photoUrl": "https://lh3.googleusercontent.com/a-/AOh14GiOaJEeoxteIdEhraqpv8y7ol-feJVt-BYY9ceTIQ=s64",
      "userId": "08045617267833954278"
     },
     "user_tz": 300
    },
    "id": "mWAX7F2cttEw",
    "outputId": "fb8940a7-fe48-4081-f697-5c197a873d41"
   },
   "outputs": [
    {
     "data": {
      "text/html": [
       "<div>\n",
       "<style scoped>\n",
       "    .dataframe tbody tr th:only-of-type {\n",
       "        vertical-align: middle;\n",
       "    }\n",
       "\n",
       "    .dataframe tbody tr th {\n",
       "        vertical-align: top;\n",
       "    }\n",
       "\n",
       "    .dataframe thead th {\n",
       "        text-align: right;\n",
       "    }\n",
       "</style>\n",
       "<table border=\"1\" class=\"dataframe\">\n",
       "  <thead>\n",
       "    <tr style=\"text-align: right;\">\n",
       "      <th>Symbols</th>\n",
       "      <th>CROX</th>\n",
       "      <th>SHAK</th>\n",
       "      <th>KWR</th>\n",
       "    </tr>\n",
       "    <tr>\n",
       "      <th>Date</th>\n",
       "      <th></th>\n",
       "      <th></th>\n",
       "      <th></th>\n",
       "    </tr>\n",
       "  </thead>\n",
       "  <tbody>\n",
       "    <tr>\n",
       "      <td>2020-01-31</td>\n",
       "      <td>NaN</td>\n",
       "      <td>NaN</td>\n",
       "      <td>NaN</td>\n",
       "    </tr>\n",
       "    <tr>\n",
       "      <td>2020-02-03</td>\n",
       "      <td>-0.011079</td>\n",
       "      <td>0.011712</td>\n",
       "      <td>0.011625</td>\n",
       "    </tr>\n",
       "    <tr>\n",
       "      <td>2020-02-04</td>\n",
       "      <td>0.036010</td>\n",
       "      <td>0.023593</td>\n",
       "      <td>0.039952</td>\n",
       "    </tr>\n",
       "    <tr>\n",
       "      <td>2020-02-05</td>\n",
       "      <td>0.014676</td>\n",
       "      <td>0.015032</td>\n",
       "      <td>0.027482</td>\n",
       "    </tr>\n",
       "    <tr>\n",
       "      <td>2020-02-06</td>\n",
       "      <td>-0.006090</td>\n",
       "      <td>0.034133</td>\n",
       "      <td>-0.002675</td>\n",
       "    </tr>\n",
       "  </tbody>\n",
       "</table>\n",
       "</div>"
      ],
      "text/plain": [
       "Symbols         CROX      SHAK       KWR\n",
       "Date                                    \n",
       "2020-01-31       NaN       NaN       NaN\n",
       "2020-02-03 -0.011079  0.011712  0.011625\n",
       "2020-02-04  0.036010  0.023593  0.039952\n",
       "2020-02-05  0.014676  0.015032  0.027482\n",
       "2020-02-06 -0.006090  0.034133 -0.002675"
      ]
     },
     "execution_count": 22,
     "metadata": {},
     "output_type": "execute_result"
    }
   ],
   "source": [
    "# Make a new tech returns DataFrame\n",
    "# pct_change() https://pandas.pydata.org/pandas-docs/stable/reference/api/pandas.DataFrame.pct_change.html\n",
    "# Percentage change between the current and a prior element.\n",
    "# Computes the percentage change from the immediately previous row by default. This is useful in comparing the percentage of change in a time series of elements.\n",
    "tech_rets = closing_df.pct_change()\n",
    "# note that first row is NaN because there is no predecessor for the first row\n",
    "tech_rets.head()"
   ]
  },
  {
   "cell_type": "markdown",
   "metadata": {
    "id": "kAKykxMnttEx"
   },
   "source": [
    "Now we can compare the daily percentage return of two stocks to check how correlated. First let's see a sotck compared to itself."
   ]
  },
  {
   "cell_type": "code",
   "execution_count": 23,
   "metadata": {
    "executionInfo": {
     "elapsed": 9712,
     "status": "ok",
     "timestamp": 1611806439839,
     "user": {
      "displayName": "Mark Ryan",
      "photoUrl": "https://lh3.googleusercontent.com/a-/AOh14GiOaJEeoxteIdEhraqpv8y7ol-feJVt-BYY9ceTIQ=s64",
      "userId": "08045617267833954278"
     },
     "user_tz": 300
    },
    "id": "01KoxylgttEx"
   },
   "outputs": [],
   "source": [
    "# Comparing Google to itself should show a perfectly linear relationship\n",
    "if plot_all:\n",
    "    sns.jointplot('GOOG', 'GOOG', tech_rets, kind='scatter', color='seagreen')"
   ]
  },
  {
   "cell_type": "code",
   "execution_count": 24,
   "metadata": {
    "executionInfo": {
     "elapsed": 9707,
     "status": "ok",
     "timestamp": 1611806439843,
     "user": {
      "displayName": "Mark Ryan",
      "photoUrl": "https://lh3.googleusercontent.com/a-/AOh14GiOaJEeoxteIdEhraqpv8y7ol-feJVt-BYY9ceTIQ=s64",
      "userId": "08045617267833954278"
     },
     "user_tz": 300
    },
    "id": "dQYaUIsOttEy"
   },
   "outputs": [],
   "source": [
    "# We'll use joinplot to compare the daily returns of Google and Microsoft\n",
    "if plot_all:\n",
    "    sns.jointplot('GOOG', 'MSFT', tech_rets, kind='scatter')"
   ]
  },
  {
   "cell_type": "markdown",
   "metadata": {
    "id": "msAanENFttEy"
   },
   "source": [
    "So now we can see that if two stocks are perfectly (and positivley) correlated with each other a linear relationship bewteen its daily return values should occur. \n",
    "\n",
    "Seaborn and pandas make it very easy to repeat this comparison analysis for every possible combination of stocks in our technology stock ticker list. We can use sns.pairplot() to automatically create this plot"
   ]
  },
  {
   "cell_type": "code",
   "execution_count": 25,
   "metadata": {
    "executionInfo": {
     "elapsed": 9702,
     "status": "ok",
     "timestamp": 1611806439845,
     "user": {
      "displayName": "Mark Ryan",
      "photoUrl": "https://lh3.googleusercontent.com/a-/AOh14GiOaJEeoxteIdEhraqpv8y7ol-feJVt-BYY9ceTIQ=s64",
      "userId": "08045617267833954278"
     },
     "user_tz": 300
    },
    "id": "c9p-TywAttEy"
   },
   "outputs": [],
   "source": [
    "# We can simply call pairplot on our DataFrame for an automatic visual analysis \n",
    "# of all the comparisons\n",
    "if plot_all:\n",
    "    sns.pairplot(tech_rets, kind='reg')"
   ]
  },
  {
   "cell_type": "markdown",
   "metadata": {
    "id": "JBKYH4mjttEz"
   },
   "source": [
    "Above we can see all the relationships on daily returns between all the stocks. A quick glance shows an interesting correlation between Google and Amazon daily returns. It might be interesting to investigate that individual comaprison. While the simplicity of just calling sns.pairplot() is fantastic we can also use sns.PairGrid() for full control of the figure, including what kind of plots go in the diagonal, the upper triangle, and the lower triangle. Below is an example of utilizing the full power of seaborn to achieve this result."
   ]
  },
  {
   "cell_type": "code",
   "execution_count": 26,
   "metadata": {
    "executionInfo": {
     "elapsed": 9695,
     "status": "ok",
     "timestamp": 1611806439846,
     "user": {
      "displayName": "Mark Ryan",
      "photoUrl": "https://lh3.googleusercontent.com/a-/AOh14GiOaJEeoxteIdEhraqpv8y7ol-feJVt-BYY9ceTIQ=s64",
      "userId": "08045617267833954278"
     },
     "user_tz": 300
    },
    "id": "kLzXS983ttEz"
   },
   "outputs": [],
   "source": [
    "# Set up our figure by naming it returns_fig, call PairPLot on the DataFrame\n",
    "if plot_all:\n",
    "    return_fig = sns.PairGrid(tech_rets.dropna())\n",
    "\n",
    "    # Using map_upper we can specify what the upper triangle will look like.\n",
    "    return_fig.map_upper(plt.scatter, color='purple')\n",
    "\n",
    "    # We can also define the lower triangle in the figure, inclufing the plot type (kde) \n",
    "    # or the color map (BluePurple)\n",
    "    return_fig.map_lower(sns.kdeplot, cmap='cool_d')\n",
    "\n",
    "    # Finally we'll define the diagonal as a series of histogram plots of the daily return\n",
    "    return_fig.map_diag(plt.hist, bins=30)"
   ]
  },
  {
   "cell_type": "code",
   "execution_count": 27,
   "metadata": {
    "executionInfo": {
     "elapsed": 9690,
     "status": "ok",
     "timestamp": 1611806439848,
     "user": {
      "displayName": "Mark Ryan",
      "photoUrl": "https://lh3.googleusercontent.com/a-/AOh14GiOaJEeoxteIdEhraqpv8y7ol-feJVt-BYY9ceTIQ=s64",
      "userId": "08045617267833954278"
     },
     "user_tz": 300
    },
    "id": "xF_wYnxyttE0"
   },
   "outputs": [],
   "source": [
    "# Set up our figure by naming it returns_fig, call PairPLot on the DataFrame\n",
    "if plot_all:\n",
    "    returns_fig = sns.PairGrid(closing_df)\n",
    "\n",
    "    # Using map_upper we can specify what the upper triangle will look like.\n",
    "    returns_fig.map_upper(plt.scatter,color='purple')\n",
    "\n",
    "    # We can also define the lower triangle in the figure, inclufing the plot type (kde) or the color map (BluePurple)\n",
    "    returns_fig.map_lower(sns.kdeplot,cmap='cool_d')\n",
    "\n",
    "    # Finally we'll define the diagonal as a series of histogram plots of the daily return\n",
    "    returns_fig.map_diag(plt.hist,bins=30)"
   ]
  },
  {
   "cell_type": "markdown",
   "metadata": {
    "id": "g8tj-lGNttE0"
   },
   "source": [
    "Finally, we could also do a correlation plot, to get actual numerical values for the correlation between the stocks' daily return values. By comparing the closing prices, we see an interesting relationship between Microsoft and Apple."
   ]
  },
  {
   "cell_type": "code",
   "execution_count": 28,
   "metadata": {
    "executionInfo": {
     "elapsed": 9686,
     "status": "ok",
     "timestamp": 1611806439849,
     "user": {
      "displayName": "Mark Ryan",
      "photoUrl": "https://lh3.googleusercontent.com/a-/AOh14GiOaJEeoxteIdEhraqpv8y7ol-feJVt-BYY9ceTIQ=s64",
      "userId": "08045617267833954278"
     },
     "user_tz": 300
    },
    "id": "BQpGB2EPttE0"
   },
   "outputs": [],
   "source": [
    "# Let's go ahead and use sebron for a quick correlation plot for the daily returns\n",
    "if plot_all:\n",
    "    sns.heatmap(tech_rets.corr(), annot=True, cmap='summer')"
   ]
  },
  {
   "cell_type": "code",
   "execution_count": 29,
   "metadata": {
    "executionInfo": {
     "elapsed": 9681,
     "status": "ok",
     "timestamp": 1611806439850,
     "user": {
      "displayName": "Mark Ryan",
      "photoUrl": "https://lh3.googleusercontent.com/a-/AOh14GiOaJEeoxteIdEhraqpv8y7ol-feJVt-BYY9ceTIQ=s64",
      "userId": "08045617267833954278"
     },
     "user_tz": 300
    },
    "id": "f6N7mKCcttE0"
   },
   "outputs": [],
   "source": [
    "if plot_all:\n",
    "    sns.heatmap(closing_df.corr(), annot=True, cmap='summer')"
   ]
  },
  {
   "cell_type": "markdown",
   "metadata": {
    "id": "uFIa73fLttE1"
   },
   "source": [
    "Fantastic! Just like we suspected in our PairPlot we see here numerically and visually that Microsoft and Amazon had the strongest correlation of daily stock return. It's also interesting to see that all the technology comapnies are positively correlated."
   ]
  },
  {
   "cell_type": "markdown",
   "metadata": {
    "id": "tiqIZOLNttE1"
   },
   "source": [
    "# 5. How much value do we put at risk by investing in a particular stock?"
   ]
  },
  {
   "cell_type": "markdown",
   "metadata": {
    "id": "eENcTt05ttE1"
   },
   "source": [
    "There are many ways we can quantify risk, one of the most basic ways using the information we've gathered on daily percentage returns is by comparing the expected return with the standard deviation of the daily returns."
   ]
  },
  {
   "cell_type": "code",
   "execution_count": 30,
   "metadata": {
    "executionInfo": {
     "elapsed": 9677,
     "status": "ok",
     "timestamp": 1611806439852,
     "user": {
      "displayName": "Mark Ryan",
      "photoUrl": "https://lh3.googleusercontent.com/a-/AOh14GiOaJEeoxteIdEhraqpv8y7ol-feJVt-BYY9ceTIQ=s64",
      "userId": "08045617267833954278"
     },
     "user_tz": 300
    },
    "id": "9dwlU_hettE1"
   },
   "outputs": [],
   "source": [
    "# Let's start by defining a new DataFrame as a cleaned version of the orignal tech_rets DataFrame\n",
    "rets = tech_rets.dropna()\n",
    "if plot_all:\n",
    "    area = np.pi*20\n",
    "\n",
    "    plt.figure(figsize=(12, 10))\n",
    "    plt.scatter(rets.mean(), rets.std(), s=area)\n",
    "    plt.xlabel('Expected return')\n",
    "    plt.ylabel('Risk')\n",
    "\n",
    "    for label, x, y in zip(rets.columns, rets.mean(), rets.std()):\n",
    "        plt.annotate(label, xy=(x, y), xytext=(50, 50), textcoords='offset points', ha='right', va='bottom', \n",
    "                     arrowprops=dict(arrowstyle='-', color='blue', connectionstyle='arc3,rad=-0.3'))"
   ]
  },
  {
   "cell_type": "markdown",
   "metadata": {
    "id": "vEgA2qjYttE2"
   },
   "source": [
    "# 6. Predicting the closing price stock price of APPLE inc:"
   ]
  },
  {
   "cell_type": "code",
   "execution_count": 31,
   "metadata": {
    "executionInfo": {
     "elapsed": 11046,
     "status": "ok",
     "timestamp": 1611806441227,
     "user": {
      "displayName": "Mark Ryan",
      "photoUrl": "https://lh3.googleusercontent.com/a-/AOh14GiOaJEeoxteIdEhraqpv8y7ol-feJVt-BYY9ceTIQ=s64",
      "userId": "08045617267833954278"
     },
     "user_tz": 300
    },
    "id": "Q39q1pn_ttE2"
   },
   "outputs": [],
   "source": [
    "#Get the stock quote\n",
    "# tech_list = ['AAPL', 'GOOG', 'MSFT', 'AMZN']\n",
    "df_predict = {}\n",
    "# start='2012-01-01'\n",
    "for company in tech_list:\n",
    "    df_predict[company] = DataReader(company,data_source='yahoo', start=config['general']['master_start'], end=datetime.now())\n",
    "#df = DataReader('AAPL', data_source='yahoo', start='2012-01-01', end=datetime.now())\n",
    "#Show teh data\n",
    "#df_predict['AAPL']"
   ]
  },
  {
   "cell_type": "code",
   "execution_count": 32,
   "metadata": {
    "executionInfo": {
     "elapsed": 11042,
     "status": "ok",
     "timestamp": 1611806441229,
     "user": {
      "displayName": "Mark Ryan",
      "photoUrl": "https://lh3.googleusercontent.com/a-/AOh14GiOaJEeoxteIdEhraqpv8y7ol-feJVt-BYY9ceTIQ=s64",
      "userId": "08045617267833954278"
     },
     "user_tz": 300
    },
    "id": "OgHKLQS-ttE2"
   },
   "outputs": [],
   "source": [
    "if plot_all:\n",
    "    plt.figure(figsize=(12, 12))\n",
    "    #plt.title('Close Price History')\n",
    "    for i, company in enumerate(tech_list,1):\n",
    "        plt.subplot(2,2,i)\n",
    "        plt.plot(df_predict[company]['Close'])\n",
    "        plt.xlabel('Date', fontsize=18)\n",
    "        plt.ylabel('Close Price USD ($)', fontsize=18)\n",
    "        plt.title(company_dict[company])\n",
    "        #plt.show()\n",
    "    \n"
   ]
  },
  {
   "cell_type": "code",
   "execution_count": 33,
   "metadata": {
    "executionInfo": {
     "elapsed": 11036,
     "status": "ok",
     "timestamp": 1611806441230,
     "user": {
      "displayName": "Mark Ryan",
      "photoUrl": "https://lh3.googleusercontent.com/a-/AOh14GiOaJEeoxteIdEhraqpv8y7ol-feJVt-BYY9ceTIQ=s64",
      "userId": "08045617267833954278"
     },
     "user_tz": 300
    },
    "id": "ceD3yTC4ttE3"
   },
   "outputs": [],
   "source": [
    "def get_model_path():\n",
    "    '''get the path for data files'''\n",
    "    rawpath = os.getcwd()\n",
    "    # data is in a directory called \"data\" that is a sibling to the directory containing the notebook\n",
    "    path = os.path.abspath(os.path.join(rawpath, '..', 'models'))\n",
    "    return(path)"
   ]
  },
  {
   "cell_type": "code",
   "execution_count": 34,
   "metadata": {
    "executionInfo": {
     "elapsed": 11032,
     "status": "ok",
     "timestamp": 1611806441231,
     "user": {
      "displayName": "Mark Ryan",
      "photoUrl": "https://lh3.googleusercontent.com/a-/AOh14GiOaJEeoxteIdEhraqpv8y7ol-feJVt-BYY9ceTIQ=s64",
      "userId": "08045617267833954278"
     },
     "user_tz": 300
    },
    "id": "SSrv9zAhttE3"
   },
   "outputs": [],
   "source": [
    "def save_model(model,company):\n",
    "    '''save the model to a file in directory models that is a peer of the directory containing this notebook'''\n",
    "    model_path = get_model_path()\n",
    "    modifier = datetime.now().strftime(\"%B%d%Y\")\n",
    "    save_model_path = os.path.join(model_path,company+modifier+'.h5')\n",
    "    model.save(save_model_path)\n",
    "    # no early stop, so make current model saved_model\n",
    "    print(\"Saved model with name \",company+modifier+'.h5')\n",
    "    \n"
   ]
  },
  {
   "cell_type": "code",
   "execution_count": 35,
   "metadata": {
    "executionInfo": {
     "elapsed": 11028,
     "status": "ok",
     "timestamp": 1611806441234,
     "user": {
      "displayName": "Mark Ryan",
      "photoUrl": "https://lh3.googleusercontent.com/a-/AOh14GiOaJEeoxteIdEhraqpv8y7ol-feJVt-BYY9ceTIQ=s64",
      "userId": "08045617267833954278"
     },
     "user_tz": 300
    },
    "id": "ijCLNQ1LttE3"
   },
   "outputs": [],
   "source": [
    "def get_save_model_path(company):\n",
    "    model_path = get_model_path()\n",
    "    modifier = saved_model_modifier\n",
    "    # modifier = datetime.now().strftime(\"%B%d%Y\")\n",
    "    save_model_path = os.path.join(model_path,company+modifier+'.h5')\n",
    "    return(save_model_path)"
   ]
  },
  {
   "cell_type": "code",
   "execution_count": 36,
   "metadata": {
    "executionInfo": {
     "elapsed": 11023,
     "status": "ok",
     "timestamp": 1611806441236,
     "user": {
      "displayName": "Mark Ryan",
      "photoUrl": "https://lh3.googleusercontent.com/a-/AOh14GiOaJEeoxteIdEhraqpv8y7ol-feJVt-BYY9ceTIQ=s64",
      "userId": "08045617267833954278"
     },
     "user_tz": 300
    },
    "id": "qS4bPikXttE3"
   },
   "outputs": [],
   "source": [
    "def one_col_df(df,col):\n",
    "    data = df.filter([col])\n",
    "    dataset = data.values\n",
    "    training_data_len = int(np.ceil( len(dataset) * .8 ))\n",
    "    return(data,dataset,training_data_len)"
   ]
  },
  {
   "cell_type": "code",
   "execution_count": 37,
   "metadata": {
    "executionInfo": {
     "elapsed": 11017,
     "status": "ok",
     "timestamp": 1611806441237,
     "user": {
      "displayName": "Mark Ryan",
      "photoUrl": "https://lh3.googleusercontent.com/a-/AOh14GiOaJEeoxteIdEhraqpv8y7ol-feJVt-BYY9ceTIQ=s64",
      "userId": "08045617267833954278"
     },
     "user_tz": 300
    },
    "id": "6bfV2DBrttE4"
   },
   "outputs": [],
   "source": [
    "def scale_data(dataset):\n",
    "    scaler = MinMaxScaler(feature_range=(0,1))\n",
    "    scaled_data = scaler.fit_transform(dataset)\n",
    "    return(scaled_data,scaler)"
   ]
  },
  {
   "cell_type": "code",
   "execution_count": 38,
   "metadata": {
    "executionInfo": {
     "elapsed": 11009,
     "status": "ok",
     "timestamp": 1611806441239,
     "user": {
      "displayName": "Mark Ryan",
      "photoUrl": "https://lh3.googleusercontent.com/a-/AOh14GiOaJEeoxteIdEhraqpv8y7ol-feJVt-BYY9ceTIQ=s64",
      "userId": "08045617267833954278"
     },
     "user_tz": 300
    },
    "id": "ERZT1IH6ttE4"
   },
   "outputs": [],
   "source": [
    "def create_x_y(scaled_data,training_data_len):\n",
    "    '''convert scaled dataset into numpy x and y arrays for training'''\n",
    "    #Create the training data set\n",
    "    #Create the scaled training data set\n",
    "    train_data = scaled_data[0:int(training_data_len), :]\n",
    "    #Split the data into x_train and y_train data sets\n",
    "    x_train = []\n",
    "    y_train = []\n",
    "\n",
    "    for i in range(60, len(train_data)):\n",
    "        x_train.append(train_data[i-60:i, 0])\n",
    "        y_train.append(train_data[i, 0])\n",
    "        if (i<= 61) and plot_all:\n",
    "            print(x_train)\n",
    "            print(y_train)\n",
    "            print()\n",
    "\n",
    "    # Convert the x_train and y_train to numpy arrays \n",
    "    x_train, y_train = np.array(x_train), np.array(y_train)\n",
    "\n",
    "    #Reshape the data\n",
    "    x_train = np.reshape(x_train, (x_train.shape[0], x_train.shape[1], 1))\n",
    "    # x_train.shape\n",
    "    return(x_train,y_train)"
   ]
  },
  {
   "cell_type": "code",
   "execution_count": 39,
   "metadata": {
    "colab": {
     "base_uri": "https://localhost:8080/"
    },
    "executionInfo": {
     "elapsed": 29702,
     "status": "ok",
     "timestamp": 1611806459942,
     "user": {
      "displayName": "Mark Ryan",
      "photoUrl": "https://lh3.googleusercontent.com/a-/AOh14GiOaJEeoxteIdEhraqpv8y7ol-feJVt-BYY9ceTIQ=s64",
      "userId": "08045617267833954278"
     },
     "user_tz": 300
    },
    "id": "yU3zPKDZttE4",
    "outputId": "dce1cfd6-efac-439d-b311-ff58364c5f83"
   },
   "outputs": [
    {
     "name": "stdout",
     "output_type": "stream",
     "text": [
      "TRAINING LOOP FOR:  CROX\n",
      "WARNING:tensorflow:From c:\\users\\ryanm\\appdata\\local\\programs\\python\\python37\\lib\\site-packages\\tensorflow_core\\python\\ops\\resource_variable_ops.py:1630: calling BaseResourceVariable.__init__ (from tensorflow.python.ops.resource_variable_ops) with constraint is deprecated and will be removed in a future version.\n",
      "Instructions for updating:\n",
      "If using Keras pass *_constraint arguments to layers.\n",
      "WARNING:tensorflow:From c:\\users\\ryanm\\appdata\\local\\programs\\python\\python37\\lib\\site-packages\\keras\\backend\\tensorflow_backend.py:422: The name tf.global_variables is deprecated. Please use tf.compat.v1.global_variables instead.\n",
      "\n",
      "Epoch 1/1\n",
      "560/560 [==============================] - 32s 57ms/step - loss: 0.0015\n",
      "Saved model with name  CROXJanuary312021.h5\n",
      "TRAINING LOOP FOR:  SHAK\n",
      "Epoch 1/1\n",
      "560/560 [==============================] - 31s 56ms/step - loss: 0.0035\n",
      "Saved model with name  SHAKJanuary312021.h5\n",
      "TRAINING LOOP FOR:  KWR\n",
      "Epoch 1/1\n",
      "560/560 [==============================] - 32s 57ms/step - loss: 0.0050\n",
      "Saved model with name  KWRJanuary312021.h5\n",
      "Wall time: 1min 46s\n"
     ]
    }
   ],
   "source": [
    "%%time\n",
    "# train models for each company in tech_list and save trained models\n",
    "predictions = {}\n",
    "data = {}\n",
    "for company in tech_list:\n",
    "    data[company],dataset,training_data_len = one_col_df(df_predict[company],'Close')\n",
    "    scaled_data, scaler = scale_data(dataset)\n",
    "    x_train, y_train = create_x_y(scaled_data,training_data_len)\n",
    "    print(\"TRAINING LOOP FOR: \",str(company))\n",
    "    if use_saved_model:\n",
    "        # put here\n",
    "        save_model_path = get_save_model_path(company)\n",
    "        model = load_model(save_model_path)\n",
    "    else:\n",
    "        # train model fresh\n",
    "        #Build the LSTM model\n",
    "        model = Sequential()\n",
    "        model.add(LSTM(128, return_sequences=True, input_shape= (x_train.shape[1], 1)))\n",
    "        model.add(LSTM(64, return_sequences=False))\n",
    "        model.add(Dense(25))\n",
    "        model.add(Dense(1))\n",
    "\n",
    "        # Compile the model\n",
    "        model.compile(optimizer='adam', loss='mean_squared_error')\n",
    "\n",
    "        #Train the model\n",
    "       \n",
    "        model.fit(x_train, y_train, batch_size=1, epochs=1)\n",
    "        # save the model\n",
    "        save_model(model,company)\n",
    "    #Create a new array containing scaled values from index 1543 to 2002 \n",
    "    test_data = scaled_data[training_data_len - 60: , :]\n",
    "    #Create the data sets x_test and y_test\n",
    "    x_test = []\n",
    "    y_test = dataset[training_data_len:, :]\n",
    "    for i in range(60, len(test_data)):\n",
    "        x_test.append(test_data[i-60:i, 0])\n",
    "\n",
    "    # Convert the data to a numpy array\n",
    "    x_test = np.array(x_test)\n",
    "\n",
    "    # Reshape the data\n",
    "    x_test = np.reshape(x_test, (x_test.shape[0], x_test.shape[1], 1 ))\n",
    "\n",
    "    # Get the models predicted price values \n",
    "    predictions_temp = model.predict(x_test)\n",
    "    predictions[company] = scaler.inverse_transform(predictions_temp)"
   ]
  },
  {
   "cell_type": "code",
   "execution_count": 40,
   "metadata": {
    "colab": {
     "base_uri": "https://localhost:8080/",
     "height": 1000
    },
    "executionInfo": {
     "elapsed": 31172,
     "status": "ok",
     "timestamp": 1611806461427,
     "user": {
      "displayName": "Mark Ryan",
      "photoUrl": "https://lh3.googleusercontent.com/a-/AOh14GiOaJEeoxteIdEhraqpv8y7ol-feJVt-BYY9ceTIQ=s64",
      "userId": "08045617267833954278"
     },
     "user_tz": 300
    },
    "id": "HcyoiMipttE5",
    "outputId": "4c45f63e-3fc7-458e-88d0-3f958deba6f5"
   },
   "outputs": [
    {
     "name": "stderr",
     "output_type": "stream",
     "text": [
      "c:\\users\\ryanm\\appdata\\local\\programs\\python\\python37\\lib\\site-packages\\ipykernel_launcher.py:5: SettingWithCopyWarning: \n",
      "A value is trying to be set on a copy of a slice from a DataFrame.\n",
      "Try using .loc[row_indexer,col_indexer] = value instead\n",
      "\n",
      "See the caveats in the documentation: http://pandas.pydata.org/pandas-docs/stable/user_guide/indexing.html#returning-a-view-versus-a-copy\n",
      "  \"\"\"\n",
      "c:\\users\\ryanm\\appdata\\local\\programs\\python\\python37\\lib\\site-packages\\pandas\\plotting\\_matplotlib\\converter.py:103: FutureWarning: Using an implicitly registered datetime converter for a matplotlib plotting method. The converter was registered by pandas on import. Future versions of pandas will require you to explicitly register matplotlib converters.\n",
      "\n",
      "To register the converters:\n",
      "\t>>> from pandas.plotting import register_matplotlib_converters\n",
      "\t>>> register_matplotlib_converters()\n",
      "  warnings.warn(msg, FutureWarning)\n"
     ]
    },
    {
     "data": {
      "image/png": "[encoded data removed]",
      "text/plain": [
       "<Figure size 1152x576 with 1 Axes>"
      ]
     },
     "metadata": {
      "needs_background": "light"
     },
     "output_type": "display_data"
    },
    {
     "data": {
      "image/png": "[encoded data removed]",
      "text/plain": [
       "<Figure size 1152x576 with 1 Axes>"
      ]
     },
     "metadata": {
      "needs_background": "light"
     },
     "output_type": "display_data"
    },
    {
     "data": {
      "image/png": "[encoded data removed]",
      "text/plain": [
       "<Figure size 1152x576 with 1 Axes>"
      ]
     },
     "metadata": {
      "needs_background": "light"
     },
     "output_type": "display_data"
    }
   ],
   "source": [
    "# Plot the data\n",
    "for company in tech_list:\n",
    "    train = data[company][:training_data_len]\n",
    "    valid = data[company][training_data_len:]\n",
    "    valid['Predictions'] = predictions[company]\n",
    "    # Visualize the data\n",
    "    plt.figure(figsize=(16,8))\n",
    "    plt.title('Model'+\" \"+company)\n",
    "    plt.xlabel('Date', fontsize=18)\n",
    "    plt.ylabel('Close Price USD ($)', fontsize=18)\n",
    "    plt.plot(train['Close'])\n",
    "    plt.plot(valid[['Close', 'Predictions']])\n",
    "    plt.legend(['Train', 'Val', 'Predictions'], loc='lower right')\n",
    "    plt.show()"
   ]
  },
  {
   "cell_type": "code",
   "execution_count": 41,
   "metadata": {
    "colab": {
     "base_uri": "https://localhost:8080/",
     "height": 446
    },
    "executionInfo": {
     "elapsed": 31160,
     "status": "ok",
     "timestamp": 1611806461429,
     "user": {
      "displayName": "Mark Ryan",
      "photoUrl": "https://lh3.googleusercontent.com/a-/AOh14GiOaJEeoxteIdEhraqpv8y7ol-feJVt-BYY9ceTIQ=s64",
      "userId": "08045617267833954278"
     },
     "user_tz": 300
    },
    "id": "mpcDNFfYttE5",
    "outputId": "ef14c45f-3c1f-4aa0-ce3c-54de8861801e"
   },
   "outputs": [
    {
     "data": {
      "text/html": [
       "<div>\n",
       "<style scoped>\n",
       "    .dataframe tbody tr th:only-of-type {\n",
       "        vertical-align: middle;\n",
       "    }\n",
       "\n",
       "    .dataframe tbody tr th {\n",
       "        vertical-align: top;\n",
       "    }\n",
       "\n",
       "    .dataframe thead th {\n",
       "        text-align: right;\n",
       "    }\n",
       "</style>\n",
       "<table border=\"1\" class=\"dataframe\">\n",
       "  <thead>\n",
       "    <tr style=\"text-align: right;\">\n",
       "      <th></th>\n",
       "      <th>Close</th>\n",
       "      <th>Predictions</th>\n",
       "    </tr>\n",
       "    <tr>\n",
       "      <th>Date</th>\n",
       "      <th></th>\n",
       "      <th></th>\n",
       "    </tr>\n",
       "  </thead>\n",
       "  <tbody>\n",
       "    <tr>\n",
       "      <td>2020-06-19</td>\n",
       "      <td>169.979996</td>\n",
       "      <td>183.180557</td>\n",
       "    </tr>\n",
       "    <tr>\n",
       "      <td>2020-06-22</td>\n",
       "      <td>176.440002</td>\n",
       "      <td>181.322845</td>\n",
       "    </tr>\n",
       "    <tr>\n",
       "      <td>2020-06-23</td>\n",
       "      <td>173.179993</td>\n",
       "      <td>180.224670</td>\n",
       "    </tr>\n",
       "    <tr>\n",
       "      <td>2020-06-24</td>\n",
       "      <td>170.559998</td>\n",
       "      <td>179.323471</td>\n",
       "    </tr>\n",
       "    <tr>\n",
       "      <td>2020-06-25</td>\n",
       "      <td>175.339996</td>\n",
       "      <td>178.381332</td>\n",
       "    </tr>\n",
       "    <tr>\n",
       "      <td>...</td>\n",
       "      <td>...</td>\n",
       "      <td>...</td>\n",
       "    </tr>\n",
       "    <tr>\n",
       "      <td>2021-01-25</td>\n",
       "      <td>271.609985</td>\n",
       "      <td>271.596313</td>\n",
       "    </tr>\n",
       "    <tr>\n",
       "      <td>2021-01-26</td>\n",
       "      <td>269.299988</td>\n",
       "      <td>270.974579</td>\n",
       "    </tr>\n",
       "    <tr>\n",
       "      <td>2021-01-27</td>\n",
       "      <td>275.320007</td>\n",
       "      <td>270.018982</td>\n",
       "    </tr>\n",
       "    <tr>\n",
       "      <td>2021-01-28</td>\n",
       "      <td>272.959991</td>\n",
       "      <td>269.784210</td>\n",
       "    </tr>\n",
       "    <tr>\n",
       "      <td>2021-01-29</td>\n",
       "      <td>262.130005</td>\n",
       "      <td>269.597046</td>\n",
       "    </tr>\n",
       "  </tbody>\n",
       "</table>\n",
       "<p>155 rows × 2 columns</p>\n",
       "</div>"
      ],
      "text/plain": [
       "                 Close  Predictions\n",
       "Date                               \n",
       "2020-06-19  169.979996   183.180557\n",
       "2020-06-22  176.440002   181.322845\n",
       "2020-06-23  173.179993   180.224670\n",
       "2020-06-24  170.559998   179.323471\n",
       "2020-06-25  175.339996   178.381332\n",
       "...                ...          ...\n",
       "2021-01-25  271.609985   271.596313\n",
       "2021-01-26  269.299988   270.974579\n",
       "2021-01-27  275.320007   270.018982\n",
       "2021-01-28  272.959991   269.784210\n",
       "2021-01-29  262.130005   269.597046\n",
       "\n",
       "[155 rows x 2 columns]"
      ]
     },
     "execution_count": 41,
     "metadata": {},
     "output_type": "execute_result"
    }
   ],
   "source": [
    "#Show the valid and predicted prices\n",
    "valid"
   ]
  },
  {
   "cell_type": "code",
   "execution_count": null,
   "metadata": {
    "executionInfo": {
     "elapsed": 31138,
     "status": "ok",
     "timestamp": 1611806461431,
     "user": {
      "displayName": "Mark Ryan",
      "photoUrl": "https://lh3.googleusercontent.com/a-/AOh14GiOaJEeoxteIdEhraqpv8y7ol-feJVt-BYY9ceTIQ=s64",
      "userId": "08045617267833954278"
     },
     "user_tz": 300
    },
    "id": "H4wln8eKttE5"
   },
   "outputs": [],
   "source": []
  }
 ],
 "metadata": {
  "accelerator": "GPU",
  "colab": {
   "collapsed_sections": [
    "nXsLh7jMttEr"
   ],
   "name": "stock_analysis_using_lstm_mvp.ipynb",
   "provenance": []
  },
  "kernelspec": {
   "display_name": "Python 3",
   "language": "python",
   "name": "python3"
  },
  "language_info": {
   "codemirror_mode": {
    "name": "ipython",
    "version": 3
   },
   "file_extension": ".py",
   "mimetype": "text/x-python",
   "name": "python",
   "nbconvert_exporter": "python",
   "pygments_lexer": "ipython3",
   "version": "3.7.4"
  }
 },
 "nbformat": 4,
 "nbformat_minor": 1
}
